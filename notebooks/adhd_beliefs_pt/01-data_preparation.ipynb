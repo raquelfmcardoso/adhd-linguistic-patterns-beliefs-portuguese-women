{
 "cells": [
  {
   "cell_type": "markdown",
   "id": "8e425e29",
   "metadata": {},
   "source": [
    "# Formatting Dataset"
   ]
  },
  {
   "cell_type": "code",
   "execution_count": null,
   "id": "fcc6f509",
   "metadata": {},
   "outputs": [],
   "source": [
    "import pandas as pd"
   ]
  },
  {
   "cell_type": "code",
   "execution_count": null,
   "id": "5bf7feca",
   "metadata": {},
   "outputs": [],
   "source": [
    "file_path = \"../../data/adhd-beliefs-pt/adhd-beliefs-pt.csv\"\n",
    "df = pd.read_csv(file_path)\n",
    "df.head()"
   ]
  },
  {
   "cell_type": "code",
   "execution_count": null,
   "id": "5dfd938a",
   "metadata": {},
   "outputs": [],
   "source": [
    "df.columns = [\n",
    "    \"datetime\",\n",
    "    \"consent\",\n",
    "    \"sex\",\n",
    "    \"adhd_diagnosis\",\n",
    "    \"age\",\n",
    "    \"education\",\n",
    "    \"occupation\",\n",
    "    \"dialect\",\n",
    "    \"forgetting_objects\",\n",
    "    \"forgetting_responsabilities\",\n",
    "    \"emotion_management\",\n",
    "    \"emotion_reactions\",\n",
    "    \"emotion_choices\",\n",
    "    \"emotion_intense_reaction\",\n",
    "    \"strong_mood_swings\",\n",
    "    \"control_mood_swings\",\n",
    "    \"mood_swings_outside_consequence\",\n",
    "    \"justice_sense\",\n",
    "    \"defend_beliefs\",\n",
    "    \"express_writing\",\n",
    "    \"topic_change_involuntary\",\n",
    "    \"related_topic\",\n",
    "    \"topic_change_unrealized\",\n",
    "    \"parallel_topic\",\n",
    "    \"nonlinear_storytelling\",\n",
    "    \"excessive_details\",\n",
    "    \"forgetting_mid_conversation\",\n",
    "    \"talkback\",\n",
    "    \"talkback_authority\",\n",
    "    \"talkback_comfortable\",\n",
    "    \"interrupting_involuntary\",\n",
    "    \"excited_opinion\",\n",
    "    \"want_interrupt\",\n",
    "    \"want_interrupt_control\",\n",
    "    \"called_out_expressing\",\n",
    "    \"called_out_exalted\",\n",
    "    \"called_out_talking_loud\",\n",
    "    \"called_out_nonlinear_talk\",\n",
    "    \"called_out_nonlinear_write\",\n",
    "    \"called_out_gestures\",\n",
    "    \"called_out_talking\",\n",
    "    \"detailed_opinions\",\n",
    "    \"detailed_opinions_interest\",\n",
    "    \"detailed_opinions_people\",\n",
    "    \"detailed_opinions_misunderstood\",\n",
    "    \"swearing\",\n",
    "    \"swearing_anywhere\",\n",
    "    \"swearing_casual\",\n",
    "    \"talk_fast\",\n",
    "    \"talk_fast_unrealized\",\n",
    "    \"talk_fast_uncontrolled\",\n",
    "    \"called_out_talk_fast\",\n",
    "    \"need_fast_talk_interest\",\n",
    "    \"need_fast_talk_information\",\n",
    "    \"speaking_before_thinking\",\n",
    "    \"something_to_add\",\n",
    "    \"something_to_add_timid\",\n",
    "    \"something_to_add_impulsive\",\n",
    "    \"special_interest\",\n",
    "    \"diary_entry\",\n",
    "    \"selfdefining_memory\",\n",
    "    \"empty_sheet\",\n",
    "]"
   ]
  },
  {
   "cell_type": "code",
   "execution_count": null,
   "id": "7fb27b941602401d91542211134fc71a",
   "metadata": {},
   "outputs": [],
   "source": [
    "df"
   ]
  },
  {
   "cell_type": "code",
   "execution_count": null,
   "id": "131f74c3",
   "metadata": {},
   "outputs": [],
   "source": [
    "df = df.drop_duplicates()\n",
    "df.drop(columns=[\"consent\", \"datetime\"], inplace=True)"
   ]
  },
  {
   "cell_type": "code",
   "execution_count": null,
   "id": "7d526a1c",
   "metadata": {},
   "outputs": [],
   "source": [
    "for col in df.columns:\n",
    "    if col not in [\n",
    "        \"age\",\n",
    "        \"special_interest\",\n",
    "        \"diary_entry\",\n",
    "        \"selfdefining_memory\",\n",
    "        \"empty_sheet\",\n",
    "    ]:\n",
    "        df[col] = df[col].astype(\"category\")"
   ]
  },
  {
   "cell_type": "code",
   "execution_count": null,
   "id": "4d9ef988",
   "metadata": {},
   "outputs": [],
   "source": [
    "encoding = {\"Nunca\": 1, \"Raramente\": 2, \"Às vezes\": 3, \"Frequentemente\": 4, \"Sempre\": 5}\n",
    "\n",
    "for col in df.columns:\n",
    "    if col not in [\n",
    "        \"age\",\n",
    "        \"special_interest\",\n",
    "        \"diary_entry\",\n",
    "        \"selfdefining_memory\",\n",
    "        \"empty_sheet\",\n",
    "        \"sex\",\n",
    "        \"adhd_diagnosis\",\n",
    "        \"education\",\n",
    "        \"occupation\",\n",
    "        \"dialect\",\n",
    "    ]:\n",
    "        df[col] = df[col].map(encoding)\n",
    "\n",
    "df"
   ]
  },
  {
   "cell_type": "markdown",
   "id": "e84130d6",
   "metadata": {},
   "source": [
    "### Join Education Categories"
   ]
  },
  {
   "cell_type": "code",
   "execution_count": null,
   "id": "f26fb208",
   "metadata": {},
   "outputs": [],
   "source": [
    "df[\"education\"].unique()"
   ]
  },
  {
   "cell_type": "code",
   "execution_count": null,
   "id": "e2f1b489",
   "metadata": {},
   "outputs": [],
   "source": [
    "# make entries in 'education' that are category 'bacharelado' into 'licenciatura' and 'mestre' into 'mestrado'\n",
    "df[\"education\"] = df[\"education\"].astype(\"category\")\n",
    "df[\"education\"] = df[\"education\"].replace(\n",
    "    {\n",
    "        \"Bacharelado\": \"Licenciatura\",\n",
    "        \"Pôs \": \"Pós-Graduação\",\n",
    "        \"Pos-Graduação \": \"Pós-Graduação\",\n",
    "    }\n",
    ")"
   ]
  },
  {
   "cell_type": "code",
   "execution_count": null,
   "id": "baaa2935",
   "metadata": {},
   "outputs": [],
   "source": [
    "df[\"education\"].unique()"
   ]
  },
  {
   "cell_type": "markdown",
   "id": "411f2d85",
   "metadata": {},
   "source": [
    "### Join Occupation Categories"
   ]
  },
  {
   "cell_type": "code",
   "execution_count": null,
   "id": "e8b0a61a",
   "metadata": {},
   "outputs": [],
   "source": [
    "df[\"occupation\"].unique()"
   ]
  },
  {
   "cell_type": "code",
   "execution_count": null,
   "id": "fdd3578c",
   "metadata": {},
   "outputs": [],
   "source": [
    "df[\"occupation\"] = df[\"occupation\"].astype(\"category\")\n",
    "df[\"occupation\"] = df[\"occupation\"].replace(\n",
    "    {\n",
    "        \"Doméstica \": \"Trabalhador\",\n",
    "        \"Pós-graduação \": \"Estudante\",\n",
    "        \"Freelance\": \"Trabalhador\",\n",
    "        \"estudante/bombeira voluntária\": \"Trabalhador-estudante\",\n",
    "    }\n",
    ")"
   ]
  },
  {
   "cell_type": "code",
   "execution_count": null,
   "id": "00f5d6e9",
   "metadata": {},
   "outputs": [],
   "source": [
    "df[\"occupation\"].unique()"
   ]
  },
  {
   "cell_type": "markdown",
   "id": "7b2baf1e",
   "metadata": {},
   "source": [
    "### Saving to Local Disk"
   ]
  },
  {
   "cell_type": "code",
   "execution_count": null,
   "id": "dfe5a8b4",
   "metadata": {},
   "outputs": [],
   "source": [
    "df.to_pickle(\"../../data/adhd-beliefs-pt/adhd-beliefs-pt-prepared.pkl\")"
   ]
  }
 ],
 "metadata": {
  "kernelspec": {
   "display_name": ".venv",
   "language": "python",
   "name": "python3"
  },
  "language_info": {
   "codemirror_mode": {
    "name": "ipython",
    "version": 3
   },
   "file_extension": ".py",
   "mimetype": "text/x-python",
   "name": "python",
   "nbconvert_exporter": "python",
   "pygments_lexer": "ipython3",
   "version": "3.10.12"
  }
 },
 "nbformat": 4,
 "nbformat_minor": 5
}
