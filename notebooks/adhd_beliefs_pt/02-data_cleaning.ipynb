{
 "cells": [
  {
   "cell_type": "code",
   "execution_count": null,
   "id": "1687af5a",
   "metadata": {},
   "outputs": [],
   "source": [
    "import numpy as np\n",
    "import pandas as pd"
   ]
  },
  {
   "cell_type": "code",
   "execution_count": null,
   "id": "20e84cd5",
   "metadata": {},
   "outputs": [],
   "source": [
    "file_path = \"../../data/adhd-beliefs-pt/adhd-beliefs-pt-prepared.pkl\"\n",
    "df = pd.read_pickle(file_path)\n",
    "df.head()"
   ]
  },
  {
   "cell_type": "code",
   "execution_count": null,
   "id": "8e4690ec",
   "metadata": {},
   "outputs": [],
   "source": [
    "text_columns = [\"special_interest\", \"diary_entry\", \"selfdefining_memory\", \"empty_sheet\"]"
   ]
  },
  {
   "cell_type": "code",
   "execution_count": null,
   "id": "3366938d",
   "metadata": {},
   "outputs": [],
   "source": [
    "noise_entries = [\"N/A\", \".\", \"—\", \":)\", \"Prefiro não o fazer\", \"Prefiro não responder\"]\n",
    "original_df = df.copy()\n",
    "\n",
    "df[text_columns] = df[text_columns].map(\n",
    "    lambda x: np.nan if pd.notna(x) and x in noise_entries else x\n",
    ")\n",
    "\n",
    "# Count only cells where a noise value was actually replaced\n",
    "cleaned_mask = original_df[text_columns].map(\n",
    "    lambda x: pd.notna(x) and x in noise_entries\n",
    ")\n",
    "clean_n = cleaned_mask.sum().sum()\n",
    "\n",
    "print(f\"Cleaned {clean_n} noise entries from text columns.\")"
   ]
  },
  {
   "cell_type": "code",
   "execution_count": null,
   "id": "f3843e7e",
   "metadata": {},
   "outputs": [],
   "source": [
    "file_path_cleaned = \"../../data/adhd-beliefs-pt/adhd-beliefs-pt-cleaned.pkl\"\n",
    "df.to_pickle(file_path_cleaned)"
   ]
  }
 ],
 "metadata": {
  "kernelspec": {
   "display_name": ".venv",
   "language": "python",
   "name": "python3"
  },
  "language_info": {
   "codemirror_mode": {
    "name": "ipython",
    "version": 3
   },
   "file_extension": ".py",
   "mimetype": "text/x-python",
   "name": "python",
   "nbconvert_exporter": "python",
   "pygments_lexer": "ipython3",
   "version": "3.10.12"
  }
 },
 "nbformat": 4,
 "nbformat_minor": 5
}
