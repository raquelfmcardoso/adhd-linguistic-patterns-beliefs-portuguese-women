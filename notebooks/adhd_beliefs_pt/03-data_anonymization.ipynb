{
 "cells": [
  {
   "cell_type": "code",
   "execution_count": null,
   "id": "4deb1692",
   "metadata": {},
   "outputs": [],
   "source": [
    "import pandas as pd\n",
    "from faker import Faker\n",
    "from presidio_analyzer import AnalyzerEngine, EntityRecognizer, RecognizerResult\n",
    "from presidio_anonymizer import AnonymizerEngine\n",
    "from transformers import pipeline"
   ]
  },
  {
   "cell_type": "code",
   "execution_count": null,
   "id": "0e19b7de",
   "metadata": {},
   "outputs": [],
   "source": [
    "file_path = \"../../data/adhd-beliefs-pt/adhd-beliefs-pt-cleaned.pkl\"\n",
    "df = pd.read_pickle(file_path)\n",
    "df.head()"
   ]
  },
  {
   "cell_type": "code",
   "execution_count": null,
   "id": "04d13f99",
   "metadata": {},
   "outputs": [],
   "source": [
    "df = df[[\"special_interest\", \"diary_entry\", \"selfdefining_memory\", \"empty_sheet\"]]\n",
    "df"
   ]
  },
  {
   "cell_type": "code",
   "execution_count": null,
   "id": "2e5c8594",
   "metadata": {},
   "outputs": [],
   "source": [
    "faker = Faker(\"pt_PT\")"
   ]
  },
  {
   "cell_type": "code",
   "execution_count": null,
   "id": "33883b98",
   "metadata": {},
   "outputs": [],
   "source": [
    "ner_pipeline = pipeline(\n",
    "    \"ner\", model=\"pucpr/roberta-ner-portuguese\", aggregation_strategy=\"simple\"\n",
    ")"
   ]
  },
  {
   "cell_type": "code",
   "execution_count": null,
   "id": "ebb35827",
   "metadata": {},
   "outputs": [],
   "source": [
    "# Custom recognizer using HuggingFace pipeline\n",
    "class HFPortugueseNERRecognizer(EntityRecognizer):\n",
    "    def __init__(self):\n",
    "        super().__init__(\n",
    "            supported_entities=[\"PERSON\", \"ORG\", \"LOC\"],\n",
    "            name=\"HFPortugueseNERRecognizer\",\n",
    "        )\n",
    "\n",
    "    def analyze(self, text, entities, nlp_artifacts=None):\n",
    "        results = []\n",
    "        ner_results = ner_pipeline(text)\n",
    "\n",
    "        for item in ner_results:\n",
    "            entity = item[\"entity_group\"]\n",
    "            if entity in entities:\n",
    "                results.append(\n",
    "                    RecognizerResult(\n",
    "                        entity_type=entity,\n",
    "                        start=item[\"start\"],\n",
    "                        end=item[\"end\"],\n",
    "                        score=item[\"score\"],\n",
    "                    )\n",
    "                )\n",
    "        return results"
   ]
  },
  {
   "cell_type": "code",
   "execution_count": null,
   "id": "67cdeecc",
   "metadata": {},
   "outputs": [],
   "source": [
    "def faker_replacement(entity_type):\n",
    "    if entity_type == \"PERSON\":\n",
    "        return faker.name()\n",
    "    elif entity_type == \"ORG\":\n",
    "        return faker.company()\n",
    "    elif entity_type == \"LOC\":\n",
    "        return faker.city()\n",
    "    elif entity_type == \"EMAIL_ADDRESS\":\n",
    "        return faker.email()\n",
    "    else:\n",
    "        return \"[REDACTED]\""
   ]
  },
  {
   "cell_type": "code",
   "execution_count": null,
   "id": "00f86672",
   "metadata": {},
   "outputs": [],
   "source": [
    "text = \"\"\"\n",
    "Meu nome é Carla Souza e trabalho na Fiocruz. Moro em Fortaleza.\n",
    "Meu e-mail é carla.souza@exemplo.com.\n",
    "\"\"\""
   ]
  },
  {
   "cell_type": "code",
   "execution_count": null,
   "id": "1e9e159c",
   "metadata": {},
   "outputs": [],
   "source": [
    "# Step 1: Analyzer with custom NER\n",
    "analyzer = AnalyzerEngine()\n",
    "analyzer.registry.add_recognizer(HFPortugueseNERRecognizer())\n",
    "results = analyzer.analyze(text=text, language=\"pt\")"
   ]
  },
  {
   "cell_type": "code",
   "execution_count": null,
   "id": "5fb90098",
   "metadata": {},
   "outputs": [],
   "source": [
    "# Step 2: Build fake replacement instructions\n",
    "from presidio_anonymizer.entities import AnonymizerResult, OperatorConfig\n",
    "\n",
    "operators = {}\n",
    "for res in results:\n",
    "    fake_value = faker_replacement(res.entity_type)\n",
    "    operators[res.entity_type] = OperatorConfig(\"replace\", {\"new_value\": fake_value})"
   ]
  },
  {
   "cell_type": "code",
   "execution_count": null,
   "id": "35956b81",
   "metadata": {},
   "outputs": [],
   "source": [
    "# Step 3: Anonymize\n",
    "anonymizer = AnonymizerEngine()\n",
    "anonymized = anonymizer.anonymize(\n",
    "    text=text, analyzer_results=results, operators=operators\n",
    ")"
   ]
  },
  {
   "cell_type": "code",
   "execution_count": null,
   "id": "d639c686",
   "metadata": {},
   "outputs": [],
   "source": [
    "# Output\n",
    "print(\"Original:\\n\", text)\n",
    "print(\"\\nAnonymized:\\n\", anonymized.text)"
   ]
  }
 ],
 "metadata": {
  "kernelspec": {
   "display_name": ".venv",
   "language": "python",
   "name": "python3"
  },
  "language_info": {
   "codemirror_mode": {
    "name": "ipython",
    "version": 3
   },
   "file_extension": ".py",
   "mimetype": "text/x-python",
   "name": "python",
   "nbconvert_exporter": "python",
   "pygments_lexer": "ipython3",
   "version": "3.10.12"
  }
 },
 "nbformat": 4,
 "nbformat_minor": 5
}
