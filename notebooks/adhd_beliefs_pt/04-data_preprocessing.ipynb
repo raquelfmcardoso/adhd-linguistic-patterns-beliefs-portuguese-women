{
 "cells": [
  {
   "cell_type": "code",
   "execution_count": null,
   "id": "53b840e3",
   "metadata": {},
   "outputs": [],
   "source": [
    "import nltk\n",
    "import pandas as pd\n",
    "import stanza\n",
    "from nltk.corpus import stopwords"
   ]
  },
  {
   "cell_type": "code",
   "execution_count": null,
   "id": "dffcd82d",
   "metadata": {},
   "outputs": [],
   "source": [
    "file_path = \"../../data/adhd-beliefs-pt/adhd-beliefs-pt-prepared.pkl\"\n",
    "df = pd.read_pickle(file_path)\n",
    "df.head()"
   ]
  },
  {
   "cell_type": "code",
   "execution_count": null,
   "id": "c803f5ee",
   "metadata": {},
   "outputs": [],
   "source": [
    "nltk.download(\"stopwords\")\n",
    "stopwords_pt = set(stopwords.words(\"portuguese\"))"
   ]
  },
  {
   "cell_type": "code",
   "execution_count": null,
   "id": "7ae97b34",
   "metadata": {},
   "outputs": [],
   "source": [
    "stanza.download(\"pt\")\n",
    "nlp = stanza.Pipeline(lang=\"pt\", processors=\"tokenize,mwt,pos,lemma\")"
   ]
  },
  {
   "cell_type": "code",
   "execution_count": null,
   "id": "6ba7d2cb",
   "metadata": {},
   "outputs": [],
   "source": [
    "def preprocess_text(text: str) -> str:\n",
    "    doc = nlp(text.lower())\n",
    "    tokens = []\n",
    "    for sentence in doc.sentences:\n",
    "        for word in sentence.words:\n",
    "            lemma = word.lemma\n",
    "            if lemma.isalpha() and lemma not in stopwords_pt:\n",
    "                tokens.append(lemma)\n",
    "    return \" \".join(tokens)"
   ]
  },
  {
   "cell_type": "code",
   "execution_count": null,
   "id": "587e6581",
   "metadata": {},
   "outputs": [],
   "source": [
    "text_columns = [\"special_interest\", \"diary_entry\", \"selfdefining_memory\", \"empty_sheet\"]\n",
    "\n",
    "for column in text_columns:\n",
    "    df[column] = df[column].astype(str)\n",
    "    df[column] = df[column].apply(preprocess_text)"
   ]
  },
  {
   "cell_type": "code",
   "execution_count": null,
   "id": "442ca975",
   "metadata": {},
   "outputs": [],
   "source": [
    "temp_df = df[text_columns].replace(\"nan\", \"\").fillna(\"\")\n",
    "df[\"merged_text\"] = temp_df.agg(\" \".join, axis=1)\n",
    "df[\"merged_text\"] = df[\"merged_text\"].replace(\"   \", \"nan\")"
   ]
  },
  {
   "cell_type": "code",
   "execution_count": null,
   "id": "63af6b59",
   "metadata": {},
   "outputs": [],
   "source": [
    "file_path = \"../../data/adhd-beliefs-pt/adhd-beliefs-pt-preprocessed.pkl\"\n",
    "df.to_pickle(file_path)\n",
    "print(\"Text preprocessing completed and saved to\", file_path)"
   ]
  },
  {
   "cell_type": "code",
   "execution_count": null,
   "id": "2d762d53",
   "metadata": {},
   "outputs": [],
   "source": [
    "df"
   ]
  }
 ],
 "metadata": {
  "kernelspec": {
   "display_name": "adhd-linguistic-patterns-beliefs-portuguese-women",
   "language": "python",
   "name": "python3"
  },
  "language_info": {
   "codemirror_mode": {
    "name": "ipython",
    "version": 3
   },
   "file_extension": ".py",
   "mimetype": "text/x-python",
   "name": "python",
   "nbconvert_exporter": "python",
   "pygments_lexer": "ipython3",
   "version": "3.13.2"
  }
 },
 "nbformat": 4,
 "nbformat_minor": 5
}
