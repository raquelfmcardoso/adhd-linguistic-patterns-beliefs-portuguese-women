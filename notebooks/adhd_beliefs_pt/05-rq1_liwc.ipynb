{
 "cells": [
  {
   "cell_type": "code",
   "execution_count": null,
   "id": "7a439092",
   "metadata": {},
   "outputs": [],
   "source": [
    "import pandas as pd\n",
    "import re\n",
    "import liwc\n",
    "from collections import Counter\n",
    "import spacy\n",
    "import unicodedata"
   ]
  },
  {
   "cell_type": "code",
   "execution_count": null,
   "id": "4bfff8e3",
   "metadata": {},
   "outputs": [],
   "source": [
    "file_path = \"../../data/adhd-beliefs-pt/adhd-beliefs-pt-anonymized.pkl\"\n",
    "df = pd.read_pickle(file_path)\n",
    "df = df.drop(columns=[\"datetime\"])\n",
    "df.head()"
   ]
  },
  {
   "cell_type": "markdown",
   "id": "96a0d5bd",
   "metadata": {},
   "source": [
    "## Retrieve LIWC categories"
   ]
  },
  {
   "cell_type": "code",
   "execution_count": null,
   "id": "b907ece6",
   "metadata": {},
   "outputs": [],
   "source": [
    "text_columns = [\"special_interest\", \"diary_entry\", \"selfdefining_memory\", \"empty_sheet\"]\n",
    "liwc_df = df[text_columns].fillna(\"\").replace(\"NaN\", \"\")\n",
    "liwc_df[\"merged_text\"] = liwc_df.agg(\" \".join, axis=1).str.strip()\n",
    "liwc_df = liwc_df[liwc_df[\"merged_text\"] != \"\"]\n",
    "liwc_df = liwc_df[[\"merged_text\"]]\n",
    "liwc_df"
   ]
  },
  {
   "cell_type": "code",
   "execution_count": null,
   "id": "4cf3a5bd",
   "metadata": {},
   "outputs": [],
   "source": [
    "parse, category_names = liwc.load_token_parser('../../data/LIWC2007_Portugues_win.dic')\n",
    "print(\"LIWC categories:\", category_names)"
   ]
  },
  {
   "cell_type": "code",
   "execution_count": null,
   "id": "290a69ea",
   "metadata": {},
   "outputs": [],
   "source": [
    "def preprocess_text(text):\n",
    "    text = text.lower()\n",
    "    text = unicodedata.normalize(\"NFC\", text)\n",
    "    text = re.sub(r'\\S+@\\S+', ' <EMAIL> ', text)\n",
    "    tokens = re.findall(r\"[A-Za-zÀ-ÖØ-öø-ÿÇç]+|[^\\w\\s]\", text, flags=re.UNICODE)\n",
    "    return tokens"
   ]
  },
  {
   "cell_type": "code",
   "execution_count": null,
   "id": "40c527cf",
   "metadata": {},
   "outputs": [],
   "source": [
    "nlp = spacy.load(\"pt_core_news_lg\")\n",
    "def count_words(text):\n",
    "    if pd.isna(text):\n",
    "        return 0\n",
    "    doc = nlp(text)\n",
    "    return len(doc)"
   ]
  },
  {
   "cell_type": "code",
   "execution_count": null,
   "id": "ed6b0676",
   "metadata": {},
   "outputs": [],
   "source": [
    "def create_category_columns():\n",
    "    for category in category_names:\n",
    "        liwc_df[category] = 0"
   ]
  },
  {
   "cell_type": "code",
   "execution_count": null,
   "id": "a06af617",
   "metadata": {},
   "outputs": [],
   "source": [
    "liwc_df.loc[:, \"processed_text\"] = liwc_df[\"merged_text\"].apply(preprocess_text)\n",
    "liwc_df[\"word_count\"] = liwc_df[\"merged_text\"].apply(lambda x: count_words(x))\n",
    "create_category_columns()"
   ]
  },
  {
   "cell_type": "code",
   "execution_count": null,
   "id": "69927cfa",
   "metadata": {},
   "outputs": [],
   "source": [
    "liwc_df"
   ]
  },
  {
   "cell_type": "code",
   "execution_count": null,
   "id": "70ae829b",
   "metadata": {},
   "outputs": [],
   "source": [
    "def liwc_analyze(text):\n",
    "    tokens = preprocess_text(text)\n",
    "    counts = Counter()\n",
    "    for token in tokens:\n",
    "        categories = parse(token)\n",
    "        for category in categories:\n",
    "            counts[category] += 1\n",
    "    return counts\n",
    "\n",
    "def analyze_texts(df):\n",
    "    for index, row in df.iterrows():\n",
    "        text = row[\"merged_text\"]\n",
    "        counts = liwc_analyze(text)\n",
    "        for category, count in counts.items():\n",
    "            if category in liwc_df.columns:\n",
    "                liwc_df.at[index, category] = count\n",
    "    return liwc_df"
   ]
  },
  {
   "cell_type": "code",
   "execution_count": null,
   "id": "7d02e918",
   "metadata": {},
   "outputs": [],
   "source": [
    "liwc_df = analyze_texts(liwc_df)\n",
    "liwc_df"
   ]
  },
  {
   "cell_type": "markdown",
   "id": "0f7581e5",
   "metadata": {},
   "source": [
    "## Standardization"
   ]
  },
  {
   "cell_type": "code",
   "execution_count": null,
   "id": "3ed753bd",
   "metadata": {},
   "outputs": [],
   "source": [
    "prop_liwc_df = liwc_df.copy()\n",
    "for category in category_names:\n",
    "    prop_liwc_df[f\"{category}\"] = prop_liwc_df[category] / prop_liwc_df[\"word_count\"]"
   ]
  },
  {
   "cell_type": "code",
   "execution_count": null,
   "id": "4e76e459",
   "metadata": {},
   "outputs": [],
   "source": [
    "zscore_liwc_df = liwc_df.copy()\n",
    "for category in category_names:\n",
    "    u = prop_liwc_df[f\"{category}\"].mean() \n",
    "    o = prop_liwc_df[f\"{category}\"].std(ddof=1)   # pandas std defaults to ddof=1 (sample std)\n",
    "    zscore_liwc_df[f\"{category}\"] = (prop_liwc_df[f\"{category}\"] - u) / o"
   ]
  },
  {
   "cell_type": "markdown",
   "id": "0ad702d2",
   "metadata": {},
   "source": [
    "## Saving to local disk"
   ]
  },
  {
   "cell_type": "code",
   "execution_count": null,
   "id": "c320851e",
   "metadata": {},
   "outputs": [],
   "source": [
    "liwc_df = df.join(liwc_df, how=\"left\")\n",
    "liwc_df.to_pickle(\"../../data/adhd-beliefs-pt/adhd-beliefs-pt-liwc.pkl\")\n",
    "liwc_df"
   ]
  },
  {
   "cell_type": "code",
   "execution_count": null,
   "id": "aafd1201",
   "metadata": {},
   "outputs": [],
   "source": [
    "prop_liwc_df = df.loc[prop_liwc_df.index].join(prop_liwc_df, how=\"left\")\n",
    "prop_liwc_df.to_pickle(\"../../data/adhd-beliefs-pt/adhd-beliefs-pt-liwc-proportional.pkl\")\n",
    "prop_liwc_df"
   ]
  },
  {
   "cell_type": "code",
   "execution_count": null,
   "id": "6ab19415",
   "metadata": {},
   "outputs": [],
   "source": [
    "zscore_liwc_df = df.loc[zscore_liwc_df.index].join(zscore_liwc_df, how=\"left\")\n",
    "zscore_liwc_df.to_pickle(\"../../data/adhd-beliefs-pt/adhd-beliefs-pt-liwc-zscore.pkl\")\n",
    "zscore_liwc_df"
   ]
  }
 ],
 "metadata": {
  "kernelspec": {
   "display_name": "adhd-linguistic-patterns-beliefs-portuguese-women",
   "language": "python",
   "name": "python3"
  },
  "language_info": {
   "codemirror_mode": {
    "name": "ipython",
    "version": 3
   },
   "file_extension": ".py",
   "mimetype": "text/x-python",
   "name": "python",
   "nbconvert_exporter": "python",
   "pygments_lexer": "ipython3",
   "version": "3.10.12"
  }
 },
 "nbformat": 4,
 "nbformat_minor": 5
}
