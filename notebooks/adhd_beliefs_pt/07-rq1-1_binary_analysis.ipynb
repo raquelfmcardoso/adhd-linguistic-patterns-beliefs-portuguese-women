{
 "cells": [
  {
   "cell_type": "code",
   "execution_count": null,
   "id": "5f601a75",
   "metadata": {},
   "outputs": [],
   "source": [
    "import pandas as pd\n",
    "import numpy as np\n",
    "import scipy.stats as stats\n",
    "from pingouin import bayesfactor_ttest\n",
    "from statsmodels.stats.multitest import multipletests\n",
    "from statsmodels.stats.power import TTestIndPower\n",
    "from sklearn.decomposition import PCA\n",
    "from sklearn.preprocessing import StandardScaler\n",
    "from sklearn.linear_model import LogisticRegressionCV, LogisticRegression\n",
    "from sklearn.model_selection import RepeatedStratifiedKFold, cross_val_score\n",
    "from sklearn.utils import resample\n",
    "import matplotlib.pyplot as plt\n",
    "import seaborn as sns"
   ]
  },
  {
   "cell_type": "code",
   "execution_count": null,
   "id": "9aa32460",
   "metadata": {},
   "outputs": [],
   "source": [
    "df = pd.read_pickle(\"../../data/adhd-beliefs-pt/adhd-beliefs-pt-liwc-proportional.pkl\")\n",
    "mask_adhd = (df['sex']==\"Feminino\") & (df['adhd_diagnosis']==\"Sim, diagnosticado\")\n",
    "mask_others = ~mask_adhd\n",
    "features = df.columns[-64:].tolist()"
   ]
  },
  {
   "cell_type": "markdown",
   "id": "eea845ca",
   "metadata": {},
   "source": [
    "## Necessary functions"
   ]
  },
  {
   "cell_type": "code",
   "execution_count": null,
   "id": "f6b7f2d7",
   "metadata": {},
   "outputs": [],
   "source": [
    "def univariate_liwc(df, features, mask_g1, mask_g2, alpha=0.05):\n",
    "    \"\"\"\n",
    "    For each LIWC feature:\n",
    "      - Welch’s t-test\n",
    "      - JZS Bayes factor\n",
    "      - Cohen’s d\n",
    "    Returns a DataFrame with p-values, BF10, d, FDR‐corrected p’s, etc.\n",
    "    \"\"\"\n",
    "    rows = []\n",
    "    for feat in features:\n",
    "        g1 = df.loc[mask_g1, feat].dropna()\n",
    "        g2 = df.loc[mask_g2, feat].dropna()\n",
    "        t_stat, p_val = stats.ttest_ind(g1, g2, equal_var=False)\n",
    "        n1, n2 = len(g1), len(g2)\n",
    "        bf10 = bayesfactor_ttest(t_stat, n1, n2, paired=False)\n",
    "        s1, s2 = g1.std(ddof=1), g2.std(ddof=1)\n",
    "        s_pool = np.sqrt(((n1-1)*s1**2 + (n2-1)*s2**2)/(n1+n2-2))\n",
    "        d = (g1.mean() - g2.mean())/s_pool\n",
    "        rows.append({\n",
    "            'feature': feat,\n",
    "            'mean_g1': g1.mean(),\n",
    "            'sd_g1': s1,\n",
    "            'mean_g2': g2.mean(),\n",
    "            'sd_g2': s2,\n",
    "            't_stat': t_stat,\n",
    "            'p_val': p_val,\n",
    "            'bf10': bf10,\n",
    "            'cohen_d': d\n",
    "        })\n",
    "    df_res = pd.DataFrame(rows)\n",
    "    _, p_corr, _, _ = multipletests(df_res['p_val'], method='fdr_bh')\n",
    "    df_res['p_fdr'] = p_corr\n",
    "    df_res['signif'] = df_res['p_fdr'] < alpha\n",
    "    df_res['abs_cohen_d'] = df_res['cohen_d'].abs()\n",
    "    return df_res.sort_values('abs_cohen_d', ascending=False)"
   ]
  },
  {
   "cell_type": "code",
   "execution_count": null,
   "id": "9ece417a",
   "metadata": {},
   "outputs": [],
   "source": [
    "def pca_group_diff(df, features, mask_g1, mask_g2, n_pc=5, alpha=0.05):\n",
    "    \"\"\"\n",
    "    Standardize LIWC features, run PCA, perform Welch’s t-test on each PC\n",
    "    Returns a DataFrame of PC, explained_variance, t_stat, p_val, p_fdr.\n",
    "    \"\"\"\n",
    "    X = df[features].fillna(0).values\n",
    "    Xs = StandardScaler().fit_transform(X)\n",
    "    pca = PCA(n_components=n_pc)\n",
    "    pcs = pca.fit_transform(Xs)\n",
    "    rows = []\n",
    "    for i in range(n_pc):\n",
    "        comp = pcs[:, i]\n",
    "        t, p = stats.ttest_ind(comp[mask_g1], comp[mask_g2], equal_var=False)\n",
    "        rows.append({\n",
    "            'PC': f'PC{i+1}',\n",
    "            'expl_var': pca.explained_variance_ratio_[i],\n",
    "            't_stat':   t,\n",
    "            'p_val':    p\n",
    "        })\n",
    "    df_pc = pd.DataFrame(rows)\n",
    "    _, p_corr, _, _ = multipletests(df_pc['p_val'], method='fdr_bh')\n",
    "    df_pc['p_fdr'] = p_corr\n",
    "    return df_pc"
   ]
  },
  {
   "cell_type": "code",
   "execution_count": null,
   "id": "b234d448",
   "metadata": {},
   "outputs": [],
   "source": [
    "def top_pc1_loadings(df, features, n=10):\n",
    "    X = df[features].fillna(0).values\n",
    "    Xs = StandardScaler().fit_transform(X)\n",
    "    pca = PCA(n_components=1)\n",
    "    pca.fit(Xs)\n",
    "    load = pd.Series(pca.components_[0], index=features)\n",
    "    df_load = load.abs().sort_values(ascending=False).head(n).to_frame('abs_loading')\n",
    "    df_load['loading'] = load.loc[df_load.index]\n",
    "    return df_load"
   ]
  },
  {
   "cell_type": "code",
   "execution_count": null,
   "id": "d3fd29aa",
   "metadata": {},
   "outputs": [],
   "source": [
    "def l1_logistic_top(df, features, mask_g1, n=10):\n",
    "    X = df[features].fillna(0).values\n",
    "    Xs = StandardScaler().fit_transform(X)\n",
    "    y = mask_g1.astype(int)\n",
    "    clf = LogisticRegressionCV(\n",
    "        Cs=10, cv=5, penalty='l1', solver='saga',\n",
    "        scoring='roc_auc', max_iter=5000, random_state=42\n",
    "    )\n",
    "    clf.fit(Xs, y)\n",
    "    coef = pd.Series(clf.coef_[0], index=features)\n",
    "    df_coef = coef.abs().sort_values(ascending=False).head(n).to_frame('abs_coef')\n",
    "    df_coef['coef'] = coef.loc[df_coef.index]\n",
    "    return df_coef"
   ]
  },
  {
   "cell_type": "code",
   "execution_count": null,
   "id": "8414a8e4",
   "metadata": {},
   "outputs": [],
   "source": [
    "def cohen_d(x, y):\n",
    "    nx, ny = len(x), len(y)\n",
    "    sx, sy = np.std(x, ddof=1), np.std(y, ddof=1)\n",
    "    s_pooled = np.sqrt(((nx-1)*sx**2 + (ny-1)*sy**2) / (nx+ny-2))\n",
    "    return (np.mean(x) - np.mean(y)) / s_pooled"
   ]
  },
  {
   "cell_type": "code",
   "execution_count": null,
   "id": "9c09f982",
   "metadata": {},
   "outputs": [],
   "source": [
    "def abs_cohen_d(x, y):\n",
    "    return abs(cohen_d(x, y))"
   ]
  },
  {
   "cell_type": "code",
   "execution_count": null,
   "id": "b5cc0b21",
   "metadata": {},
   "outputs": [],
   "source": [
    "def bootstrap_ci(x, y, statfunc, n_boot=1000, ci=95):\n",
    "    boot_stats = []\n",
    "    for _ in range(n_boot):\n",
    "        bx = resample(x, replace=True)\n",
    "        by = resample(y, replace=True)\n",
    "        boot_stats.append(statfunc(bx, by))\n",
    "    lower = np.percentile(boot_stats, (100-ci)/2)\n",
    "    upper = np.percentile(boot_stats, 100-(100-ci)/2)\n",
    "    return lower, upper"
   ]
  },
  {
   "cell_type": "code",
   "execution_count": null,
   "id": "417875f7",
   "metadata": {},
   "outputs": [],
   "source": [
    "def a_priori_power(effect_size=0.6, alpha=0.05, power=0.8):\n",
    "    analysis = TTestIndPower()\n",
    "    return analysis.solve_power(effect_size=effect_size, alpha=alpha, power=power, alternative='two-sided')"
   ]
  },
  {
   "cell_type": "markdown",
   "id": "d39da82a",
   "metadata": {},
   "source": [
    "## Analysis"
   ]
  },
  {
   "cell_type": "code",
   "execution_count": null,
   "id": "bbdecb29",
   "metadata": {},
   "outputs": [],
   "source": [
    "# 1) Univariate LIWC\n",
    "uni = univariate_liwc(df, features, mask_adhd, mask_others)\n",
    "print(\"\\nLIWC dimensions |d| > 0.5:\")\n",
    "print(uni[uni['abs_cohen_d']>0.5].to_markdown(index=False, floatfmt=\".3f\"))"
   ]
  },
  {
   "cell_type": "code",
   "execution_count": null,
   "id": "4149b146",
   "metadata": {},
   "outputs": [],
   "source": [
    "# 2) Bootstrap CIs for features with |d| > 0.5\n",
    "top_feats = uni[uni['abs_cohen_d'] > 0.5]['feature']\n",
    "ci_list = []\n",
    "for feat in top_feats:\n",
    "    x = df.loc[mask_adhd, feat].dropna().values\n",
    "    y = df.loc[mask_others, feat].dropna().values\n",
    "    d_obs = cohen_d(x, y)\n",
    "    lo, hi = bootstrap_ci(x, y, cohen_d, n_boot=2000, ci=95)\n",
    "    ci_list.append({'feature': feat, 'd': d_obs, 'ci_lower': lo, 'ci_upper': hi})\n",
    "ci_df = pd.DataFrame(ci_list)\n",
    "print(\"\\nBootstrap 95% CIs for Cohen's d (|d| > 0.5):\")\n",
    "print(ci_df.to_markdown(index=False, floatfmt=\".3f\"))"
   ]
  },
  {
   "cell_type": "code",
   "execution_count": null,
   "id": "2251f9cf",
   "metadata": {},
   "outputs": [],
   "source": [
    "# 3) A priori power\n",
    "req_n = a_priori_power(effect_size=0.6)\n",
    "print(f\"\\nRequired N per group for d=0.6, α=0.05, 80% power: {req_n:.1f}\")"
   ]
  },
  {
   "cell_type": "code",
   "execution_count": null,
   "id": "183582a7",
   "metadata": {},
   "outputs": [],
   "source": [
    "# 4) PCA group differences\n",
    "pc_res = pca_group_diff(df, features, mask_adhd, mask_others)\n",
    "print(\"\\nPCA group differences:\")\n",
    "print(pc_res.to_markdown(index=False, floatfmt=\".3f\"))"
   ]
  },
  {
   "cell_type": "code",
   "execution_count": null,
   "id": "c499f195",
   "metadata": {},
   "outputs": [],
   "source": [
    "# 5) PCA group differences\n",
    "pc1_ld = top_pc1_loadings(df, features, n=15)\n",
    "print(\"\\nTop PC1 loadings:\")\n",
    "print(pc1_ld[['loading']].to_markdown(floatfmt=\".3f\"))"
   ]
  },
  {
   "cell_type": "code",
   "execution_count": null,
   "id": "f2831352",
   "metadata": {},
   "outputs": [],
   "source": [
    "# Use seaborn's rocket palette for colors\n",
    "palette = sns.color_palette(\"rocket\", len(pc1_ld))\n",
    "\n",
    "plt.figure(figsize=(7, 5))\n",
    "bars = plt.barh(pc1_ld.index, pc1_ld['loading'], color=palette)\n",
    "plt.gca().invert_yaxis()\n",
    "plt.title(\"Top 15 PC1 Loadings\", fontsize=15, weight='bold')\n",
    "plt.xlabel(\"Loading\", fontsize=12)\n",
    "plt.ylabel(\"LIWC Feature\", fontsize=12)\n",
    "plt.grid(axis='x', linestyle='--', alpha=0.4)\n",
    "\n",
    "# Annotate bars with loading values\n",
    "for bar in bars:\n",
    "    width = bar.get_width()\n",
    "    plt.gca().text(\n",
    "        width + 0.01 * np.sign(width), \n",
    "        bar.get_y() + bar.get_height()/2, \n",
    "        f\"{width:.2f}\", \n",
    "        va='center', ha='left' if width > 0 else 'right', fontsize=10\n",
    "    )\n",
    "    \n",
    "plt.xlim(0, 0.32)\n",
    "\n",
    "plt.tight_layout()\n",
    "plt.show()"
   ]
  },
  {
   "cell_type": "code",
   "execution_count": null,
   "id": "0ea9981e",
   "metadata": {},
   "outputs": [],
   "source": [
    "# 6) L1 logistic features\n",
    "lasso = l1_logistic_top(df, features, mask_adhd, n=15)\n",
    "print(\"\\nTop L1 logistic features:\")\n",
    "print(lasso[['coef']].to_markdown(floatfmt=\".3f\"))"
   ]
  },
  {
   "cell_type": "code",
   "execution_count": null,
   "id": "80b9ad84",
   "metadata": {},
   "outputs": [],
   "source": [
    "# Plotting top L1 logistic coefficients with seaborn's rocket palette\n",
    "plt.figure(figsize=(7, 5))\n",
    "palette = sns.color_palette(\"rocket\", len(lasso))\n",
    "bars = plt.barh(lasso.index, lasso['coef'], color=palette)\n",
    "plt.gca().invert_yaxis()\n",
    "plt.title(\"Top 15 L1 Logistic Regression Coefficients\", fontsize=15, weight='bold')\n",
    "plt.xlabel(\"Coefficient\", fontsize=12)\n",
    "plt.ylabel(\"LIWC Feature\", fontsize=12)\n",
    "plt.grid(axis='x', linestyle='--', alpha=0.4)\n",
    "\n",
    "# Annotate bars with coefficient values\n",
    "for bar in bars:\n",
    "    width = bar.get_width()\n",
    "    plt.gca().text(\n",
    "        width + 0.05 * np.sign(width), \n",
    "        bar.get_y() + bar.get_height()/2, \n",
    "        f\"{width:.2f}\", \n",
    "        va='center', ha='left' if width > 0 else 'right', fontsize=10\n",
    "    )\n",
    "    \n",
    "plt.xlim(-3.7, 2.8)\n",
    "\n",
    "plt.tight_layout()\n",
    "plt.show()"
   ]
  },
  {
   "cell_type": "code",
   "execution_count": null,
   "id": "f80bc198",
   "metadata": {},
   "outputs": [],
   "source": [
    "# 7) Repeated CV for AUC stability\n",
    "X = df[features].fillna(0).values\n",
    "y = mask_adhd.astype(int).values\n",
    "rkf = RepeatedStratifiedKFold(n_splits=5, n_repeats=10, random_state=42)\n",
    "clf = LogisticRegression(penalty='l1', solver='saga', max_iter=5000)\n",
    "auc_scores = cross_val_score(clf, X, y, cv=rkf, scoring='roc_auc')\n",
    "print(f\"\\nRepeated CV AUC: mean={auc_scores.mean():.3f}, SD={auc_scores.std():.3f}\")"
   ]
  },
  {
   "cell_type": "code",
   "execution_count": null,
   "id": "71621183",
   "metadata": {},
   "outputs": [],
   "source": [
    "# 8) Stability selection via bootstrap Lasso\n",
    "n_boot = 100\n",
    "feat_counts = pd.Series(0, index=features)\n",
    "for _ in range(n_boot):\n",
    "    idx = np.random.choice(len(df), len(df), replace=True)\n",
    "    Xb = X[idx]\n",
    "    yb = y[idx]\n",
    "    clf = LogisticRegression(penalty='l1', solver='saga', C=1.0, max_iter=5000)\n",
    "    clf.fit(StandardScaler().fit_transform(Xb), yb)\n",
    "    feat_counts += (np.abs(clf.coef_[0]) > 1e-6).astype(int)\n",
    "stability = (feat_counts / n_boot).sort_values(ascending=False)\n",
    "print(\"\\nFeatures selected in ≥70% of bootstraps:\")\n",
    "print(stability[stability>=0.7].to_markdown(floatfmt=\".2f\"))"
   ]
  },
  {
   "cell_type": "markdown",
   "id": "87f5ffe3",
   "metadata": {},
   "source": [
    "## Analysis with Suspecting Females"
   ]
  },
  {
   "cell_type": "code",
   "execution_count": null,
   "id": "b8a6c8ca",
   "metadata": {},
   "outputs": [],
   "source": [
    "df = pd.read_pickle(\"../../data/adhd-beliefs-pt/adhd-beliefs-pt-liwc-proportional.pkl\")\n",
    "mask_adhd = (df['sex']==\"Feminino\") & (df['adhd_diagnosis'].isin([\"Sim, diagnosticado\", \"Estou em processo de diagnóstico\", \"Suspeito que tenho\"]))\n",
    "# , \n",
    "mask_others = ~mask_adhd\n",
    "features = df.columns[-64:].tolist()"
   ]
  },
  {
   "cell_type": "code",
   "execution_count": null,
   "id": "9fba65ba",
   "metadata": {},
   "outputs": [],
   "source": [
    "# 1) Univariate LIWC\n",
    "uni = univariate_liwc(df, features, mask_adhd, mask_others)\n",
    "print(\"\\nLIWC dimensions |d| > 0.2:\")\n",
    "print(uni[uni['abs_cohen_d']>0.2].to_markdown(index=False, floatfmt=\".3f\"))"
   ]
  },
  {
   "cell_type": "code",
   "execution_count": null,
   "id": "c140fa53",
   "metadata": {},
   "outputs": [],
   "source": [
    "# 2) Bootstrap CIs for features with |d| > 0.2\n",
    "top_feats = uni[uni['abs_cohen_d'] > 0.2]['feature']\n",
    "ci_list = []\n",
    "for feat in top_feats:\n",
    "    x = df.loc[mask_adhd, feat].dropna().values\n",
    "    y = df.loc[mask_others, feat].dropna().values\n",
    "    d_obs = cohen_d(x, y)\n",
    "    lo, hi = bootstrap_ci(x, y, cohen_d, n_boot=2000, ci=95)\n",
    "    ci_list.append({'feature': feat, 'd': d_obs, 'ci_lower': lo, 'ci_upper': hi})\n",
    "ci_df = pd.DataFrame(ci_list)\n",
    "print(\"\\nBootstrap 95% CIs for Cohen's d (|d| > 0.2):\")\n",
    "print(ci_df.to_markdown(index=False, floatfmt=\".3f\"))"
   ]
  },
  {
   "cell_type": "code",
   "execution_count": null,
   "id": "dea6a801",
   "metadata": {},
   "outputs": [],
   "source": [
    "# 3) A priori power\n",
    "req_n = a_priori_power(effect_size=0.6)\n",
    "print(f\"\\nRequired N per group for d=0.6, α=0.05, 80% power: {req_n:.1f}\")"
   ]
  },
  {
   "cell_type": "code",
   "execution_count": null,
   "id": "86fea533",
   "metadata": {},
   "outputs": [],
   "source": [
    "# 4) PCA group differences\n",
    "pc_res = pca_group_diff(df, features, mask_adhd, mask_others)\n",
    "print(\"\\nPCA group differences:\")\n",
    "print(pc_res.to_markdown(index=False, floatfmt=\".3f\"))"
   ]
  },
  {
   "cell_type": "code",
   "execution_count": null,
   "id": "8e4cce14",
   "metadata": {},
   "outputs": [],
   "source": [
    "# 5) PCA group differences\n",
    "pc1_ld = top_pc1_loadings(df, features, n=15)\n",
    "print(\"\\nTop PC1 loadings:\")\n",
    "print(pc1_ld[['loading']].to_markdown(floatfmt=\".3f\"))"
   ]
  },
  {
   "cell_type": "code",
   "execution_count": null,
   "id": "2b01f427",
   "metadata": {},
   "outputs": [],
   "source": [
    "# Use seaborn's rocket palette for colors\n",
    "palette = sns.color_palette(\"rocket\", len(pc1_ld))\n",
    "\n",
    "plt.figure(figsize=(7, 5))\n",
    "bars = plt.barh(pc1_ld.index, pc1_ld['loading'], color=palette)\n",
    "plt.gca().invert_yaxis()\n",
    "plt.title(\"Top 15 PC1 Loadings\", fontsize=15, weight='bold')\n",
    "plt.xlabel(\"Loading\", fontsize=12)\n",
    "plt.ylabel(\"LIWC Feature\", fontsize=12)\n",
    "plt.grid(axis='x', linestyle='--', alpha=0.4)\n",
    "\n",
    "# Annotate bars with loading values\n",
    "for bar in bars:\n",
    "    width = bar.get_width()\n",
    "    plt.gca().text(\n",
    "        width + 0.01 * np.sign(width), \n",
    "        bar.get_y() + bar.get_height()/2, \n",
    "        f\"{width:.2f}\", \n",
    "        va='center', ha='left' if width > 0 else 'right', fontsize=10\n",
    "    )\n",
    "    \n",
    "plt.xlim(0, 0.32)\n",
    "\n",
    "plt.tight_layout()\n",
    "plt.show()"
   ]
  },
  {
   "cell_type": "code",
   "execution_count": null,
   "id": "b5aac0f9",
   "metadata": {},
   "outputs": [],
   "source": [
    "# 6) L1 logistic features\n",
    "lasso = l1_logistic_top(df, features, mask_adhd, n=15)\n",
    "print(\"\\nTop L1 logistic features:\")\n",
    "print(lasso[['coef']].to_markdown(floatfmt=\".3f\"))"
   ]
  },
  {
   "cell_type": "code",
   "execution_count": null,
   "id": "c6740359",
   "metadata": {},
   "outputs": [],
   "source": [
    "# Plotting top L1 logistic coefficients with seaborn's rocket palette\n",
    "plt.figure(figsize=(7, 5))\n",
    "palette = sns.color_palette(\"rocket\", len(lasso))\n",
    "bars = plt.barh(lasso.index, lasso['coef'], color=palette)\n",
    "plt.gca().invert_yaxis()\n",
    "plt.title(\"Top 15 L1 Logistic Regression Coefficients\", fontsize=15, weight='bold')\n",
    "plt.xlabel(\"Coefficient\", fontsize=12)\n",
    "plt.ylabel(\"LIWC Feature\", fontsize=12)\n",
    "plt.grid(axis='x', linestyle='--', alpha=0.4)\n",
    "\n",
    "# Annotate bars with coefficient values\n",
    "for bar in bars:\n",
    "    width = bar.get_width()\n",
    "    plt.gca().text(\n",
    "        width + 0.05 * np.sign(width), \n",
    "        bar.get_y() + bar.get_height()/2, \n",
    "        f\"{width:.2f}\", \n",
    "        va='center', ha='left' if width > 0 else 'right', fontsize=10\n",
    "    )\n",
    "    \n",
    "plt.xlim(-3.7, 2.8)\n",
    "\n",
    "plt.tight_layout()\n",
    "plt.show()"
   ]
  },
  {
   "cell_type": "code",
   "execution_count": null,
   "id": "d95d855d",
   "metadata": {},
   "outputs": [],
   "source": [
    "# 7) Repeated CV for AUC stability\n",
    "X = df[features].fillna(0).values\n",
    "y = mask_adhd.astype(int).values\n",
    "rkf = RepeatedStratifiedKFold(n_splits=5, n_repeats=10, random_state=42)\n",
    "clf = LogisticRegression(penalty='l1', solver='saga', max_iter=5000)\n",
    "auc_scores = cross_val_score(clf, X, y, cv=rkf, scoring='roc_auc')\n",
    "print(f\"\\nRepeated CV AUC: mean={auc_scores.mean():.3f}, SD={auc_scores.std():.3f}\")"
   ]
  },
  {
   "cell_type": "code",
   "execution_count": null,
   "id": "aaa69c4a",
   "metadata": {},
   "outputs": [],
   "source": [
    "# 8) Stability selection via bootstrap Lasso\n",
    "n_boot = 100\n",
    "feat_counts = pd.Series(0, index=features)\n",
    "for _ in range(n_boot):\n",
    "    idx = np.random.choice(len(df), len(df), replace=True)\n",
    "    Xb = X[idx]\n",
    "    yb = y[idx]\n",
    "    clf = LogisticRegression(penalty='l1', solver='saga', C=1.0, max_iter=5000)\n",
    "    clf.fit(StandardScaler().fit_transform(Xb), yb)\n",
    "    feat_counts += (np.abs(clf.coef_[0]) > 1e-6).astype(int)\n",
    "stability = (feat_counts / n_boot).sort_values(ascending=False)\n",
    "print(\"\\nFeatures selected in ≥70% of bootstraps:\")\n",
    "print(stability[stability>=0.7].to_markdown(floatfmt=\".2f\"))"
   ]
  }
 ],
 "metadata": {
  "kernelspec": {
   "display_name": "adhd-linguistic-patterns-beliefs-portuguese-women",
   "language": "python",
   "name": "python3"
  },
  "language_info": {
   "codemirror_mode": {
    "name": "ipython",
    "version": 3
   },
   "file_extension": ".py",
   "mimetype": "text/x-python",
   "name": "python",
   "nbconvert_exporter": "python",
   "pygments_lexer": "ipython3",
   "version": "3.13.2"
  }
 },
 "nbformat": 4,
 "nbformat_minor": 5
}
