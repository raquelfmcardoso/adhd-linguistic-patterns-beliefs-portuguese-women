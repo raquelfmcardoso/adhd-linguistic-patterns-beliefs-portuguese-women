{
 "cells": [
  {
   "cell_type": "code",
   "execution_count": null,
   "id": "81fc5702",
   "metadata": {},
   "outputs": [],
   "source": [
    "import numpy as np\n",
    "import pandas as pd\n",
    "from sentence_transformers import SentenceTransformer"
   ]
  },
  {
   "cell_type": "code",
   "execution_count": null,
   "id": "9c075d78",
   "metadata": {},
   "outputs": [],
   "source": [
    "model = SentenceTransformer(\"PORTULAN/serafim-900m-portuguese-pt-sentence-encoder\")\n",
    "text_columns = [\"special_interest\", \"diary_entry\", \"selfdefining_memory\", \"empty_sheet\"]"
   ]
  },
  {
   "cell_type": "code",
   "execution_count": null,
   "id": "7a6620a8",
   "metadata": {},
   "outputs": [],
   "source": [
    "# Load your dataset\n",
    "file_path = \"../../data/adhd-beliefs-pt/adhd-beliefs-pt-anonymized.pkl\"\n",
    "df = pd.read_pickle(file_path)"
   ]
  },
  {
   "cell_type": "code",
   "execution_count": null,
   "id": "5db30c71",
   "metadata": {},
   "outputs": [],
   "source": [
    "processed_df = df[text_columns].fillna(\"\").replace(\"nan\", \"\")\n",
    "processed_df[\"merged_text\"] = processed_df.agg(\" \".join, axis=1).str.strip()\n",
    "processed_df = processed_df[processed_df[\"merged_text\"] != \"\"]\n",
    "processed_df"
   ]
  },
  {
   "cell_type": "code",
   "execution_count": null,
   "id": "0688a697",
   "metadata": {},
   "outputs": [],
   "source": [
    "cols = processed_df.columns.to_list()\n",
    "print(\"Columns in processed_df:\", cols)"
   ]
  },
  {
   "cell_type": "code",
   "execution_count": null,
   "id": "4fc07c08",
   "metadata": {},
   "outputs": [],
   "source": [
    "for col in cols:\n",
    "    processed_df[col] = processed_df[col].astype(str)"
   ]
  },
  {
   "cell_type": "code",
   "execution_count": null,
   "id": "f97e38a9",
   "metadata": {},
   "outputs": [],
   "source": [
    "processed_df.head()"
   ]
  },
  {
   "cell_type": "code",
   "execution_count": null,
   "id": "aa072117",
   "metadata": {},
   "outputs": [],
   "source": [
    "def get_user_embedding(text):\n",
    "    if not text or text == \"nan\" or pd.isna(text):\n",
    "        return np.zeros((1536,), dtype=np.float32)\n",
    "    return model.encode(text, normalize_embeddings=True)"
   ]
  },
  {
   "cell_type": "code",
   "execution_count": null,
   "id": "7a54bca6",
   "metadata": {},
   "outputs": [],
   "source": [
    "for col in cols:\n",
    "    processed_df[f\"{col}_embedding\"] = processed_df[col].apply(get_user_embedding)"
   ]
  },
  {
   "cell_type": "code",
   "execution_count": null,
   "id": "7c0761d2",
   "metadata": {},
   "outputs": [],
   "source": [
    "processed_df.head()"
   ]
  },
  {
   "cell_type": "code",
   "execution_count": null,
   "id": "f95adf47",
   "metadata": {},
   "outputs": [],
   "source": [
    "embedding_cols = [col for col in processed_df.columns if col.endswith(\"_embedding\") or col == \"merged_text\"]\n",
    "result_df = df.loc[processed_df.index].join(processed_df[embedding_cols], how=\"left\")\n",
    "result_df.to_pickle(\"../../data/adhd-beliefs-pt/adhd-beliefs-pt-embeddings-serafim.pkl\")\n",
    "result_df"
   ]
  }
 ],
 "metadata": {
  "kernelspec": {
   "display_name": "adhd-linguistic-patterns-beliefs-portuguese-women",
   "language": "python",
   "name": "python3"
  },
  "language_info": {
   "codemirror_mode": {
    "name": "ipython",
    "version": 3
   },
   "file_extension": ".py",
   "mimetype": "text/x-python",
   "name": "python",
   "nbconvert_exporter": "python",
   "pygments_lexer": "ipython3",
   "version": "3.13.2"
  }
 },
 "nbformat": 4,
 "nbformat_minor": 5
}
