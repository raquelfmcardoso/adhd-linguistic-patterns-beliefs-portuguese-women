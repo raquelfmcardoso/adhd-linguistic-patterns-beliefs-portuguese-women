{
 "cells": [
  {
   "cell_type": "code",
   "execution_count": null,
   "id": "6838064a",
   "metadata": {},
   "outputs": [],
   "source": [
    "import matplotlib.pyplot as plt\n",
    "import numpy as np\n",
    "import pandas as pd\n",
    "import seaborn as sns\n",
    "from sklearn.cluster import KMeans\n",
    "from sklearn.feature_extraction.text import TfidfVectorizer\n",
    "from sklearn.manifold import TSNE\n",
    "from wordcloud import WordCloud\n",
    "from sklearn.decomposition import PCA\n",
    "from sklearn.preprocessing import StandardScaler\n",
    "import matplotlib.pyplot as plt\n",
    "import seaborn as sns\n",
    "import umap.umap_ as umap\n",
    "from sklearn.cluster import KMeans\n",
    "from sklearn.metrics.pairwise import cosine_similarity\n",
    "import numpy as np"
   ]
  },
  {
   "cell_type": "code",
   "execution_count": null,
   "id": "68744014",
   "metadata": {},
   "outputs": [],
   "source": [
    "file_path = \"../../data/adhd-beliefs-pt/adhd-beliefs-pt-embeddings-serafim.pkl\"\n",
    "df = pd.read_pickle(file_path)"
   ]
  },
  {
   "cell_type": "code",
   "execution_count": null,
   "id": "bb5eb110",
   "metadata": {},
   "outputs": [],
   "source": [
    "df[\"adhd_diagnosis\"] = df[\"adhd_diagnosis\"].apply(lambda x: \"ADHD\" if x == \"Sim, diagnosticado\" else \"No ADHD\")\n",
    "df[\"sex\"] = df[\"sex\"].apply(lambda x: \"Female\" if x == \"Feminino\" else \"Male\")"
   ]
  },
  {
   "cell_type": "code",
   "execution_count": null,
   "id": "a1bf4928",
   "metadata": {},
   "outputs": [],
   "source": [
    "def visualize_umap(selected_column):\n",
    "    X = df[selected_column].tolist()\n",
    "    X = StandardScaler().fit_transform(X)\n",
    "\n",
    "    umap_model = umap.UMAP(n_neighbors=10, min_dist=0.1, metric='cosine')\n",
    "    X_umap = umap_model.fit_transform(X)\n",
    "\n",
    "    df['UMAP1'] = X_umap[:, 0]\n",
    "    df['UMAP2'] = X_umap[:, 1]\n",
    "\n",
    "    # Plot UMAP\n",
    "    sns.scatterplot(data=df, x='UMAP1', y='UMAP2', hue='adhd_diagnosis', style='sex', alpha=0.7)\n",
    "    plt.title(f'UMAP of Sentence Embeddings ({selected_column})')\n",
    "    plt.tight_layout()\n",
    "    plt.show()"
   ]
  },
  {
   "cell_type": "code",
   "execution_count": null,
   "id": "f71d3657",
   "metadata": {},
   "outputs": [],
   "source": [
    "def visualize_kmeans(selected_column, n_clusters=5):\n",
    "    X = df[selected_column].tolist()\n",
    "    X = StandardScaler().fit_transform(X)\n",
    "\n",
    "    kmeans = KMeans(n_clusters=n_clusters, random_state=42)\n",
    "    df['kmeans_cluster'] = kmeans.fit_predict(X)\n",
    "\n",
    "    plt.figure(figsize=(8, 6))\n",
    "    sns.scatterplot(\n",
    "        data=df,\n",
    "        x='UMAP1',\n",
    "        y='UMAP2',\n",
    "        hue='kmeans_cluster',\n",
    "        palette='rocket',\n",
    "        style='adhd_diagnosis',\n",
    "        s=80,\n",
    "        edgecolor='w',\n",
    "        alpha=0.85\n",
    "    )\n",
    "    plt.title(f'KMeans Clustering of Sentence Embeddings ({selected_column})', fontsize=14)\n",
    "    plt.xlabel('UMAP1')\n",
    "    plt.ylabel('UMAP2')\n",
    "    plt.legend(title='Cluster', bbox_to_anchor=(1.05, 1), loc='upper left')\n",
    "    plt.tight_layout()\n",
    "    plt.show()"
   ]
  },
  {
   "cell_type": "code",
   "execution_count": null,
   "id": "8f5688a7",
   "metadata": {},
   "outputs": [],
   "source": [
    "def compute_avg_similarity(group_df, selected_column):\n",
    "    vectors = np.vstack(group_df[selected_column].tolist())\n",
    "    similarity_matrix = cosine_similarity(vectors)\n",
    "    # Only keep upper triangle (excluding diagonal)\n",
    "    tri_upper = similarity_matrix[np.triu_indices(len(similarity_matrix), k=1)]\n",
    "    return tri_upper.mean()"
   ]
  },
  {
   "cell_type": "code",
   "execution_count": null,
   "id": "a0946ca5",
   "metadata": {},
   "outputs": [],
   "source": [
    "def get_similarity(selected_column):\n",
    "    adhd_women = df[(df['sex'] == 'Female') & (df['adhd_diagnosis'] == 'ADHD')]\n",
    "    non_adhd_women = df[~df.index.isin(adhd_women.index)]\n",
    "    \n",
    "    women = df[(df['sex'] == 'Female')]\n",
    "    men = df[(df['sex'] == 'Male')]\n",
    "    \n",
    "    adhd = df[(df['adhd_diagnosis'] == 'ADHD')]\n",
    "    non_adhd = df[(df['adhd_diagnosis'] == 'No ADHD')]\n",
    "\n",
    "    print(f\"[{selected_column}] Avg similarity - ADHD Women:\", compute_avg_similarity(adhd_women, selected_column))\n",
    "    print(f\"[{selected_column}] Avg similarity - Non-ADHD Women:\", compute_avg_similarity(non_adhd_women, selected_column))\n",
    "    print(f\"[{selected_column}] Avg similarity - Women:\", compute_avg_similarity(women, selected_column))\n",
    "    print(f\"[{selected_column}] Avg similarity - Men:\", compute_avg_similarity(men, selected_column))\n",
    "    print(f\"[{selected_column}] Avg similarity - ADHD:\", compute_avg_similarity(adhd, selected_column))\n",
    "    print(f\"[{selected_column}] Avg similarity - Non-ADHD:\", compute_avg_similarity(non_adhd, selected_column))"
   ]
  },
  {
   "cell_type": "code",
   "execution_count": null,
   "id": "c26c1388",
   "metadata": {},
   "outputs": [],
   "source": [
    "columns = [\"special_interest_embedding\", \"diary_entry_embedding\", \"selfdefining_memory_embedding\", \"empty_sheet_embedding\", \"merged_text_embedding\"]"
   ]
  },
  {
   "cell_type": "code",
   "execution_count": null,
   "id": "f5930125",
   "metadata": {},
   "outputs": [],
   "source": [
    "for col in columns:\n",
    "    df = df[df[col].apply(lambda x: not all(v == 0 for v in x))]\n",
    "    print(df.shape)\n",
    "    visualize_umap(col)\n",
    "    visualize_kmeans(col, n_clusters=5)\n",
    "    get_similarity(col)\n",
    "    print(f\"Visualizations and clustering for {col} completed.\\n\")\n",
    "    print(\"\\n\" + \"=\"*50 + \"\\n\")"
   ]
  }
 ],
 "metadata": {
  "kernelspec": {
   "display_name": "adhd-linguistic-patterns-beliefs-portuguese-women",
   "language": "python",
   "name": "python3"
  },
  "language_info": {
   "codemirror_mode": {
    "name": "ipython",
    "version": 3
   },
   "file_extension": ".py",
   "mimetype": "text/x-python",
   "name": "python",
   "nbconvert_exporter": "python",
   "pygments_lexer": "ipython3",
   "version": "3.13.2"
  }
 },
 "nbformat": 4,
 "nbformat_minor": 5
}
