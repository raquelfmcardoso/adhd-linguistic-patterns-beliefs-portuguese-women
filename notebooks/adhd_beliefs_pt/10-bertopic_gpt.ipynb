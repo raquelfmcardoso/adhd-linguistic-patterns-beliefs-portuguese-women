{
 "cells": [
  {
   "cell_type": "code",
   "execution_count": null,
   "id": "e909e249",
   "metadata": {},
   "outputs": [],
   "source": [
    "from bertopic import BERTopic\n",
    "import numpy as np\n",
    "import pandas as pd\n",
    "from transformers import pipeline\n",
    "from bertopic.representation import TextGeneration\n",
    "from bertopic.vectorizers import ClassTfidfTransformer\n",
    "from sentence_transformers import SentenceTransformer\n",
    "import seaborn as sns\n",
    "import matplotlib.pyplot as plt\n",
    "import torch\n",
    "import datetime\n",
    "import nltk\n",
    "from nltk.corpus import stopwords\n",
    "import logging\n",
    "import os\n",
    "from dotenv import load_dotenv\n",
    "from umap import UMAP\n",
    "from hdbscan import HDBSCAN\n",
    "from sklearn.feature_extraction.text import CountVectorizer\n",
    "import openai\n",
    "import spacy\n",
    "from bertopic.representation import KeyBERTInspired, MaximalMarginalRelevance, OpenAI, PartOfSpeech\n",
    "\n",
    "load_dotenv()\n",
    "OPENAI_KEY = os.getenv(\"OPENAI_KEY\")"
   ]
  },
  {
   "cell_type": "code",
   "execution_count": null,
   "id": "20385159",
   "metadata": {},
   "outputs": [],
   "source": [
    "df = pd.read_pickle(\"../../data/adhd-beliefs-pt/adhd-beliefs-pt-embeddings-serafim.pkl\")\n",
    "df"
   ]
  },
  {
   "cell_type": "code",
   "execution_count": null,
   "id": "ced6a21a",
   "metadata": {},
   "outputs": [],
   "source": [
    "question_types = [\"special_interest\", \"diary_entry\", \"selfdefining_memory\", \"empty_sheet\"]\n",
    "topic_df = pd.concat([df.assign(question=q) for q in question_types], ignore_index=False)\n",
    "topic_df[\"response\"] = topic_df.apply(lambda row: row[row[\"question\"]], axis=1)\n",
    "topic_df[\"response_embedding\"] = topic_df.apply(lambda row: row[f\"{row['question']}_embedding\"], axis=1)\n",
    "topic_df = topic_df.drop(columns=[\"special_interest\", \"diary_entry\", \"selfdefining_memory\", \"empty_sheet\", \"merged_text\", \"special_interest_embedding\", \"diary_entry_embedding\", \"selfdefining_memory_embedding\", \"empty_sheet_embedding\", \"merged_text_embedding\"])\n",
    "topic_df = topic_df.dropna(subset=[\"response\"])\n",
    "topic_df"
   ]
  },
  {
   "cell_type": "code",
   "execution_count": null,
   "id": "a7535c97",
   "metadata": {},
   "outputs": [],
   "source": [
    "question_counts = topic_df[\"question\"].value_counts()\n",
    "question_counts"
   ]
  },
  {
   "cell_type": "code",
   "execution_count": null,
   "id": "8706c447",
   "metadata": {},
   "outputs": [],
   "source": [
    "topic_df['group'] = (\n",
    "    topic_df['sex'].map({'Feminino':'Female','Masculino':'Male'}).astype(str) + '_' +\n",
    "    np.where(topic_df['adhd_diagnosis']==\"Sim, diagnosticado\", 'ADHD', 'noADHD')\n",
    ")\n",
    "groups = topic_df['group'].unique().tolist()\n",
    "group_counts = topic_df['group'].value_counts()\n",
    "group_counts"
   ]
  },
  {
   "cell_type": "code",
   "execution_count": null,
   "id": "7067622a",
   "metadata": {},
   "outputs": [],
   "source": [
    "nltk.download(\"stopwords\", quiet=True)\n",
    "\n",
    "# Load Portuguese stopwords\n",
    "portuguese_stopwords = stopwords.words(\"portuguese\")\n",
    "additional_stopwords = [\n",
    "    \"pra\",\n",
    "    \"pro\",\n",
    "    \"tá\",\n",
    "    \"já\",\n",
    "    \"ter\",\n",
    "    \"vai\",\n",
    "    \"vou\",\n",
    "    \"então\",\n",
    "    \"assim\",\n",
    "    \"aí\",\n",
    "    \"sobre\"\n",
    "]\n",
    "portuguese_stopwords.extend(additional_stopwords)"
   ]
  },
  {
   "cell_type": "code",
   "execution_count": null,
   "id": "4c15c8a9",
   "metadata": {},
   "outputs": [],
   "source": [
    "def run_bertopic_model(df, texts, embeddings, min_cluster_size=5):\n",
    "    \n",
    "    prompt = \"\"\"\n",
    "    Eu tenho um tópico que contem o seguinte conjunto de documentos:\n",
    "    [DOCUMENTS]\n",
    "    O tópico é descrito pelas seguintes palavras-chave: [KEYWORDS]\n",
    "\n",
    "    Com base na informação acima, extrai um rótulo de tópico curto, mas altamente descritivo, de no máximo 5 palavras. Certifica-te de que está no seguinte formato:\n",
    "    tópico: <rótulo tópico>\n",
    "    \"\"\"\n",
    "        \n",
    "    # best practices for BERTopic\n",
    "    embedding_model = SentenceTransformer(\"PORTULAN/serafim-900m-portuguese-pt-sentence-encoder\")\n",
    "    umap_model = UMAP(n_neighbors=8, n_components=5, min_dist=0.0, metric='cosine', random_state=42) # try with pca as well\n",
    "    hdbscan_model = HDBSCAN(min_cluster_size=min_cluster_size, metric='euclidean', cluster_selection_method='eom', prediction_data=True) # try with kmeans as well\n",
    "    vectorizer_model = CountVectorizer(stop_words=portuguese_stopwords, min_df=2, ngram_range=(1, 2))\n",
    "    ctfidf_model = ClassTfidfTransformer(bm25_weighting=True)\n",
    "    \n",
    "    keybert_model = KeyBERTInspired()\n",
    "    pos_model = PartOfSpeech(\"pt_core_news_lg\")\n",
    "    mmr_model = MaximalMarginalRelevance(diversity=0.3)\n",
    "    client = openai.OpenAI(api_key=OPENAI_KEY)\n",
    "    openai_model = OpenAI(client, model=\"gpt-5\", exponential_backoff=True, prompt=prompt)\n",
    "\n",
    "    representation_model = {\n",
    "        \"KeyBERT\": keybert_model,\n",
    "        \"OpenAI\": openai_model,\n",
    "        \"MMR\": mmr_model,\n",
    "        \"POS\": pos_model,\n",
    "    }\n",
    "    \n",
    "    topic_model = BERTopic(\n",
    "        embedding_model=embedding_model,\n",
    "        umap_model=umap_model,\n",
    "        hdbscan_model=hdbscan_model,\n",
    "        vectorizer_model=vectorizer_model,\n",
    "        representation_model=representation_model,\n",
    "        language=\"multilingual\",\n",
    "        top_n_words=10,\n",
    "        verbose=True,\n",
    "        calculate_probabilities=True,\n",
    "        ctfidf_model=ctfidf_model,\n",
    "    )\n",
    "\n",
    "    topics, probs = topic_model.fit_transform(texts, embeddings)\n",
    "    df[\"topic\"] = topics\n",
    "    \n",
    "    chatgpt_topic_labels = {topic: \" | \".join(list(zip(*values))[0]) for topic, values in topic_model.topic_aspects_[\"OpenAI\"].items()}\n",
    "    chatgpt_topic_labels[-1] = \"Outlier Topic\"\n",
    "    topic_model.set_topic_labels(chatgpt_topic_labels)\n",
    "    \n",
    "    topic_model.save(\"../../data/adhd-beliefs-pt/bertopic_models/women_adhd_response/\", serialization=\"safetensors\", save_ctfidf=True, save_embedding_model=embedding_model)\n",
    "    return df, topic_model, topics, probs"
   ]
  },
  {
   "cell_type": "code",
   "execution_count": null,
   "id": "4ae19e04",
   "metadata": {},
   "outputs": [],
   "source": [
    "def get_topics(df, topic_model, column, output_file=None):\n",
    "    lines = []\n",
    "    # Loop through each topic (excluding outliers)\n",
    "    for topic in sorted(df[\"topic\"].unique()):\n",
    "        if topic == -1:\n",
    "            continue\n",
    "\n",
    "        topic_label = topic_model.get_topic_info().set_index(\"Topic\").loc[topic][\"Name\"]\n",
    "        texts_in_topic = df[df[\"topic\"] == topic][column]\n",
    "\n",
    "        lines.append(f\"\\n\\n🧠 Topic {topic}: {topic_label}\")\n",
    "        lines.append(f\"Total documents: {len(texts_in_topic)}\")\n",
    "        lines.append(\"-\" * 60)\n",
    "\n",
    "        for idx, text in enumerate(texts_in_topic, 1):\n",
    "            lines.append(f\"{idx}. {text}\\n\")\n",
    "\n",
    "    output = \"\\n\".join(lines)\n",
    "    if output_file:\n",
    "        logging.info(f\"Writing topics to {output_file}\")\n",
    "        with open(output_file, \"w\", encoding=\"utf-8\") as f:\n",
    "            f.write(output)\n",
    "    else:\n",
    "        logging.info(\"Output file not specified, printing topics to console.\")\n",
    "        logging.info(output)"
   ]
  },
  {
   "cell_type": "markdown",
   "id": "6f0786ba",
   "metadata": {},
   "source": [
    "## Women with ADHD"
   ]
  },
  {
   "cell_type": "code",
   "execution_count": null,
   "id": "648d1fd7",
   "metadata": {},
   "outputs": [],
   "source": [
    "df_women_adhd = topic_df[topic_df[\"group\"] == \"Female_ADHD\"]\n",
    "column = \"response\"\n",
    "texts = df_women_adhd[column].tolist()\n",
    "embeddings = np.vstack(df_women_adhd[f\"{column}_embedding\"])\n",
    "time = datetime.datetime.now().strftime(\"%Y%m%d_%H%M%S\")"
   ]
  },
  {
   "cell_type": "code",
   "execution_count": null,
   "id": "e6a2fdbe",
   "metadata": {},
   "outputs": [],
   "source": [
    "df_women_adhd, topic_model, topics, probs = run_bertopic_model(df_women_adhd, texts, embeddings, min_cluster_size=2)"
   ]
  },
  {
   "cell_type": "code",
   "execution_count": null,
   "id": "6b287091",
   "metadata": {},
   "outputs": [],
   "source": [
    "#get_topics(df_women_adhd, topic_model, column, f\"data/bertopic_results/{time}_bertopic_{column}_women_adhd.txt\")"
   ]
  },
  {
   "cell_type": "code",
   "execution_count": null,
   "id": "0bf71037",
   "metadata": {},
   "outputs": [],
   "source": [
    "topic_term_matrix = topic_model.c_tf_idf_\n",
    "words = topic_model.vectorizer_model.get_feature_names()"
   ]
  },
  {
   "cell_type": "code",
   "execution_count": null,
   "id": "544e13be",
   "metadata": {},
   "outputs": [],
   "source": [
    "valid_docs = df_women_adhd[df_women_adhd[\"topic\"] != -1]\n",
    "print(f\"Valid topic documents: {len(valid_docs)} of {len(df_women_adhd)}\")"
   ]
  },
  {
   "cell_type": "code",
   "execution_count": null,
   "id": "4f694432",
   "metadata": {},
   "outputs": [],
   "source": [
    "topic_model.get_topic_info()"
   ]
  },
  {
   "cell_type": "code",
   "execution_count": null,
   "id": "754f2632",
   "metadata": {},
   "outputs": [],
   "source": [
    "docs = df_women_adhd[column].tolist()\n",
    "topic_model.get_document_info(docs)"
   ]
  },
  {
   "cell_type": "code",
   "execution_count": null,
   "id": "75b09092",
   "metadata": {},
   "outputs": [],
   "source": [
    "topic_model.visualize_topics(custom_labels=True)"
   ]
  },
  {
   "cell_type": "code",
   "execution_count": null,
   "id": "2bcfb282",
   "metadata": {},
   "outputs": [],
   "source": [
    "topic_model.visualize_heatmap(custom_labels=True)"
   ]
  },
  {
   "cell_type": "code",
   "execution_count": null,
   "id": "55dfc337",
   "metadata": {},
   "outputs": [],
   "source": [
    "classes = df_women_adhd[\"question\"].tolist()\n",
    "topics_per_class = topic_model.topics_per_class(texts, classes=classes)\n",
    "topic_model.visualize_topics_per_class(topics_per_class)"
   ]
  },
  {
   "cell_type": "code",
   "execution_count": null,
   "id": "f1a46894",
   "metadata": {},
   "outputs": [],
   "source": [
    "reduced_embeddings = UMAP(n_neighbors=5, n_components=2, min_dist=0.0, metric='cosine').fit_transform(embeddings)\n",
    "# Visualize the documents in 2-dimensional space and show the titles on hover instead of the abstracts\n",
    "# NOTE: You can hide the hover with `hide_document_hover=True` which is especially helpful if you have a large dataset\n",
    "# NOTE: You can also hide the annotations with `hide_annotations=True` which is helpful to see the larger structure\n",
    "topic_model.visualize_documents(texts, reduced_embeddings=reduced_embeddings, custom_labels=True)"
   ]
  },
  {
   "cell_type": "code",
   "execution_count": null,
   "id": "92796a07",
   "metadata": {},
   "outputs": [],
   "source": [
    "topic_model.visualize_document_datamap(texts, reduced_embeddings=reduced_embeddings, custom_labels=True)"
   ]
  },
  {
   "cell_type": "code",
   "execution_count": null,
   "id": "f266a8bf",
   "metadata": {},
   "outputs": [],
   "source": [
    "fig = topic_model.visualize_document_datamap(texts, reduced_embeddings=reduced_embeddings, interactive=True, custom_labels=True)"
   ]
  },
  {
   "cell_type": "code",
   "execution_count": null,
   "id": "2ec304a7",
   "metadata": {},
   "outputs": [],
   "source": [
    "topic_model.visualize_distribution(probs[0], custom_labels=True) # topic_distr[0] if not HDBSCAN "
   ]
  },
  {
   "cell_type": "code",
   "execution_count": null,
   "id": "676bce9a",
   "metadata": {},
   "outputs": [],
   "source": [
    "topic_distr, topic_token_distr = topic_model.approximate_distribution(texts, calculate_tokens=True)\n",
    "df_topic_distr = topic_model.visualize_approximate_distribution(docs[1], topic_token_distr[1])\n",
    "df_topic_distr"
   ]
  },
  {
   "cell_type": "code",
   "execution_count": null,
   "id": "3b24b480",
   "metadata": {},
   "outputs": [],
   "source": [
    "topic_model.visualize_barchart(custom_labels=True)"
   ]
  },
  {
   "cell_type": "code",
   "execution_count": null,
   "id": "cff18127",
   "metadata": {},
   "outputs": [],
   "source": [
    "topic_model.visualize_term_rank(custom_labels=True)"
   ]
  },
  {
   "cell_type": "code",
   "execution_count": null,
   "id": "f2693352",
   "metadata": {},
   "outputs": [],
   "source": [
    "topic_model.visualize_term_rank(log_scale=True, custom_labels=True)"
   ]
  },
  {
   "cell_type": "code",
   "execution_count": null,
   "id": "b76cbe62",
   "metadata": {},
   "outputs": [],
   "source": [
    "topic_model.visualize_hierarchy(custom_labels=True)"
   ]
  },
  {
   "cell_type": "code",
   "execution_count": null,
   "id": "28fa6879",
   "metadata": {},
   "outputs": [],
   "source": [
    "hierarchical_topics = topic_model.hierarchical_topics(texts)\n",
    "topic_model.visualize_hierarchy(hierarchical_topics=hierarchical_topics, custom_labels=True)"
   ]
  },
  {
   "cell_type": "code",
   "execution_count": null,
   "id": "24d81838",
   "metadata": {},
   "outputs": [],
   "source": [
    "tree = topic_model.get_topic_tree(hierarchical_topics)\n",
    "print(tree)"
   ]
  },
  {
   "cell_type": "code",
   "execution_count": null,
   "id": "1b92ec03",
   "metadata": {},
   "outputs": [],
   "source": [
    "topic_model.visualize_hierarchical_documents(texts, hierarchical_topics, embeddings=embeddings, custom_labels=True)"
   ]
  },
  {
   "cell_type": "code",
   "execution_count": null,
   "id": "608e6c72",
   "metadata": {},
   "outputs": [],
   "source": [
    "topic_model.visualize_hierarchical_documents(texts, hierarchical_topics, reduced_embeddings=reduced_embeddings, custom_labels=True)"
   ]
  }
 ],
 "metadata": {
  "kernelspec": {
   "display_name": "adhd-linguistic-patterns-beliefs-portuguese-women",
   "language": "python",
   "name": "python3"
  },
  "language_info": {
   "codemirror_mode": {
    "name": "ipython",
    "version": 3
   },
   "file_extension": ".py",
   "mimetype": "text/x-python",
   "name": "python",
   "nbconvert_exporter": "python",
   "pygments_lexer": "ipython3",
   "version": "3.10.12"
  }
 },
 "nbformat": 4,
 "nbformat_minor": 5
}
