{
 "cells": [
  {
   "cell_type": "code",
   "execution_count": null,
   "id": "e909e249",
   "metadata": {},
   "outputs": [],
   "source": [
    "import numpy as np\n",
    "import pandas as pd"
   ]
  },
  {
   "cell_type": "code",
   "execution_count": null,
   "id": "20385159",
   "metadata": {},
   "outputs": [],
   "source": [
    "df = pd.read_pickle(\"../../data/adhd-beliefs-pt/adhd-beliefs-pt-embeddings-serafim.pkl\")\n",
    "df"
   ]
  },
  {
   "cell_type": "code",
   "execution_count": null,
   "id": "ced6a21a",
   "metadata": {},
   "outputs": [],
   "source": [
    "question_types = [\"special_interest\", \"diary_entry\", \"selfdefining_memory\", \"empty_sheet\"]\n",
    "topic_df = pd.concat([df.assign(question=q) for q in question_types], ignore_index=False)\n",
    "topic_df[\"response\"] = topic_df.apply(lambda row: row[row[\"question\"]], axis=1)\n",
    "topic_df[\"response_embedding\"] = topic_df.apply(lambda row: row[f\"{row['question']}_embedding\"], axis=1)\n",
    "topic_df = topic_df.drop(columns=[\"special_interest\", \"diary_entry\", \"selfdefining_memory\", \"empty_sheet\", \"merged_text\", \"special_interest_embedding\", \"diary_entry_embedding\", \"selfdefining_memory_embedding\", \"empty_sheet_embedding\", \"merged_text_embedding\"])\n",
    "topic_df = topic_df.dropna(subset=[\"response\"])\n",
    "topic_df"
   ]
  },
  {
   "cell_type": "code",
   "execution_count": null,
   "id": "a7535c97",
   "metadata": {},
   "outputs": [],
   "source": [
    "question_counts = topic_df[\"question\"].value_counts()\n",
    "question_counts"
   ]
  },
  {
   "cell_type": "code",
   "execution_count": null,
   "id": "8706c447",
   "metadata": {},
   "outputs": [],
   "source": [
    "topic_df['group'] = (\n",
    "    topic_df['sex'].map({'Feminino':'Female','Masculino':'Male'}).astype(str) + '_' +\n",
    "    np.where(topic_df['adhd_diagnosis']==\"Sim, diagnosticado\", 'ADHD', 'noADHD')\n",
    ")\n",
    "groups = topic_df['group'].unique().tolist()\n",
    "group_counts = topic_df['group'].value_counts()\n",
    "group_counts"
   ]
  },
  {
   "cell_type": "code",
   "execution_count": null,
   "id": "d7b6f587",
   "metadata": {},
   "outputs": [],
   "source": [
    "topic_df"
   ]
  },
  {
   "cell_type": "code",
   "execution_count": null,
   "id": "fc8a37a4",
   "metadata": {},
   "outputs": [],
   "source": [
    "file_path = \"../../data/adhd-beliefs-pt/adhd-beliefs-pt-embeddings-serafim-bertopic.pkl\"\n",
    "topic_df.to_pickle(file_path)"
   ]
  }
 ],
 "metadata": {
  "kernelspec": {
   "display_name": "adhd-linguistic-patterns-beliefs-portuguese-women",
   "language": "python",
   "name": "python3"
  },
  "language_info": {
   "codemirror_mode": {
    "name": "ipython",
    "version": 3
   },
   "file_extension": ".py",
   "mimetype": "text/x-python",
   "name": "python",
   "nbconvert_exporter": "python",
   "pygments_lexer": "ipython3",
   "version": "3.13.2"
  }
 },
 "nbformat": 4,
 "nbformat_minor": 5
}
