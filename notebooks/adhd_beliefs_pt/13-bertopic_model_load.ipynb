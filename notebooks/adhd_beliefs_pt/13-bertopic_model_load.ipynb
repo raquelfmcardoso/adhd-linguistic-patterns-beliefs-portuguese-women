{
 "cells": [
  {
   "cell_type": "code",
   "execution_count": 1,
   "id": "e909e249",
   "metadata": {},
   "outputs": [
    {
     "name": "stderr",
     "output_type": "stream",
     "text": [
      "/home/raquel/adhd-linguistic-patterns-beliefs-portuguese-women/.venv/lib/python3.10/site-packages/tqdm/auto.py:21: TqdmWarning: IProgress not found. Please update jupyter and ipywidgets. See https://ipywidgets.readthedocs.io/en/stable/user_install.html\n",
      "  from .autonotebook import tqdm as notebook_tqdm\n"
     ]
    }
   ],
   "source": [
    "from bertopic import BERTopic\n",
    "import numpy as np\n",
    "import pandas as pd\n",
    "from transformers import pipeline\n",
    "from bertopic.representation import TextGeneration\n",
    "from bertopic.vectorizers import ClassTfidfTransformer\n",
    "from sentence_transformers import SentenceTransformer\n",
    "import seaborn as sns\n",
    "import matplotlib.pyplot as plt\n",
    "import torch\n",
    "import datetime\n",
    "import nltk\n",
    "from nltk.corpus import stopwords\n",
    "import logging\n",
    "import os\n",
    "from dotenv import load_dotenv\n",
    "from umap import UMAP\n",
    "import hdbscan\n",
    "from sklearn.feature_extraction.text import CountVectorizer\n",
    "import openai\n",
    "import spacy\n",
    "from bertopic.representation import KeyBERTInspired, MaximalMarginalRelevance, OpenAI, PartOfSpeech\n",
    "from sklearn.metrics import silhouette_score\n",
    "\n",
    "load_dotenv()\n",
    "OPENAI_KEY = os.getenv(\"OPENAI_KEY\")"
   ]
  },
  {
   "cell_type": "code",
   "execution_count": 38,
   "id": "950d64cc",
   "metadata": {},
   "outputs": [
    {
     "name": "stdout",
     "output_type": "stream",
     "text": [
      "✅ Auto-save functions loaded!\n",
      "📋 Usage:\n",
      "   auto_save_figure(fig, 'description')  # Basic usage\n",
      "   save_bertopic_figure(fig, 'topics')   # For BERTopic visualizations\n",
      "   Default formats: PNG + HTML\n",
      "   Default location: ../../outputs/plots/\n",
      "------------------------------------------------------------\n"
     ]
    }
   ],
   "source": [
    "# Universal Figure Auto-Save Function\n",
    "import os\n",
    "from datetime import datetime\n",
    "import plotly.graph_objects as go\n",
    "\n",
    "def auto_save_figure(fig, figure_name, save_formats=['png', 'html'], \n",
    "                    width=1000, height=700, scale=2, output_dir=\"../../outputs/plots\"):\n",
    "    \"\"\"\n",
    "    Automatically save any Plotly figure to disk with multiple formats and timestamp\n",
    "    \n",
    "    Parameters:\n",
    "    -----------\n",
    "    fig : plotly.graph_objects.Figure\n",
    "        The Plotly figure to save\n",
    "    figure_name : str\n",
    "        Descriptive name for the figure (will be used in filename)\n",
    "    save_formats : list\n",
    "        List of formats to save ['png', 'html', 'pdf', 'svg', 'jpeg']\n",
    "    width : int\n",
    "        Width of the saved image\n",
    "    height : int\n",
    "        Height of the saved image\n",
    "    scale : int\n",
    "        Scale factor for image resolution (higher = better quality)\n",
    "    output_dir : str\n",
    "        Directory to save the figures\n",
    "    \n",
    "    Returns:\n",
    "    --------\n",
    "    dict : Dictionary with saved file paths\n",
    "    \"\"\"\n",
    "    if fig is None:\n",
    "        print(f\"❌ No figure provided for '{figure_name}'\")\n",
    "        return {}\n",
    "    \n",
    "    # Create output directory if it doesn't exist\n",
    "    os.makedirs(output_dir, exist_ok=True)\n",
    "    \n",
    "    # Generate timestamp for unique filenames\n",
    "    timestamp = datetime.now().strftime(\"%Y%m%d_%H%M%S\")\n",
    "    \n",
    "    saved_files = {}\n",
    "    \n",
    "    for format_type in save_formats:\n",
    "        # Clean figure name for filename (remove spaces, special chars)\n",
    "        clean_name = \"\".join(c for c in figure_name if c.isalnum() or c in (' ', '-', '_')).rstrip()\n",
    "        clean_name = clean_name.replace(' ', '_').lower()\n",
    "        \n",
    "        filename = f\"{timestamp}_{clean_name}.{format_type}\"\n",
    "        filepath = os.path.join(output_dir, filename)\n",
    "        \n",
    "        try:\n",
    "            if format_type == 'html':\n",
    "                # Save as interactive HTML\n",
    "                fig.write_html(filepath)\n",
    "                print(f\"📊 Saved {figure_name} as HTML: {filename}\")\n",
    "                \n",
    "            elif format_type in ['png', 'pdf', 'svg', 'jpeg']:\n",
    "                # Save as static image (requires kaleido)\n",
    "                fig.write_image(\n",
    "                    filepath,\n",
    "                    width=width,\n",
    "                    height=height,\n",
    "                    scale=scale,\n",
    "                    format=format_type\n",
    "                )\n",
    "                print(f\"🖼️  Saved {figure_name} as {format_type.upper()}: {filename}\")\n",
    "            \n",
    "            saved_files[format_type] = os.path.abspath(filepath)\n",
    "            \n",
    "        except Exception as e:\n",
    "            print(f\"❌ Error saving {figure_name} as {format_type}: {e}\")\n",
    "    \n",
    "    if saved_files:\n",
    "        print(f\"✅ Total saved: {len(saved_files)} file(s) for '{figure_name}'\")\n",
    "        print(f\"📁 Location: {os.path.abspath(output_dir)}\")\n",
    "        print(\"-\" * 60)\n",
    "    \n",
    "    return saved_files\n",
    "\n",
    "# Enhanced wrapper function for BERTopic visualizations\n",
    "def save_bertopic_figure(fig, viz_type, group_name=\"Female_ADHD\", **kwargs):\n",
    "    \"\"\"\n",
    "    Specialized function for saving BERTopic visualizations with consistent naming\n",
    "    \n",
    "    Parameters:\n",
    "    -----------\n",
    "    fig : plotly.graph_objects.Figure\n",
    "        The BERTopic figure to save\n",
    "    viz_type : str\n",
    "        Type of visualization ('topics', 'heatmap', 'hierarchy', 'barchart', 'document_map', etc.)\n",
    "    group_name : str\n",
    "        Name of the group being analyzed\n",
    "    **kwargs : additional arguments passed to auto_save_figure\n",
    "    \"\"\"\n",
    "    figure_name = f\"bertopic_{viz_type}_{group_name}\"\n",
    "    return auto_save_figure(fig, figure_name, **kwargs)\n",
    "\n",
    "print(\"✅ Auto-save functions loaded!\")\n",
    "print(\"📋 Usage:\")\n",
    "print(\"   auto_save_figure(fig, 'description')  # Basic usage\")\n",
    "print(\"   save_bertopic_figure(fig, 'topics')   # For BERTopic visualizations\")\n",
    "print(\"   Default formats: PNG + HTML\")\n",
    "print(\"   Default location: ../../outputs/plots/\")\n",
    "print(\"-\" * 60)"
   ]
  },
  {
   "cell_type": "code",
   "execution_count": 2,
   "id": "20385159",
   "metadata": {},
   "outputs": [
    {
     "data": {
      "text/html": [
       "<div>\n",
       "<style scoped>\n",
       "    .dataframe tbody tr th:only-of-type {\n",
       "        vertical-align: middle;\n",
       "    }\n",
       "\n",
       "    .dataframe tbody tr th {\n",
       "        vertical-align: top;\n",
       "    }\n",
       "\n",
       "    .dataframe thead th {\n",
       "        text-align: right;\n",
       "    }\n",
       "</style>\n",
       "<table border=\"1\" class=\"dataframe\">\n",
       "  <thead>\n",
       "    <tr style=\"text-align: right;\">\n",
       "      <th></th>\n",
       "      <th>datetime</th>\n",
       "      <th>sex</th>\n",
       "      <th>adhd_diagnosis</th>\n",
       "      <th>age</th>\n",
       "      <th>education</th>\n",
       "      <th>occupation</th>\n",
       "      <th>dialect</th>\n",
       "      <th>forgetting_objects</th>\n",
       "      <th>forgetting_responsabilities</th>\n",
       "      <th>emotion_management</th>\n",
       "      <th>...</th>\n",
       "      <th>need_fast_talk_interest</th>\n",
       "      <th>need_fast_talk_information</th>\n",
       "      <th>speaking_before_thinking</th>\n",
       "      <th>something_to_add</th>\n",
       "      <th>something_to_add_timid</th>\n",
       "      <th>something_to_add_impulsive</th>\n",
       "      <th>question</th>\n",
       "      <th>response</th>\n",
       "      <th>response_embedding</th>\n",
       "      <th>group</th>\n",
       "    </tr>\n",
       "  </thead>\n",
       "  <tbody>\n",
       "    <tr>\n",
       "      <th>1</th>\n",
       "      <td>2025-03-30T16:29:47+02:00</td>\n",
       "      <td>Feminino</td>\n",
       "      <td>Não tenho</td>\n",
       "      <td>22</td>\n",
       "      <td>Licenciatura</td>\n",
       "      <td>Estudante</td>\n",
       "      <td>Português de Portugal</td>\n",
       "      <td>3</td>\n",
       "      <td>3</td>\n",
       "      <td>4</td>\n",
       "      <td>...</td>\n",
       "      <td>1</td>\n",
       "      <td>1</td>\n",
       "      <td>3</td>\n",
       "      <td>4</td>\n",
       "      <td>4</td>\n",
       "      <td>2</td>\n",
       "      <td>special_interest</td>\n",
       "      <td>Adoro cozinhar, porque sinto que é a forma ide...</td>\n",
       "      <td>[-0.0066892994, -0.008711162, 0.020823173, -0....</td>\n",
       "      <td>Female_noADHD</td>\n",
       "    </tr>\n",
       "    <tr>\n",
       "      <th>3</th>\n",
       "      <td>2025-03-31T12:08:00+02:00</td>\n",
       "      <td>Feminino</td>\n",
       "      <td>Não tenho</td>\n",
       "      <td>23</td>\n",
       "      <td>Mestrado</td>\n",
       "      <td>Trabalhador-estudante</td>\n",
       "      <td>Português de Portugal</td>\n",
       "      <td>2</td>\n",
       "      <td>1</td>\n",
       "      <td>4</td>\n",
       "      <td>...</td>\n",
       "      <td>1</td>\n",
       "      <td>1</td>\n",
       "      <td>4</td>\n",
       "      <td>4</td>\n",
       "      <td>4</td>\n",
       "      <td>2</td>\n",
       "      <td>special_interest</td>\n",
       "      <td>Gosto de ver séries porque relatam relações sa...</td>\n",
       "      <td>[0.011201556, -0.016555935, 0.055444784, 0.028...</td>\n",
       "      <td>Female_noADHD</td>\n",
       "    </tr>\n",
       "    <tr>\n",
       "      <th>8</th>\n",
       "      <td>2025-03-31T12:55:43+02:00</td>\n",
       "      <td>Feminino</td>\n",
       "      <td>Não tenho</td>\n",
       "      <td>19</td>\n",
       "      <td>Licenciatura</td>\n",
       "      <td>Estudante</td>\n",
       "      <td>Português de Portugal</td>\n",
       "      <td>3</td>\n",
       "      <td>2</td>\n",
       "      <td>2</td>\n",
       "      <td>...</td>\n",
       "      <td>4</td>\n",
       "      <td>4</td>\n",
       "      <td>2</td>\n",
       "      <td>4</td>\n",
       "      <td>3</td>\n",
       "      <td>3</td>\n",
       "      <td>special_interest</td>\n",
       "      <td>Campos de ferias. Temos que criar o campo todo...</td>\n",
       "      <td>[-0.010825634, -0.02388897, -0.013832388, -0.0...</td>\n",
       "      <td>Female_noADHD</td>\n",
       "    </tr>\n",
       "    <tr>\n",
       "      <th>14</th>\n",
       "      <td>2025-03-31T13:54:40+02:00</td>\n",
       "      <td>Feminino</td>\n",
       "      <td>Não tenho</td>\n",
       "      <td>25</td>\n",
       "      <td>Mestrado</td>\n",
       "      <td>Trabalhador</td>\n",
       "      <td>Português de Portugal</td>\n",
       "      <td>4</td>\n",
       "      <td>3</td>\n",
       "      <td>4</td>\n",
       "      <td>...</td>\n",
       "      <td>2</td>\n",
       "      <td>3</td>\n",
       "      <td>3</td>\n",
       "      <td>5</td>\n",
       "      <td>4</td>\n",
       "      <td>4</td>\n",
       "      <td>special_interest</td>\n",
       "      <td>Taylor Swift, amo o seu liricismo e a maneira ...</td>\n",
       "      <td>[-0.029966783, -0.030345816, 0.014844258, 0.01...</td>\n",
       "      <td>Female_noADHD</td>\n",
       "    </tr>\n",
       "    <tr>\n",
       "      <th>15</th>\n",
       "      <td>2025-03-31T13:58:15+02:00</td>\n",
       "      <td>Feminino</td>\n",
       "      <td>Suspeito que tenho</td>\n",
       "      <td>25</td>\n",
       "      <td>Licenciatura</td>\n",
       "      <td>Trabalhador</td>\n",
       "      <td>Português de Portugal</td>\n",
       "      <td>4</td>\n",
       "      <td>2</td>\n",
       "      <td>5</td>\n",
       "      <td>...</td>\n",
       "      <td>2</td>\n",
       "      <td>2</td>\n",
       "      <td>3</td>\n",
       "      <td>5</td>\n",
       "      <td>5</td>\n",
       "      <td>3</td>\n",
       "      <td>special_interest</td>\n",
       "      <td>Historia da arte \\nÉ só tão interessante. Para...</td>\n",
       "      <td>[-0.026616445, -0.021927394, 0.014119625, 0.01...</td>\n",
       "      <td>Female_noADHD</td>\n",
       "    </tr>\n",
       "    <tr>\n",
       "      <th>...</th>\n",
       "      <td>...</td>\n",
       "      <td>...</td>\n",
       "      <td>...</td>\n",
       "      <td>...</td>\n",
       "      <td>...</td>\n",
       "      <td>...</td>\n",
       "      <td>...</td>\n",
       "      <td>...</td>\n",
       "      <td>...</td>\n",
       "      <td>...</td>\n",
       "      <td>...</td>\n",
       "      <td>...</td>\n",
       "      <td>...</td>\n",
       "      <td>...</td>\n",
       "      <td>...</td>\n",
       "      <td>...</td>\n",
       "      <td>...</td>\n",
       "      <td>...</td>\n",
       "      <td>...</td>\n",
       "      <td>...</td>\n",
       "      <td>...</td>\n",
       "    </tr>\n",
       "    <tr>\n",
       "      <th>293</th>\n",
       "      <td>2025-06-07T16:05:17+02:00</td>\n",
       "      <td>Feminino</td>\n",
       "      <td>Sim, diagnosticado</td>\n",
       "      <td>51</td>\n",
       "      <td>Mestrado</td>\n",
       "      <td>Trabalhador-estudante</td>\n",
       "      <td>Português de Portugal</td>\n",
       "      <td>4</td>\n",
       "      <td>2</td>\n",
       "      <td>5</td>\n",
       "      <td>...</td>\n",
       "      <td>3</td>\n",
       "      <td>2</td>\n",
       "      <td>4</td>\n",
       "      <td>4</td>\n",
       "      <td>5</td>\n",
       "      <td>5</td>\n",
       "      <td>empty_sheet</td>\n",
       "      <td>O ponto em que sociedade se está a tornar,: eg...</td>\n",
       "      <td>[-0.019272415, -0.014781286, 0.036758002, 0.00...</td>\n",
       "      <td>Female_ADHD</td>\n",
       "    </tr>\n",
       "    <tr>\n",
       "      <th>296</th>\n",
       "      <td>2025-06-07T17:23:10+02:00</td>\n",
       "      <td>Feminino</td>\n",
       "      <td>Sim, diagnosticado</td>\n",
       "      <td>36</td>\n",
       "      <td>Pós-Graduação</td>\n",
       "      <td>Estudante</td>\n",
       "      <td>Português de Portugal</td>\n",
       "      <td>5</td>\n",
       "      <td>3</td>\n",
       "      <td>3</td>\n",
       "      <td>...</td>\n",
       "      <td>2</td>\n",
       "      <td>3</td>\n",
       "      <td>3</td>\n",
       "      <td>4</td>\n",
       "      <td>3</td>\n",
       "      <td>3</td>\n",
       "      <td>empty_sheet</td>\n",
       "      <td>Gostava que não dissessem : toda a gente tem p...</td>\n",
       "      <td>[-0.05752369, 0.0008796515, -0.011525935, -0.0...</td>\n",
       "      <td>Female_ADHD</td>\n",
       "    </tr>\n",
       "    <tr>\n",
       "      <th>307</th>\n",
       "      <td>2025-06-10T16:58:08+02:00</td>\n",
       "      <td>Feminino</td>\n",
       "      <td>Sim, diagnosticado</td>\n",
       "      <td>19</td>\n",
       "      <td>Ensino secundário</td>\n",
       "      <td>Trabalhador-estudante</td>\n",
       "      <td>Português de Portugal</td>\n",
       "      <td>4</td>\n",
       "      <td>2</td>\n",
       "      <td>4</td>\n",
       "      <td>...</td>\n",
       "      <td>4</td>\n",
       "      <td>4</td>\n",
       "      <td>4</td>\n",
       "      <td>5</td>\n",
       "      <td>4</td>\n",
       "      <td>4</td>\n",
       "      <td>empty_sheet</td>\n",
       "      <td>Não sei explicar o que se anda a passar comigo...</td>\n",
       "      <td>[-0.02658491, -0.011627352, 0.029701555, -0.01...</td>\n",
       "      <td>Female_ADHD</td>\n",
       "    </tr>\n",
       "    <tr>\n",
       "      <th>308</th>\n",
       "      <td>2025-06-10T17:45:28+02:00</td>\n",
       "      <td>Masculino</td>\n",
       "      <td>Sim, diagnosticado</td>\n",
       "      <td>19</td>\n",
       "      <td>Ensino secundário</td>\n",
       "      <td>Estudante</td>\n",
       "      <td>Português de Portugal</td>\n",
       "      <td>2</td>\n",
       "      <td>3</td>\n",
       "      <td>4</td>\n",
       "      <td>...</td>\n",
       "      <td>1</td>\n",
       "      <td>1</td>\n",
       "      <td>3</td>\n",
       "      <td>4</td>\n",
       "      <td>2</td>\n",
       "      <td>2</td>\n",
       "      <td>empty_sheet</td>\n",
       "      <td>De momento, na minha cabeça, só rumino sobre o...</td>\n",
       "      <td>[-0.015350613, -0.020685123, 0.0079341745, -0....</td>\n",
       "      <td>Male_ADHD</td>\n",
       "    </tr>\n",
       "    <tr>\n",
       "      <th>312</th>\n",
       "      <td>2025-06-10T23:09:33+02:00</td>\n",
       "      <td>Feminino</td>\n",
       "      <td>Suspeito que tenho</td>\n",
       "      <td>20</td>\n",
       "      <td>Ensino secundário</td>\n",
       "      <td>Estudante</td>\n",
       "      <td>Português de Portugal</td>\n",
       "      <td>4</td>\n",
       "      <td>2</td>\n",
       "      <td>4</td>\n",
       "      <td>...</td>\n",
       "      <td>1</td>\n",
       "      <td>1</td>\n",
       "      <td>2</td>\n",
       "      <td>4</td>\n",
       "      <td>5</td>\n",
       "      <td>2</td>\n",
       "      <td>empty_sheet</td>\n",
       "      <td>Alguém me mande um milagre, I am going crazy, ...</td>\n",
       "      <td>[-0.0040407837, -0.02994426, -0.03315041, -0.0...</td>\n",
       "      <td>Female_noADHD</td>\n",
       "    </tr>\n",
       "  </tbody>\n",
       "</table>\n",
       "<p>447 rows × 61 columns</p>\n",
       "</div>"
      ],
      "text/plain": [
       "                      datetime        sex      adhd_diagnosis  age  \\\n",
       "1    2025-03-30T16:29:47+02:00   Feminino           Não tenho   22   \n",
       "3    2025-03-31T12:08:00+02:00   Feminino           Não tenho   23   \n",
       "8    2025-03-31T12:55:43+02:00   Feminino           Não tenho   19   \n",
       "14   2025-03-31T13:54:40+02:00   Feminino           Não tenho   25   \n",
       "15   2025-03-31T13:58:15+02:00   Feminino  Suspeito que tenho   25   \n",
       "..                         ...        ...                 ...  ...   \n",
       "293  2025-06-07T16:05:17+02:00   Feminino  Sim, diagnosticado   51   \n",
       "296  2025-06-07T17:23:10+02:00   Feminino  Sim, diagnosticado   36   \n",
       "307  2025-06-10T16:58:08+02:00   Feminino  Sim, diagnosticado   19   \n",
       "308  2025-06-10T17:45:28+02:00  Masculino  Sim, diagnosticado   19   \n",
       "312  2025-06-10T23:09:33+02:00   Feminino  Suspeito que tenho   20   \n",
       "\n",
       "             education             occupation                dialect  \\\n",
       "1         Licenciatura              Estudante  Português de Portugal   \n",
       "3             Mestrado  Trabalhador-estudante  Português de Portugal   \n",
       "8         Licenciatura              Estudante  Português de Portugal   \n",
       "14            Mestrado            Trabalhador  Português de Portugal   \n",
       "15        Licenciatura            Trabalhador  Português de Portugal   \n",
       "..                 ...                    ...                    ...   \n",
       "293           Mestrado  Trabalhador-estudante  Português de Portugal   \n",
       "296      Pós-Graduação              Estudante  Português de Portugal   \n",
       "307  Ensino secundário  Trabalhador-estudante  Português de Portugal   \n",
       "308  Ensino secundário              Estudante  Português de Portugal   \n",
       "312  Ensino secundário              Estudante  Português de Portugal   \n",
       "\n",
       "    forgetting_objects forgetting_responsabilities emotion_management  ...  \\\n",
       "1                    3                           3                  4  ...   \n",
       "3                    2                           1                  4  ...   \n",
       "8                    3                           2                  2  ...   \n",
       "14                   4                           3                  4  ...   \n",
       "15                   4                           2                  5  ...   \n",
       "..                 ...                         ...                ...  ...   \n",
       "293                  4                           2                  5  ...   \n",
       "296                  5                           3                  3  ...   \n",
       "307                  4                           2                  4  ...   \n",
       "308                  2                           3                  4  ...   \n",
       "312                  4                           2                  4  ...   \n",
       "\n",
       "    need_fast_talk_interest need_fast_talk_information  \\\n",
       "1                         1                          1   \n",
       "3                         1                          1   \n",
       "8                         4                          4   \n",
       "14                        2                          3   \n",
       "15                        2                          2   \n",
       "..                      ...                        ...   \n",
       "293                       3                          2   \n",
       "296                       2                          3   \n",
       "307                       4                          4   \n",
       "308                       1                          1   \n",
       "312                       1                          1   \n",
       "\n",
       "    speaking_before_thinking something_to_add something_to_add_timid  \\\n",
       "1                          3                4                      4   \n",
       "3                          4                4                      4   \n",
       "8                          2                4                      3   \n",
       "14                         3                5                      4   \n",
       "15                         3                5                      5   \n",
       "..                       ...              ...                    ...   \n",
       "293                        4                4                      5   \n",
       "296                        3                4                      3   \n",
       "307                        4                5                      4   \n",
       "308                        3                4                      2   \n",
       "312                        2                4                      5   \n",
       "\n",
       "    something_to_add_impulsive          question  \\\n",
       "1                            2  special_interest   \n",
       "3                            2  special_interest   \n",
       "8                            3  special_interest   \n",
       "14                           4  special_interest   \n",
       "15                           3  special_interest   \n",
       "..                         ...               ...   \n",
       "293                          5       empty_sheet   \n",
       "296                          3       empty_sheet   \n",
       "307                          4       empty_sheet   \n",
       "308                          2       empty_sheet   \n",
       "312                          2       empty_sheet   \n",
       "\n",
       "                                              response  \\\n",
       "1    Adoro cozinhar, porque sinto que é a forma ide...   \n",
       "3    Gosto de ver séries porque relatam relações sa...   \n",
       "8    Campos de ferias. Temos que criar o campo todo...   \n",
       "14   Taylor Swift, amo o seu liricismo e a maneira ...   \n",
       "15   Historia da arte \\nÉ só tão interessante. Para...   \n",
       "..                                                 ...   \n",
       "293  O ponto em que sociedade se está a tornar,: eg...   \n",
       "296  Gostava que não dissessem : toda a gente tem p...   \n",
       "307  Não sei explicar o que se anda a passar comigo...   \n",
       "308  De momento, na minha cabeça, só rumino sobre o...   \n",
       "312  Alguém me mande um milagre, I am going crazy, ...   \n",
       "\n",
       "                                    response_embedding          group  \n",
       "1    [-0.0066892994, -0.008711162, 0.020823173, -0....  Female_noADHD  \n",
       "3    [0.011201556, -0.016555935, 0.055444784, 0.028...  Female_noADHD  \n",
       "8    [-0.010825634, -0.02388897, -0.013832388, -0.0...  Female_noADHD  \n",
       "14   [-0.029966783, -0.030345816, 0.014844258, 0.01...  Female_noADHD  \n",
       "15   [-0.026616445, -0.021927394, 0.014119625, 0.01...  Female_noADHD  \n",
       "..                                                 ...            ...  \n",
       "293  [-0.019272415, -0.014781286, 0.036758002, 0.00...    Female_ADHD  \n",
       "296  [-0.05752369, 0.0008796515, -0.011525935, -0.0...    Female_ADHD  \n",
       "307  [-0.02658491, -0.011627352, 0.029701555, -0.01...    Female_ADHD  \n",
       "308  [-0.015350613, -0.020685123, 0.0079341745, -0....      Male_ADHD  \n",
       "312  [-0.0040407837, -0.02994426, -0.03315041, -0.0...  Female_noADHD  \n",
       "\n",
       "[447 rows x 61 columns]"
      ]
     },
     "execution_count": 2,
     "metadata": {},
     "output_type": "execute_result"
    }
   ],
   "source": [
    "topic_df = pd.read_pickle(\"../../data/adhd-beliefs-pt/adhd-beliefs-pt-embeddings-serafim-bertopic.pkl\")\n",
    "topic_df"
   ]
  },
  {
   "cell_type": "code",
   "execution_count": 3,
   "id": "6e5c37ea",
   "metadata": {},
   "outputs": [],
   "source": [
    "def load_bert_model(path):\n",
    "    return BERTopic.load(path, embedding_model=SentenceTransformer(\"PORTULAN/serafim-900m-portuguese-pt-sentence-encoder\"))"
   ]
  },
  {
   "cell_type": "code",
   "execution_count": 4,
   "id": "7f759513",
   "metadata": {},
   "outputs": [
    {
     "data": {
      "text/plain": [
       "['Others_20250814_014028',\n",
       " 'Male_ADHD_20250814_014705',\n",
       " 'Male_noADHD_20250814_014720',\n",
       " 'Female_noADHD_20250814_014609',\n",
       " 'Female_ADHD_20250814_013830']"
      ]
     },
     "execution_count": 4,
     "metadata": {},
     "output_type": "execute_result"
    }
   ],
   "source": [
    "folders = [name for name in os.listdir(\"../../data/adhd-beliefs-pt/bertopic_models/\") if os.path.isdir(os.path.join(\"../../data/adhd-beliefs-pt/bertopic_models/\", name))]\n",
    "folders"
   ]
  },
  {
   "cell_type": "markdown",
   "id": "bd90ad45",
   "metadata": {},
   "source": [
    "## Female ADHD"
   ]
  },
  {
   "cell_type": "code",
   "execution_count": 5,
   "id": "91376c6c",
   "metadata": {},
   "outputs": [],
   "source": [
    "topic_df = topic_df[topic_df[\"group\"] == \"Female_ADHD\"]"
   ]
  },
  {
   "cell_type": "code",
   "execution_count": 6,
   "id": "7b6e2970",
   "metadata": {},
   "outputs": [
    {
     "name": "stdout",
     "output_type": "stream",
     "text": [
      "Loading model for group: Female_ADHD_20250814_013830\n"
     ]
    }
   ],
   "source": [
    "folder = next(f for f in folders if f.startswith(\"Female_ADHD\"))\n",
    "print(f\"Loading model for group: {folder}\")\n",
    "path = f\"../../data/adhd-beliefs-pt/bertopic_models/{folder}/\"\n",
    "topic_model = load_bert_model(path)"
   ]
  },
  {
   "cell_type": "code",
   "execution_count": 7,
   "id": "8d86638e",
   "metadata": {},
   "outputs": [
    {
     "data": {
      "text/html": [
       "<div>\n",
       "<style scoped>\n",
       "    .dataframe tbody tr th:only-of-type {\n",
       "        vertical-align: middle;\n",
       "    }\n",
       "\n",
       "    .dataframe tbody tr th {\n",
       "        vertical-align: top;\n",
       "    }\n",
       "\n",
       "    .dataframe thead th {\n",
       "        text-align: right;\n",
       "    }\n",
       "</style>\n",
       "<table border=\"1\" class=\"dataframe\">\n",
       "  <thead>\n",
       "    <tr style=\"text-align: right;\">\n",
       "      <th></th>\n",
       "      <th>Topic</th>\n",
       "      <th>Count</th>\n",
       "      <th>Name</th>\n",
       "      <th>CustomName</th>\n",
       "      <th>Representation</th>\n",
       "      <th>KeyBERT</th>\n",
       "      <th>OpenAI</th>\n",
       "      <th>MMR</th>\n",
       "      <th>POS</th>\n",
       "      <th>Representative_Docs</th>\n",
       "    </tr>\n",
       "  </thead>\n",
       "  <tbody>\n",
       "    <tr>\n",
       "      <th>0</th>\n",
       "      <td>-1</td>\n",
       "      <td>10</td>\n",
       "      <td>-1_percebi_dia_comecei_cérebro</td>\n",
       "      <td>Outlier Topic</td>\n",
       "      <td>[percebi, dia, comecei, cérebro, hoje dia, faz...</td>\n",
       "      <td>[pânico, ansiedade, acordei, aborrecimento, do...</td>\n",
       "      <td>[tópico: Anos de luta e autodescoberta]</td>\n",
       "      <td>[comecei, cérebro, hoje dia, nunca, depressão,...</td>\n",
       "      <td>[dia, cérebro, interesse, resto, depressão, cr...</td>\n",
       "      <td>NaN</td>\n",
       "    </tr>\n",
       "    <tr>\n",
       "      <th>1</th>\n",
       "      <td>0</td>\n",
       "      <td>10</td>\n",
       "      <td>0_phda_pessoas_lá_vida</td>\n",
       "      <td>tópico: Desafios da Neurodiversidade e Saúde</td>\n",
       "      <td>[phda, pessoas, lá, vida, onde, continua, tão,...</td>\n",
       "      <td>[pânico, aborrecimento, diagnóstico, muitas ve...</td>\n",
       "      <td>[tópico: Desafios da Neurodiversidade e Saúde]</td>\n",
       "      <td>[phda, pessoas, viver, vezes, comer, pão, falt...</td>\n",
       "      <td>[phda, pessoas, vida, vezes, pão, diferente, f...</td>\n",
       "      <td>NaN</td>\n",
       "    </tr>\n",
       "    <tr>\n",
       "      <th>2</th>\n",
       "      <td>1</td>\n",
       "      <td>8</td>\n",
       "      <td>1_comigo_amigos_anos_nunca</td>\n",
       "      <td>tópico: Memórias de exclusão social</td>\n",
       "      <td>[comigo, amigos, anos, nunca, pessoas, mãe, ne...</td>\n",
       "      <td>[tornei, comigo própria, senti, mim, preocupad...</td>\n",
       "      <td>[tópico: Memórias de exclusão social]</td>\n",
       "      <td>[amigos, anos, nunca, mãe, falar, ninguém, mem...</td>\n",
       "      <td>[comigo, amigos, anos, pessoas, mãe, vida, pes...</td>\n",
       "      <td>NaN</td>\n",
       "    </tr>\n",
       "    <tr>\n",
       "      <th>3</th>\n",
       "      <td>2</td>\n",
       "      <td>7</td>\n",
       "      <td>2_tudo_tão_mundo_interesse especial</td>\n",
       "      <td>tópico: Interesses e Reflexões Pessoais</td>\n",
       "      <td>[tudo, tão, mundo, interesse especial, especia...</td>\n",
       "      <td>[especiais, interesse especial, interesses esp...</td>\n",
       "      <td>[tópico: Interesses e Reflexões Pessoais]</td>\n",
       "      <td>[nada, áreas, difícil porque, novas, pergunta ...</td>\n",
       "      <td>[mundo, especial, interesse, áreas, ideia, nov...</td>\n",
       "      <td>NaN</td>\n",
       "    </tr>\n",
       "    <tr>\n",
       "      <th>4</th>\n",
       "      <td>3</td>\n",
       "      <td>6</td>\n",
       "      <td>3_ainda_acordei_ir_gostava</td>\n",
       "      <td>tópico: Reflexões sobre o cotidiano</td>\n",
       "      <td>[ainda, acordei, ir, gostava, dia, hoje, casa,...</td>\n",
       "      <td>[hoje acordei, acordei, cansada, tornei, dormi...</td>\n",
       "      <td>[tópico: Reflexões sobre o cotidiano]</td>\n",
       "      <td>[acordei, gostava, tarde, almoço, cansada, nin...</td>\n",
       "      <td>[dia, casa, tarde, meio, almoço, semana, cansa...</td>\n",
       "      <td>NaN</td>\n",
       "    </tr>\n",
       "    <tr>\n",
       "      <th>5</th>\n",
       "      <td>4</td>\n",
       "      <td>5</td>\n",
       "      <td>4_mental_saúde_sempre_ajudar</td>\n",
       "      <td>tópico: Saúde Mental e Justiça Social</td>\n",
       "      <td>[mental, saúde, sempre, ajudar, psicologia, mo...</td>\n",
       "      <td>[psicologia, mental, sentimentos, pensamentos,...</td>\n",
       "      <td>[tópico: Saúde Mental e Justiça Social]</td>\n",
       "      <td>[mental, saúde, sempre, ajudar, psicologia, pe...</td>\n",
       "      <td>[mental, saúde, infantil, boa, sentimentos, pe...</td>\n",
       "      <td>NaN</td>\n",
       "    </tr>\n",
       "    <tr>\n",
       "      <th>6</th>\n",
       "      <td>5</td>\n",
       "      <td>4</td>\n",
       "      <td>5_consigo_diário_escrever_fazer</td>\n",
       "      <td>tópico: Dificuldades em escrever e correr</td>\n",
       "      <td>[consigo, diário, escrever, fazer, dar, correr...</td>\n",
       "      <td>[fazer, correr, escrever, consigo, gosto, , , ...</td>\n",
       "      <td>[tópico: Dificuldades em escrever e correr]</td>\n",
       "      <td>[consigo, diário, escrever, fazer, dar, correr...</td>\n",
       "      <td>[diário, , , , , , , , , ]</td>\n",
       "      <td>NaN</td>\n",
       "    </tr>\n",
       "    <tr>\n",
       "      <th>7</th>\n",
       "      <td>6</td>\n",
       "      <td>3</td>\n",
       "      <td>6_serem_motivos_verdadeiramente_tendência</td>\n",
       "      <td>tópico: Relação e tratamento de animais</td>\n",
       "      <td>[serem, motivos, verdadeiramente, tendência, c...</td>\n",
       "      <td>[terem, serem, adoro, coisas, têm, gato, filho...</td>\n",
       "      <td>[tópico: Relação e tratamento de animais]</td>\n",
       "      <td>[tendência, comportamento, sociedade, problema...</td>\n",
       "      <td>[tendência, motivos, sociedade, comportamento,...</td>\n",
       "      <td>NaN</td>\n",
       "    </tr>\n",
       "    <tr>\n",
       "      <th>8</th>\n",
       "      <td>7</td>\n",
       "      <td>3</td>\n",
       "      <td>7_base_pai_acordar_clara</td>\n",
       "      <td>tópico: Momentos de felicidade cotidiana</td>\n",
       "      <td>[base, pai, acordar, clara, faço, café, faz, d...</td>\n",
       "      <td>[fiz, acordei, faço, apeteceu, acabei, hoje ac...</td>\n",
       "      <td>[tópico: Momentos de felicidade cotidiana]</td>\n",
       "      <td>[acordar, café, horas, fazer, almoçar, apetece...</td>\n",
       "      <td>[pai, base, clara, café, horas, bebida, chamad...</td>\n",
       "      <td>NaN</td>\n",
       "    </tr>\n",
       "    <tr>\n",
       "      <th>9</th>\n",
       "      <td>8</td>\n",
       "      <td>3</td>\n",
       "      <td>8_tempo_trabalho_montes_fazer</td>\n",
       "      <td>tópico: Sobrecarga e Procrastinação Acadêmica</td>\n",
       "      <td>[tempo, trabalho, montes, fazer, cansada, casa...</td>\n",
       "      <td>[comigo própria, mim, trabalhar ainda, quero d...</td>\n",
       "      <td>[tópico: Sobrecarga e Procrastinação Acadêmica]</td>\n",
       "      <td>[fazer, coisas, constantemente, comigo própria...</td>\n",
       "      <td>[tempo, trabalho, montes, cansada, coisas, cas...</td>\n",
       "      <td>NaN</td>\n",
       "    </tr>\n",
       "    <tr>\n",
       "      <th>10</th>\n",
       "      <td>9</td>\n",
       "      <td>2</td>\n",
       "      <td>9_adoro_comigo mesma_disso_especiais</td>\n",
       "      <td>tópico: Interesses em saúde e skincare</td>\n",
       "      <td>[adoro, comigo mesma, disso, especiais, intere...</td>\n",
       "      <td>[interesses especiais, psicologia, mental, mim...</td>\n",
       "      <td>[tópico: Interesses em saúde e skincare]</td>\n",
       "      <td>[comigo mesma, interesses especiais, saber, in...</td>\n",
       "      <td>[especiais, tanto, causa, difícil, facto, saúd...</td>\n",
       "      <td>NaN</td>\n",
       "    </tr>\n",
       "    <tr>\n",
       "      <th>11</th>\n",
       "      <td>10</td>\n",
       "      <td>2</td>\n",
       "      <td>10_ler_quero dormir_ideias_novas</td>\n",
       "      <td>tópico: Leitura e sonhos criativos</td>\n",
       "      <td>[ler, quero dormir, ideias, novas, vontade, re...</td>\n",
       "      <td>[quero dormir, ler, vejo, vontade, dormir, que...</td>\n",
       "      <td>[tópico: Leitura e sonhos criativos]</td>\n",
       "      <td>[ler, quero dormir, ideias, vontade, vejo, que...</td>\n",
       "      <td>[vontade, novas, ideias, realidade, mundo, miú...</td>\n",
       "      <td>NaN</td>\n",
       "    </tr>\n",
       "    <tr>\n",
       "      <th>12</th>\n",
       "      <td>11</td>\n",
       "      <td>2</td>\n",
       "      <td>11_focada_normalmente_pensar_apenas</td>\n",
       "      <td>tópico: Atividades que promovem relaxamento</td>\n",
       "      <td>[focada, normalmente, pensar, apenas, momento,...</td>\n",
       "      <td>[focada, pensar, momento, consigo, apenas, nor...</td>\n",
       "      <td>[tópico: Atividades que promovem relaxamento]</td>\n",
       "      <td>[focada, normalmente, pensar, apenas, momento,...</td>\n",
       "      <td>[focada, momento, , , , , , , , ]</td>\n",
       "      <td>NaN</td>\n",
       "    </tr>\n",
       "  </tbody>\n",
       "</table>\n",
       "</div>"
      ],
      "text/plain": [
       "    Topic  Count                                       Name  \\\n",
       "0      -1     10             -1_percebi_dia_comecei_cérebro   \n",
       "1       0     10                     0_phda_pessoas_lá_vida   \n",
       "2       1      8                 1_comigo_amigos_anos_nunca   \n",
       "3       2      7        2_tudo_tão_mundo_interesse especial   \n",
       "4       3      6                 3_ainda_acordei_ir_gostava   \n",
       "5       4      5               4_mental_saúde_sempre_ajudar   \n",
       "6       5      4            5_consigo_diário_escrever_fazer   \n",
       "7       6      3  6_serem_motivos_verdadeiramente_tendência   \n",
       "8       7      3                   7_base_pai_acordar_clara   \n",
       "9       8      3              8_tempo_trabalho_montes_fazer   \n",
       "10      9      2       9_adoro_comigo mesma_disso_especiais   \n",
       "11     10      2           10_ler_quero dormir_ideias_novas   \n",
       "12     11      2        11_focada_normalmente_pensar_apenas   \n",
       "\n",
       "                                       CustomName  \\\n",
       "0                                   Outlier Topic   \n",
       "1    tópico: Desafios da Neurodiversidade e Saúde   \n",
       "2             tópico: Memórias de exclusão social   \n",
       "3         tópico: Interesses e Reflexões Pessoais   \n",
       "4             tópico: Reflexões sobre o cotidiano   \n",
       "5           tópico: Saúde Mental e Justiça Social   \n",
       "6       tópico: Dificuldades em escrever e correr   \n",
       "7         tópico: Relação e tratamento de animais   \n",
       "8        tópico: Momentos de felicidade cotidiana   \n",
       "9   tópico: Sobrecarga e Procrastinação Acadêmica   \n",
       "10         tópico: Interesses em saúde e skincare   \n",
       "11             tópico: Leitura e sonhos criativos   \n",
       "12    tópico: Atividades que promovem relaxamento   \n",
       "\n",
       "                                       Representation  \\\n",
       "0   [percebi, dia, comecei, cérebro, hoje dia, faz...   \n",
       "1   [phda, pessoas, lá, vida, onde, continua, tão,...   \n",
       "2   [comigo, amigos, anos, nunca, pessoas, mãe, ne...   \n",
       "3   [tudo, tão, mundo, interesse especial, especia...   \n",
       "4   [ainda, acordei, ir, gostava, dia, hoje, casa,...   \n",
       "5   [mental, saúde, sempre, ajudar, psicologia, mo...   \n",
       "6   [consigo, diário, escrever, fazer, dar, correr...   \n",
       "7   [serem, motivos, verdadeiramente, tendência, c...   \n",
       "8   [base, pai, acordar, clara, faço, café, faz, d...   \n",
       "9   [tempo, trabalho, montes, fazer, cansada, casa...   \n",
       "10  [adoro, comigo mesma, disso, especiais, intere...   \n",
       "11  [ler, quero dormir, ideias, novas, vontade, re...   \n",
       "12  [focada, normalmente, pensar, apenas, momento,...   \n",
       "\n",
       "                                              KeyBERT  \\\n",
       "0   [pânico, ansiedade, acordei, aborrecimento, do...   \n",
       "1   [pânico, aborrecimento, diagnóstico, muitas ve...   \n",
       "2   [tornei, comigo própria, senti, mim, preocupad...   \n",
       "3   [especiais, interesse especial, interesses esp...   \n",
       "4   [hoje acordei, acordei, cansada, tornei, dormi...   \n",
       "5   [psicologia, mental, sentimentos, pensamentos,...   \n",
       "6   [fazer, correr, escrever, consigo, gosto, , , ...   \n",
       "7   [terem, serem, adoro, coisas, têm, gato, filho...   \n",
       "8   [fiz, acordei, faço, apeteceu, acabei, hoje ac...   \n",
       "9   [comigo própria, mim, trabalhar ainda, quero d...   \n",
       "10  [interesses especiais, psicologia, mental, mim...   \n",
       "11  [quero dormir, ler, vejo, vontade, dormir, que...   \n",
       "12  [focada, pensar, momento, consigo, apenas, nor...   \n",
       "\n",
       "                                             OpenAI  \\\n",
       "0           [tópico: Anos de luta e autodescoberta]   \n",
       "1    [tópico: Desafios da Neurodiversidade e Saúde]   \n",
       "2             [tópico: Memórias de exclusão social]   \n",
       "3         [tópico: Interesses e Reflexões Pessoais]   \n",
       "4             [tópico: Reflexões sobre o cotidiano]   \n",
       "5           [tópico: Saúde Mental e Justiça Social]   \n",
       "6       [tópico: Dificuldades em escrever e correr]   \n",
       "7         [tópico: Relação e tratamento de animais]   \n",
       "8        [tópico: Momentos de felicidade cotidiana]   \n",
       "9   [tópico: Sobrecarga e Procrastinação Acadêmica]   \n",
       "10         [tópico: Interesses em saúde e skincare]   \n",
       "11             [tópico: Leitura e sonhos criativos]   \n",
       "12    [tópico: Atividades que promovem relaxamento]   \n",
       "\n",
       "                                                  MMR  \\\n",
       "0   [comecei, cérebro, hoje dia, nunca, depressão,...   \n",
       "1   [phda, pessoas, viver, vezes, comer, pão, falt...   \n",
       "2   [amigos, anos, nunca, mãe, falar, ninguém, mem...   \n",
       "3   [nada, áreas, difícil porque, novas, pergunta ...   \n",
       "4   [acordei, gostava, tarde, almoço, cansada, nin...   \n",
       "5   [mental, saúde, sempre, ajudar, psicologia, pe...   \n",
       "6   [consigo, diário, escrever, fazer, dar, correr...   \n",
       "7   [tendência, comportamento, sociedade, problema...   \n",
       "8   [acordar, café, horas, fazer, almoçar, apetece...   \n",
       "9   [fazer, coisas, constantemente, comigo própria...   \n",
       "10  [comigo mesma, interesses especiais, saber, in...   \n",
       "11  [ler, quero dormir, ideias, vontade, vejo, que...   \n",
       "12  [focada, normalmente, pensar, apenas, momento,...   \n",
       "\n",
       "                                                  POS  Representative_Docs  \n",
       "0   [dia, cérebro, interesse, resto, depressão, cr...                  NaN  \n",
       "1   [phda, pessoas, vida, vezes, pão, diferente, f...                  NaN  \n",
       "2   [comigo, amigos, anos, pessoas, mãe, vida, pes...                  NaN  \n",
       "3   [mundo, especial, interesse, áreas, ideia, nov...                  NaN  \n",
       "4   [dia, casa, tarde, meio, almoço, semana, cansa...                  NaN  \n",
       "5   [mental, saúde, infantil, boa, sentimentos, pe...                  NaN  \n",
       "6                          [diário, , , , , , , , , ]                  NaN  \n",
       "7   [tendência, motivos, sociedade, comportamento,...                  NaN  \n",
       "8   [pai, base, clara, café, horas, bebida, chamad...                  NaN  \n",
       "9   [tempo, trabalho, montes, cansada, coisas, cas...                  NaN  \n",
       "10  [especiais, tanto, causa, difícil, facto, saúd...                  NaN  \n",
       "11  [vontade, novas, ideias, realidade, mundo, miú...                  NaN  \n",
       "12                  [focada, momento, , , , , , , , ]                  NaN  "
      ]
     },
     "execution_count": 7,
     "metadata": {},
     "output_type": "execute_result"
    }
   ],
   "source": [
    "topic_model.get_topic_info()"
   ]
  },
  {
   "cell_type": "code",
   "execution_count": 8,
   "id": "f2116c7a",
   "metadata": {},
   "outputs": [
    {
     "name": "stdout",
     "output_type": "stream",
     "text": [
      "Number of texts: 65\n",
      "Number of topics: 65\n"
     ]
    },
    {
     "data": {
      "text/html": [
       "<div>\n",
       "<style scoped>\n",
       "    .dataframe tbody tr th:only-of-type {\n",
       "        vertical-align: middle;\n",
       "    }\n",
       "\n",
       "    .dataframe tbody tr th {\n",
       "        vertical-align: top;\n",
       "    }\n",
       "\n",
       "    .dataframe thead th {\n",
       "        text-align: right;\n",
       "    }\n",
       "</style>\n",
       "<table border=\"1\" class=\"dataframe\">\n",
       "  <thead>\n",
       "    <tr style=\"text-align: right;\">\n",
       "      <th></th>\n",
       "      <th>Document</th>\n",
       "      <th>Topic</th>\n",
       "      <th>Name</th>\n",
       "      <th>CustomName</th>\n",
       "      <th>Representation</th>\n",
       "      <th>KeyBERT</th>\n",
       "      <th>OpenAI</th>\n",
       "      <th>MMR</th>\n",
       "      <th>POS</th>\n",
       "      <th>Representative_Docs</th>\n",
       "      <th>Top_n_words</th>\n",
       "      <th>Representative_document</th>\n",
       "    </tr>\n",
       "  </thead>\n",
       "  <tbody>\n",
       "    <tr>\n",
       "      <th>0</th>\n",
       "      <td>Pedras, necrópoles, minerais, música, cinema, ...</td>\n",
       "      <td>2</td>\n",
       "      <td>2_tudo_tão_mundo_interesse especial</td>\n",
       "      <td>tópico: Interesses e Reflexões Pessoais</td>\n",
       "      <td>[tudo, tão, mundo, interesse especial, especia...</td>\n",
       "      <td>[especiais, interesse especial, interesses esp...</td>\n",
       "      <td>[tópico: Interesses e Reflexões Pessoais]</td>\n",
       "      <td>[nada, áreas, difícil porque, novas, pergunta ...</td>\n",
       "      <td>[mundo, especial, interesse, áreas, ideia, nov...</td>\n",
       "      <td>NaN</td>\n",
       "      <td>tudo - tão - mundo - interesse especial - espe...</td>\n",
       "      <td>False</td>\n",
       "    </tr>\n",
       "    <tr>\n",
       "      <th>1</th>\n",
       "      <td>Um dos meus interesses especiais é skincare co...</td>\n",
       "      <td>9</td>\n",
       "      <td>9_adoro_comigo mesma_disso_especiais</td>\n",
       "      <td>tópico: Interesses em saúde e skincare</td>\n",
       "      <td>[adoro, comigo mesma, disso, especiais, intere...</td>\n",
       "      <td>[interesses especiais, psicologia, mental, mim...</td>\n",
       "      <td>[tópico: Interesses em saúde e skincare]</td>\n",
       "      <td>[comigo mesma, interesses especiais, saber, in...</td>\n",
       "      <td>[especiais, tanto, causa, difícil, facto, saúd...</td>\n",
       "      <td>NaN</td>\n",
       "      <td>adoro - comigo mesma - disso - especiais - int...</td>\n",
       "      <td>False</td>\n",
       "    </tr>\n",
       "    <tr>\n",
       "      <th>2</th>\n",
       "      <td>Pergunta difícil porque tenho vários e eles vã...</td>\n",
       "      <td>2</td>\n",
       "      <td>2_tudo_tão_mundo_interesse especial</td>\n",
       "      <td>tópico: Interesses e Reflexões Pessoais</td>\n",
       "      <td>[tudo, tão, mundo, interesse especial, especia...</td>\n",
       "      <td>[especiais, interesse especial, interesses esp...</td>\n",
       "      <td>[tópico: Interesses e Reflexões Pessoais]</td>\n",
       "      <td>[nada, áreas, difícil porque, novas, pergunta ...</td>\n",
       "      <td>[mundo, especial, interesse, áreas, ideia, nov...</td>\n",
       "      <td>NaN</td>\n",
       "      <td>tudo - tão - mundo - interesse especial - espe...</td>\n",
       "      <td>False</td>\n",
       "    </tr>\n",
       "    <tr>\n",
       "      <th>3</th>\n",
       "      <td>Animais, sempre amei animais e é a minha maior...</td>\n",
       "      <td>6</td>\n",
       "      <td>6_serem_motivos_verdadeiramente_tendência</td>\n",
       "      <td>tópico: Relação e tratamento de animais</td>\n",
       "      <td>[serem, motivos, verdadeiramente, tendência, c...</td>\n",
       "      <td>[terem, serem, adoro, coisas, têm, gato, filho...</td>\n",
       "      <td>[tópico: Relação e tratamento de animais]</td>\n",
       "      <td>[tendência, comportamento, sociedade, problema...</td>\n",
       "      <td>[tendência, motivos, sociedade, comportamento,...</td>\n",
       "      <td>NaN</td>\n",
       "      <td>serem - motivos - verdadeiramente - tendência ...</td>\n",
       "      <td>False</td>\n",
       "    </tr>\n",
       "    <tr>\n",
       "      <th>4</th>\n",
       "      <td>Adoro ler, embora agora esteja sem muita vonta...</td>\n",
       "      <td>10</td>\n",
       "      <td>10_ler_quero dormir_ideias_novas</td>\n",
       "      <td>tópico: Leitura e sonhos criativos</td>\n",
       "      <td>[ler, quero dormir, ideias, novas, vontade, re...</td>\n",
       "      <td>[quero dormir, ler, vejo, vontade, dormir, que...</td>\n",
       "      <td>[tópico: Leitura e sonhos criativos]</td>\n",
       "      <td>[ler, quero dormir, ideias, vontade, vejo, que...</td>\n",
       "      <td>[vontade, novas, ideias, realidade, mundo, miú...</td>\n",
       "      <td>NaN</td>\n",
       "      <td>ler - quero dormir - ideias - novas - vontade ...</td>\n",
       "      <td>False</td>\n",
       "    </tr>\n",
       "    <tr>\n",
       "      <th>...</th>\n",
       "      <td>...</td>\n",
       "      <td>...</td>\n",
       "      <td>...</td>\n",
       "      <td>...</td>\n",
       "      <td>...</td>\n",
       "      <td>...</td>\n",
       "      <td>...</td>\n",
       "      <td>...</td>\n",
       "      <td>...</td>\n",
       "      <td>...</td>\n",
       "      <td>...</td>\n",
       "      <td>...</td>\n",
       "    </tr>\n",
       "    <tr>\n",
       "      <th>60</th>\n",
       "      <td>A PHDA influencia tudo na minha vida. Mas prin...</td>\n",
       "      <td>0</td>\n",
       "      <td>0_phda_pessoas_lá_vida</td>\n",
       "      <td>tópico: Desafios da Neurodiversidade e Saúde</td>\n",
       "      <td>[phda, pessoas, lá, vida, onde, continua, tão,...</td>\n",
       "      <td>[pânico, aborrecimento, diagnóstico, muitas ve...</td>\n",
       "      <td>[tópico: Desafios da Neurodiversidade e Saúde]</td>\n",
       "      <td>[phda, pessoas, viver, vezes, comer, pão, falt...</td>\n",
       "      <td>[phda, pessoas, vida, vezes, pão, diferente, f...</td>\n",
       "      <td>NaN</td>\n",
       "      <td>phda - pessoas - lá - vida - onde - continua -...</td>\n",
       "      <td>False</td>\n",
       "    </tr>\n",
       "    <tr>\n",
       "      <th>61</th>\n",
       "      <td>\"O serial killer e o bode espiatorio\". O pânic...</td>\n",
       "      <td>0</td>\n",
       "      <td>0_phda_pessoas_lá_vida</td>\n",
       "      <td>tópico: Desafios da Neurodiversidade e Saúde</td>\n",
       "      <td>[phda, pessoas, lá, vida, onde, continua, tão,...</td>\n",
       "      <td>[pânico, aborrecimento, diagnóstico, muitas ve...</td>\n",
       "      <td>[tópico: Desafios da Neurodiversidade e Saúde]</td>\n",
       "      <td>[phda, pessoas, viver, vezes, comer, pão, falt...</td>\n",
       "      <td>[phda, pessoas, vida, vezes, pão, diferente, f...</td>\n",
       "      <td>NaN</td>\n",
       "      <td>phda - pessoas - lá - vida - onde - continua -...</td>\n",
       "      <td>False</td>\n",
       "    </tr>\n",
       "    <tr>\n",
       "      <th>62</th>\n",
       "      <td>O ponto em que sociedade se está a tornar,: eg...</td>\n",
       "      <td>0</td>\n",
       "      <td>0_phda_pessoas_lá_vida</td>\n",
       "      <td>tópico: Desafios da Neurodiversidade e Saúde</td>\n",
       "      <td>[phda, pessoas, lá, vida, onde, continua, tão,...</td>\n",
       "      <td>[pânico, aborrecimento, diagnóstico, muitas ve...</td>\n",
       "      <td>[tópico: Desafios da Neurodiversidade e Saúde]</td>\n",
       "      <td>[phda, pessoas, viver, vezes, comer, pão, falt...</td>\n",
       "      <td>[phda, pessoas, vida, vezes, pão, diferente, f...</td>\n",
       "      <td>NaN</td>\n",
       "      <td>phda - pessoas - lá - vida - onde - continua -...</td>\n",
       "      <td>False</td>\n",
       "    </tr>\n",
       "    <tr>\n",
       "      <th>63</th>\n",
       "      <td>Gostava que não dissessem : toda a gente tem p...</td>\n",
       "      <td>0</td>\n",
       "      <td>0_phda_pessoas_lá_vida</td>\n",
       "      <td>tópico: Desafios da Neurodiversidade e Saúde</td>\n",
       "      <td>[phda, pessoas, lá, vida, onde, continua, tão,...</td>\n",
       "      <td>[pânico, aborrecimento, diagnóstico, muitas ve...</td>\n",
       "      <td>[tópico: Desafios da Neurodiversidade e Saúde]</td>\n",
       "      <td>[phda, pessoas, viver, vezes, comer, pão, falt...</td>\n",
       "      <td>[phda, pessoas, vida, vezes, pão, diferente, f...</td>\n",
       "      <td>NaN</td>\n",
       "      <td>phda - pessoas - lá - vida - onde - continua -...</td>\n",
       "      <td>False</td>\n",
       "    </tr>\n",
       "    <tr>\n",
       "      <th>64</th>\n",
       "      <td>Não sei explicar o que se anda a passar comigo...</td>\n",
       "      <td>1</td>\n",
       "      <td>1_comigo_amigos_anos_nunca</td>\n",
       "      <td>tópico: Memórias de exclusão social</td>\n",
       "      <td>[comigo, amigos, anos, nunca, pessoas, mãe, ne...</td>\n",
       "      <td>[tornei, comigo própria, senti, mim, preocupad...</td>\n",
       "      <td>[tópico: Memórias de exclusão social]</td>\n",
       "      <td>[amigos, anos, nunca, mãe, falar, ninguém, mem...</td>\n",
       "      <td>[comigo, amigos, anos, pessoas, mãe, vida, pes...</td>\n",
       "      <td>NaN</td>\n",
       "      <td>comigo - amigos - anos - nunca - pessoas - mãe...</td>\n",
       "      <td>False</td>\n",
       "    </tr>\n",
       "  </tbody>\n",
       "</table>\n",
       "<p>65 rows × 12 columns</p>\n",
       "</div>"
      ],
      "text/plain": [
       "                                             Document  Topic  \\\n",
       "0   Pedras, necrópoles, minerais, música, cinema, ...      2   \n",
       "1   Um dos meus interesses especiais é skincare co...      9   \n",
       "2   Pergunta difícil porque tenho vários e eles vã...      2   \n",
       "3   Animais, sempre amei animais e é a minha maior...      6   \n",
       "4   Adoro ler, embora agora esteja sem muita vonta...     10   \n",
       "..                                                ...    ...   \n",
       "60  A PHDA influencia tudo na minha vida. Mas prin...      0   \n",
       "61  \"O serial killer e o bode espiatorio\". O pânic...      0   \n",
       "62  O ponto em que sociedade se está a tornar,: eg...      0   \n",
       "63  Gostava que não dissessem : toda a gente tem p...      0   \n",
       "64  Não sei explicar o que se anda a passar comigo...      1   \n",
       "\n",
       "                                         Name  \\\n",
       "0         2_tudo_tão_mundo_interesse especial   \n",
       "1        9_adoro_comigo mesma_disso_especiais   \n",
       "2         2_tudo_tão_mundo_interesse especial   \n",
       "3   6_serem_motivos_verdadeiramente_tendência   \n",
       "4            10_ler_quero dormir_ideias_novas   \n",
       "..                                        ...   \n",
       "60                     0_phda_pessoas_lá_vida   \n",
       "61                     0_phda_pessoas_lá_vida   \n",
       "62                     0_phda_pessoas_lá_vida   \n",
       "63                     0_phda_pessoas_lá_vida   \n",
       "64                 1_comigo_amigos_anos_nunca   \n",
       "\n",
       "                                      CustomName  \\\n",
       "0        tópico: Interesses e Reflexões Pessoais   \n",
       "1         tópico: Interesses em saúde e skincare   \n",
       "2        tópico: Interesses e Reflexões Pessoais   \n",
       "3        tópico: Relação e tratamento de animais   \n",
       "4             tópico: Leitura e sonhos criativos   \n",
       "..                                           ...   \n",
       "60  tópico: Desafios da Neurodiversidade e Saúde   \n",
       "61  tópico: Desafios da Neurodiversidade e Saúde   \n",
       "62  tópico: Desafios da Neurodiversidade e Saúde   \n",
       "63  tópico: Desafios da Neurodiversidade e Saúde   \n",
       "64           tópico: Memórias de exclusão social   \n",
       "\n",
       "                                       Representation  \\\n",
       "0   [tudo, tão, mundo, interesse especial, especia...   \n",
       "1   [adoro, comigo mesma, disso, especiais, intere...   \n",
       "2   [tudo, tão, mundo, interesse especial, especia...   \n",
       "3   [serem, motivos, verdadeiramente, tendência, c...   \n",
       "4   [ler, quero dormir, ideias, novas, vontade, re...   \n",
       "..                                                ...   \n",
       "60  [phda, pessoas, lá, vida, onde, continua, tão,...   \n",
       "61  [phda, pessoas, lá, vida, onde, continua, tão,...   \n",
       "62  [phda, pessoas, lá, vida, onde, continua, tão,...   \n",
       "63  [phda, pessoas, lá, vida, onde, continua, tão,...   \n",
       "64  [comigo, amigos, anos, nunca, pessoas, mãe, ne...   \n",
       "\n",
       "                                              KeyBERT  \\\n",
       "0   [especiais, interesse especial, interesses esp...   \n",
       "1   [interesses especiais, psicologia, mental, mim...   \n",
       "2   [especiais, interesse especial, interesses esp...   \n",
       "3   [terem, serem, adoro, coisas, têm, gato, filho...   \n",
       "4   [quero dormir, ler, vejo, vontade, dormir, que...   \n",
       "..                                                ...   \n",
       "60  [pânico, aborrecimento, diagnóstico, muitas ve...   \n",
       "61  [pânico, aborrecimento, diagnóstico, muitas ve...   \n",
       "62  [pânico, aborrecimento, diagnóstico, muitas ve...   \n",
       "63  [pânico, aborrecimento, diagnóstico, muitas ve...   \n",
       "64  [tornei, comigo própria, senti, mim, preocupad...   \n",
       "\n",
       "                                            OpenAI  \\\n",
       "0        [tópico: Interesses e Reflexões Pessoais]   \n",
       "1         [tópico: Interesses em saúde e skincare]   \n",
       "2        [tópico: Interesses e Reflexões Pessoais]   \n",
       "3        [tópico: Relação e tratamento de animais]   \n",
       "4             [tópico: Leitura e sonhos criativos]   \n",
       "..                                             ...   \n",
       "60  [tópico: Desafios da Neurodiversidade e Saúde]   \n",
       "61  [tópico: Desafios da Neurodiversidade e Saúde]   \n",
       "62  [tópico: Desafios da Neurodiversidade e Saúde]   \n",
       "63  [tópico: Desafios da Neurodiversidade e Saúde]   \n",
       "64           [tópico: Memórias de exclusão social]   \n",
       "\n",
       "                                                  MMR  \\\n",
       "0   [nada, áreas, difícil porque, novas, pergunta ...   \n",
       "1   [comigo mesma, interesses especiais, saber, in...   \n",
       "2   [nada, áreas, difícil porque, novas, pergunta ...   \n",
       "3   [tendência, comportamento, sociedade, problema...   \n",
       "4   [ler, quero dormir, ideias, vontade, vejo, que...   \n",
       "..                                                ...   \n",
       "60  [phda, pessoas, viver, vezes, comer, pão, falt...   \n",
       "61  [phda, pessoas, viver, vezes, comer, pão, falt...   \n",
       "62  [phda, pessoas, viver, vezes, comer, pão, falt...   \n",
       "63  [phda, pessoas, viver, vezes, comer, pão, falt...   \n",
       "64  [amigos, anos, nunca, mãe, falar, ninguém, mem...   \n",
       "\n",
       "                                                  POS  Representative_Docs  \\\n",
       "0   [mundo, especial, interesse, áreas, ideia, nov...                  NaN   \n",
       "1   [especiais, tanto, causa, difícil, facto, saúd...                  NaN   \n",
       "2   [mundo, especial, interesse, áreas, ideia, nov...                  NaN   \n",
       "3   [tendência, motivos, sociedade, comportamento,...                  NaN   \n",
       "4   [vontade, novas, ideias, realidade, mundo, miú...                  NaN   \n",
       "..                                                ...                  ...   \n",
       "60  [phda, pessoas, vida, vezes, pão, diferente, f...                  NaN   \n",
       "61  [phda, pessoas, vida, vezes, pão, diferente, f...                  NaN   \n",
       "62  [phda, pessoas, vida, vezes, pão, diferente, f...                  NaN   \n",
       "63  [phda, pessoas, vida, vezes, pão, diferente, f...                  NaN   \n",
       "64  [comigo, amigos, anos, pessoas, mãe, vida, pes...                  NaN   \n",
       "\n",
       "                                          Top_n_words  Representative_document  \n",
       "0   tudo - tão - mundo - interesse especial - espe...                    False  \n",
       "1   adoro - comigo mesma - disso - especiais - int...                    False  \n",
       "2   tudo - tão - mundo - interesse especial - espe...                    False  \n",
       "3   serem - motivos - verdadeiramente - tendência ...                    False  \n",
       "4   ler - quero dormir - ideias - novas - vontade ...                    False  \n",
       "..                                                ...                      ...  \n",
       "60  phda - pessoas - lá - vida - onde - continua -...                    False  \n",
       "61  phda - pessoas - lá - vida - onde - continua -...                    False  \n",
       "62  phda - pessoas - lá - vida - onde - continua -...                    False  \n",
       "63  phda - pessoas - lá - vida - onde - continua -...                    False  \n",
       "64  comigo - amigos - anos - nunca - pessoas - mãe...                    False  \n",
       "\n",
       "[65 rows x 12 columns]"
      ]
     },
     "metadata": {},
     "output_type": "display_data"
    }
   ],
   "source": [
    "texts = topic_df[\"response\"].tolist()\n",
    "print(f\"Number of texts: {len(texts)}\")\n",
    "print(f\"Number of topics: {len(topic_model.topics_)}\")\n",
    "\n",
    "\n",
    "# The model might have been trained on different data\n",
    "# Let's check if we need to use the original training data\n",
    "# or if we need to fit_transform the current texts\n",
    "if len(texts) != len(topic_model.topics_):\n",
    "    print(\"Length mismatch detected. The model topics were from different training data.\")\n",
    "    print(\"Using topic info instead of document info.\")\n",
    "    # We can still use get_topic_info() which works fine\n",
    "    display(topic_model.get_topic_info())\n",
    "else:\n",
    "    display(topic_model.get_document_info(texts))"
   ]
  },
  {
   "cell_type": "code",
   "execution_count": null,
   "id": "75b09092",
   "metadata": {},
   "outputs": [
    {
     "name": "stdout",
     "output_type": "stream",
     "text": [
      "🖼️  Saved bertopic_topics_Female_ADHD as PNG: 20250814_033341_bertopic_topics_female_adhd.png\n",
      "📊 Saved bertopic_topics_Female_ADHD as HTML: 20250814_033341_bertopic_topics_female_adhd.html\n",
      "✅ Total saved: 2 file(s) for 'bertopic_topics_Female_ADHD'\n",
      "📁 Location: /home/raquel/adhd-linguistic-patterns-beliefs-portuguese-women/outputs/plots\n",
      "------------------------------------------------------------\n"
     ]
    },
    {
     "data": {
      "application/vnd.plotly.v1+json": {
       "config": {
        "plotlyServerURL": "https://plot.ly"
       },
       "data": [
        {
         "customdata": [
          [
           0,
           "tópico: Desafios da Neurodiversidade e Saúde",
           10
          ],
          [
           1,
           "tópico: Memórias de exclusão social",
           8
          ],
          [
           2,
           "tópico: Interesses e Reflexões Pessoais",
           7
          ],
          [
           3,
           "tópico: Reflexões sobre o cotidiano",
           6
          ],
          [
           4,
           "tópico: Saúde Mental e Justiça Social",
           5
          ],
          [
           5,
           "tópico: Dificuldades em escrever e correr",
           4
          ],
          [
           6,
           "tópico: Relação e tratamento de animais",
           3
          ],
          [
           7,
           "tópico: Momentos de felicidade cotidiana",
           3
          ],
          [
           8,
           "tópico: Sobrecarga e Procrastinação Acadêmica",
           3
          ],
          [
           9,
           "tópico: Interesses em saúde e skincare",
           2
          ],
          [
           10,
           "tópico: Leitura e sonhos criativos",
           2
          ],
          [
           11,
           "tópico: Atividades que promovem relaxamento",
           2
          ]
         ],
         "hovertemplate": "<b>Topic %{customdata[0]}</b><br>%{customdata[1]}<br>Size: %{customdata[2]}",
         "legendgroup": "",
         "marker": {
          "color": "#B0BEC5",
          "line": {
           "color": "DarkSlateGrey",
           "width": 2
          },
          "size": {
           "bdata": "CggHBgUEAwMDAgIC",
           "dtype": "i1"
          },
          "sizemode": "area",
          "sizeref": 0.00625,
          "symbol": "circle"
         },
         "mode": "markers",
         "name": "",
         "orientation": "v",
         "showlegend": false,
         "type": "scatter",
         "x": {
          "bdata": "7XRJQeZhQ0HByL4/PhJDQf/5UEGFWxBAoLCRP4tvRkEMXDtBMndOQWag7D8J6CJA",
          "dtype": "f4"
         },
         "xaxis": "x",
         "y": {
          "bdata": "84pRQMitekBH2yDARmWSQB7hQEAlROe/xiU3wC2jokCpfpdA8INmQD/1C8AbqcK/",
          "dtype": "f4"
         },
         "yaxis": "y"
        }
       ],
       "layout": {
        "annotations": [
         {
          "showarrow": false,
          "text": "D1",
          "x": 0.96747225522995,
          "y": 1.2769246101379395,
          "yshift": 10
         },
         {
          "showarrow": false,
          "text": "D2",
          "x": 7.993830680847168,
          "xshift": 10,
          "y": 5.844781875610352
         }
        ],
        "height": 650,
        "hoverlabel": {
         "bgcolor": "white",
         "font": {
          "family": "Rockwell",
          "size": 16
         }
        },
        "legend": {
         "itemsizing": "constant",
         "tracegroupgap": 0
        },
        "margin": {
         "t": 60
        },
        "shapes": [
         {
          "line": {
           "color": "#CFD8DC",
           "width": 2
          },
          "type": "line",
          "x0": 7.993830680847168,
          "x1": 7.993830680847168,
          "y0": -3.2909326553344727,
          "y1": 5.844781875610352
         },
         {
          "line": {
           "color": "#9E9E9E",
           "width": 2
          },
          "type": "line",
          "x0": 0.96747225522995,
          "x1": 15.02018928527832,
          "y0": 1.2769246101379395,
          "y1": 1.2769246101379395
         }
        ],
        "sliders": [
         {
          "active": 0,
          "pad": {
           "t": 50
          },
          "steps": [
           {
            "args": [
             {
              "marker.color": [
               [
                "red",
                "#B0BEC5",
                "#B0BEC5",
                "#B0BEC5",
                "#B0BEC5",
                "#B0BEC5",
                "#B0BEC5",
                "#B0BEC5",
                "#B0BEC5",
                "#B0BEC5",
                "#B0BEC5",
                "#B0BEC5"
               ]
              ]
             }
            ],
            "label": "Topic 0",
            "method": "update"
           },
           {
            "args": [
             {
              "marker.color": [
               [
                "#B0BEC5",
                "red",
                "#B0BEC5",
                "#B0BEC5",
                "#B0BEC5",
                "#B0BEC5",
                "#B0BEC5",
                "#B0BEC5",
                "#B0BEC5",
                "#B0BEC5",
                "#B0BEC5",
                "#B0BEC5"
               ]
              ]
             }
            ],
            "label": "Topic 1",
            "method": "update"
           },
           {
            "args": [
             {
              "marker.color": [
               [
                "#B0BEC5",
                "#B0BEC5",
                "red",
                "#B0BEC5",
                "#B0BEC5",
                "#B0BEC5",
                "#B0BEC5",
                "#B0BEC5",
                "#B0BEC5",
                "#B0BEC5",
                "#B0BEC5",
                "#B0BEC5"
               ]
              ]
             }
            ],
            "label": "Topic 2",
            "method": "update"
           },
           {
            "args": [
             {
              "marker.color": [
               [
                "#B0BEC5",
                "#B0BEC5",
                "#B0BEC5",
                "red",
                "#B0BEC5",
                "#B0BEC5",
                "#B0BEC5",
                "#B0BEC5",
                "#B0BEC5",
                "#B0BEC5",
                "#B0BEC5",
                "#B0BEC5"
               ]
              ]
             }
            ],
            "label": "Topic 3",
            "method": "update"
           },
           {
            "args": [
             {
              "marker.color": [
               [
                "#B0BEC5",
                "#B0BEC5",
                "#B0BEC5",
                "#B0BEC5",
                "red",
                "#B0BEC5",
                "#B0BEC5",
                "#B0BEC5",
                "#B0BEC5",
                "#B0BEC5",
                "#B0BEC5",
                "#B0BEC5"
               ]
              ]
             }
            ],
            "label": "Topic 4",
            "method": "update"
           },
           {
            "args": [
             {
              "marker.color": [
               [
                "#B0BEC5",
                "#B0BEC5",
                "#B0BEC5",
                "#B0BEC5",
                "#B0BEC5",
                "red",
                "#B0BEC5",
                "#B0BEC5",
                "#B0BEC5",
                "#B0BEC5",
                "#B0BEC5",
                "#B0BEC5"
               ]
              ]
             }
            ],
            "label": "Topic 5",
            "method": "update"
           },
           {
            "args": [
             {
              "marker.color": [
               [
                "#B0BEC5",
                "#B0BEC5",
                "#B0BEC5",
                "#B0BEC5",
                "#B0BEC5",
                "#B0BEC5",
                "red",
                "#B0BEC5",
                "#B0BEC5",
                "#B0BEC5",
                "#B0BEC5",
                "#B0BEC5"
               ]
              ]
             }
            ],
            "label": "Topic 6",
            "method": "update"
           },
           {
            "args": [
             {
              "marker.color": [
               [
                "#B0BEC5",
                "#B0BEC5",
                "#B0BEC5",
                "#B0BEC5",
                "#B0BEC5",
                "#B0BEC5",
                "#B0BEC5",
                "red",
                "#B0BEC5",
                "#B0BEC5",
                "#B0BEC5",
                "#B0BEC5"
               ]
              ]
             }
            ],
            "label": "Topic 7",
            "method": "update"
           },
           {
            "args": [
             {
              "marker.color": [
               [
                "#B0BEC5",
                "#B0BEC5",
                "#B0BEC5",
                "#B0BEC5",
                "#B0BEC5",
                "#B0BEC5",
                "#B0BEC5",
                "#B0BEC5",
                "red",
                "#B0BEC5",
                "#B0BEC5",
                "#B0BEC5"
               ]
              ]
             }
            ],
            "label": "Topic 8",
            "method": "update"
           },
           {
            "args": [
             {
              "marker.color": [
               [
                "#B0BEC5",
                "#B0BEC5",
                "#B0BEC5",
                "#B0BEC5",
                "#B0BEC5",
                "#B0BEC5",
                "#B0BEC5",
                "#B0BEC5",
                "#B0BEC5",
                "red",
                "#B0BEC5",
                "#B0BEC5"
               ]
              ]
             }
            ],
            "label": "Topic 9",
            "method": "update"
           },
           {
            "args": [
             {
              "marker.color": [
               [
                "#B0BEC5",
                "#B0BEC5",
                "#B0BEC5",
                "#B0BEC5",
                "#B0BEC5",
                "#B0BEC5",
                "#B0BEC5",
                "#B0BEC5",
                "#B0BEC5",
                "#B0BEC5",
                "red",
                "#B0BEC5"
               ]
              ]
             }
            ],
            "label": "Topic 10",
            "method": "update"
           },
           {
            "args": [
             {
              "marker.color": [
               [
                "#B0BEC5",
                "#B0BEC5",
                "#B0BEC5",
                "#B0BEC5",
                "#B0BEC5",
                "#B0BEC5",
                "#B0BEC5",
                "#B0BEC5",
                "#B0BEC5",
                "#B0BEC5",
                "#B0BEC5",
                "red"
               ]
              ]
             }
            ],
            "label": "Topic 11",
            "method": "update"
           }
          ]
         }
        ],
        "template": {
         "data": {
          "bar": [
           {
            "error_x": {
             "color": "rgb(36,36,36)"
            },
            "error_y": {
             "color": "rgb(36,36,36)"
            },
            "marker": {
             "line": {
              "color": "white",
              "width": 0.5
             },
             "pattern": {
              "fillmode": "overlay",
              "size": 10,
              "solidity": 0.2
             }
            },
            "type": "bar"
           }
          ],
          "barpolar": [
           {
            "marker": {
             "line": {
              "color": "white",
              "width": 0.5
             },
             "pattern": {
              "fillmode": "overlay",
              "size": 10,
              "solidity": 0.2
             }
            },
            "type": "barpolar"
           }
          ],
          "carpet": [
           {
            "aaxis": {
             "endlinecolor": "rgb(36,36,36)",
             "gridcolor": "white",
             "linecolor": "white",
             "minorgridcolor": "white",
             "startlinecolor": "rgb(36,36,36)"
            },
            "baxis": {
             "endlinecolor": "rgb(36,36,36)",
             "gridcolor": "white",
             "linecolor": "white",
             "minorgridcolor": "white",
             "startlinecolor": "rgb(36,36,36)"
            },
            "type": "carpet"
           }
          ],
          "choropleth": [
           {
            "colorbar": {
             "outlinewidth": 1,
             "tickcolor": "rgb(36,36,36)",
             "ticks": "outside"
            },
            "type": "choropleth"
           }
          ],
          "contour": [
           {
            "colorbar": {
             "outlinewidth": 1,
             "tickcolor": "rgb(36,36,36)",
             "ticks": "outside"
            },
            "colorscale": [
             [
              0,
              "#440154"
             ],
             [
              0.1111111111111111,
              "#482878"
             ],
             [
              0.2222222222222222,
              "#3e4989"
             ],
             [
              0.3333333333333333,
              "#31688e"
             ],
             [
              0.4444444444444444,
              "#26828e"
             ],
             [
              0.5555555555555556,
              "#1f9e89"
             ],
             [
              0.6666666666666666,
              "#35b779"
             ],
             [
              0.7777777777777778,
              "#6ece58"
             ],
             [
              0.8888888888888888,
              "#b5de2b"
             ],
             [
              1,
              "#fde725"
             ]
            ],
            "type": "contour"
           }
          ],
          "contourcarpet": [
           {
            "colorbar": {
             "outlinewidth": 1,
             "tickcolor": "rgb(36,36,36)",
             "ticks": "outside"
            },
            "type": "contourcarpet"
           }
          ],
          "heatmap": [
           {
            "colorbar": {
             "outlinewidth": 1,
             "tickcolor": "rgb(36,36,36)",
             "ticks": "outside"
            },
            "colorscale": [
             [
              0,
              "#440154"
             ],
             [
              0.1111111111111111,
              "#482878"
             ],
             [
              0.2222222222222222,
              "#3e4989"
             ],
             [
              0.3333333333333333,
              "#31688e"
             ],
             [
              0.4444444444444444,
              "#26828e"
             ],
             [
              0.5555555555555556,
              "#1f9e89"
             ],
             [
              0.6666666666666666,
              "#35b779"
             ],
             [
              0.7777777777777778,
              "#6ece58"
             ],
             [
              0.8888888888888888,
              "#b5de2b"
             ],
             [
              1,
              "#fde725"
             ]
            ],
            "type": "heatmap"
           }
          ],
          "histogram": [
           {
            "marker": {
             "line": {
              "color": "white",
              "width": 0.6
             }
            },
            "type": "histogram"
           }
          ],
          "histogram2d": [
           {
            "colorbar": {
             "outlinewidth": 1,
             "tickcolor": "rgb(36,36,36)",
             "ticks": "outside"
            },
            "colorscale": [
             [
              0,
              "#440154"
             ],
             [
              0.1111111111111111,
              "#482878"
             ],
             [
              0.2222222222222222,
              "#3e4989"
             ],
             [
              0.3333333333333333,
              "#31688e"
             ],
             [
              0.4444444444444444,
              "#26828e"
             ],
             [
              0.5555555555555556,
              "#1f9e89"
             ],
             [
              0.6666666666666666,
              "#35b779"
             ],
             [
              0.7777777777777778,
              "#6ece58"
             ],
             [
              0.8888888888888888,
              "#b5de2b"
             ],
             [
              1,
              "#fde725"
             ]
            ],
            "type": "histogram2d"
           }
          ],
          "histogram2dcontour": [
           {
            "colorbar": {
             "outlinewidth": 1,
             "tickcolor": "rgb(36,36,36)",
             "ticks": "outside"
            },
            "colorscale": [
             [
              0,
              "#440154"
             ],
             [
              0.1111111111111111,
              "#482878"
             ],
             [
              0.2222222222222222,
              "#3e4989"
             ],
             [
              0.3333333333333333,
              "#31688e"
             ],
             [
              0.4444444444444444,
              "#26828e"
             ],
             [
              0.5555555555555556,
              "#1f9e89"
             ],
             [
              0.6666666666666666,
              "#35b779"
             ],
             [
              0.7777777777777778,
              "#6ece58"
             ],
             [
              0.8888888888888888,
              "#b5de2b"
             ],
             [
              1,
              "#fde725"
             ]
            ],
            "type": "histogram2dcontour"
           }
          ],
          "mesh3d": [
           {
            "colorbar": {
             "outlinewidth": 1,
             "tickcolor": "rgb(36,36,36)",
             "ticks": "outside"
            },
            "type": "mesh3d"
           }
          ],
          "parcoords": [
           {
            "line": {
             "colorbar": {
              "outlinewidth": 1,
              "tickcolor": "rgb(36,36,36)",
              "ticks": "outside"
             }
            },
            "type": "parcoords"
           }
          ],
          "pie": [
           {
            "automargin": true,
            "type": "pie"
           }
          ],
          "scatter": [
           {
            "fillpattern": {
             "fillmode": "overlay",
             "size": 10,
             "solidity": 0.2
            },
            "type": "scatter"
           }
          ],
          "scatter3d": [
           {
            "line": {
             "colorbar": {
              "outlinewidth": 1,
              "tickcolor": "rgb(36,36,36)",
              "ticks": "outside"
             }
            },
            "marker": {
             "colorbar": {
              "outlinewidth": 1,
              "tickcolor": "rgb(36,36,36)",
              "ticks": "outside"
             }
            },
            "type": "scatter3d"
           }
          ],
          "scattercarpet": [
           {
            "marker": {
             "colorbar": {
              "outlinewidth": 1,
              "tickcolor": "rgb(36,36,36)",
              "ticks": "outside"
             }
            },
            "type": "scattercarpet"
           }
          ],
          "scattergeo": [
           {
            "marker": {
             "colorbar": {
              "outlinewidth": 1,
              "tickcolor": "rgb(36,36,36)",
              "ticks": "outside"
             }
            },
            "type": "scattergeo"
           }
          ],
          "scattergl": [
           {
            "marker": {
             "colorbar": {
              "outlinewidth": 1,
              "tickcolor": "rgb(36,36,36)",
              "ticks": "outside"
             }
            },
            "type": "scattergl"
           }
          ],
          "scattermap": [
           {
            "marker": {
             "colorbar": {
              "outlinewidth": 1,
              "tickcolor": "rgb(36,36,36)",
              "ticks": "outside"
             }
            },
            "type": "scattermap"
           }
          ],
          "scattermapbox": [
           {
            "marker": {
             "colorbar": {
              "outlinewidth": 1,
              "tickcolor": "rgb(36,36,36)",
              "ticks": "outside"
             }
            },
            "type": "scattermapbox"
           }
          ],
          "scatterpolar": [
           {
            "marker": {
             "colorbar": {
              "outlinewidth": 1,
              "tickcolor": "rgb(36,36,36)",
              "ticks": "outside"
             }
            },
            "type": "scatterpolar"
           }
          ],
          "scatterpolargl": [
           {
            "marker": {
             "colorbar": {
              "outlinewidth": 1,
              "tickcolor": "rgb(36,36,36)",
              "ticks": "outside"
             }
            },
            "type": "scatterpolargl"
           }
          ],
          "scatterternary": [
           {
            "marker": {
             "colorbar": {
              "outlinewidth": 1,
              "tickcolor": "rgb(36,36,36)",
              "ticks": "outside"
             }
            },
            "type": "scatterternary"
           }
          ],
          "surface": [
           {
            "colorbar": {
             "outlinewidth": 1,
             "tickcolor": "rgb(36,36,36)",
             "ticks": "outside"
            },
            "colorscale": [
             [
              0,
              "#440154"
             ],
             [
              0.1111111111111111,
              "#482878"
             ],
             [
              0.2222222222222222,
              "#3e4989"
             ],
             [
              0.3333333333333333,
              "#31688e"
             ],
             [
              0.4444444444444444,
              "#26828e"
             ],
             [
              0.5555555555555556,
              "#1f9e89"
             ],
             [
              0.6666666666666666,
              "#35b779"
             ],
             [
              0.7777777777777778,
              "#6ece58"
             ],
             [
              0.8888888888888888,
              "#b5de2b"
             ],
             [
              1,
              "#fde725"
             ]
            ],
            "type": "surface"
           }
          ],
          "table": [
           {
            "cells": {
             "fill": {
              "color": "rgb(237,237,237)"
             },
             "line": {
              "color": "white"
             }
            },
            "header": {
             "fill": {
              "color": "rgb(217,217,217)"
             },
             "line": {
              "color": "white"
             }
            },
            "type": "table"
           }
          ]
         },
         "layout": {
          "annotationdefaults": {
           "arrowhead": 0,
           "arrowwidth": 1
          },
          "autotypenumbers": "strict",
          "coloraxis": {
           "colorbar": {
            "outlinewidth": 1,
            "tickcolor": "rgb(36,36,36)",
            "ticks": "outside"
           }
          },
          "colorscale": {
           "diverging": [
            [
             0,
             "rgb(103,0,31)"
            ],
            [
             0.1,
             "rgb(178,24,43)"
            ],
            [
             0.2,
             "rgb(214,96,77)"
            ],
            [
             0.3,
             "rgb(244,165,130)"
            ],
            [
             0.4,
             "rgb(253,219,199)"
            ],
            [
             0.5,
             "rgb(247,247,247)"
            ],
            [
             0.6,
             "rgb(209,229,240)"
            ],
            [
             0.7,
             "rgb(146,197,222)"
            ],
            [
             0.8,
             "rgb(67,147,195)"
            ],
            [
             0.9,
             "rgb(33,102,172)"
            ],
            [
             1,
             "rgb(5,48,97)"
            ]
           ],
           "sequential": [
            [
             0,
             "#440154"
            ],
            [
             0.1111111111111111,
             "#482878"
            ],
            [
             0.2222222222222222,
             "#3e4989"
            ],
            [
             0.3333333333333333,
             "#31688e"
            ],
            [
             0.4444444444444444,
             "#26828e"
            ],
            [
             0.5555555555555556,
             "#1f9e89"
            ],
            [
             0.6666666666666666,
             "#35b779"
            ],
            [
             0.7777777777777778,
             "#6ece58"
            ],
            [
             0.8888888888888888,
             "#b5de2b"
            ],
            [
             1,
             "#fde725"
            ]
           ],
           "sequentialminus": [
            [
             0,
             "#440154"
            ],
            [
             0.1111111111111111,
             "#482878"
            ],
            [
             0.2222222222222222,
             "#3e4989"
            ],
            [
             0.3333333333333333,
             "#31688e"
            ],
            [
             0.4444444444444444,
             "#26828e"
            ],
            [
             0.5555555555555556,
             "#1f9e89"
            ],
            [
             0.6666666666666666,
             "#35b779"
            ],
            [
             0.7777777777777778,
             "#6ece58"
            ],
            [
             0.8888888888888888,
             "#b5de2b"
            ],
            [
             1,
             "#fde725"
            ]
           ]
          },
          "colorway": [
           "#1F77B4",
           "#FF7F0E",
           "#2CA02C",
           "#D62728",
           "#9467BD",
           "#8C564B",
           "#E377C2",
           "#7F7F7F",
           "#BCBD22",
           "#17BECF"
          ],
          "font": {
           "color": "rgb(36,36,36)"
          },
          "geo": {
           "bgcolor": "white",
           "lakecolor": "white",
           "landcolor": "white",
           "showlakes": true,
           "showland": true,
           "subunitcolor": "white"
          },
          "hoverlabel": {
           "align": "left"
          },
          "hovermode": "closest",
          "mapbox": {
           "style": "light"
          },
          "paper_bgcolor": "white",
          "plot_bgcolor": "white",
          "polar": {
           "angularaxis": {
            "gridcolor": "rgb(232,232,232)",
            "linecolor": "rgb(36,36,36)",
            "showgrid": false,
            "showline": true,
            "ticks": "outside"
           },
           "bgcolor": "white",
           "radialaxis": {
            "gridcolor": "rgb(232,232,232)",
            "linecolor": "rgb(36,36,36)",
            "showgrid": false,
            "showline": true,
            "ticks": "outside"
           }
          },
          "scene": {
           "xaxis": {
            "backgroundcolor": "white",
            "gridcolor": "rgb(232,232,232)",
            "gridwidth": 2,
            "linecolor": "rgb(36,36,36)",
            "showbackground": true,
            "showgrid": false,
            "showline": true,
            "ticks": "outside",
            "zeroline": false,
            "zerolinecolor": "rgb(36,36,36)"
           },
           "yaxis": {
            "backgroundcolor": "white",
            "gridcolor": "rgb(232,232,232)",
            "gridwidth": 2,
            "linecolor": "rgb(36,36,36)",
            "showbackground": true,
            "showgrid": false,
            "showline": true,
            "ticks": "outside",
            "zeroline": false,
            "zerolinecolor": "rgb(36,36,36)"
           },
           "zaxis": {
            "backgroundcolor": "white",
            "gridcolor": "rgb(232,232,232)",
            "gridwidth": 2,
            "linecolor": "rgb(36,36,36)",
            "showbackground": true,
            "showgrid": false,
            "showline": true,
            "ticks": "outside",
            "zeroline": false,
            "zerolinecolor": "rgb(36,36,36)"
           }
          },
          "shapedefaults": {
           "fillcolor": "black",
           "line": {
            "width": 0
           },
           "opacity": 0.3
          },
          "ternary": {
           "aaxis": {
            "gridcolor": "rgb(232,232,232)",
            "linecolor": "rgb(36,36,36)",
            "showgrid": false,
            "showline": true,
            "ticks": "outside"
           },
           "baxis": {
            "gridcolor": "rgb(232,232,232)",
            "linecolor": "rgb(36,36,36)",
            "showgrid": false,
            "showline": true,
            "ticks": "outside"
           },
           "bgcolor": "white",
           "caxis": {
            "gridcolor": "rgb(232,232,232)",
            "linecolor": "rgb(36,36,36)",
            "showgrid": false,
            "showline": true,
            "ticks": "outside"
           }
          },
          "title": {
           "x": 0.05
          },
          "xaxis": {
           "automargin": true,
           "gridcolor": "rgb(232,232,232)",
           "linecolor": "rgb(36,36,36)",
           "showgrid": false,
           "showline": true,
           "ticks": "outside",
           "title": {
            "standoff": 15
           },
           "zeroline": false,
           "zerolinecolor": "rgb(36,36,36)"
          },
          "yaxis": {
           "automargin": true,
           "gridcolor": "rgb(232,232,232)",
           "linecolor": "rgb(36,36,36)",
           "showgrid": false,
           "showline": true,
           "ticks": "outside",
           "title": {
            "standoff": 15
           },
           "zeroline": false,
           "zerolinecolor": "rgb(36,36,36)"
          }
         }
        },
        "title": {
         "font": {
          "color": "Black",
          "size": 22
         },
         "text": "<b>Intertopic Distance Map</b>",
         "x": 0.5,
         "xanchor": "center",
         "y": 0.95,
         "yanchor": "top"
        },
        "width": 650,
        "xaxis": {
         "anchor": "y",
         "domain": [
          0,
          1
         ],
         "range": [
          0.96747225522995,
          15.02018928527832
         ],
         "title": {
          "text": ""
         },
         "visible": false
        },
        "yaxis": {
         "anchor": "x",
         "domain": [
          0,
          1
         ],
         "range": [
          -3.2909326553344727,
          5.844781875610352
         ],
         "title": {
          "text": ""
         },
         "visible": false
        }
       }
      }
     },
     "metadata": {},
     "output_type": "display_data"
    }
   ],
   "source": [
    "# Visualize topics and auto-save\n",
    "fig_topics = topic_model.visualize_topics(custom_labels=True)\n",
    "save_bertopic_figure(fig_topics, 'topics')\n",
    "fig_topics"
   ]
  },
  {
   "cell_type": "code",
   "execution_count": 41,
   "id": "2bcfb282",
   "metadata": {},
   "outputs": [
    {
     "name": "stdout",
     "output_type": "stream",
     "text": [
      "🖼️  Saved bertopic_heatmap_Female_ADHD as PNG: 20250814_033348_bertopic_heatmap_female_adhd.png\n",
      "📊 Saved bertopic_heatmap_Female_ADHD as HTML: 20250814_033348_bertopic_heatmap_female_adhd.html\n",
      "✅ Total saved: 2 file(s) for 'bertopic_heatmap_Female_ADHD'\n",
      "📁 Location: /home/raquel/adhd-linguistic-patterns-beliefs-portuguese-women/outputs/plots\n",
      "------------------------------------------------------------\n"
     ]
    },
    {
     "data": {
      "application/vnd.plotly.v1+json": {
       "config": {
        "plotlyServerURL": "https://plot.ly"
       },
       "data": [
        {
         "coloraxis": "coloraxis",
         "hovertemplate": "x: %{x}<br>y: %{y}<br>Similarity Score: %{z}<extra></extra>",
         "name": "0",
         "type": "heatmap",
         "x": [
          "tópico: Desafios da Neurodiversidade e Saúde",
          "tópico: Memórias de exclusão social",
          "tópico: Interesses e Reflexões Pessoais",
          "tópico: Reflexões sobre o cotidiano",
          "tópico: Saúde Mental e Justiça Social",
          "tópico: Dificuldades em escrever e correr",
          "tópico: Relação e tratamento de animais",
          "tópico: Momentos de felicidade cotidiana",
          "tópico: Sobrecarga e Procrastinação Acadêmica",
          "tópico: Interesses em saúde e skincare",
          "tópico: Leitura e sonhos criativos",
          "tópico: Atividades que promovem relaxamento"
         ],
         "xaxis": "x",
         "y": [
          "tópico: Desafios da Neurodiversidade e Saúde",
          "tópico: Memórias de exclusão social",
          "tópico: Interesses e Reflexões Pessoais",
          "tópico: Reflexões sobre o cotidiano",
          "tópico: Saúde Mental e Justiça Social",
          "tópico: Dificuldades em escrever e correr",
          "tópico: Relação e tratamento de animais",
          "tópico: Momentos de felicidade cotidiana",
          "tópico: Sobrecarga e Procrastinação Acadêmica",
          "tópico: Interesses em saúde e skincare",
          "tópico: Leitura e sonhos criativos",
          "tópico: Atividades que promovem relaxamento"
         ],
         "yaxis": "y",
         "z": {
          "bdata": "AACAP2iYWj9WfUo/+2RLP1BOWD/OkT4/4dI0P5FNQD8b0Uc/aU1NP7sMRz/EXDc/aJhaP/v/fz9Ibjc/6F9RPz1SQj8b1Ts/JjMpP7g4Pz9A10Q/NoBCP9S1PT9eAy8/Vn1KP0huNz/+/38/zqkrP++ESz85jjc/HOk2P2JwOD+KlDY/Es5AP3svTD8tAEA/+2RLP+hfUT/OqSs/AQCAPy9aMT9u7jo/vLAdP7K/Tj9TqU8/VtY8P9bCRD/8+jI/UE5YPz1SQj/vhEs/L1oxP/7/fz/yijY/ULYxP0sMNj+nVjc/YstGPxpwNz/e8Dg/zpE+PxvVOz85jjc/bu46P/KKNj/9/38/+uMcP/YLQz8DsT8/SYEqP/4IRz9+CkI/4dI0PyYzKT8c6TY/vLAdP1C2MT/64xw/AACAPxAqKj+mAhc/TU0mP9JzGj+t3BU/kU1AP7g4Pz9icDg/sr9OP0sMNj/2C0M/ECoqP/n/fz9xFDo/g0Q4P6DpOj+yRjc/G9FHP0DXRD+KlDY/U6lPP6dWNz8DsT8/pgIXP3EUOj8CAIA/af42P5S5RT+xzTk/aU1NPzaAQj8SzkA/VtY8P2LLRj9JgSo/TU0mP4NEOD9p/jY///9/P7avNj/AaTM/uwxHP9S1PT97L0w/1sJEPxpwNz/+CEc/0nMaP6DpOj+UuUU/tq82P/7/fz8E+UA/xFw3P14DLz8tAEA//PoyP97wOD9+CkI/rdwVP7JGNz+xzTk/wGkzPwT5QD/8/38/",
          "dtype": "f4",
          "shape": "12, 12"
         }
        }
       ],
       "layout": {
        "coloraxis": {
         "colorbar": {
          "title": {
           "text": "Similarity Score"
          }
         },
         "colorscale": [
          [
           0,
           "rgb(247,252,240)"
          ],
          [
           0.125,
           "rgb(224,243,219)"
          ],
          [
           0.25,
           "rgb(204,235,197)"
          ],
          [
           0.375,
           "rgb(168,221,181)"
          ],
          [
           0.5,
           "rgb(123,204,196)"
          ],
          [
           0.625,
           "rgb(78,179,211)"
          ],
          [
           0.75,
           "rgb(43,140,190)"
          ],
          [
           0.875,
           "rgb(8,104,172)"
          ],
          [
           1,
           "rgb(8,64,129)"
          ]
         ]
        },
        "height": 800,
        "hoverlabel": {
         "bgcolor": "white",
         "font": {
          "family": "Rockwell",
          "size": 16
         }
        },
        "legend": {
         "title": {
          "text": "Trend"
         }
        },
        "margin": {
         "t": 60
        },
        "showlegend": true,
        "template": {
         "data": {
          "bar": [
           {
            "error_x": {
             "color": "#2a3f5f"
            },
            "error_y": {
             "color": "#2a3f5f"
            },
            "marker": {
             "line": {
              "color": "#E5ECF6",
              "width": 0.5
             },
             "pattern": {
              "fillmode": "overlay",
              "size": 10,
              "solidity": 0.2
             }
            },
            "type": "bar"
           }
          ],
          "barpolar": [
           {
            "marker": {
             "line": {
              "color": "#E5ECF6",
              "width": 0.5
             },
             "pattern": {
              "fillmode": "overlay",
              "size": 10,
              "solidity": 0.2
             }
            },
            "type": "barpolar"
           }
          ],
          "carpet": [
           {
            "aaxis": {
             "endlinecolor": "#2a3f5f",
             "gridcolor": "white",
             "linecolor": "white",
             "minorgridcolor": "white",
             "startlinecolor": "#2a3f5f"
            },
            "baxis": {
             "endlinecolor": "#2a3f5f",
             "gridcolor": "white",
             "linecolor": "white",
             "minorgridcolor": "white",
             "startlinecolor": "#2a3f5f"
            },
            "type": "carpet"
           }
          ],
          "choropleth": [
           {
            "colorbar": {
             "outlinewidth": 0,
             "ticks": ""
            },
            "type": "choropleth"
           }
          ],
          "contour": [
           {
            "colorbar": {
             "outlinewidth": 0,
             "ticks": ""
            },
            "colorscale": [
             [
              0,
              "#0d0887"
             ],
             [
              0.1111111111111111,
              "#46039f"
             ],
             [
              0.2222222222222222,
              "#7201a8"
             ],
             [
              0.3333333333333333,
              "#9c179e"
             ],
             [
              0.4444444444444444,
              "#bd3786"
             ],
             [
              0.5555555555555556,
              "#d8576b"
             ],
             [
              0.6666666666666666,
              "#ed7953"
             ],
             [
              0.7777777777777778,
              "#fb9f3a"
             ],
             [
              0.8888888888888888,
              "#fdca26"
             ],
             [
              1,
              "#f0f921"
             ]
            ],
            "type": "contour"
           }
          ],
          "contourcarpet": [
           {
            "colorbar": {
             "outlinewidth": 0,
             "ticks": ""
            },
            "type": "contourcarpet"
           }
          ],
          "heatmap": [
           {
            "colorbar": {
             "outlinewidth": 0,
             "ticks": ""
            },
            "colorscale": [
             [
              0,
              "#0d0887"
             ],
             [
              0.1111111111111111,
              "#46039f"
             ],
             [
              0.2222222222222222,
              "#7201a8"
             ],
             [
              0.3333333333333333,
              "#9c179e"
             ],
             [
              0.4444444444444444,
              "#bd3786"
             ],
             [
              0.5555555555555556,
              "#d8576b"
             ],
             [
              0.6666666666666666,
              "#ed7953"
             ],
             [
              0.7777777777777778,
              "#fb9f3a"
             ],
             [
              0.8888888888888888,
              "#fdca26"
             ],
             [
              1,
              "#f0f921"
             ]
            ],
            "type": "heatmap"
           }
          ],
          "histogram": [
           {
            "marker": {
             "pattern": {
              "fillmode": "overlay",
              "size": 10,
              "solidity": 0.2
             }
            },
            "type": "histogram"
           }
          ],
          "histogram2d": [
           {
            "colorbar": {
             "outlinewidth": 0,
             "ticks": ""
            },
            "colorscale": [
             [
              0,
              "#0d0887"
             ],
             [
              0.1111111111111111,
              "#46039f"
             ],
             [
              0.2222222222222222,
              "#7201a8"
             ],
             [
              0.3333333333333333,
              "#9c179e"
             ],
             [
              0.4444444444444444,
              "#bd3786"
             ],
             [
              0.5555555555555556,
              "#d8576b"
             ],
             [
              0.6666666666666666,
              "#ed7953"
             ],
             [
              0.7777777777777778,
              "#fb9f3a"
             ],
             [
              0.8888888888888888,
              "#fdca26"
             ],
             [
              1,
              "#f0f921"
             ]
            ],
            "type": "histogram2d"
           }
          ],
          "histogram2dcontour": [
           {
            "colorbar": {
             "outlinewidth": 0,
             "ticks": ""
            },
            "colorscale": [
             [
              0,
              "#0d0887"
             ],
             [
              0.1111111111111111,
              "#46039f"
             ],
             [
              0.2222222222222222,
              "#7201a8"
             ],
             [
              0.3333333333333333,
              "#9c179e"
             ],
             [
              0.4444444444444444,
              "#bd3786"
             ],
             [
              0.5555555555555556,
              "#d8576b"
             ],
             [
              0.6666666666666666,
              "#ed7953"
             ],
             [
              0.7777777777777778,
              "#fb9f3a"
             ],
             [
              0.8888888888888888,
              "#fdca26"
             ],
             [
              1,
              "#f0f921"
             ]
            ],
            "type": "histogram2dcontour"
           }
          ],
          "mesh3d": [
           {
            "colorbar": {
             "outlinewidth": 0,
             "ticks": ""
            },
            "type": "mesh3d"
           }
          ],
          "parcoords": [
           {
            "line": {
             "colorbar": {
              "outlinewidth": 0,
              "ticks": ""
             }
            },
            "type": "parcoords"
           }
          ],
          "pie": [
           {
            "automargin": true,
            "type": "pie"
           }
          ],
          "scatter": [
           {
            "fillpattern": {
             "fillmode": "overlay",
             "size": 10,
             "solidity": 0.2
            },
            "type": "scatter"
           }
          ],
          "scatter3d": [
           {
            "line": {
             "colorbar": {
              "outlinewidth": 0,
              "ticks": ""
             }
            },
            "marker": {
             "colorbar": {
              "outlinewidth": 0,
              "ticks": ""
             }
            },
            "type": "scatter3d"
           }
          ],
          "scattercarpet": [
           {
            "marker": {
             "colorbar": {
              "outlinewidth": 0,
              "ticks": ""
             }
            },
            "type": "scattercarpet"
           }
          ],
          "scattergeo": [
           {
            "marker": {
             "colorbar": {
              "outlinewidth": 0,
              "ticks": ""
             }
            },
            "type": "scattergeo"
           }
          ],
          "scattergl": [
           {
            "marker": {
             "colorbar": {
              "outlinewidth": 0,
              "ticks": ""
             }
            },
            "type": "scattergl"
           }
          ],
          "scattermap": [
           {
            "marker": {
             "colorbar": {
              "outlinewidth": 0,
              "ticks": ""
             }
            },
            "type": "scattermap"
           }
          ],
          "scattermapbox": [
           {
            "marker": {
             "colorbar": {
              "outlinewidth": 0,
              "ticks": ""
             }
            },
            "type": "scattermapbox"
           }
          ],
          "scatterpolar": [
           {
            "marker": {
             "colorbar": {
              "outlinewidth": 0,
              "ticks": ""
             }
            },
            "type": "scatterpolar"
           }
          ],
          "scatterpolargl": [
           {
            "marker": {
             "colorbar": {
              "outlinewidth": 0,
              "ticks": ""
             }
            },
            "type": "scatterpolargl"
           }
          ],
          "scatterternary": [
           {
            "marker": {
             "colorbar": {
              "outlinewidth": 0,
              "ticks": ""
             }
            },
            "type": "scatterternary"
           }
          ],
          "surface": [
           {
            "colorbar": {
             "outlinewidth": 0,
             "ticks": ""
            },
            "colorscale": [
             [
              0,
              "#0d0887"
             ],
             [
              0.1111111111111111,
              "#46039f"
             ],
             [
              0.2222222222222222,
              "#7201a8"
             ],
             [
              0.3333333333333333,
              "#9c179e"
             ],
             [
              0.4444444444444444,
              "#bd3786"
             ],
             [
              0.5555555555555556,
              "#d8576b"
             ],
             [
              0.6666666666666666,
              "#ed7953"
             ],
             [
              0.7777777777777778,
              "#fb9f3a"
             ],
             [
              0.8888888888888888,
              "#fdca26"
             ],
             [
              1,
              "#f0f921"
             ]
            ],
            "type": "surface"
           }
          ],
          "table": [
           {
            "cells": {
             "fill": {
              "color": "#EBF0F8"
             },
             "line": {
              "color": "white"
             }
            },
            "header": {
             "fill": {
              "color": "#C8D4E3"
             },
             "line": {
              "color": "white"
             }
            },
            "type": "table"
           }
          ]
         },
         "layout": {
          "annotationdefaults": {
           "arrowcolor": "#2a3f5f",
           "arrowhead": 0,
           "arrowwidth": 1
          },
          "autotypenumbers": "strict",
          "coloraxis": {
           "colorbar": {
            "outlinewidth": 0,
            "ticks": ""
           }
          },
          "colorscale": {
           "diverging": [
            [
             0,
             "#8e0152"
            ],
            [
             0.1,
             "#c51b7d"
            ],
            [
             0.2,
             "#de77ae"
            ],
            [
             0.3,
             "#f1b6da"
            ],
            [
             0.4,
             "#fde0ef"
            ],
            [
             0.5,
             "#f7f7f7"
            ],
            [
             0.6,
             "#e6f5d0"
            ],
            [
             0.7,
             "#b8e186"
            ],
            [
             0.8,
             "#7fbc41"
            ],
            [
             0.9,
             "#4d9221"
            ],
            [
             1,
             "#276419"
            ]
           ],
           "sequential": [
            [
             0,
             "#0d0887"
            ],
            [
             0.1111111111111111,
             "#46039f"
            ],
            [
             0.2222222222222222,
             "#7201a8"
            ],
            [
             0.3333333333333333,
             "#9c179e"
            ],
            [
             0.4444444444444444,
             "#bd3786"
            ],
            [
             0.5555555555555556,
             "#d8576b"
            ],
            [
             0.6666666666666666,
             "#ed7953"
            ],
            [
             0.7777777777777778,
             "#fb9f3a"
            ],
            [
             0.8888888888888888,
             "#fdca26"
            ],
            [
             1,
             "#f0f921"
            ]
           ],
           "sequentialminus": [
            [
             0,
             "#0d0887"
            ],
            [
             0.1111111111111111,
             "#46039f"
            ],
            [
             0.2222222222222222,
             "#7201a8"
            ],
            [
             0.3333333333333333,
             "#9c179e"
            ],
            [
             0.4444444444444444,
             "#bd3786"
            ],
            [
             0.5555555555555556,
             "#d8576b"
            ],
            [
             0.6666666666666666,
             "#ed7953"
            ],
            [
             0.7777777777777778,
             "#fb9f3a"
            ],
            [
             0.8888888888888888,
             "#fdca26"
            ],
            [
             1,
             "#f0f921"
            ]
           ]
          },
          "colorway": [
           "#636efa",
           "#EF553B",
           "#00cc96",
           "#ab63fa",
           "#FFA15A",
           "#19d3f3",
           "#FF6692",
           "#B6E880",
           "#FF97FF",
           "#FECB52"
          ],
          "font": {
           "color": "#2a3f5f"
          },
          "geo": {
           "bgcolor": "white",
           "lakecolor": "white",
           "landcolor": "#E5ECF6",
           "showlakes": true,
           "showland": true,
           "subunitcolor": "white"
          },
          "hoverlabel": {
           "align": "left"
          },
          "hovermode": "closest",
          "mapbox": {
           "style": "light"
          },
          "paper_bgcolor": "white",
          "plot_bgcolor": "#E5ECF6",
          "polar": {
           "angularaxis": {
            "gridcolor": "white",
            "linecolor": "white",
            "ticks": ""
           },
           "bgcolor": "#E5ECF6",
           "radialaxis": {
            "gridcolor": "white",
            "linecolor": "white",
            "ticks": ""
           }
          },
          "scene": {
           "xaxis": {
            "backgroundcolor": "#E5ECF6",
            "gridcolor": "white",
            "gridwidth": 2,
            "linecolor": "white",
            "showbackground": true,
            "ticks": "",
            "zerolinecolor": "white"
           },
           "yaxis": {
            "backgroundcolor": "#E5ECF6",
            "gridcolor": "white",
            "gridwidth": 2,
            "linecolor": "white",
            "showbackground": true,
            "ticks": "",
            "zerolinecolor": "white"
           },
           "zaxis": {
            "backgroundcolor": "#E5ECF6",
            "gridcolor": "white",
            "gridwidth": 2,
            "linecolor": "white",
            "showbackground": true,
            "ticks": "",
            "zerolinecolor": "white"
           }
          },
          "shapedefaults": {
           "line": {
            "color": "#2a3f5f"
           }
          },
          "ternary": {
           "aaxis": {
            "gridcolor": "white",
            "linecolor": "white",
            "ticks": ""
           },
           "baxis": {
            "gridcolor": "white",
            "linecolor": "white",
            "ticks": ""
           },
           "bgcolor": "#E5ECF6",
           "caxis": {
            "gridcolor": "white",
            "linecolor": "white",
            "ticks": ""
           }
          },
          "title": {
           "x": 0.05
          },
          "xaxis": {
           "automargin": true,
           "gridcolor": "white",
           "linecolor": "white",
           "ticks": "",
           "title": {
            "standoff": 15
           },
           "zerolinecolor": "white",
           "zerolinewidth": 2
          },
          "yaxis": {
           "automargin": true,
           "gridcolor": "white",
           "linecolor": "white",
           "ticks": "",
           "title": {
            "standoff": 15
           },
           "zerolinecolor": "white",
           "zerolinewidth": 2
          }
         }
        },
        "title": {
         "font": {
          "color": "Black",
          "size": 22
         },
         "text": "<b>Similarity Matrix</b>",
         "x": 0.55,
         "xanchor": "center",
         "y": 0.95,
         "yanchor": "top"
        },
        "width": 800,
        "xaxis": {
         "anchor": "y",
         "constrain": "domain",
         "domain": [
          0,
          1
         ],
         "scaleanchor": "y"
        },
        "yaxis": {
         "anchor": "x",
         "autorange": "reversed",
         "constrain": "domain",
         "domain": [
          0,
          1
         ]
        }
       }
      }
     },
     "metadata": {},
     "output_type": "display_data"
    }
   ],
   "source": [
    "# Visualize heatmap and auto-save\n",
    "fig_heatmap = topic_model.visualize_heatmap(custom_labels=True)\n",
    "save_bertopic_figure(fig_heatmap, 'heatmap')\n",
    "fig_heatmap"
   ]
  },
  {
   "cell_type": "code",
   "execution_count": 42,
   "id": "55dfc337",
   "metadata": {},
   "outputs": [
    {
     "name": "stderr",
     "output_type": "stream",
     "text": [
      "4it [00:00, 145.44it/s]\n",
      "\n"
     ]
    },
    {
     "name": "stdout",
     "output_type": "stream",
     "text": [
      "🖼️  Saved bertopic_topics_per_class_Female_ADHD as PNG: 20250814_033527_bertopic_topics_per_class_female_adhd.png\n",
      "📊 Saved bertopic_topics_per_class_Female_ADHD as HTML: 20250814_033527_bertopic_topics_per_class_female_adhd.html\n",
      "✅ Total saved: 2 file(s) for 'bertopic_topics_per_class_Female_ADHD'\n",
      "📁 Location: /home/raquel/adhd-linguistic-patterns-beliefs-portuguese-women/outputs/plots\n",
      "------------------------------------------------------------\n"
     ]
    },
    {
     "data": {
      "application/vnd.plotly.v1+json": {
       "config": {
        "plotlyServerURL": "https://plot.ly"
       },
       "data": [
        {
         "hoverinfo": "text",
         "hovertext": [
          "<b>Topic 0</b><br>Words: razão, ignorada, olhos, tal, parece",
          "<b>Topic 0</b><br>Words: phda, anos, pessoas, lá, vida",
          "<b>Topic 0</b><br>Words: phda, pessoas, lá, onde, continua",
          "<b>Topic 0</b><br>Words: momento, phda, outro, situações, focada"
         ],
         "marker": {
          "color": "#E69F00"
         },
         "name": "tópico: Desafios da Neurodiversidade e Saúde",
         "orientation": "h",
         "type": "bar",
         "visible": true,
         "x": {
          "bdata": "AQEGAg==",
          "dtype": "i1"
         },
         "y": [
          "diary_entry",
          "selfdefining_memory",
          "empty_sheet",
          "special_interest"
         ]
        },
        {
         "hoverinfo": "text",
         "hovertext": [
          "<b>Topic 1</b><br>Words: amigos, comigo, anos, nunca, nesse",
          "<b>Topic 1</b><br>Words: falar, pessoa, pessoas, comigo, vida"
         ],
         "marker": {
          "color": "#56B4E9"
         },
         "name": "tópico: Memórias de exclusão social",
         "orientation": "h",
         "type": "bar",
         "visible": "legendonly",
         "x": {
          "bdata": "BwE=",
          "dtype": "i1"
         },
         "y": [
          "selfdefining_memory",
          "empty_sheet"
         ]
        },
        {
         "hoverinfo": "text",
         "hovertext": [
          "<b>Topic 2</b><br>Words: nada, mundo, ninguém, tudo, tão",
          "<b>Topic 2</b><br>Words: tão, interesse especial, tudo, especial, interesse"
         ],
         "marker": {
          "color": "#009E73"
         },
         "name": "tópico: Interesses e Reflexões Pessoais",
         "orientation": "h",
         "type": "bar",
         "visible": "legendonly",
         "x": {
          "bdata": "AQY=",
          "dtype": "i1"
         },
         "y": [
          "diary_entry",
          "special_interest"
         ]
        },
        {
         "hoverinfo": "text",
         "hovertext": [
          "<b>Topic 3</b><br>Words: acordei, ainda, ir, dia, hoje",
          "<b>Topic 3</b><br>Words: gostava, ninguém, semana, infelizmente, lado"
         ],
         "marker": {
          "color": "#F0E442"
         },
         "name": "tópico: Reflexões sobre o cotidiano",
         "orientation": "h",
         "type": "bar",
         "visible": "legendonly",
         "x": {
          "bdata": "BAI=",
          "dtype": "i1"
         },
         "y": [
          "diary_entry",
          "selfdefining_memory"
         ]
        },
        {
         "hoverinfo": "text",
         "hovertext": [
          "<b>Topic 4</b><br>Words: morrer, ajudar, social, problemas, memória",
          "<b>Topic 4</b><br>Words: mental, pensamentos, sentimentos, boa, tudo",
          "<b>Topic 4</b><br>Words: saúde, mental, infantil, psicologia, perceber"
         ],
         "marker": {
          "color": "#D55E00"
         },
         "name": "tópico: Saúde Mental e Justiça Social",
         "orientation": "h",
         "type": "bar",
         "visible": "legendonly",
         "x": {
          "bdata": "AQED",
          "dtype": "i1"
         },
         "y": [
          "selfdefining_memory",
          "empty_sheet",
          "special_interest"
         ]
        },
        {
         "hoverinfo": "text",
         "hovertext": [
          "<b>Topic 5</b><br>Words: consigo, escrever, diário, dar, fazer",
          "<b>Topic 5</b><br>Words: fazer, consigo, diário, escrever, dar",
          "<b>Topic 5</b><br>Words: correr, gosto, consigo, escrever, diário"
         ],
         "marker": {
          "color": "#0072B2"
         },
         "name": "tópico: Dificuldades em escrever e correr",
         "orientation": "h",
         "type": "bar",
         "visible": "legendonly",
         "x": {
          "bdata": "AgEB",
          "dtype": "i1"
         },
         "y": [
          "diary_entry",
          "selfdefining_memory",
          "special_interest"
         ]
        },
        {
         "hoverinfo": "text",
         "hovertext": [
          "<b>Topic 6</b><br>Words: serem, verdadeiramente, tendência, motivos, etc",
          "<b>Topic 6</b><br>Words: adoro, comportamento, maior, saber, sempre"
         ],
         "marker": {
          "color": "#CC79A7"
         },
         "name": "tópico: Relação e tratamento de animais",
         "orientation": "h",
         "type": "bar",
         "visible": "legendonly",
         "x": {
          "bdata": "AQI=",
          "dtype": "i1"
         },
         "y": [
          "empty_sheet",
          "special_interest"
         ]
        },
        {
         "hoverinfo": "text",
         "hovertext": [
          "<b>Topic 7</b><br>Words: pai, base, clara, faço, acordar"
         ],
         "marker": {
          "color": "#E69F00"
         },
         "name": "tópico: Momentos de felicidade cotidiana",
         "orientation": "h",
         "type": "bar",
         "visible": "legendonly",
         "x": {
          "bdata": "Aw==",
          "dtype": "i1"
         },
         "y": [
          "diary_entry"
         ]
        },
        {
         "hoverinfo": "text",
         "hovertext": [
          "<b>Topic 8</b><br>Words: montes, devia fazer, comigo própria, culpa, sentimentos",
          "<b>Topic 8</b><br>Words: tempo, trabalho, cansada, coisas, casa"
         ],
         "marker": {
          "color": "#56B4E9"
         },
         "name": "tópico: Sobrecarga e Procrastinação Acadêmica",
         "orientation": "h",
         "type": "bar",
         "visible": "legendonly",
         "x": {
          "bdata": "AQI=",
          "dtype": "i1"
         },
         "y": [
          "diary_entry",
          "empty_sheet"
         ]
        },
        {
         "hoverinfo": "text",
         "hovertext": [
          "<b>Topic 9</b><br>Words: adoro, especiais, disso, interesses especiais, comigo mesma"
         ],
         "marker": {
          "color": "#009E73"
         },
         "name": "tópico: Interesses em saúde e skincare",
         "orientation": "h",
         "type": "bar",
         "visible": "legendonly",
         "x": {
          "bdata": "Ag==",
          "dtype": "i1"
         },
         "y": [
          "special_interest"
         ]
        }
       ],
       "layout": {
        "height": 900,
        "hoverlabel": {
         "bgcolor": "white",
         "font": {
          "family": "Rockwell",
          "size": 16
         }
        },
        "legend": {
         "title": {
          "text": "<b>Global Topic Representation"
         }
        },
        "template": {
         "data": {
          "bar": [
           {
            "error_x": {
             "color": "rgb(36,36,36)"
            },
            "error_y": {
             "color": "rgb(36,36,36)"
            },
            "marker": {
             "line": {
              "color": "white",
              "width": 0.5
             },
             "pattern": {
              "fillmode": "overlay",
              "size": 10,
              "solidity": 0.2
             }
            },
            "type": "bar"
           }
          ],
          "barpolar": [
           {
            "marker": {
             "line": {
              "color": "white",
              "width": 0.5
             },
             "pattern": {
              "fillmode": "overlay",
              "size": 10,
              "solidity": 0.2
             }
            },
            "type": "barpolar"
           }
          ],
          "carpet": [
           {
            "aaxis": {
             "endlinecolor": "rgb(36,36,36)",
             "gridcolor": "white",
             "linecolor": "white",
             "minorgridcolor": "white",
             "startlinecolor": "rgb(36,36,36)"
            },
            "baxis": {
             "endlinecolor": "rgb(36,36,36)",
             "gridcolor": "white",
             "linecolor": "white",
             "minorgridcolor": "white",
             "startlinecolor": "rgb(36,36,36)"
            },
            "type": "carpet"
           }
          ],
          "choropleth": [
           {
            "colorbar": {
             "outlinewidth": 1,
             "tickcolor": "rgb(36,36,36)",
             "ticks": "outside"
            },
            "type": "choropleth"
           }
          ],
          "contour": [
           {
            "colorbar": {
             "outlinewidth": 1,
             "tickcolor": "rgb(36,36,36)",
             "ticks": "outside"
            },
            "colorscale": [
             [
              0,
              "#440154"
             ],
             [
              0.1111111111111111,
              "#482878"
             ],
             [
              0.2222222222222222,
              "#3e4989"
             ],
             [
              0.3333333333333333,
              "#31688e"
             ],
             [
              0.4444444444444444,
              "#26828e"
             ],
             [
              0.5555555555555556,
              "#1f9e89"
             ],
             [
              0.6666666666666666,
              "#35b779"
             ],
             [
              0.7777777777777778,
              "#6ece58"
             ],
             [
              0.8888888888888888,
              "#b5de2b"
             ],
             [
              1,
              "#fde725"
             ]
            ],
            "type": "contour"
           }
          ],
          "contourcarpet": [
           {
            "colorbar": {
             "outlinewidth": 1,
             "tickcolor": "rgb(36,36,36)",
             "ticks": "outside"
            },
            "type": "contourcarpet"
           }
          ],
          "heatmap": [
           {
            "colorbar": {
             "outlinewidth": 1,
             "tickcolor": "rgb(36,36,36)",
             "ticks": "outside"
            },
            "colorscale": [
             [
              0,
              "#440154"
             ],
             [
              0.1111111111111111,
              "#482878"
             ],
             [
              0.2222222222222222,
              "#3e4989"
             ],
             [
              0.3333333333333333,
              "#31688e"
             ],
             [
              0.4444444444444444,
              "#26828e"
             ],
             [
              0.5555555555555556,
              "#1f9e89"
             ],
             [
              0.6666666666666666,
              "#35b779"
             ],
             [
              0.7777777777777778,
              "#6ece58"
             ],
             [
              0.8888888888888888,
              "#b5de2b"
             ],
             [
              1,
              "#fde725"
             ]
            ],
            "type": "heatmap"
           }
          ],
          "histogram": [
           {
            "marker": {
             "line": {
              "color": "white",
              "width": 0.6
             }
            },
            "type": "histogram"
           }
          ],
          "histogram2d": [
           {
            "colorbar": {
             "outlinewidth": 1,
             "tickcolor": "rgb(36,36,36)",
             "ticks": "outside"
            },
            "colorscale": [
             [
              0,
              "#440154"
             ],
             [
              0.1111111111111111,
              "#482878"
             ],
             [
              0.2222222222222222,
              "#3e4989"
             ],
             [
              0.3333333333333333,
              "#31688e"
             ],
             [
              0.4444444444444444,
              "#26828e"
             ],
             [
              0.5555555555555556,
              "#1f9e89"
             ],
             [
              0.6666666666666666,
              "#35b779"
             ],
             [
              0.7777777777777778,
              "#6ece58"
             ],
             [
              0.8888888888888888,
              "#b5de2b"
             ],
             [
              1,
              "#fde725"
             ]
            ],
            "type": "histogram2d"
           }
          ],
          "histogram2dcontour": [
           {
            "colorbar": {
             "outlinewidth": 1,
             "tickcolor": "rgb(36,36,36)",
             "ticks": "outside"
            },
            "colorscale": [
             [
              0,
              "#440154"
             ],
             [
              0.1111111111111111,
              "#482878"
             ],
             [
              0.2222222222222222,
              "#3e4989"
             ],
             [
              0.3333333333333333,
              "#31688e"
             ],
             [
              0.4444444444444444,
              "#26828e"
             ],
             [
              0.5555555555555556,
              "#1f9e89"
             ],
             [
              0.6666666666666666,
              "#35b779"
             ],
             [
              0.7777777777777778,
              "#6ece58"
             ],
             [
              0.8888888888888888,
              "#b5de2b"
             ],
             [
              1,
              "#fde725"
             ]
            ],
            "type": "histogram2dcontour"
           }
          ],
          "mesh3d": [
           {
            "colorbar": {
             "outlinewidth": 1,
             "tickcolor": "rgb(36,36,36)",
             "ticks": "outside"
            },
            "type": "mesh3d"
           }
          ],
          "parcoords": [
           {
            "line": {
             "colorbar": {
              "outlinewidth": 1,
              "tickcolor": "rgb(36,36,36)",
              "ticks": "outside"
             }
            },
            "type": "parcoords"
           }
          ],
          "pie": [
           {
            "automargin": true,
            "type": "pie"
           }
          ],
          "scatter": [
           {
            "fillpattern": {
             "fillmode": "overlay",
             "size": 10,
             "solidity": 0.2
            },
            "type": "scatter"
           }
          ],
          "scatter3d": [
           {
            "line": {
             "colorbar": {
              "outlinewidth": 1,
              "tickcolor": "rgb(36,36,36)",
              "ticks": "outside"
             }
            },
            "marker": {
             "colorbar": {
              "outlinewidth": 1,
              "tickcolor": "rgb(36,36,36)",
              "ticks": "outside"
             }
            },
            "type": "scatter3d"
           }
          ],
          "scattercarpet": [
           {
            "marker": {
             "colorbar": {
              "outlinewidth": 1,
              "tickcolor": "rgb(36,36,36)",
              "ticks": "outside"
             }
            },
            "type": "scattercarpet"
           }
          ],
          "scattergeo": [
           {
            "marker": {
             "colorbar": {
              "outlinewidth": 1,
              "tickcolor": "rgb(36,36,36)",
              "ticks": "outside"
             }
            },
            "type": "scattergeo"
           }
          ],
          "scattergl": [
           {
            "marker": {
             "colorbar": {
              "outlinewidth": 1,
              "tickcolor": "rgb(36,36,36)",
              "ticks": "outside"
             }
            },
            "type": "scattergl"
           }
          ],
          "scattermap": [
           {
            "marker": {
             "colorbar": {
              "outlinewidth": 1,
              "tickcolor": "rgb(36,36,36)",
              "ticks": "outside"
             }
            },
            "type": "scattermap"
           }
          ],
          "scattermapbox": [
           {
            "marker": {
             "colorbar": {
              "outlinewidth": 1,
              "tickcolor": "rgb(36,36,36)",
              "ticks": "outside"
             }
            },
            "type": "scattermapbox"
           }
          ],
          "scatterpolar": [
           {
            "marker": {
             "colorbar": {
              "outlinewidth": 1,
              "tickcolor": "rgb(36,36,36)",
              "ticks": "outside"
             }
            },
            "type": "scatterpolar"
           }
          ],
          "scatterpolargl": [
           {
            "marker": {
             "colorbar": {
              "outlinewidth": 1,
              "tickcolor": "rgb(36,36,36)",
              "ticks": "outside"
             }
            },
            "type": "scatterpolargl"
           }
          ],
          "scatterternary": [
           {
            "marker": {
             "colorbar": {
              "outlinewidth": 1,
              "tickcolor": "rgb(36,36,36)",
              "ticks": "outside"
             }
            },
            "type": "scatterternary"
           }
          ],
          "surface": [
           {
            "colorbar": {
             "outlinewidth": 1,
             "tickcolor": "rgb(36,36,36)",
             "ticks": "outside"
            },
            "colorscale": [
             [
              0,
              "#440154"
             ],
             [
              0.1111111111111111,
              "#482878"
             ],
             [
              0.2222222222222222,
              "#3e4989"
             ],
             [
              0.3333333333333333,
              "#31688e"
             ],
             [
              0.4444444444444444,
              "#26828e"
             ],
             [
              0.5555555555555556,
              "#1f9e89"
             ],
             [
              0.6666666666666666,
              "#35b779"
             ],
             [
              0.7777777777777778,
              "#6ece58"
             ],
             [
              0.8888888888888888,
              "#b5de2b"
             ],
             [
              1,
              "#fde725"
             ]
            ],
            "type": "surface"
           }
          ],
          "table": [
           {
            "cells": {
             "fill": {
              "color": "rgb(237,237,237)"
             },
             "line": {
              "color": "white"
             }
            },
            "header": {
             "fill": {
              "color": "rgb(217,217,217)"
             },
             "line": {
              "color": "white"
             }
            },
            "type": "table"
           }
          ]
         },
         "layout": {
          "annotationdefaults": {
           "arrowhead": 0,
           "arrowwidth": 1
          },
          "autotypenumbers": "strict",
          "coloraxis": {
           "colorbar": {
            "outlinewidth": 1,
            "tickcolor": "rgb(36,36,36)",
            "ticks": "outside"
           }
          },
          "colorscale": {
           "diverging": [
            [
             0,
             "rgb(103,0,31)"
            ],
            [
             0.1,
             "rgb(178,24,43)"
            ],
            [
             0.2,
             "rgb(214,96,77)"
            ],
            [
             0.3,
             "rgb(244,165,130)"
            ],
            [
             0.4,
             "rgb(253,219,199)"
            ],
            [
             0.5,
             "rgb(247,247,247)"
            ],
            [
             0.6,
             "rgb(209,229,240)"
            ],
            [
             0.7,
             "rgb(146,197,222)"
            ],
            [
             0.8,
             "rgb(67,147,195)"
            ],
            [
             0.9,
             "rgb(33,102,172)"
            ],
            [
             1,
             "rgb(5,48,97)"
            ]
           ],
           "sequential": [
            [
             0,
             "#440154"
            ],
            [
             0.1111111111111111,
             "#482878"
            ],
            [
             0.2222222222222222,
             "#3e4989"
            ],
            [
             0.3333333333333333,
             "#31688e"
            ],
            [
             0.4444444444444444,
             "#26828e"
            ],
            [
             0.5555555555555556,
             "#1f9e89"
            ],
            [
             0.6666666666666666,
             "#35b779"
            ],
            [
             0.7777777777777778,
             "#6ece58"
            ],
            [
             0.8888888888888888,
             "#b5de2b"
            ],
            [
             1,
             "#fde725"
            ]
           ],
           "sequentialminus": [
            [
             0,
             "#440154"
            ],
            [
             0.1111111111111111,
             "#482878"
            ],
            [
             0.2222222222222222,
             "#3e4989"
            ],
            [
             0.3333333333333333,
             "#31688e"
            ],
            [
             0.4444444444444444,
             "#26828e"
            ],
            [
             0.5555555555555556,
             "#1f9e89"
            ],
            [
             0.6666666666666666,
             "#35b779"
            ],
            [
             0.7777777777777778,
             "#6ece58"
            ],
            [
             0.8888888888888888,
             "#b5de2b"
            ],
            [
             1,
             "#fde725"
            ]
           ]
          },
          "colorway": [
           "#1F77B4",
           "#FF7F0E",
           "#2CA02C",
           "#D62728",
           "#9467BD",
           "#8C564B",
           "#E377C2",
           "#7F7F7F",
           "#BCBD22",
           "#17BECF"
          ],
          "font": {
           "color": "rgb(36,36,36)"
          },
          "geo": {
           "bgcolor": "white",
           "lakecolor": "white",
           "landcolor": "white",
           "showlakes": true,
           "showland": true,
           "subunitcolor": "white"
          },
          "hoverlabel": {
           "align": "left"
          },
          "hovermode": "closest",
          "mapbox": {
           "style": "light"
          },
          "paper_bgcolor": "white",
          "plot_bgcolor": "white",
          "polar": {
           "angularaxis": {
            "gridcolor": "rgb(232,232,232)",
            "linecolor": "rgb(36,36,36)",
            "showgrid": false,
            "showline": true,
            "ticks": "outside"
           },
           "bgcolor": "white",
           "radialaxis": {
            "gridcolor": "rgb(232,232,232)",
            "linecolor": "rgb(36,36,36)",
            "showgrid": false,
            "showline": true,
            "ticks": "outside"
           }
          },
          "scene": {
           "xaxis": {
            "backgroundcolor": "white",
            "gridcolor": "rgb(232,232,232)",
            "gridwidth": 2,
            "linecolor": "rgb(36,36,36)",
            "showbackground": true,
            "showgrid": false,
            "showline": true,
            "ticks": "outside",
            "zeroline": false,
            "zerolinecolor": "rgb(36,36,36)"
           },
           "yaxis": {
            "backgroundcolor": "white",
            "gridcolor": "rgb(232,232,232)",
            "gridwidth": 2,
            "linecolor": "rgb(36,36,36)",
            "showbackground": true,
            "showgrid": false,
            "showline": true,
            "ticks": "outside",
            "zeroline": false,
            "zerolinecolor": "rgb(36,36,36)"
           },
           "zaxis": {
            "backgroundcolor": "white",
            "gridcolor": "rgb(232,232,232)",
            "gridwidth": 2,
            "linecolor": "rgb(36,36,36)",
            "showbackground": true,
            "showgrid": false,
            "showline": true,
            "ticks": "outside",
            "zeroline": false,
            "zerolinecolor": "rgb(36,36,36)"
           }
          },
          "shapedefaults": {
           "fillcolor": "black",
           "line": {
            "width": 0
           },
           "opacity": 0.3
          },
          "ternary": {
           "aaxis": {
            "gridcolor": "rgb(232,232,232)",
            "linecolor": "rgb(36,36,36)",
            "showgrid": false,
            "showline": true,
            "ticks": "outside"
           },
           "baxis": {
            "gridcolor": "rgb(232,232,232)",
            "linecolor": "rgb(36,36,36)",
            "showgrid": false,
            "showline": true,
            "ticks": "outside"
           },
           "bgcolor": "white",
           "caxis": {
            "gridcolor": "rgb(232,232,232)",
            "linecolor": "rgb(36,36,36)",
            "showgrid": false,
            "showline": true,
            "ticks": "outside"
           }
          },
          "title": {
           "x": 0.05
          },
          "xaxis": {
           "automargin": true,
           "gridcolor": "rgb(232,232,232)",
           "linecolor": "rgb(36,36,36)",
           "showgrid": false,
           "showline": true,
           "ticks": "outside",
           "title": {
            "standoff": 15
           },
           "zeroline": false,
           "zerolinecolor": "rgb(36,36,36)"
          },
          "yaxis": {
           "automargin": true,
           "gridcolor": "rgb(232,232,232)",
           "linecolor": "rgb(36,36,36)",
           "showgrid": false,
           "showline": true,
           "ticks": "outside",
           "title": {
            "standoff": 15
           },
           "zeroline": false,
           "zerolinecolor": "rgb(36,36,36)"
          }
         }
        },
        "title": {
         "font": {
          "color": "Black",
          "size": 22
         },
         "text": "<b>Topics per Class</b>",
         "x": 0.4,
         "xanchor": "center",
         "y": 0.95,
         "yanchor": "top"
        },
        "width": 1250,
        "xaxis": {
         "showgrid": true,
         "title": {
          "text": "Frequency"
         }
        },
        "yaxis": {
         "showgrid": true,
         "title": {
          "text": "Class"
         }
        }
       }
      }
     },
     "metadata": {},
     "output_type": "display_data"
    }
   ],
   "source": [
    "# Visualize topics per class and auto-save\n",
    "topics_per_class = topic_model.topics_per_class(texts, classes=classes)\n",
    "fig_topics_per_class = topic_model.visualize_topics_per_class(topics_per_class, custom_labels=True)\n",
    "save_bertopic_figure(fig_topics_per_class, 'topics_per_class')\n",
    "fig_topics_per_class"
   ]
  },
  {
   "cell_type": "code",
   "execution_count": 43,
   "id": "3ff31593",
   "metadata": {},
   "outputs": [
    {
     "name": "stdout",
     "output_type": "stream",
     "text": [
      "❌ Error saving bertopic_document_datamap_Female_ADHD as png: 'Figure' object has no attribute 'write_image'\n",
      "❌ Error saving bertopic_document_datamap_Female_ADHD as html: 'Figure' object has no attribute 'write_html'\n"
     ]
    },
    {
     "data": {
      "image/png": "[encoded data removed]",
      "text/plain": [
       "<Figure size 1200x750 with 1 Axes>"
      ]
     },
     "execution_count": 43,
     "metadata": {},
     "output_type": "execute_result"
    },
    {
     "data": {
      "image/png": "[encoded data removed]",
      "text/plain": [
       "<Figure size 1200x750 with 1 Axes>"
      ]
     },
     "metadata": {},
     "output_type": "display_data"
    }
   ],
   "source": [
    "# Visualize document datamap and auto-save\n",
    "fig_document_datamap = topic_model.visualize_document_datamap(texts, embeddings=embeddings, custom_labels=True)\n",
    "save_bertopic_figure(fig_document_datamap, 'document_datamap')\n",
    "fig_document_datamap"
   ]
  },
  {
   "cell_type": "code",
   "execution_count": null,
   "id": "7372cdc8",
   "metadata": {},
   "outputs": [
    {
     "name": "stdout",
     "output_type": "stream",
     "text": [
      "Translating topic words to English...\n",
      "\n",
      "Translated Topics (Portuguese → English):\n",
      "============================================================\n",
      "Topic 0: adhd, people, there, life, where\n",
      "Topic 1: with me, friends, years, never, people\n",
      "Topic 2: all, so, world, special interest, special\n",
      "Topic 3: yet, I woke up, go, liked, day\n",
      "Topic 4: mental, health, always, to help, psychology\n",
      "Topic 5: with you, daily, to write, to do, give\n",
      "Topic 6: be, reasons, truly, trend, behavior\n",
      "Topic 7: base, father, to wake up, clear, I make\n",
      "Topic 8: time, work, hills, to do, tired\n",
      "Topic 9: I adore, myself, from that, special, special interests\n",
      "Topic 10: to read, I want to sleep, ideas, new, willing\n",
      "Topic 11: focused, normally, think, just, moment\n",
      "============================================================\n",
      "\n",
      "Translated Topics (Portuguese → English):\n",
      "============================================================\n",
      "Topic 0: adhd, people, there, life, where\n",
      "Topic 1: with me, friends, years, never, people\n",
      "Topic 2: all, so, world, special interest, special\n",
      "Topic 3: yet, I woke up, go, liked, day\n",
      "Topic 4: mental, health, always, to help, psychology\n",
      "Topic 5: with you, daily, to write, to do, give\n",
      "Topic 6: be, reasons, truly, trend, behavior\n",
      "Topic 7: base, father, to wake up, clear, I make\n",
      "Topic 8: time, work, hills, to do, tired\n",
      "Topic 9: I adore, myself, from that, special, special interests\n",
      "Topic 10: to read, I want to sleep, ideas, new, willing\n",
      "Topic 11: focused, normally, think, just, moment\n",
      "============================================================\n"
     ]
    }
   ],
   "source": [
    "# Translation approach 1: Using deep-translator (simple and reliable)\n",
    "from deep_translator import GoogleTranslator\n",
    "\n",
    "def translate_topic_words(topic_model, target_language='en', source_language='pt'):\n",
    "    \"\"\"\n",
    "    Translate topic words from Portuguese to English\n",
    "    \"\"\"\n",
    "    translator = GoogleTranslator(source=source_language, target=target_language)\n",
    "    \n",
    "    # Hardcoded translations for specific terms\n",
    "    hardcoded_translations = {\n",
    "        'phda': 'adhd',\n",
    "        'PHDA': 'ADHD',\n",
    "        'Phda': 'ADHD'\n",
    "    }\n",
    "    \n",
    "    topics_dict = topic_model.get_topics()\n",
    "    translated_topics = {}\n",
    "    \n",
    "    for topic_id, words_scores in topics_dict.items():\n",
    "        if topic_id == -1:  # Skip noise topic\n",
    "            continue\n",
    "            \n",
    "        # Extract just the words (first element of each tuple)\n",
    "        words = [word for word, score in words_scores]\n",
    "        \n",
    "        # Translate words\n",
    "        try:\n",
    "            translated_words = []\n",
    "            for word in words:\n",
    "                # Check if we have a hardcoded translation first\n",
    "                if word in hardcoded_translations:\n",
    "                    translated = hardcoded_translations[word]\n",
    "                else:\n",
    "                    translated = translator.translate(word)\n",
    "                translated_words.append(translated)\n",
    "            \n",
    "            # Keep the same scores but with translated words\n",
    "            translated_topic = [(translated_words[i], score) for i, (word, score) in enumerate(words_scores)]\n",
    "            translated_topics[topic_id] = translated_topic\n",
    "            \n",
    "        except Exception as e:\n",
    "            print(f\"Error translating topic {topic_id}: {e}\")\n",
    "            # Keep original if translation fails\n",
    "            translated_topics[topic_id] = words_scores\n",
    "    \n",
    "    return translated_topics\n",
    "\n",
    "# Get translated topics\n",
    "print(\"Translating topic words to English...\")\n",
    "translated_topics = translate_topic_words(topic_model)\n",
    "\n",
    "# Display translated topics\n",
    "print(\"\\nTranslated Topics (Portuguese → English):\")\n",
    "print(\"=\"*60)\n",
    "for topic_id, words_scores in translated_topics.items():\n",
    "    words = [word for word, score in words_scores[:5]]  # Top 5 words\n",
    "    print(f\"Topic {topic_id}: {', '.join(words)}\")\n",
    "print(\"=\"*60)"
   ]
  },
  {
   "cell_type": "code",
   "execution_count": 44,
   "id": "cc72446a",
   "metadata": {},
   "outputs": [
    {
     "name": "stdout",
     "output_type": "stream",
     "text": [
      "Creating FIXED BERTopic-style visualization with properly aligned titles...\n",
      "DEBUG: Available topics for plotting: [0, 1, 2, 3, 4, 5]\n",
      "DEBUG: Topic 0 -> Label: tópico: Desafios da Neurodiversidade e Saúde\n",
      "DEBUG: Topic 1 -> Label: tópico: Memórias de exclusão social\n",
      "DEBUG: Topic 2 -> Label: tópico: Interesses e Reflexões Pessoais\n",
      "DEBUG: Topic 3 -> Label: tópico: Reflexões sobre o cotidiano\n",
      "DEBUG: Topic 4 -> Label: tópico: Saúde Mental e Justiça Social\n",
      "DEBUG: Topic 5 -> Label: tópico: Dificuldades em escrever e correr\n",
      "🖼️  Saved bertopic_translated_barchart_Female_ADHD as PNG: 20250814_033637_bertopic_translated_barchart_female_adhd.png\n",
      "📊 Saved bertopic_translated_barchart_Female_ADHD as HTML: 20250814_033637_bertopic_translated_barchart_female_adhd.html\n",
      "✅ Total saved: 2 file(s) for 'bertopic_translated_barchart_Female_ADHD'\n",
      "📁 Location: /home/raquel/adhd-linguistic-patterns-beliefs-portuguese-women/outputs/plots\n",
      "------------------------------------------------------------\n",
      "🖼️  Saved bertopic_translated_barchart_Female_ADHD as PNG: 20250814_033637_bertopic_translated_barchart_female_adhd.png\n",
      "📊 Saved bertopic_translated_barchart_Female_ADHD as HTML: 20250814_033637_bertopic_translated_barchart_female_adhd.html\n",
      "✅ Total saved: 2 file(s) for 'bertopic_translated_barchart_Female_ADHD'\n",
      "📁 Location: /home/raquel/adhd-linguistic-patterns-beliefs-portuguese-women/outputs/plots\n",
      "------------------------------------------------------------\n"
     ]
    },
    {
     "data": {
      "application/vnd.plotly.v1+json": {
       "config": {
        "plotlyServerURL": "https://plot.ly"
       },
       "data": [
        {
         "hovertemplate": "<b>%{y}</b><br>Score: %{x:.3f}<extra></extra>",
         "marker": {
          "color": "#D55E00",
          "line": {
           "color": "rgba(0,0,0,0.3)",
           "width": 0.5
          }
         },
         "name": "Topic 0",
         "orientation": "h",
         "showlegend": false,
         "text": [
          "0.050",
          "0.051",
          "0.055",
          "0.079",
          "0.091"
         ],
         "textfont": {
          "size": 11
         },
         "textposition": "outside",
         "type": "bar",
         "x": [
          0.04977077427348433,
          0.05146621907240134,
          0.054522307500906045,
          0.07946110642353646,
          0.09101131450508788
         ],
         "xaxis": "x",
         "y": [
          "where",
          "life",
          "there",
          "people",
          "adhd"
         ],
         "yaxis": "y"
        },
        {
         "hovertemplate": "<b>%{y}</b><br>Score: %{x:.3f}<extra></extra>",
         "marker": {
          "color": "#0072B2",
          "line": {
           "color": "rgba(0,0,0,0.3)",
           "width": 0.5
          }
         },
         "name": "Topic 1",
         "orientation": "h",
         "showlegend": false,
         "text": [
          "0.043",
          "0.043",
          "0.047",
          "0.054",
          "0.061"
         ],
         "textfont": {
          "size": 11
         },
         "textposition": "outside",
         "type": "bar",
         "x": [
          0.04255644799999473,
          0.04262780282254281,
          0.04744029307978829,
          0.053716020523517025,
          0.060945582682466026
         ],
         "xaxis": "x2",
         "y": [
          "people",
          "never",
          "years",
          "friends",
          "with me"
         ],
         "yaxis": "y2"
        },
        {
         "hovertemplate": "<b>%{y}</b><br>Score: %{x:.3f}<extra></extra>",
         "marker": {
          "color": "#CC79A7",
          "line": {
           "color": "rgba(0,0,0,0.3)",
           "width": 0.5
          }
         },
         "name": "Topic 2",
         "orientation": "h",
         "showlegend": false,
         "text": [
          "0.132",
          "0.140",
          "0.140",
          "0.146",
          "0.153"
         ],
         "textfont": {
          "size": 11
         },
         "textposition": "outside",
         "type": "bar",
         "x": [
          0.13179626039126535,
          0.13950644891418074,
          0.13950644891418074,
          0.14621615763377618,
          0.15281136882977997
         ],
         "xaxis": "x3",
         "y": [
          "special",
          "special interest",
          "world",
          "so",
          "all"
         ],
         "yaxis": "y3"
        },
        {
         "hovertemplate": "<b>%{y}</b><br>Score: %{x:.3f}<extra></extra>",
         "marker": {
          "color": "#E69F00",
          "line": {
           "color": "rgba(0,0,0,0.3)",
           "width": 0.5
          }
         },
         "name": "Topic 3",
         "orientation": "h",
         "showlegend": false,
         "text": [
          "0.041",
          "0.041",
          "0.041",
          "0.047",
          "0.049"
         ],
         "textfont": {
          "size": 11
         },
         "textposition": "outside",
         "type": "bar",
         "x": [
          0.04093154915403538,
          0.041385299156677526,
          0.041385299156677526,
          0.046871769116233156,
          0.04947718645124574
         ],
         "xaxis": "x4",
         "y": [
          "day",
          "liked",
          "go",
          "I woke up",
          "yet"
         ],
         "yaxis": "y4"
        },
        {
         "hovertemplate": "<b>%{y}</b><br>Score: %{x:.3f}<extra></extra>",
         "marker": {
          "color": "#56B4E9",
          "line": {
           "color": "rgba(0,0,0,0.3)",
           "width": 0.5
          }
         },
         "name": "Topic 4",
         "orientation": "h",
         "showlegend": false,
         "text": [
          "0.159",
          "0.159",
          "0.183",
          "0.357",
          "0.403"
         ],
         "textfont": {
          "size": 11
         },
         "textposition": "outside",
         "type": "bar",
         "x": [
          0.15879571195159106,
          0.15879571195159106,
          0.1834715978670071,
          0.35694820522634363,
          0.40291380274200833
         ],
         "xaxis": "x5",
         "y": [
          "psychology",
          "to help",
          "always",
          "health",
          "mental"
         ],
         "yaxis": "y5"
        },
        {
         "hovertemplate": "<b>%{y}</b><br>Score: %{x:.3f}<extra></extra>",
         "marker": {
          "color": "#009E73",
          "line": {
           "color": "rgba(0,0,0,0.3)",
           "width": 0.5
          }
         },
         "name": "Topic 5",
         "orientation": "h",
         "showlegend": false,
         "text": [
          "0.347",
          "0.373",
          "0.381",
          "0.381",
          "0.542"
         ],
         "textfont": {
          "size": 11
         },
         "textposition": "outside",
         "type": "bar",
         "x": [
          0.3474624850216973,
          0.37303738755657445,
          0.3811097086838186,
          0.3811097086838186,
          0.5424969596340151
         ],
         "xaxis": "x6",
         "y": [
          "give",
          "to do",
          "to write",
          "daily",
          "with you"
         ],
         "yaxis": "y6"
        }
       ],
       "layout": {
        "annotations": [
         {
          "font": {
           "color": "black",
           "size": 12
          },
          "showarrow": false,
          "text": "tópico: Desafios da Neurodiversidade e Saúde",
          "x": 0.5,
          "xanchor": "center",
          "xref": "paper",
          "y": 0.9999999999999999,
          "yanchor": "bottom",
          "yref": "paper"
         },
         {
          "font": {
           "color": "black",
           "size": 12
          },
          "showarrow": false,
          "text": "tópico: Memórias de exclusão social",
          "x": 0.5,
          "xanchor": "center",
          "xref": "paper",
          "y": 0.82,
          "yanchor": "bottom",
          "yref": "paper"
         },
         {
          "font": {
           "color": "black",
           "size": 12
          },
          "showarrow": false,
          "text": "tópico: Interesses e Reflexões Pessoais",
          "x": 0.5,
          "xanchor": "center",
          "xref": "paper",
          "y": 0.64,
          "yanchor": "bottom",
          "yref": "paper"
         },
         {
          "font": {
           "color": "black",
           "size": 12
          },
          "showarrow": false,
          "text": "tópico: Reflexões sobre o cotidiano",
          "x": 0.5,
          "xanchor": "center",
          "xref": "paper",
          "y": 0.45999999999999996,
          "yanchor": "bottom",
          "yref": "paper"
         },
         {
          "font": {
           "color": "black",
           "size": 12
          },
          "showarrow": false,
          "text": "tópico: Saúde Mental e Justiça Social",
          "x": 0.5,
          "xanchor": "center",
          "xref": "paper",
          "y": 0.27999999999999997,
          "yanchor": "bottom",
          "yref": "paper"
         },
         {
          "font": {
           "color": "black",
           "size": 12
          },
          "showarrow": false,
          "text": "tópico: Dificuldades em escrever e correr",
          "x": 0.5,
          "xanchor": "center",
          "xref": "paper",
          "y": 0.09999999999999999,
          "yanchor": "bottom",
          "yref": "paper"
         }
        ],
        "font": {
         "color": "black",
         "size": 11
        },
        "height": 700,
        "margin": {
         "b": 10,
         "l": 10,
         "r": 10,
         "t": 60
        },
        "paper_bgcolor": "white",
        "plot_bgcolor": "white",
        "template": {
         "data": {
          "bar": [
           {
            "error_x": {
             "color": "#2a3f5f"
            },
            "error_y": {
             "color": "#2a3f5f"
            },
            "marker": {
             "line": {
              "color": "#E5ECF6",
              "width": 0.5
             },
             "pattern": {
              "fillmode": "overlay",
              "size": 10,
              "solidity": 0.2
             }
            },
            "type": "bar"
           }
          ],
          "barpolar": [
           {
            "marker": {
             "line": {
              "color": "#E5ECF6",
              "width": 0.5
             },
             "pattern": {
              "fillmode": "overlay",
              "size": 10,
              "solidity": 0.2
             }
            },
            "type": "barpolar"
           }
          ],
          "carpet": [
           {
            "aaxis": {
             "endlinecolor": "#2a3f5f",
             "gridcolor": "white",
             "linecolor": "white",
             "minorgridcolor": "white",
             "startlinecolor": "#2a3f5f"
            },
            "baxis": {
             "endlinecolor": "#2a3f5f",
             "gridcolor": "white",
             "linecolor": "white",
             "minorgridcolor": "white",
             "startlinecolor": "#2a3f5f"
            },
            "type": "carpet"
           }
          ],
          "choropleth": [
           {
            "colorbar": {
             "outlinewidth": 0,
             "ticks": ""
            },
            "type": "choropleth"
           }
          ],
          "contour": [
           {
            "colorbar": {
             "outlinewidth": 0,
             "ticks": ""
            },
            "colorscale": [
             [
              0,
              "#0d0887"
             ],
             [
              0.1111111111111111,
              "#46039f"
             ],
             [
              0.2222222222222222,
              "#7201a8"
             ],
             [
              0.3333333333333333,
              "#9c179e"
             ],
             [
              0.4444444444444444,
              "#bd3786"
             ],
             [
              0.5555555555555556,
              "#d8576b"
             ],
             [
              0.6666666666666666,
              "#ed7953"
             ],
             [
              0.7777777777777778,
              "#fb9f3a"
             ],
             [
              0.8888888888888888,
              "#fdca26"
             ],
             [
              1,
              "#f0f921"
             ]
            ],
            "type": "contour"
           }
          ],
          "contourcarpet": [
           {
            "colorbar": {
             "outlinewidth": 0,
             "ticks": ""
            },
            "type": "contourcarpet"
           }
          ],
          "heatmap": [
           {
            "colorbar": {
             "outlinewidth": 0,
             "ticks": ""
            },
            "colorscale": [
             [
              0,
              "#0d0887"
             ],
             [
              0.1111111111111111,
              "#46039f"
             ],
             [
              0.2222222222222222,
              "#7201a8"
             ],
             [
              0.3333333333333333,
              "#9c179e"
             ],
             [
              0.4444444444444444,
              "#bd3786"
             ],
             [
              0.5555555555555556,
              "#d8576b"
             ],
             [
              0.6666666666666666,
              "#ed7953"
             ],
             [
              0.7777777777777778,
              "#fb9f3a"
             ],
             [
              0.8888888888888888,
              "#fdca26"
             ],
             [
              1,
              "#f0f921"
             ]
            ],
            "type": "heatmap"
           }
          ],
          "histogram": [
           {
            "marker": {
             "pattern": {
              "fillmode": "overlay",
              "size": 10,
              "solidity": 0.2
             }
            },
            "type": "histogram"
           }
          ],
          "histogram2d": [
           {
            "colorbar": {
             "outlinewidth": 0,
             "ticks": ""
            },
            "colorscale": [
             [
              0,
              "#0d0887"
             ],
             [
              0.1111111111111111,
              "#46039f"
             ],
             [
              0.2222222222222222,
              "#7201a8"
             ],
             [
              0.3333333333333333,
              "#9c179e"
             ],
             [
              0.4444444444444444,
              "#bd3786"
             ],
             [
              0.5555555555555556,
              "#d8576b"
             ],
             [
              0.6666666666666666,
              "#ed7953"
             ],
             [
              0.7777777777777778,
              "#fb9f3a"
             ],
             [
              0.8888888888888888,
              "#fdca26"
             ],
             [
              1,
              "#f0f921"
             ]
            ],
            "type": "histogram2d"
           }
          ],
          "histogram2dcontour": [
           {
            "colorbar": {
             "outlinewidth": 0,
             "ticks": ""
            },
            "colorscale": [
             [
              0,
              "#0d0887"
             ],
             [
              0.1111111111111111,
              "#46039f"
             ],
             [
              0.2222222222222222,
              "#7201a8"
             ],
             [
              0.3333333333333333,
              "#9c179e"
             ],
             [
              0.4444444444444444,
              "#bd3786"
             ],
             [
              0.5555555555555556,
              "#d8576b"
             ],
             [
              0.6666666666666666,
              "#ed7953"
             ],
             [
              0.7777777777777778,
              "#fb9f3a"
             ],
             [
              0.8888888888888888,
              "#fdca26"
             ],
             [
              1,
              "#f0f921"
             ]
            ],
            "type": "histogram2dcontour"
           }
          ],
          "mesh3d": [
           {
            "colorbar": {
             "outlinewidth": 0,
             "ticks": ""
            },
            "type": "mesh3d"
           }
          ],
          "parcoords": [
           {
            "line": {
             "colorbar": {
              "outlinewidth": 0,
              "ticks": ""
             }
            },
            "type": "parcoords"
           }
          ],
          "pie": [
           {
            "automargin": true,
            "type": "pie"
           }
          ],
          "scatter": [
           {
            "fillpattern": {
             "fillmode": "overlay",
             "size": 10,
             "solidity": 0.2
            },
            "type": "scatter"
           }
          ],
          "scatter3d": [
           {
            "line": {
             "colorbar": {
              "outlinewidth": 0,
              "ticks": ""
             }
            },
            "marker": {
             "colorbar": {
              "outlinewidth": 0,
              "ticks": ""
             }
            },
            "type": "scatter3d"
           }
          ],
          "scattercarpet": [
           {
            "marker": {
             "colorbar": {
              "outlinewidth": 0,
              "ticks": ""
             }
            },
            "type": "scattercarpet"
           }
          ],
          "scattergeo": [
           {
            "marker": {
             "colorbar": {
              "outlinewidth": 0,
              "ticks": ""
             }
            },
            "type": "scattergeo"
           }
          ],
          "scattergl": [
           {
            "marker": {
             "colorbar": {
              "outlinewidth": 0,
              "ticks": ""
             }
            },
            "type": "scattergl"
           }
          ],
          "scattermap": [
           {
            "marker": {
             "colorbar": {
              "outlinewidth": 0,
              "ticks": ""
             }
            },
            "type": "scattermap"
           }
          ],
          "scattermapbox": [
           {
            "marker": {
             "colorbar": {
              "outlinewidth": 0,
              "ticks": ""
             }
            },
            "type": "scattermapbox"
           }
          ],
          "scatterpolar": [
           {
            "marker": {
             "colorbar": {
              "outlinewidth": 0,
              "ticks": ""
             }
            },
            "type": "scatterpolar"
           }
          ],
          "scatterpolargl": [
           {
            "marker": {
             "colorbar": {
              "outlinewidth": 0,
              "ticks": ""
             }
            },
            "type": "scatterpolargl"
           }
          ],
          "scatterternary": [
           {
            "marker": {
             "colorbar": {
              "outlinewidth": 0,
              "ticks": ""
             }
            },
            "type": "scatterternary"
           }
          ],
          "surface": [
           {
            "colorbar": {
             "outlinewidth": 0,
             "ticks": ""
            },
            "colorscale": [
             [
              0,
              "#0d0887"
             ],
             [
              0.1111111111111111,
              "#46039f"
             ],
             [
              0.2222222222222222,
              "#7201a8"
             ],
             [
              0.3333333333333333,
              "#9c179e"
             ],
             [
              0.4444444444444444,
              "#bd3786"
             ],
             [
              0.5555555555555556,
              "#d8576b"
             ],
             [
              0.6666666666666666,
              "#ed7953"
             ],
             [
              0.7777777777777778,
              "#fb9f3a"
             ],
             [
              0.8888888888888888,
              "#fdca26"
             ],
             [
              1,
              "#f0f921"
             ]
            ],
            "type": "surface"
           }
          ],
          "table": [
           {
            "cells": {
             "fill": {
              "color": "#EBF0F8"
             },
             "line": {
              "color": "white"
             }
            },
            "header": {
             "fill": {
              "color": "#C8D4E3"
             },
             "line": {
              "color": "white"
             }
            },
            "type": "table"
           }
          ]
         },
         "layout": {
          "annotationdefaults": {
           "arrowcolor": "#2a3f5f",
           "arrowhead": 0,
           "arrowwidth": 1
          },
          "autotypenumbers": "strict",
          "coloraxis": {
           "colorbar": {
            "outlinewidth": 0,
            "ticks": ""
           }
          },
          "colorscale": {
           "diverging": [
            [
             0,
             "#8e0152"
            ],
            [
             0.1,
             "#c51b7d"
            ],
            [
             0.2,
             "#de77ae"
            ],
            [
             0.3,
             "#f1b6da"
            ],
            [
             0.4,
             "#fde0ef"
            ],
            [
             0.5,
             "#f7f7f7"
            ],
            [
             0.6,
             "#e6f5d0"
            ],
            [
             0.7,
             "#b8e186"
            ],
            [
             0.8,
             "#7fbc41"
            ],
            [
             0.9,
             "#4d9221"
            ],
            [
             1,
             "#276419"
            ]
           ],
           "sequential": [
            [
             0,
             "#0d0887"
            ],
            [
             0.1111111111111111,
             "#46039f"
            ],
            [
             0.2222222222222222,
             "#7201a8"
            ],
            [
             0.3333333333333333,
             "#9c179e"
            ],
            [
             0.4444444444444444,
             "#bd3786"
            ],
            [
             0.5555555555555556,
             "#d8576b"
            ],
            [
             0.6666666666666666,
             "#ed7953"
            ],
            [
             0.7777777777777778,
             "#fb9f3a"
            ],
            [
             0.8888888888888888,
             "#fdca26"
            ],
            [
             1,
             "#f0f921"
            ]
           ],
           "sequentialminus": [
            [
             0,
             "#0d0887"
            ],
            [
             0.1111111111111111,
             "#46039f"
            ],
            [
             0.2222222222222222,
             "#7201a8"
            ],
            [
             0.3333333333333333,
             "#9c179e"
            ],
            [
             0.4444444444444444,
             "#bd3786"
            ],
            [
             0.5555555555555556,
             "#d8576b"
            ],
            [
             0.6666666666666666,
             "#ed7953"
            ],
            [
             0.7777777777777778,
             "#fb9f3a"
            ],
            [
             0.8888888888888888,
             "#fdca26"
            ],
            [
             1,
             "#f0f921"
            ]
           ]
          },
          "colorway": [
           "#636efa",
           "#EF553B",
           "#00cc96",
           "#ab63fa",
           "#FFA15A",
           "#19d3f3",
           "#FF6692",
           "#B6E880",
           "#FF97FF",
           "#FECB52"
          ],
          "font": {
           "color": "#2a3f5f"
          },
          "geo": {
           "bgcolor": "white",
           "lakecolor": "white",
           "landcolor": "#E5ECF6",
           "showlakes": true,
           "showland": true,
           "subunitcolor": "white"
          },
          "hoverlabel": {
           "align": "left"
          },
          "hovermode": "closest",
          "mapbox": {
           "style": "light"
          },
          "paper_bgcolor": "white",
          "plot_bgcolor": "#E5ECF6",
          "polar": {
           "angularaxis": {
            "gridcolor": "white",
            "linecolor": "white",
            "ticks": ""
           },
           "bgcolor": "#E5ECF6",
           "radialaxis": {
            "gridcolor": "white",
            "linecolor": "white",
            "ticks": ""
           }
          },
          "scene": {
           "xaxis": {
            "backgroundcolor": "#E5ECF6",
            "gridcolor": "white",
            "gridwidth": 2,
            "linecolor": "white",
            "showbackground": true,
            "ticks": "",
            "zerolinecolor": "white"
           },
           "yaxis": {
            "backgroundcolor": "#E5ECF6",
            "gridcolor": "white",
            "gridwidth": 2,
            "linecolor": "white",
            "showbackground": true,
            "ticks": "",
            "zerolinecolor": "white"
           },
           "zaxis": {
            "backgroundcolor": "#E5ECF6",
            "gridcolor": "white",
            "gridwidth": 2,
            "linecolor": "white",
            "showbackground": true,
            "ticks": "",
            "zerolinecolor": "white"
           }
          },
          "shapedefaults": {
           "line": {
            "color": "#2a3f5f"
           }
          },
          "ternary": {
           "aaxis": {
            "gridcolor": "white",
            "linecolor": "white",
            "ticks": ""
           },
           "baxis": {
            "gridcolor": "white",
            "linecolor": "white",
            "ticks": ""
           },
           "bgcolor": "#E5ECF6",
           "caxis": {
            "gridcolor": "white",
            "linecolor": "white",
            "ticks": ""
           }
          },
          "title": {
           "x": 0.05
          },
          "xaxis": {
           "automargin": true,
           "gridcolor": "white",
           "linecolor": "white",
           "ticks": "",
           "title": {
            "standoff": 15
           },
           "zerolinecolor": "white",
           "zerolinewidth": 2
          },
          "yaxis": {
           "automargin": true,
           "gridcolor": "white",
           "linecolor": "white",
           "ticks": "",
           "title": {
            "standoff": 15
           },
           "zerolinecolor": "white",
           "zerolinewidth": 2
          }
         }
        },
        "title": {
         "font": {
          "color": "black",
          "size": 16
         },
         "text": "<b>Topic Word Scores</b>",
         "x": 0.5,
         "xanchor": "center"
        },
        "width": 1000,
        "xaxis": {
         "anchor": "y",
         "domain": [
          0,
          1
         ],
         "gridcolor": "rgba(0,0,0,0.1)",
         "gridwidth": 1,
         "linecolor": "black",
         "linewidth": 1,
         "showgrid": true,
         "showline": true,
         "zeroline": true,
         "zerolinecolor": "rgba(0,0,0,0.3)",
         "zerolinewidth": 1
        },
        "xaxis2": {
         "anchor": "y2",
         "domain": [
          0,
          1
         ],
         "gridcolor": "rgba(0,0,0,0.1)",
         "gridwidth": 1,
         "linecolor": "black",
         "linewidth": 1,
         "showgrid": true,
         "showline": true,
         "zeroline": true,
         "zerolinecolor": "rgba(0,0,0,0.3)",
         "zerolinewidth": 1
        },
        "xaxis3": {
         "anchor": "y3",
         "domain": [
          0,
          1
         ],
         "gridcolor": "rgba(0,0,0,0.1)",
         "gridwidth": 1,
         "linecolor": "black",
         "linewidth": 1,
         "showgrid": true,
         "showline": true,
         "zeroline": true,
         "zerolinecolor": "rgba(0,0,0,0.3)",
         "zerolinewidth": 1
        },
        "xaxis4": {
         "anchor": "y4",
         "domain": [
          0,
          1
         ],
         "gridcolor": "rgba(0,0,0,0.1)",
         "gridwidth": 1,
         "linecolor": "black",
         "linewidth": 1,
         "showgrid": true,
         "showline": true,
         "zeroline": true,
         "zerolinecolor": "rgba(0,0,0,0.3)",
         "zerolinewidth": 1
        },
        "xaxis5": {
         "anchor": "y5",
         "domain": [
          0,
          1
         ],
         "gridcolor": "rgba(0,0,0,0.1)",
         "gridwidth": 1,
         "linecolor": "black",
         "linewidth": 1,
         "showgrid": true,
         "showline": true,
         "zeroline": true,
         "zerolinecolor": "rgba(0,0,0,0.3)",
         "zerolinewidth": 1
        },
        "xaxis6": {
         "anchor": "y6",
         "domain": [
          0,
          1
         ],
         "gridcolor": "rgba(0,0,0,0.1)",
         "gridwidth": 1,
         "linecolor": "black",
         "linewidth": 1,
         "showgrid": true,
         "showline": true,
         "zeroline": true,
         "zerolinecolor": "rgba(0,0,0,0.3)",
         "zerolinewidth": 1
        },
        "yaxis": {
         "anchor": "x",
         "domain": [
          0.8999999999999999,
          0.9999999999999999
         ],
         "linecolor": "black",
         "linewidth": 1,
         "showgrid": false,
         "showline": true,
         "tickfont": {
          "size": 10
         }
        },
        "yaxis2": {
         "anchor": "x2",
         "domain": [
          0.72,
          0.82
         ],
         "linecolor": "black",
         "linewidth": 1,
         "showgrid": false,
         "showline": true,
         "tickfont": {
          "size": 10
         }
        },
        "yaxis3": {
         "anchor": "x3",
         "domain": [
          0.54,
          0.64
         ],
         "linecolor": "black",
         "linewidth": 1,
         "showgrid": false,
         "showline": true,
         "tickfont": {
          "size": 10
         }
        },
        "yaxis4": {
         "anchor": "x4",
         "domain": [
          0.36,
          0.45999999999999996
         ],
         "linecolor": "black",
         "linewidth": 1,
         "showgrid": false,
         "showline": true,
         "tickfont": {
          "size": 10
         }
        },
        "yaxis5": {
         "anchor": "x5",
         "domain": [
          0.18,
          0.27999999999999997
         ],
         "linecolor": "black",
         "linewidth": 1,
         "showgrid": false,
         "showline": true,
         "tickfont": {
          "size": 10
         }
        },
        "yaxis6": {
         "anchor": "x6",
         "domain": [
          0,
          0.09999999999999999
         ],
         "linecolor": "black",
         "linewidth": 1,
         "showgrid": false,
         "showline": true,
         "tickfont": {
          "size": 10
         }
        }
       }
      }
     },
     "metadata": {},
     "output_type": "display_data"
    }
   ],
   "source": [
    "def visualize_barchart_translated_fixed(topic_model, translated_topics, topics=None, top_k_topics=6, n_words=5, \n",
    "                                        custom_labels=True, title=\"<b>Topic Word Scores</b>\", \n",
    "                                        width=800, height=600):\n",
    "    \"\"\"\n",
    "    Create a bar chart visualization in the exact same style as BERTopic's visualize_barchart\n",
    "    but with translated words - FIXED VERSION for proper label mapping\n",
    "    \"\"\"\n",
    "    import plotly.graph_objects as go\n",
    "    from plotly.subplots import make_subplots\n",
    "    \n",
    "    # Get topic information and prepare data\n",
    "    topic_info = topic_model.get_topic_info()\n",
    "    \n",
    "    # Select topics to show (excluding outliers/noise topic -1)\n",
    "    if topics is None:\n",
    "        # Get top k topics by size (excluding noise topic -1)\n",
    "        selected_topics = topic_info[topic_info['Topic'] != -1].head(top_k_topics)['Topic'].tolist()\n",
    "    else:\n",
    "        # Filter out -1 from provided topics\n",
    "        selected_topics = [t for t in topics if t != -1]\n",
    "    \n",
    "    # Filter selected_topics to only include those that exist in translated_topics\n",
    "    available_topics = [topic_id for topic_id in selected_topics if topic_id in translated_topics]\n",
    "    \n",
    "    print(f\"DEBUG: Available topics for plotting: {available_topics}\")\n",
    "    \n",
    "    # Create subplot titles ONLY for the topics that will actually be plotted\n",
    "    # The key fix: properly map topic IDs to their position in the topic_info dataframe\n",
    "    subplot_titles = []\n",
    "    for topic_id in available_topics:\n",
    "        if custom_labels and hasattr(topic_model, 'custom_labels_') and topic_model.custom_labels_:\n",
    "            # Find the topic in topic_info and get its custom label\n",
    "            topic_row = topic_info[topic_info['Topic'] == topic_id]\n",
    "            if not topic_row.empty and 'CustomName' in topic_row.columns:\n",
    "                topic_label = topic_row.iloc[0]['CustomName']\n",
    "            elif not topic_row.empty and 'Name' in topic_row.columns:\n",
    "                topic_label = topic_row.iloc[0]['Name']\n",
    "            else:\n",
    "                # Fallback: try to get from custom_labels_ array using topic position\n",
    "                # Find the position of this topic in the topic_info (excluding outliers)\n",
    "                non_outlier_topics = topic_info[topic_info['Topic'] != -1]\n",
    "                topic_position = None\n",
    "                for idx, row in non_outlier_topics.iterrows():\n",
    "                    if row['Topic'] == topic_id:\n",
    "                        topic_position = list(non_outlier_topics.index).index(idx)\n",
    "                        break\n",
    "                \n",
    "                if topic_position is not None and topic_position < len(topic_model.custom_labels_):\n",
    "                    topic_label = topic_model.custom_labels_[topic_position]\n",
    "                else:\n",
    "                    topic_label = f\"Topic {topic_id}\"\n",
    "        else:\n",
    "            topic_label = f\"Topic {topic_id}\"\n",
    "        \n",
    "        print(f\"DEBUG: Topic {topic_id} -> Label: {topic_label}\")\n",
    "        subplot_titles.append(topic_label)\n",
    "    \n",
    "    # Prepare subplot structure - one row per topic that will actually be plotted\n",
    "    n_topics = len(available_topics)\n",
    "    if n_topics == 0:\n",
    "        print(\"No topics available for plotting\")\n",
    "        return None\n",
    "        \n",
    "    fig = make_subplots(\n",
    "        rows=n_topics, \n",
    "        cols=1,\n",
    "        shared_xaxes=False,\n",
    "        vertical_spacing=0.08,\n",
    "        subplot_titles=subplot_titles\n",
    "    )\n",
    "    \n",
    "    # Color scheme similar to BERTopic\n",
    "    colors = [\"#D55E00\", \"#0072B2\", \"#CC79A7\", \"#E69F00\", \"#56B4E9\", \"#009E73\", \"#F0E442\"]\n",
    "    \n",
    "    # Process each topic that will actually be plotted\n",
    "    for i, topic_id in enumerate(available_topics):\n",
    "        # Get translated words and scores\n",
    "        words_scores = translated_topics[topic_id][:n_words]\n",
    "        words = [word for word, score in words_scores]\n",
    "        scores = [score for word, score in words_scores]\n",
    "        \n",
    "        # Reverse order for proper display (highest scores at top)\n",
    "        words = words[::-1]\n",
    "        scores = scores[::-1]\n",
    "        \n",
    "        # Create horizontal bar trace\n",
    "        trace = go.Bar(\n",
    "            y=words,\n",
    "            x=scores,\n",
    "            orientation='h',\n",
    "            marker=dict(\n",
    "                color=colors[i % len(colors)],\n",
    "                line=dict(color='rgba(0,0,0,0.3)', width=0.5)\n",
    "            ),\n",
    "            text=[f\"{score:.3f}\" for score in scores],\n",
    "            textposition='outside',\n",
    "            textfont=dict(size=11),\n",
    "            hovertemplate='<b>%{y}</b><br>Score: %{x:.3f}<extra></extra>',\n",
    "            showlegend=False,\n",
    "            name=f\"Topic {topic_id}\"\n",
    "        )\n",
    "        \n",
    "        fig.add_trace(trace, row=i+1, col=1)\n",
    "    \n",
    "    # Update layout to match BERTopic style\n",
    "    fig.update_layout(\n",
    "        title=dict(\n",
    "            text=title,\n",
    "            x=0.5,\n",
    "            xanchor=\"center\",\n",
    "            font=dict(size=16, color=\"black\")\n",
    "        ),\n",
    "        height=height,\n",
    "        width=width,\n",
    "        plot_bgcolor='white',\n",
    "        paper_bgcolor='white',\n",
    "        font=dict(color=\"black\", size=11),\n",
    "        margin=dict(l=10, r=10, t=60, b=10)\n",
    "    )\n",
    "    \n",
    "    # Update axes for each subplot\n",
    "    for i in range(n_topics):\n",
    "        # X-axis\n",
    "        fig.update_xaxes(\n",
    "            showgrid=True,\n",
    "            gridwidth=1,\n",
    "            gridcolor='rgba(0,0,0,0.1)',\n",
    "            zeroline=True,\n",
    "            zerolinewidth=1,\n",
    "            zerolinecolor='rgba(0,0,0,0.3)',\n",
    "            showline=True,\n",
    "            linewidth=1,\n",
    "            linecolor='black',\n",
    "            row=i+1, col=1\n",
    "        )\n",
    "        \n",
    "        # Y-axis\n",
    "        fig.update_yaxes(\n",
    "            showgrid=False,\n",
    "            showline=True,\n",
    "            linewidth=1,\n",
    "            linecolor='black',\n",
    "            tickfont=dict(size=10),\n",
    "            row=i+1, col=1\n",
    "        )\n",
    "    \n",
    "    # Update annotation style for subplot titles\n",
    "    fig.update_annotations(font_size=12, font_color=\"black\")\n",
    "    \n",
    "    return fig\n",
    "\n",
    "# Create the FIXED BERTopic-style visualization with translated words\n",
    "print(\"Creating FIXED BERTopic-style visualization with properly aligned titles...\")\n",
    "fig_bertopic_style_fixed = visualize_barchart_translated_fixed(\n",
    "    topic_model, \n",
    "    translated_topics, \n",
    "    top_k_topics=6, \n",
    "    n_words=5,\n",
    "    custom_labels=True,\n",
    "    width=1000,\n",
    "    height=700\n",
    ")\n",
    "    \n",
    "if fig_bertopic_style_fixed:\n",
    "    # Auto-save the translated barchart\n",
    "    save_bertopic_figure(fig_bertopic_style_fixed, 'translated_barchart')\n",
    "    fig_bertopic_style_fixed.show()\n",
    "else:\n",
    "    print(\"No valid topics to display\")"
   ]
  },
  {
   "cell_type": "code",
   "execution_count": 37,
   "id": "3dfc4e85",
   "metadata": {},
   "outputs": [
    {
     "name": "stdout",
     "output_type": "stream",
     "text": [
      "✅ Plot saved successfully as: ../../outputs/plots/bertopic_translated_barchart_20250814_032913.png\n",
      "📁 Full path: /home/raquel/adhd-linguistic-patterns-beliefs-portuguese-women/outputs/plots/bertopic_translated_barchart_20250814_032913.png\n"
     ]
    }
   ],
   "source": [
    "# Save the plot as PNG file\n",
    "import os\n",
    "from datetime import datetime\n",
    "\n",
    "# Create outputs directory if it doesn't exist\n",
    "output_dir = \"../../outputs/plots\"\n",
    "os.makedirs(output_dir, exist_ok=True)\n",
    "\n",
    "# Generate filename with timestamp\n",
    "timestamp = datetime.now().strftime(\"%Y%m%d_%H%M%S\")\n",
    "filename = f\"bertopic_translated_barchart_{timestamp}.png\"\n",
    "filepath = os.path.join(output_dir, filename)\n",
    "\n",
    "# Save the figure as PNG\n",
    "if fig_bertopic_style_fixed:\n",
    "    try:\n",
    "        fig_bertopic_style_fixed.write_image(\n",
    "            filepath,\n",
    "            width=1000,\n",
    "            height=700,\n",
    "            scale=2,  # Higher resolution (2x)\n",
    "            format=\"png\"\n",
    "        )\n",
    "        print(f\"✅ Plot saved successfully as: {filepath}\")\n",
    "        print(f\"📁 Full path: {os.path.abspath(filepath)}\")\n",
    "    except Exception as e:\n",
    "        print(f\"❌ Error saving plot: {e}\")\n",
    "        print(\"💡 Make sure you have 'kaleido' installed: uv add kaleido\")\n",
    "else:\n",
    "    print(\"❌ No figure to save. Please run the visualization cell first.\")"
   ]
  },
  {
   "cell_type": "code",
   "execution_count": 45,
   "id": "28fa6879",
   "metadata": {},
   "outputs": [
    {
     "name": "stderr",
     "output_type": "stream",
     "text": [
      "  0%|          | 0/11 [00:00<?, ?it/s]"
     ]
    },
    {
     "name": "stderr",
     "output_type": "stream",
     "text": [
      "100%|██████████| 11/11 [00:00<00:00, 407.57it/s]\n"
     ]
    },
    {
     "name": "stdout",
     "output_type": "stream",
     "text": [
      "🖼️  Saved bertopic_hierarchy_Female_ADHD as PNG: 20250814_033722_bertopic_hierarchy_female_adhd.png\n",
      "📊 Saved bertopic_hierarchy_Female_ADHD as HTML: 20250814_033722_bertopic_hierarchy_female_adhd.html\n",
      "✅ Total saved: 2 file(s) for 'bertopic_hierarchy_Female_ADHD'\n",
      "📁 Location: /home/raquel/adhd-linguistic-patterns-beliefs-portuguese-women/outputs/plots\n",
      "------------------------------------------------------------\n"
     ]
    },
    {
     "data": {
      "application/vnd.plotly.v1+json": {
       "config": {
        "plotlyServerURL": "https://plot.ly"
       },
       "data": [
        {
         "hoverinfo": "text",
         "marker": {
          "color": "rgb(61,153,112)"
         },
         "mode": "lines",
         "text": [
          "tópico: Leitura e sonhos criativos",
          "",
          "",
          "tópico: Sobrecarga e Procrastinação Acadêmica"
         ],
         "type": "scatter",
         "x": {
          "bdata": "AAAAAAAAAACyyip4BE/rP7LKKngET+s/AAAAAAAAAAA=",
          "dtype": "f8"
         },
         "xaxis": "x",
         "y": {
          "bdata": "AAAAAAAAFMAAAAAAAAAUwAAAAAAAAC7AAAAAAAAALsA=",
          "dtype": "f8"
         },
         "yaxis": "y"
        },
        {
         "hoverinfo": "text",
         "marker": {
          "color": "rgb(61,153,112)"
         },
         "mode": "lines",
         "text": [
          "tópico: Dificuldades em escrever e correr",
          "",
          "",
          "tópico: Atividades que promovem relaxamento"
         ],
         "type": "scatter",
         "x": {
          "bdata": "AAAAAAAAAABujRgGwNHqP26NGAbA0eo/AAAAAAAAAAA=",
          "dtype": "f8"
         },
         "xaxis": "x",
         "y": {
          "bdata": "AAAAAAAAOcAAAAAAAAA5wAAAAAAAgEHAAAAAAACAQcA=",
          "dtype": "f8"
         },
         "yaxis": "y"
        },
        {
         "hoverinfo": "text",
         "marker": {
          "color": "rgb(61,153,112)"
         },
         "mode": "lines",
         "text": [
          "tempo_trabalho_coisas_quero dormir_montes",
          "",
          "",
          "consigo_escrever_normalmente_pensar_diário"
         ],
         "type": "scatter",
         "x": {
          "bdata": "ssoqeARP6z/FzbOFWR3vP8XNs4VZHe8/bo0YBsDR6j8=",
          "dtype": "f8"
         },
         "xaxis": "x",
         "y": {
          "bdata": "AAAAAAAAJMAAAAAAAAAkwAAAAAAAAD7AAAAAAAAAPsA=",
          "dtype": "f8"
         },
         "yaxis": "y"
        },
        {
         "hoverinfo": "text",
         "marker": {
          "color": "rgb(255,65,54)"
         },
         "mode": "lines",
         "text": [
          "tópico: Reflexões sobre o cotidiano",
          "",
          "",
          "tópico: Memórias de exclusão social"
         ],
         "type": "scatter",
         "x": {
          "bdata": "AAAAAAAAAAB1MtNUdQvkP3Uy01R1C+Q/AAAAAAAAAAA=",
          "dtype": "f8"
         },
         "xaxis": "x",
         "y": {
          "bdata": "AAAAAACAS8AAAAAAAIBLwAAAAAAAQFDAAAAAAABAUMA=",
          "dtype": "f8"
         },
         "yaxis": "y"
        },
        {
         "hoverinfo": "text",
         "marker": {
          "color": "rgb(255,65,54)"
         },
         "mode": "lines",
         "text": [
          "ainda_uns_dia_nunca_amigos",
          "",
          "",
          "tópico: Desafios da Neurodiversidade e Saúde"
         ],
         "type": "scatter",
         "x": {
          "bdata": "dTLTVHUL5D8ua1J/mODmPy5rUn+Y4OY/AAAAAAAAAAA=",
          "dtype": "f8"
         },
         "xaxis": "x",
         "y": {
          "bdata": "AAAAAAAATsAAAAAAAABOwAAAAAAAwFLAAAAAAADAUsA=",
          "dtype": "f8"
         },
         "yaxis": "y"
        },
        {
         "hoverinfo": "text",
         "marker": {
          "color": "rgb(255,65,54)"
         },
         "mode": "lines",
         "text": [
          "tópico: Momentos de felicidade cotidiana",
          "",
          "",
          "pessoas_vida_uns_ainda_porque"
         ],
         "type": "scatter",
         "x": {
          "bdata": "AAAAAAAAAACf1xUX1J3qP5/XFRfUneo/LmtSf5jg5j8=",
          "dtype": "f8"
         },
         "xaxis": "x",
         "y": {
          "bdata": "AAAAAACARsAAAAAAAIBGwAAAAAAA4FDAAAAAAADgUMA=",
          "dtype": "f8"
         },
         "yaxis": "y"
        },
        {
         "hoverinfo": "text",
         "marker": {
          "color": "rgb(35,205,205)"
         },
         "mode": "lines",
         "text": [
          "tópico: Interesses e Reflexões Pessoais",
          "",
          "",
          "tópico: Interesses em saúde e skincare"
         ],
         "type": "scatter",
         "x": {
          "bdata": "AAAAAAAAAADxcw8vh9boP/FzDy+H1ug/AAAAAAAAAAA=",
          "dtype": "f8"
         },
         "xaxis": "x",
         "y": {
          "bdata": "AAAAAABAVcAAAAAAAEBVwAAAAAAAwFfAAAAAAADAV8A=",
          "dtype": "f8"
         },
         "yaxis": "y"
        },
        {
         "hoverinfo": "text",
         "marker": {
          "color": "rgb(35,205,205)"
         },
         "mode": "lines",
         "text": [
          "tópico: Relação e tratamento de animais",
          "",
          "",
          "tópico: Saúde Mental e Justiça Social"
         ],
         "type": "scatter",
         "x": {
          "bdata": "AAAAAAAAAADXiSF5NcfrP9eJIXk1x+s/AAAAAAAAAAA=",
          "dtype": "f8"
         },
         "xaxis": "x",
         "y": {
          "bdata": "AAAAAABAWsAAAAAAAEBawAAAAAAAwFzAAAAAAADAXMA=",
          "dtype": "f8"
         },
         "yaxis": "y"
        },
        {
         "hoverinfo": "text",
         "marker": {
          "color": "rgb(35,205,205)"
         },
         "mode": "lines",
         "text": [
          "interesse_tudo_adoro_especiais_interesses especiais",
          "",
          "",
          "saúde_mental_serem_comportamento_problemas"
         ],
         "type": "scatter",
         "x": {
          "bdata": "8XMPL4fW6D9Q2tyb45ftP1Da3Jvjl+0/14kheTXH6z8=",
          "dtype": "f8"
         },
         "xaxis": "x",
         "y": {
          "bdata": "AAAAAACAVsAAAAAAAIBWwAAAAAAAgFvAAAAAAACAW8A=",
          "dtype": "f8"
         },
         "yaxis": "y"
        },
        {
         "hoverinfo": "text",
         "marker": {
          "color": "rgb(0,116,217)"
         },
         "mode": "lines",
         "text": [
          "pessoas_porque_vida_bem_hoje",
          "",
          "",
          "saúde_adoro_tudo_interesse_etc"
         ],
         "type": "scatter",
         "x": {
          "bdata": "n9cVF9Sd6j+PNO16v4PxP4807Xq/g/E/UNrcm+OX7T8=",
          "dtype": "f8"
         },
         "xaxis": "x",
         "y": {
          "bdata": "AAAAAAAgTMAAAAAAACBMwAAAAAAAAFnAAAAAAAAAWcA=",
          "dtype": "f8"
         },
         "yaxis": "y"
        },
        {
         "hoverinfo": "text",
         "marker": {
          "color": "rgb(0,116,217)"
         },
         "mode": "lines",
         "text": [
          "consigo_fazer_tempo_coisas_trabalho",
          "",
          "",
          "porque_pessoas_vida_tudo_ainda"
         ],
         "type": "scatter",
         "x": {
          "bdata": "xc2zhVkd7z/dIs2qxTryP90izarFOvI/jzTter+D8T8=",
          "dtype": "f8"
         },
         "xaxis": "x",
         "y": {
          "bdata": "AAAAAAAANMAAAAAAAAA0wAAAAAAAiFPAAAAAAACIU8A=",
          "dtype": "f8"
         },
         "yaxis": "y"
        },
        {
         "hoverinfo": "text",
         "hovertext": [
          "tempo_trabalho_coisas_quero dormir_montes",
          "ainda_uns_dia_nunca_amigos",
          "interesse_tudo_adoro_especiais_interesses especiais",
          "pessoas_porque_vida_bem_hoje",
          "consigo_fazer_tempo_coisas_trabalho"
         ],
         "marker": {
          "color": "black"
         },
         "mode": "markers",
         "showlegend": false,
         "type": "scatter",
         "x": [
          0.8533956858649019,
          0.6263987213838634,
          0.776187507548114,
          0.8317661715398009,
          0.9723327266096297
         ],
         "y": [
          -10,
          -60,
          -90,
          -56.25,
          -20
         ]
        },
        {
         "hoverinfo": "text",
         "hovertext": [
          "consigo_escrever_normalmente_pensar_diário",
          "pessoas_vida_uns_ainda_porque",
          "saúde_mental_serem_comportamento_problemas",
          "saúde_adoro_tudo_interesse_etc",
          "porque_pessoas_vida_tudo_ainda"
         ],
         "marker": {
          "color": "black"
         },
         "mode": "markers",
         "showlegend": false,
         "type": "scatter",
         "x": [
          0.8381042594013886,
          0.7149164664036556,
          0.8680674901809721,
          0.9247911495393257,
          1.0946650316066415
         ],
         "y": [
          -30,
          -67.5,
          -110,
          -100,
          -78.125
         ]
        }
       ],
       "layout": {
        "autosize": false,
        "height": 380,
        "hoverlabel": {
         "bgcolor": "white",
         "font": {
          "family": "Rockwell",
          "size": 16
         }
        },
        "hovermode": "closest",
        "plot_bgcolor": "#ECEFF1",
        "showlegend": false,
        "template": {
         "data": {
          "bar": [
           {
            "error_x": {
             "color": "#2a3f5f"
            },
            "error_y": {
             "color": "#2a3f5f"
            },
            "marker": {
             "line": {
              "color": "white",
              "width": 0.5
             },
             "pattern": {
              "fillmode": "overlay",
              "size": 10,
              "solidity": 0.2
             }
            },
            "type": "bar"
           }
          ],
          "barpolar": [
           {
            "marker": {
             "line": {
              "color": "white",
              "width": 0.5
             },
             "pattern": {
              "fillmode": "overlay",
              "size": 10,
              "solidity": 0.2
             }
            },
            "type": "barpolar"
           }
          ],
          "carpet": [
           {
            "aaxis": {
             "endlinecolor": "#2a3f5f",
             "gridcolor": "#C8D4E3",
             "linecolor": "#C8D4E3",
             "minorgridcolor": "#C8D4E3",
             "startlinecolor": "#2a3f5f"
            },
            "baxis": {
             "endlinecolor": "#2a3f5f",
             "gridcolor": "#C8D4E3",
             "linecolor": "#C8D4E3",
             "minorgridcolor": "#C8D4E3",
             "startlinecolor": "#2a3f5f"
            },
            "type": "carpet"
           }
          ],
          "choropleth": [
           {
            "colorbar": {
             "outlinewidth": 0,
             "ticks": ""
            },
            "type": "choropleth"
           }
          ],
          "contour": [
           {
            "colorbar": {
             "outlinewidth": 0,
             "ticks": ""
            },
            "colorscale": [
             [
              0,
              "#0d0887"
             ],
             [
              0.1111111111111111,
              "#46039f"
             ],
             [
              0.2222222222222222,
              "#7201a8"
             ],
             [
              0.3333333333333333,
              "#9c179e"
             ],
             [
              0.4444444444444444,
              "#bd3786"
             ],
             [
              0.5555555555555556,
              "#d8576b"
             ],
             [
              0.6666666666666666,
              "#ed7953"
             ],
             [
              0.7777777777777778,
              "#fb9f3a"
             ],
             [
              0.8888888888888888,
              "#fdca26"
             ],
             [
              1,
              "#f0f921"
             ]
            ],
            "type": "contour"
           }
          ],
          "contourcarpet": [
           {
            "colorbar": {
             "outlinewidth": 0,
             "ticks": ""
            },
            "type": "contourcarpet"
           }
          ],
          "heatmap": [
           {
            "colorbar": {
             "outlinewidth": 0,
             "ticks": ""
            },
            "colorscale": [
             [
              0,
              "#0d0887"
             ],
             [
              0.1111111111111111,
              "#46039f"
             ],
             [
              0.2222222222222222,
              "#7201a8"
             ],
             [
              0.3333333333333333,
              "#9c179e"
             ],
             [
              0.4444444444444444,
              "#bd3786"
             ],
             [
              0.5555555555555556,
              "#d8576b"
             ],
             [
              0.6666666666666666,
              "#ed7953"
             ],
             [
              0.7777777777777778,
              "#fb9f3a"
             ],
             [
              0.8888888888888888,
              "#fdca26"
             ],
             [
              1,
              "#f0f921"
             ]
            ],
            "type": "heatmap"
           }
          ],
          "histogram": [
           {
            "marker": {
             "pattern": {
              "fillmode": "overlay",
              "size": 10,
              "solidity": 0.2
             }
            },
            "type": "histogram"
           }
          ],
          "histogram2d": [
           {
            "colorbar": {
             "outlinewidth": 0,
             "ticks": ""
            },
            "colorscale": [
             [
              0,
              "#0d0887"
             ],
             [
              0.1111111111111111,
              "#46039f"
             ],
             [
              0.2222222222222222,
              "#7201a8"
             ],
             [
              0.3333333333333333,
              "#9c179e"
             ],
             [
              0.4444444444444444,
              "#bd3786"
             ],
             [
              0.5555555555555556,
              "#d8576b"
             ],
             [
              0.6666666666666666,
              "#ed7953"
             ],
             [
              0.7777777777777778,
              "#fb9f3a"
             ],
             [
              0.8888888888888888,
              "#fdca26"
             ],
             [
              1,
              "#f0f921"
             ]
            ],
            "type": "histogram2d"
           }
          ],
          "histogram2dcontour": [
           {
            "colorbar": {
             "outlinewidth": 0,
             "ticks": ""
            },
            "colorscale": [
             [
              0,
              "#0d0887"
             ],
             [
              0.1111111111111111,
              "#46039f"
             ],
             [
              0.2222222222222222,
              "#7201a8"
             ],
             [
              0.3333333333333333,
              "#9c179e"
             ],
             [
              0.4444444444444444,
              "#bd3786"
             ],
             [
              0.5555555555555556,
              "#d8576b"
             ],
             [
              0.6666666666666666,
              "#ed7953"
             ],
             [
              0.7777777777777778,
              "#fb9f3a"
             ],
             [
              0.8888888888888888,
              "#fdca26"
             ],
             [
              1,
              "#f0f921"
             ]
            ],
            "type": "histogram2dcontour"
           }
          ],
          "mesh3d": [
           {
            "colorbar": {
             "outlinewidth": 0,
             "ticks": ""
            },
            "type": "mesh3d"
           }
          ],
          "parcoords": [
           {
            "line": {
             "colorbar": {
              "outlinewidth": 0,
              "ticks": ""
             }
            },
            "type": "parcoords"
           }
          ],
          "pie": [
           {
            "automargin": true,
            "type": "pie"
           }
          ],
          "scatter": [
           {
            "fillpattern": {
             "fillmode": "overlay",
             "size": 10,
             "solidity": 0.2
            },
            "type": "scatter"
           }
          ],
          "scatter3d": [
           {
            "line": {
             "colorbar": {
              "outlinewidth": 0,
              "ticks": ""
             }
            },
            "marker": {
             "colorbar": {
              "outlinewidth": 0,
              "ticks": ""
             }
            },
            "type": "scatter3d"
           }
          ],
          "scattercarpet": [
           {
            "marker": {
             "colorbar": {
              "outlinewidth": 0,
              "ticks": ""
             }
            },
            "type": "scattercarpet"
           }
          ],
          "scattergeo": [
           {
            "marker": {
             "colorbar": {
              "outlinewidth": 0,
              "ticks": ""
             }
            },
            "type": "scattergeo"
           }
          ],
          "scattergl": [
           {
            "marker": {
             "colorbar": {
              "outlinewidth": 0,
              "ticks": ""
             }
            },
            "type": "scattergl"
           }
          ],
          "scattermap": [
           {
            "marker": {
             "colorbar": {
              "outlinewidth": 0,
              "ticks": ""
             }
            },
            "type": "scattermap"
           }
          ],
          "scattermapbox": [
           {
            "marker": {
             "colorbar": {
              "outlinewidth": 0,
              "ticks": ""
             }
            },
            "type": "scattermapbox"
           }
          ],
          "scatterpolar": [
           {
            "marker": {
             "colorbar": {
              "outlinewidth": 0,
              "ticks": ""
             }
            },
            "type": "scatterpolar"
           }
          ],
          "scatterpolargl": [
           {
            "marker": {
             "colorbar": {
              "outlinewidth": 0,
              "ticks": ""
             }
            },
            "type": "scatterpolargl"
           }
          ],
          "scatterternary": [
           {
            "marker": {
             "colorbar": {
              "outlinewidth": 0,
              "ticks": ""
             }
            },
            "type": "scatterternary"
           }
          ],
          "surface": [
           {
            "colorbar": {
             "outlinewidth": 0,
             "ticks": ""
            },
            "colorscale": [
             [
              0,
              "#0d0887"
             ],
             [
              0.1111111111111111,
              "#46039f"
             ],
             [
              0.2222222222222222,
              "#7201a8"
             ],
             [
              0.3333333333333333,
              "#9c179e"
             ],
             [
              0.4444444444444444,
              "#bd3786"
             ],
             [
              0.5555555555555556,
              "#d8576b"
             ],
             [
              0.6666666666666666,
              "#ed7953"
             ],
             [
              0.7777777777777778,
              "#fb9f3a"
             ],
             [
              0.8888888888888888,
              "#fdca26"
             ],
             [
              1,
              "#f0f921"
             ]
            ],
            "type": "surface"
           }
          ],
          "table": [
           {
            "cells": {
             "fill": {
              "color": "#EBF0F8"
             },
             "line": {
              "color": "white"
             }
            },
            "header": {
             "fill": {
              "color": "#C8D4E3"
             },
             "line": {
              "color": "white"
             }
            },
            "type": "table"
           }
          ]
         },
         "layout": {
          "annotationdefaults": {
           "arrowcolor": "#2a3f5f",
           "arrowhead": 0,
           "arrowwidth": 1
          },
          "autotypenumbers": "strict",
          "coloraxis": {
           "colorbar": {
            "outlinewidth": 0,
            "ticks": ""
           }
          },
          "colorscale": {
           "diverging": [
            [
             0,
             "#8e0152"
            ],
            [
             0.1,
             "#c51b7d"
            ],
            [
             0.2,
             "#de77ae"
            ],
            [
             0.3,
             "#f1b6da"
            ],
            [
             0.4,
             "#fde0ef"
            ],
            [
             0.5,
             "#f7f7f7"
            ],
            [
             0.6,
             "#e6f5d0"
            ],
            [
             0.7,
             "#b8e186"
            ],
            [
             0.8,
             "#7fbc41"
            ],
            [
             0.9,
             "#4d9221"
            ],
            [
             1,
             "#276419"
            ]
           ],
           "sequential": [
            [
             0,
             "#0d0887"
            ],
            [
             0.1111111111111111,
             "#46039f"
            ],
            [
             0.2222222222222222,
             "#7201a8"
            ],
            [
             0.3333333333333333,
             "#9c179e"
            ],
            [
             0.4444444444444444,
             "#bd3786"
            ],
            [
             0.5555555555555556,
             "#d8576b"
            ],
            [
             0.6666666666666666,
             "#ed7953"
            ],
            [
             0.7777777777777778,
             "#fb9f3a"
            ],
            [
             0.8888888888888888,
             "#fdca26"
            ],
            [
             1,
             "#f0f921"
            ]
           ],
           "sequentialminus": [
            [
             0,
             "#0d0887"
            ],
            [
             0.1111111111111111,
             "#46039f"
            ],
            [
             0.2222222222222222,
             "#7201a8"
            ],
            [
             0.3333333333333333,
             "#9c179e"
            ],
            [
             0.4444444444444444,
             "#bd3786"
            ],
            [
             0.5555555555555556,
             "#d8576b"
            ],
            [
             0.6666666666666666,
             "#ed7953"
            ],
            [
             0.7777777777777778,
             "#fb9f3a"
            ],
            [
             0.8888888888888888,
             "#fdca26"
            ],
            [
             1,
             "#f0f921"
            ]
           ]
          },
          "colorway": [
           "#636efa",
           "#EF553B",
           "#00cc96",
           "#ab63fa",
           "#FFA15A",
           "#19d3f3",
           "#FF6692",
           "#B6E880",
           "#FF97FF",
           "#FECB52"
          ],
          "font": {
           "color": "#2a3f5f"
          },
          "geo": {
           "bgcolor": "white",
           "lakecolor": "white",
           "landcolor": "white",
           "showlakes": true,
           "showland": true,
           "subunitcolor": "#C8D4E3"
          },
          "hoverlabel": {
           "align": "left"
          },
          "hovermode": "closest",
          "mapbox": {
           "style": "light"
          },
          "paper_bgcolor": "white",
          "plot_bgcolor": "white",
          "polar": {
           "angularaxis": {
            "gridcolor": "#EBF0F8",
            "linecolor": "#EBF0F8",
            "ticks": ""
           },
           "bgcolor": "white",
           "radialaxis": {
            "gridcolor": "#EBF0F8",
            "linecolor": "#EBF0F8",
            "ticks": ""
           }
          },
          "scene": {
           "xaxis": {
            "backgroundcolor": "white",
            "gridcolor": "#DFE8F3",
            "gridwidth": 2,
            "linecolor": "#EBF0F8",
            "showbackground": true,
            "ticks": "",
            "zerolinecolor": "#EBF0F8"
           },
           "yaxis": {
            "backgroundcolor": "white",
            "gridcolor": "#DFE8F3",
            "gridwidth": 2,
            "linecolor": "#EBF0F8",
            "showbackground": true,
            "ticks": "",
            "zerolinecolor": "#EBF0F8"
           },
           "zaxis": {
            "backgroundcolor": "white",
            "gridcolor": "#DFE8F3",
            "gridwidth": 2,
            "linecolor": "#EBF0F8",
            "showbackground": true,
            "ticks": "",
            "zerolinecolor": "#EBF0F8"
           }
          },
          "shapedefaults": {
           "line": {
            "color": "#2a3f5f"
           }
          },
          "ternary": {
           "aaxis": {
            "gridcolor": "#DFE8F3",
            "linecolor": "#A2B1C6",
            "ticks": ""
           },
           "baxis": {
            "gridcolor": "#DFE8F3",
            "linecolor": "#A2B1C6",
            "ticks": ""
           },
           "bgcolor": "white",
           "caxis": {
            "gridcolor": "#DFE8F3",
            "linecolor": "#A2B1C6",
            "ticks": ""
           }
          },
          "title": {
           "x": 0.05
          },
          "xaxis": {
           "automargin": true,
           "gridcolor": "#EBF0F8",
           "linecolor": "#EBF0F8",
           "ticks": "",
           "title": {
            "standoff": 15
           },
           "zerolinecolor": "#EBF0F8",
           "zerolinewidth": 2
          },
          "yaxis": {
           "automargin": true,
           "gridcolor": "#EBF0F8",
           "linecolor": "#EBF0F8",
           "ticks": "",
           "title": {
            "standoff": 15
           },
           "zerolinecolor": "#EBF0F8",
           "zerolinewidth": 2
          }
         }
        },
        "title": {
         "font": {
          "color": "Black",
          "size": 22
         },
         "text": "<b>Hierarchical Clustering</b>",
         "x": 0.5,
         "xanchor": "center",
         "yanchor": "top"
        },
        "width": 1000,
        "xaxis": {
         "mirror": "allticks",
         "rangemode": "tozero",
         "showgrid": false,
         "showline": true,
         "showticklabels": true,
         "ticks": "outside",
         "type": "linear",
         "zeroline": false
        },
        "yaxis": {
         "mirror": "allticks",
         "range": [
          -120,
          0
         ],
         "rangemode": "tozero",
         "showgrid": false,
         "showline": true,
         "showticklabels": true,
         "tickmode": "array",
         "ticks": "outside",
         "ticktext": [
          "tópico: Leitura e sonhos criativos",
          "tópico: Sobrecarga e Procrastinação Acadêmica",
          "tópico: Dificuldades em escrever e correr",
          "tópico: Atividades que promovem relaxamento",
          "tópico: Momentos de felicidade cotidiana",
          "tópico: Reflexões sobre o cotidiano",
          "tópico: Memórias de exclusão social",
          "tópico: Desafios da Neurodiversidade e Saúde",
          "tópico: Interesses e Reflexões Pessoais",
          "tópico: Interesses em saúde e skincare",
          "tópico: Relação e tratamento de animais",
          "tópico: Saúde Mental e Justiça Social"
         ],
         "tickvals": [
          -5,
          -15,
          -25,
          -35,
          -45,
          -55,
          -65,
          -75,
          -85,
          -95,
          -105,
          -115
         ],
         "type": "linear",
         "zeroline": false
        }
       }
      }
     },
     "metadata": {},
     "output_type": "display_data"
    }
   ],
   "source": [
    "# Visualize hierarchy and auto-save\n",
    "hierarchical_topics = topic_model.hierarchical_topics(texts)\n",
    "fig_hierarchy = topic_model.visualize_hierarchy(hierarchical_topics=hierarchical_topics, custom_labels=True)\n",
    "save_bertopic_figure(fig_hierarchy, 'hierarchy')\n",
    "fig_hierarchy"
   ]
  },
  {
   "cell_type": "markdown",
   "id": "5bf81a5c",
   "metadata": {},
   "source": [
    "### evaluation of the BERTopic model"
   ]
  },
  {
   "cell_type": "code",
   "execution_count": 46,
   "id": "a513724f",
   "metadata": {},
   "outputs": [
    {
     "data": {
      "text/plain": [
       "0.04883626848459244"
      ]
     },
     "execution_count": 46,
     "metadata": {},
     "output_type": "execute_result"
    }
   ],
   "source": [
    "umap_embeddings = topic_model.umap_model.transform(embeddings)\n",
    "document_topics = topic_model.topics_  # Get document-topic assignments, not topic definitions\n",
    "indices = [index for index, topic in enumerate(document_topics) if topic != -1]\n",
    "X = umap_embeddings[np.array(indices)]\n",
    "labels = [topic for index, topic in enumerate(document_topics) if topic != -1]\n",
    "\n",
    "# Calculate silhouette score\n",
    "silhouette_score(X, labels)"
   ]
  },
  {
   "cell_type": "markdown",
   "id": "197280c9",
   "metadata": {},
   "source": [
    "## 📁 Auto-Save Functions - Usage Guide\n",
    "\n",
    "All figures in this notebook are now automatically saved when created! Here's how the auto-save system works:\n",
    "\n",
    "### 🔧 **Automatic Saving**\n",
    "- **Format**: PNG + HTML (both formats saved automatically)\n",
    "- **Location**: `../../outputs/plots/`\n",
    "- **Naming**: Timestamped files (e.g., `20250814_033341_bertopic_topics_female_adhd.png`)\n",
    "- **Quality**: High resolution (2x scale for crisp images)\n",
    "\n",
    "### 📊 **For BERTopic Visualizations**\n",
    "All BERTopic visualizations now automatically save using:\n",
    "```python\n",
    "# Pattern used in all BERTopic cells:\n",
    "fig_name = topic_model.visualize_[method](custom_labels=True)\n",
    "save_bertopic_figure(fig_name, 'method_name')\n",
    "fig_name  # Display the figure\n",
    "```\n",
    "\n",
    "### 🎨 **For Custom Figures**\n",
    "If you create any custom Plotly figures, use:\n",
    "```python\n",
    "# Basic usage\n",
    "auto_save_figure(your_figure, 'descriptive_name')\n",
    "\n",
    "# Advanced usage with custom settings\n",
    "auto_save_figure(\n",
    "    your_figure, \n",
    "    'descriptive_name',\n",
    "    save_formats=['png', 'html', 'pdf'],  # Multiple formats\n",
    "    width=1200, \n",
    "    height=800,\n",
    "    scale=3  # Higher resolution\n",
    ")\n",
    "```\n",
    "\n",
    "### 📋 **Available Formats**\n",
    "- `'png'` - Static image (default)\n",
    "- `'html'` - Interactive web version (default) \n",
    "- `'pdf'` - PDF document\n",
    "- `'svg'` - Scalable vector graphics\n",
    "- `'jpeg'` - JPEG image\n",
    "\n",
    "### ✅ **Benefits**\n",
    "- **No manual saving needed** - happens automatically\n",
    "- **Multiple formats** - both static and interactive versions\n",
    "- **Organized storage** - all plots in one location\n",
    "- **Version control** - timestamped filenames prevent overwrites\n",
    "- **High quality** - optimized resolution for publications"
   ]
  }
 ],
 "metadata": {
  "kernelspec": {
   "display_name": "adhd-linguistic-patterns-beliefs-portuguese-women",
   "language": "python",
   "name": "python3"
  },
  "language_info": {
   "codemirror_mode": {
    "name": "ipython",
    "version": 3
   },
   "file_extension": ".py",
   "mimetype": "text/x-python",
   "name": "python",
   "nbconvert_exporter": "python",
   "pygments_lexer": "ipython3",
   "version": "3.10.12"
  }
 },
 "nbformat": 4,
 "nbformat_minor": 5
}
