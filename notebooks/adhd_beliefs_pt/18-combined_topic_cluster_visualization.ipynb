{
 "cells": [
  {
   "cell_type": "code",
   "execution_count": 1,
   "id": "661c7440",
   "metadata": {},
   "outputs": [],
   "source": [
    "from bertopic import BERTopic\n",
    "import numpy as np\n",
    "import pandas as pd\n",
    "from sentence_transformers import SentenceTransformer\n",
    "import plotly.graph_objects as go\n",
    "import plotly.express as px\n",
    "from plotly.subplots import make_subplots\n",
    "import os\n",
    "from datetime import datetime\n",
    "from umap import UMAP\n",
    "import matplotlib.pyplot as plt\n",
    "import seaborn as sns\n",
    "from deep_translator import GoogleTranslator\n",
    "from sklearn.preprocessing import StandardScaler\n",
    "import warnings\n",
    "warnings.filterwarnings('ignore')"
   ]
  },
  {
   "cell_type": "code",
   "execution_count": 2,
   "id": "37f5626c",
   "metadata": {},
   "outputs": [],
   "source": [
    "import sys\n",
    "sys.path.append('../..')\n",
    "\n",
    "def auto_save_figure(fig, figure_name, save_formats=['png'], \n",
    "                    width=1000, height=700, scale=2, output_dir=\"../../outputs/plots\"):\n",
    "    \"\"\"\n",
    "    Automatically save any Plotly or Matplotlib figure to disk with multiple formats and timestamp\n",
    "    \"\"\"\n",
    "    if fig is None:\n",
    "        print(f\"❌ No figure provided for '{figure_name}'\")\n",
    "        return {}\n",
    "    \n",
    "    # Create output directory if it doesn't exist\n",
    "    os.makedirs(output_dir, exist_ok=True)\n",
    "    \n",
    "    # Generate timestamp for unique filenames\n",
    "    timestamp = datetime.now().strftime(\"%Y%m%d_%H%M%S\")\n",
    "    \n",
    "    saved_files = {}\n",
    "    \n",
    "    # Detect figure type\n",
    "    is_plotly = hasattr(fig, 'write_image') and hasattr(fig, 'write_html')\n",
    "    is_matplotlib = hasattr(fig, 'savefig')\n",
    "    \n",
    "    if not is_plotly and not is_matplotlib:\n",
    "        print(f\"❌ Unsupported figure type for '{figure_name}': {type(fig)}\")\n",
    "        return {}\n",
    "    \n",
    "    for format_type in save_formats:\n",
    "        # Clean figure name for filename (remove spaces, special chars)\n",
    "        clean_name = \"\".join(c for c in figure_name if c.isalnum() or c in (' ', '-', '_')).rstrip()\n",
    "        clean_name = clean_name.replace(' ', '_').lower()\n",
    "        \n",
    "        filename = f\"{timestamp}_{clean_name}.{format_type}\"\n",
    "        filepath = os.path.join(output_dir, filename)\n",
    "        \n",
    "        try:\n",
    "            if is_plotly:\n",
    "                # Handle Plotly figures\n",
    "                if format_type == 'html':\n",
    "                    fig.write_html(filepath)\n",
    "                    print(f\"📊 Saved {figure_name} as HTML: {filename}\")\n",
    "                elif format_type in ['png', 'pdf', 'svg', 'jpeg']:\n",
    "                    fig.write_image(\n",
    "                        filepath,\n",
    "                        width=width,\n",
    "                        height=height,\n",
    "                        scale=scale,\n",
    "                        format=format_type\n",
    "                    )\n",
    "                    print(f\"🖼️  Saved {figure_name} as {format_type.upper()}: {filename}\")\n",
    "                    \n",
    "            elif is_matplotlib:\n",
    "                # Handle Matplotlib figures\n",
    "                if format_type == 'html':\n",
    "                    # Convert matplotlib to HTML via mpld3 (if available) or skip\n",
    "                    try:\n",
    "                        import mpld3\n",
    "                        html_str = mpld3.fig_to_html(fig)\n",
    "                        with open(filepath, 'w') as f:\n",
    "                            f.write(html_str)\n",
    "                        print(f\"📊 Saved {figure_name} as HTML: {filename}\")\n",
    "                    except ImportError:\n",
    "                        print(f\"⚠️  Skipping HTML for matplotlib figure '{figure_name}' (mpld3 not available)\")\n",
    "                        continue\n",
    "                elif format_type in ['png', 'pdf', 'svg', 'jpeg']:\n",
    "                    # Set DPI based on scale\n",
    "                    dpi = 100 * scale\n",
    "                    fig.savefig(\n",
    "                        filepath,\n",
    "                        format=format_type,\n",
    "                        dpi=dpi,\n",
    "                        bbox_inches='tight',\n",
    "                        facecolor='white',\n",
    "                        edgecolor='none'\n",
    "                    )\n",
    "                    print(f\"🖼️  Saved {figure_name} as {format_type.upper()}: {filename}\")\n",
    "            \n",
    "            saved_files[format_type] = os.path.abspath(filepath)\n",
    "            \n",
    "        except Exception as e:\n",
    "            print(f\"❌ Error saving {figure_name} as {format_type}: {e}\")\n",
    "    \n",
    "    if saved_files:\n",
    "        print(f\"✅ Total saved: {len(saved_files)} file(s) for '{figure_name}'\")\n",
    "        print(f\"📁 Location: {os.path.abspath(output_dir)}\")\n",
    "        print(\"-\" * 60)\n",
    "    \n",
    "    return saved_files\n",
    "\n",
    "def load_bert_model(path):\n",
    "    \"\"\"Load BERTopic model with Portuguese sentence transformer\"\"\"\n",
    "    return BERTopic.load(path, embedding_model=SentenceTransformer(\"PORTULAN/serafim-900m-portuguese-pt-sentence-encoder\"))"
   ]
  },
  {
   "cell_type": "code",
   "execution_count": 3,
   "id": "65820527",
   "metadata": {},
   "outputs": [
    {
     "name": "stdout",
     "output_type": "stream",
     "text": [
      "📋 Group configurations:\n",
      "  Women with ADHD: #e6194b circle\n",
      "  Women without ADHD: #3cb44b circle\n",
      "  Participants with ADHD: #4363d8 circle\n",
      "  Participants without ADHD: #f58231 circle\n",
      "\n",
      "🔄 Loading BERTopic models...\n",
      "  Loading Female_ADHD from ../../data/adhd-beliefs-pt/bertopic_final/Female_ADHD/Female_ADHD_2_reduced_8_20250825_011741\n",
      "    ✅ Female_ADHD loaded successfully\n",
      "  Loading Female_noADHD from ../../data/adhd-beliefs-pt/bertopic_final/Female_noADHD/Female_noADHD_3_reduced_15_20250825_012136\n",
      "    ✅ Female_noADHD loaded successfully\n",
      "  Loading ADHD from ../../data/adhd-beliefs-pt/bertopic_final/ADHD/ADHD_2_13_20250824_214730\n",
      "    ✅ ADHD loaded successfully\n",
      "  Loading noADHD from ../../data/adhd-beliefs-pt/bertopic_final/noADHD/noADHD_3_reduced_26_20250825_015611\n",
      "    ✅ noADHD loaded successfully\n",
      "\n",
      "📊 Successfully loaded 4 models: ['Female_ADHD', 'Female_noADHD', 'ADHD', 'noADHD']\n"
     ]
    }
   ],
   "source": [
    "# Define group configurations with descriptive names\n",
    "groups_config = {\n",
    "    \"Female_ADHD\": {\n",
    "        \"color\": \"#e6194b\",  # Red\n",
    "        \"symbol\": \"circle\",\n",
    "        \"size\": 12,\n",
    "        \"display_name\": \"Women with ADHD\",\n",
    "        \"description\": \"Portuguese women diagnosed with ADHD\"\n",
    "    },\n",
    "    \"Female_noADHD\": {\n",
    "        \"color\": \"#3cb44b\",  # Green\n",
    "        \"symbol\": \"circle\",  # Different symbol for better distinction\n",
    "        \"size\": 12,\n",
    "        \"display_name\": \"Women without ADHD\",\n",
    "        \"description\": \"Portuguese women without ADHD diagnosis\"\n",
    "    },\n",
    "    \"ADHD\": {\n",
    "        \"color\": \"#4363d8\",  # Blue\n",
    "        \"symbol\": \"circle\",  # Different symbol for better distinction\n",
    "        \"size\": 12,\n",
    "        \"display_name\": \"Participants with ADHD\",\n",
    "        \"description\": \"All participants (men and women) with ADHD diagnosis\"\n",
    "    },\n",
    "    \"noADHD\": {\n",
    "        \"color\": \"#f58231\",  # Orange\n",
    "        \"symbol\": \"circle\",  # Different symbol for better distinction\n",
    "        \"size\": 12,\n",
    "        \"display_name\": \"Participants without ADHD\",\n",
    "        \"description\": \"All participants (men and women) without ADHD diagnosis\"\n",
    "    }\n",
    "}\n",
    "\n",
    "print(\"📋 Group configurations:\")\n",
    "for group, config in groups_config.items():\n",
    "    print(f\"  {config['display_name']}: {config['color']} {config['symbol']}\")\n",
    "\n",
    "# Function to find and load models\n",
    "def find_model_folder(group_name):\n",
    "    \"\"\"Find the model folder for a given group\"\"\"\n",
    "    base_path = f\"../../data/adhd-beliefs-pt/bertopic_final/{group_name}/\"\n",
    "    if os.path.exists(base_path):\n",
    "        folders = [name for name in os.listdir(base_path) if os.path.isdir(os.path.join(base_path, name))]\n",
    "        if folders:\n",
    "            return os.path.join(base_path, folders[0])\n",
    "    return None\n",
    "\n",
    "# Load all models\n",
    "models = {}\n",
    "model_paths = {}\n",
    "\n",
    "print(\"\\n🔄 Loading BERTopic models...\")\n",
    "for group_name in groups_config.keys():\n",
    "    model_path = find_model_folder(group_name)\n",
    "    if model_path:\n",
    "        print(f\"  Loading {group_name} from {model_path}\")\n",
    "        try:\n",
    "            models[group_name] = load_bert_model(model_path)\n",
    "            model_paths[group_name] = model_path\n",
    "            print(f\"    ✅ {group_name} loaded successfully\")\n",
    "        except Exception as e:\n",
    "            print(f\"    ❌ Failed to load {group_name}: {e}\")\n",
    "    else:\n",
    "        print(f\"    ⚠️  Model path not found for {group_name}\")\n",
    "\n",
    "print(f\"\\n📊 Successfully loaded {len(models)} models: {list(models.keys())}\")"
   ]
  },
  {
   "cell_type": "code",
   "execution_count": 4,
   "id": "58adc295",
   "metadata": {},
   "outputs": [],
   "source": [
    "def extract_topic_representations(topic_model, group_name):\n",
    "    \"\"\"\n",
    "    Extract the exact pre-computed UMAP coordinates from BERTopic's visualization\n",
    "    \"\"\"\n",
    "    # Get topic info\n",
    "    topic_info = topic_model.get_topic_info()\n",
    "    real_topics = topic_info[topic_info['Topic'] != -1].copy()\n",
    "    \n",
    "    if len(real_topics) == 0:\n",
    "        print(f\"⚠️  No real topics found for {group_name}\")\n",
    "        return None\n",
    "    \n",
    "    try:\n",
    "        # Create the exact same visualization that BERTopic would create\n",
    "        # This uses the model's cached/pre-computed coordinates\n",
    "        fig_temp = topic_model.visualize_topics(custom_labels=True)\n",
    "        \n",
    "        # Extract coordinates from the figure data\n",
    "        if fig_temp and fig_temp.data:\n",
    "            # The first trace contains the topic positions\n",
    "            trace_data = fig_temp.data[0]\n",
    "            x_coords = list(trace_data.x)\n",
    "            y_coords = list(trace_data.y)\n",
    "            \n",
    "            # Get topic labels from the visualization\n",
    "            topic_labels = []\n",
    "            if hasattr(trace_data, 'text') and trace_data.text:\n",
    "                topic_labels = list(trace_data.text)\n",
    "            else:\n",
    "                # Fallback to custom labels or topic names\n",
    "                for idx, row in real_topics.iterrows():\n",
    "                    topic_id = row['Topic']\n",
    "                    if 'CustomName' in row and pd.notna(row['CustomName']):\n",
    "                        label = row['CustomName']\n",
    "                    elif 'Name' in row and pd.notna(row['Name']):\n",
    "                        label = row['Name']\n",
    "                    else:\n",
    "                        topics_dict = topic_model.get_topics()\n",
    "                        if topic_id in topics_dict:\n",
    "                            top_words = [word for word, score in topics_dict[topic_id][:3]]\n",
    "                            label = f\"{', '.join(top_words)}\"\n",
    "                        else:\n",
    "                            label = f\"Topic {topic_id}\"\n",
    "                    topic_labels.append(label)\n",
    "            \n",
    "            # Create the positions array\n",
    "            topic_positions_2d = np.column_stack((x_coords, y_coords))\n",
    "            \n",
    "            metadata = {\n",
    "                'group': group_name,\n",
    "                'topic_ids': real_topics['Topic'].tolist(),\n",
    "                'topic_labels': topic_labels[:len(real_topics)],  # Ensure same length\n",
    "                'topic_counts': real_topics['Count'].tolist() if 'Count' in real_topics.columns else [0] * len(real_topics),\n",
    "                'topic_positions_2d': topic_positions_2d\n",
    "            }\n",
    "            \n",
    "            print(f\"  📊 {group_name}: {len(real_topics)} topics, exact UMAP coordinates extracted\")\n",
    "            return metadata\n",
    "            \n",
    "    except Exception as e:\n",
    "        print(f\"  ❌ Could not extract pre-computed coordinates for {group_name}: {e}\")\n",
    "        return None"
   ]
  },
  {
   "cell_type": "code",
   "execution_count": 5,
   "id": "0e357466",
   "metadata": {},
   "outputs": [],
   "source": [
    "def create_combined_visualization_from_umap(all_representations, groups_config):\n",
    "    \"\"\"\n",
    "    Create visualization directly from existing UMAP representations with descriptive legends\n",
    "    and marker sizes proportional to document counts\n",
    "    \"\"\"\n",
    "    print(\"🎨 Creating combined visualization from existing UMAP representations...\")\n",
    "    \n",
    "    fig = go.Figure()\n",
    "    \n",
    "    # Calculate global size scaling parameters\n",
    "    all_counts = []\n",
    "    for repr_data in all_representations.values():\n",
    "        all_counts.extend(repr_data['topic_counts'])\n",
    "    \n",
    "    if all_counts:\n",
    "        min_count = min(all_counts)\n",
    "        max_count = max(all_counts)\n",
    "        print(f\"📊 Document count range: {min_count} - {max_count}\")\n",
    "        \n",
    "        # Define size range for markers\n",
    "        min_size = 8   # Minimum marker size\n",
    "        max_size = 30  # Maximum marker size\n",
    "        \n",
    "        # Create size scaling function\n",
    "        def scale_size(count):\n",
    "            if max_count == min_count:  # Avoid division by zero\n",
    "                return (min_size + max_size) / 2\n",
    "            # Linear scaling from min_size to max_size\n",
    "            normalized = (count - min_count) / (max_count - min_count)\n",
    "            return min_size + normalized * (max_size - min_size)\n",
    "    else:\n",
    "        print(\"⚠️  No document counts found, using default sizes\")\n",
    "        def scale_size(count):\n",
    "            return 12\n",
    "    \n",
    "    # Add traces for each group\n",
    "    for group_name, repr_data in all_representations.items():\n",
    "        if 'topic_positions_2d' not in repr_data:\n",
    "            continue\n",
    "            \n",
    "        positions_2d = repr_data['topic_positions_2d']\n",
    "        group_x = positions_2d[:, 0]\n",
    "        group_y = positions_2d[:, 1]\n",
    "        topic_counts = repr_data['topic_counts']\n",
    "        \n",
    "        # Calculate sizes for this group\n",
    "        marker_sizes = [scale_size(count) for count in topic_counts]\n",
    "        \n",
    "        # Get group configuration\n",
    "        config = groups_config[group_name]\n",
    "        \n",
    "        # Create hover text with descriptive names and document counts\n",
    "        hover_text = []\n",
    "        for i in range(len(group_x)):\n",
    "            hover_text.append(\n",
    "                f\"<b>{config['display_name']}</b><br>\" +\n",
    "                f\"Group: {group_name}<br>\" +\n",
    "                f\"Topic {repr_data['topic_ids'][i]}<br>\" +\n",
    "                f\"Label: {repr_data['topic_labels'][i]}<br>\" +\n",
    "                f\"<b>Documents: {repr_data['topic_counts'][i]}</b><br>\" +\n",
    "                f\"Position: ({group_x[i]:.2f}, {group_y[i]:.2f})\"\n",
    "            )\n",
    "        \n",
    "        # Add scatter trace with proportional marker sizes\n",
    "        fig.add_trace(go.Scatter(\n",
    "            x=group_x,\n",
    "            y=group_y,\n",
    "            mode='markers',\n",
    "            marker=dict(\n",
    "                color=config['color'],\n",
    "                symbol=config['symbol'],\n",
    "                size=marker_sizes,  # Use calculated sizes\n",
    "                line=dict(width=1, color='rgba(0,0,0,0.3)'),\n",
    "                opacity=0.8,\n",
    "                sizemode='diameter'  # Ensures size represents diameter\n",
    "            ),\n",
    "            name=config['display_name'],  # Use descriptive name for legend\n",
    "            text=hover_text,\n",
    "            hovertemplate='%{text}<extra></extra>',\n",
    "            showlegend=True\n",
    "        ))\n",
    "        \n",
    "        print(f\"  {config['display_name']}: {len(marker_sizes)} topics, sizes {min(marker_sizes):.1f}-{max(marker_sizes):.1f}\")\n",
    "    \n",
    "    # Update layout with improved styling\n",
    "    fig.update_layout(\n",
    "        title=dict(\n",
    "            text=\"<b>Combined Topic Clusters Across Groups</b><br>\",\n",
    "            x=0.5,\n",
    "            xanchor='center',\n",
    "            font=dict(size=18)\n",
    "        ),\n",
    "        xaxis=dict(\n",
    "            title=\"D1\",\n",
    "            showgrid=True,\n",
    "            gridcolor='rgba(0,0,0,0.1)',\n",
    "            zeroline=True,\n",
    "            zerolinecolor='rgba(0,0,0,0.3)',\n",
    "            showline=True,\n",
    "            linewidth=1,\n",
    "            linecolor='black'\n",
    "        ),\n",
    "        yaxis=dict(\n",
    "            title=\"D2\",\n",
    "            showgrid=True,\n",
    "            gridcolor='rgba(0,0,0,0.1)',\n",
    "            zeroline=True,\n",
    "            zerolinecolor='rgba(0,0,0,0.3)',\n",
    "            showline=True,\n",
    "            linewidth=1,\n",
    "            linecolor='black'\n",
    "        ),\n",
    "        legend=dict(\n",
    "            orientation=\"v\",\n",
    "            yanchor=\"top\",\n",
    "            y=1,\n",
    "            xanchor=\"left\",\n",
    "            x=1.02,\n",
    "            bgcolor='rgba(255,255,255,0.9)',\n",
    "            bordercolor='rgba(0,0,0,0.3)',\n",
    "            borderwidth=1,\n",
    "            font=dict(size=12)\n",
    "        ),\n",
    "        width=1400,  # Slightly wider to accommodate legend\n",
    "        height=800,\n",
    "        plot_bgcolor='white',\n",
    "        paper_bgcolor='white',\n",
    "        margin=dict(l=80, r=200, t=120, b=80)  # More top margin for subtitle\n",
    "    )\n",
    "      \n",
    "    return fig"
   ]
  },
  {
   "cell_type": "code",
   "execution_count": 6,
   "id": "aa0bccc6",
   "metadata": {},
   "outputs": [
    {
     "name": "stdout",
     "output_type": "stream",
     "text": [
      "🔄 Extracting topic representations from existing UMAP...\n",
      "\n",
      "🔍 Processing Women with ADHD (Female_ADHD)...\n",
      "  📊 Female_ADHD: 8 topics, exact UMAP coordinates extracted\n",
      "  ✅ Women with ADHD: 8 topics\n",
      "\n",
      "🔍 Processing Women without ADHD (Female_noADHD)...\n",
      "  📊 Female_noADHD: 15 topics, exact UMAP coordinates extracted\n",
      "  ✅ Women without ADHD: 15 topics\n",
      "\n",
      "🔍 Processing Participants with ADHD (ADHD)...\n",
      "  📊 ADHD: 13 topics, exact UMAP coordinates extracted\n",
      "  ✅ Participants with ADHD: 13 topics\n",
      "\n",
      "🔍 Processing Participants without ADHD (noADHD)...\n",
      "  📊 noADHD: 26 topics, exact UMAP coordinates extracted\n",
      "  ✅ Participants without ADHD: 26 topics\n",
      "\n",
      "📈 Successfully extracted representations from 4 groups\n",
      "🎨 Displaying Combined Topic Clusters with Descriptive Labels:\n",
      "🎨 Creating combined visualization from existing UMAP representations...\n",
      "📊 Document count range: 2 - 68\n",
      "  Women with ADHD: 8 topics, sizes 8.3-12.3\n",
      "  Women without ADHD: 15 topics, sizes 8.7-22.3\n",
      "  Participants with ADHD: 13 topics, sizes 8.0-12.7\n",
      "  Participants without ADHD: 26 topics, sizes 8.7-30.0\n"
     ]
    },
    {
     "data": {
      "application/vnd.plotly.v1+json": {
       "config": {
        "plotlyServerURL": "https://plot.ly"
       },
       "data": [
        {
         "hovertemplate": "%{text}<extra></extra>",
         "marker": {
          "color": "#e6194b",
          "line": {
           "color": "rgba(0,0,0,0.3)",
           "width": 1
          },
          "opacity": 0.8,
          "size": [
           12.333333333333332,
           11.666666666666666,
           11,
           9.333333333333334,
           9,
           8.333333333333334,
           8.333333333333334,
           8.333333333333334
          ],
          "sizemode": "diameter",
          "symbol": "circle"
         },
         "mode": "markers",
         "name": "Women with ADHD",
         "showlegend": true,
         "text": [
          "<b>Women with ADHD</b><br>Group: Female_ADHD<br>Topic 0<br>Label: Student Life and Identity Struggles<br><b>Documents: 15</b><br>Position: (9.52, 9.98)",
          "<b>Women with ADHD</b><br>Group: Female_ADHD<br>Topic 1<br>Label: Daily Life and Personal Experiences<br><b>Documents: 13</b><br>Position: (9.39, 9.47)",
          "<b>Women with ADHD</b><br>Group: Female_ADHD<br>Topic 2<br>Label: Neurodiversity and Social Inclusion<br><b>Documents: 11</b><br>Position: (6.07, 7.27)",
          "<b>Women with ADHD</b><br>Group: Female_ADHD<br>Topic 3<br>Label: Traumatic Childhood and Family Memories<br><b>Documents: 6</b><br>Position: (6.05, 7.82)",
          "<b>Women with ADHD</b><br>Group: Female_ADHD<br>Topic 4<br>Label: Mental and Physical Health Interplay<br><b>Documents: 5</b><br>Position: (6.26, 6.75)",
          "<b>Women with ADHD</b><br>Group: Female_ADHD<br>Topic 5<br>Label: Fantasy Worlds and Creativity<br><b>Documents: 3</b><br>Position: (8.26, 10.33)",
          "<b>Women with ADHD</b><br>Group: Female_ADHD<br>Topic 6<br>Label: Animal Welfare and Society<br><b>Documents: 3</b><br>Position: (5.38, 7.10)",
          "<b>Women with ADHD</b><br>Group: Female_ADHD<br>Topic 7<br>Label: Diverse Personal Interests and Learning<br><b>Documents: 3</b><br>Position: (8.84, 10.36)"
         ],
         "type": "scatter",
         "x": {
          "bdata": "0VkYQc00FkHdWMJAGKDBQHsxyEDOJwRBKhasQBl0DUE=",
          "dtype": "f4"
         },
         "y": {
          "bdata": "IbofQdKJF0H6ouhA6UL6QGsR2EBhSSVB6iPjQBjGJUE=",
          "dtype": "f4"
         }
        },
        {
         "hovertemplate": "%{text}<extra></extra>",
         "marker": {
          "color": "#3cb44b",
          "line": {
           "color": "rgba(0,0,0,0.3)",
           "width": 1
          },
          "opacity": 0.8,
          "size": [
           22.333333333333332,
           19.666666666666664,
           14,
           12,
           11.333333333333334,
           10,
           10,
           9.666666666666666,
           9.333333333333334,
           9.333333333333334,
           8.666666666666666,
           8.666666666666666,
           8.666666666666666,
           8.666666666666666,
           8.666666666666666
          ],
          "sizemode": "diameter",
          "symbol": "circle"
         },
         "mode": "markers",
         "name": "Women without ADHD",
         "showlegend": true,
         "text": [
          "<b>Women without ADHD</b><br>Group: Female_noADHD<br>Topic 0<br>Label: Daily Life and Emotional Struggles<br><b>Documents: 45</b><br>Position: (14.33, 3.87)",
          "<b>Women without ADHD</b><br>Group: Female_noADHD<br>Topic 1<br>Label: Personal Reflection and Social Concerns<br><b>Documents: 37</b><br>Position: (13.59, 6.48)",
          "<b>Women without ADHD</b><br>Group: Female_noADHD<br>Topic 2<br>Label: Personal Childhood Memory Reflections<br><b>Documents: 20</b><br>Position: (14.40, 6.86)",
          "<b>Women without ADHD</b><br>Group: Female_noADHD<br>Topic 3<br>Label: Impact of Fiction on Identity<br><b>Documents: 14</b><br>Position: (13.68, 5.23)",
          "<b>Women without ADHD</b><br>Group: Female_noADHD<br>Topic 4<br>Label: Relaxing Personal Leisure Activities<br><b>Documents: 12</b><br>Position: (14.85, 27.60)",
          "<b>Women without ADHD</b><br>Group: Female_noADHD<br>Topic 5<br>Label: Personal Connection to Music<br><b>Documents: 8</b><br>Position: (14.17, 5.71)",
          "<b>Women without ADHD</b><br>Group: Female_noADHD<br>Topic 6<br>Label: Experiencing New Cultures and Nature<br><b>Documents: 8</b><br>Position: (15.12, 27.87)",
          "<b>Women without ADHD</b><br>Group: Female_noADHD<br>Topic 7<br>Label: Reluctance or Inability to Answer<br><b>Documents: 7</b><br>Position: (13.87, 6.28)",
          "<b>Women without ADHD</b><br>Group: Female_noADHD<br>Topic 8<br>Label: Personal Growth and Self-Discovery<br><b>Documents: 6</b><br>Position: (13.21, 6.13)",
          "<b>Women without ADHD</b><br>Group: Female_noADHD<br>Topic 9<br>Label: Personal Creative Expression and Design<br><b>Documents: 6</b><br>Position: (14.56, 27.31)",
          "<b>Women without ADHD</b><br>Group: Female_noADHD<br>Topic 10<br>Label: Language and Human Communication<br><b>Documents: 4</b><br>Position: (12.80, 6.40)",
          "<b>Women without ADHD</b><br>Group: Female_noADHD<br>Topic 11<br>Label: Theater Memories and Emotions<br><b>Documents: 4</b><br>Position: (13.32, 6.97)",
          "<b>Women without ADHD</b><br>Group: Female_noADHD<br>Topic 12<br>Label: Philosophy, Politics, and Spirituality<br><b>Documents: 4</b><br>Position: (12.75, 5.24)",
          "<b>Women without ADHD</b><br>Group: Female_noADHD<br>Topic 13<br>Label: Overcoming Self-Doubt in Education<br><b>Documents: 4</b><br>Position: (14.58, 3.50)",
          "<b>Women without ADHD</b><br>Group: Female_noADHD<br>Topic 14<br>Label: Friendship, Betrayal, and Emotional Impact<br><b>Documents: 4</b><br>Position: (14.79, 6.67)"
         ],
         "type": "scatter",
         "x": {
          "bdata": "NVtlQXpiWUEfbGZBIe9aQVaObUEdw2JBrPBxQSTmXUHmZlNBXOxoQWrTTEFXJVVBEP9LQX1VaUE6oWxB",
          "dtype": "f4"
         },
         "y": {
          "bdata": "fet3QNtrz0ByjdtA0VKnQKvG3EE2wbZAm/feQZwWyUC7P8RAW3XaQQfizED1A99A3sSnQBATYEB/VdVA",
          "dtype": "f4"
         }
        },
        {
         "hovertemplate": "%{text}<extra></extra>",
         "marker": {
          "color": "#4363d8",
          "line": {
           "color": "rgba(0,0,0,0.3)",
           "width": 1
          },
          "opacity": 0.8,
          "size": [
           12.666666666666668,
           11.666666666666666,
           10.333333333333334,
           9.666666666666666,
           9.333333333333334,
           9,
           9,
           9,
           8.666666666666666,
           8.666666666666666,
           8.666666666666666,
           8.333333333333334,
           8
          ],
          "sizemode": "diameter",
          "symbol": "circle"
         },
         "mode": "markers",
         "name": "Participants with ADHD",
         "showlegend": true,
         "text": [
          "<b>Participants with ADHD</b><br>Group: ADHD<br>Topic 0<br>Label: Daily Life and Routines<br><b>Documents: 16</b><br>Position: (15.82, 0.01)",
          "<b>Participants with ADHD</b><br>Group: ADHD<br>Topic 1<br>Label: Academic Stress and Overwhelm<br><b>Documents: 13</b><br>Position: (14.88, 2.69)",
          "<b>Participants with ADHD</b><br>Group: ADHD<br>Topic 2<br>Label: Childhood Trauma and Family Guilt<br><b>Documents: 9</b><br>Position: (15.36, 0.17)",
          "<b>Participants with ADHD</b><br>Group: ADHD<br>Topic 3<br>Label: ADHD Diagnosis and Daily Challenges<br><b>Documents: 7</b><br>Position: (-4.64, 9.04)",
          "<b>Participants with ADHD</b><br>Group: ADHD<br>Topic 4<br>Label: Human Creativity and Complex Interests<br><b>Documents: 6</b><br>Position: (16.08, 2.50)",
          "<b>Participants with ADHD</b><br>Group: ADHD<br>Topic 5<br>Label: Broad Curiosity and Human Health<br><b>Documents: 5</b><br>Position: (16.29, 2.99)",
          "<b>Participants with ADHD</b><br>Group: ADHD<br>Topic 6<br>Label: Thrill, Adrenaline, and Self-Discovery<br><b>Documents: 5</b><br>Position: (15.53, -0.49)",
          "<b>Participants with ADHD</b><br>Group: ADHD<br>Topic 7<br>Label: Activities for Relaxation and Focus<br><b>Documents: 5</b><br>Position: (14.20, 2.20)",
          "<b>Participants with ADHD</b><br>Group: ADHD<br>Topic 8<br>Label: Human Psychology and Wellbeing<br><b>Documents: 4</b><br>Position: (-4.72, 9.88)",
          "<b>Participants with ADHD</b><br>Group: ADHD<br>Topic 9<br>Label: Human-Animal Relationships and Welfare<br><b>Documents: 4</b><br>Position: (16.66, 2.45)",
          "<b>Participants with ADHD</b><br>Group: ADHD<br>Topic 10<br>Label: Neurodiversity and Social Inclusion<br><b>Documents: 4</b><br>Position: (-4.50, 9.59)",
          "<b>Participants with ADHD</b><br>Group: ADHD<br>Topic 11<br>Label: Escapism Through Literature and Imagination<br><b>Documents: 3</b><br>Position: (14.76, 2.32)",
          "<b>Participants with ADHD</b><br>Group: ADHD<br>Topic 12<br>Label: Self-Esteem and Social Anxiety<br><b>Documents: 2</b><br>Position: (-4.19, 9.40)"
         ],
         "type": "scatter",
         "x": {
          "bdata": "RS19QQ0abkFtvXVBJaGUwFusgEEjW4JBA4F4QSZBY0EOApfAkkmFQXHlj8DtNWxBwOyFwA==",
          "dtype": "f4"
         },
         "y": {
          "bdata": "gesIPOlULEAeyy8+8KEQQW/2H0D6Qj9Afzr9vrb1DEANFB5B4dQcQLFsGUFQiBRAel8WQQ==",
          "dtype": "f4"
         }
        },
        {
         "hovertemplate": "%{text}<extra></extra>",
         "marker": {
          "color": "#f58231",
          "line": {
           "color": "rgba(0,0,0,0.3)",
           "width": 1
          },
          "opacity": 0.8,
          "size": [
           30,
           16.666666666666664,
           16,
           14,
           12.333333333333332,
           12.333333333333332,
           11.333333333333334,
           11.333333333333334,
           11,
           11,
           9.666666666666666,
           9.666666666666666,
           9.666666666666666,
           9.333333333333334,
           9.333333333333334,
           9.333333333333334,
           9.333333333333334,
           9,
           9,
           9,
           9,
           9,
           9,
           8.666666666666666,
           8.666666666666666,
           8.666666666666666
          ],
          "sizemode": "diameter",
          "symbol": "circle"
         },
         "mode": "markers",
         "name": "Participants without ADHD",
         "showlegend": true,
         "text": [
          "<b>Participants without ADHD</b><br>Group: noADHD<br>Topic 0<br>Label: Daily Routines and Emotional Challenges<br><b>Documents: 68</b><br>Position: (6.74, -0.61)",
          "<b>Participants without ADHD</b><br>Group: noADHD<br>Topic 1<br>Label: Sports and Gaming Enthusiasm<br><b>Documents: 28</b><br>Position: (-6.32, 13.51)",
          "<b>Participants without ADHD</b><br>Group: noADHD<br>Topic 2<br>Label: Personal Relationships and Self-Reflection<br><b>Documents: 26</b><br>Position: (12.85, 4.29)",
          "<b>Participants without ADHD</b><br>Group: noADHD<br>Topic 3<br>Label: Childhood Memories and Grandparents<br><b>Documents: 20</b><br>Position: (12.58, 4.55)",
          "<b>Participants without ADHD</b><br>Group: noADHD<br>Topic 4<br>Label: Personal Reflection on Daily Events<br><b>Documents: 15</b><br>Position: (6.64, -0.08)",
          "<b>Participants without ADHD</b><br>Group: noADHD<br>Topic 5<br>Label: Personal Experience with Music<br><b>Documents: 15</b><br>Position: (-6.65, 13.62)",
          "<b>Participants without ADHD</b><br>Group: noADHD<br>Topic 6<br>Label: Political and Scientific Perspectives<br><b>Documents: 12</b><br>Position: (-5.94, 14.30)",
          "<b>Participants without ADHD</b><br>Group: noADHD<br>Topic 7<br>Label: Solitude and Nature for Wellbeing<br><b>Documents: 12</b><br>Position: (-7.19, 13.18)",
          "<b>Participants without ADHD</b><br>Group: noADHD<br>Topic 8<br>Label: No Answer or Uncertain Responses<br><b>Documents: 11</b><br>Position: (7.07, -1.91)",
          "<b>Participants without ADHD</b><br>Group: noADHD<br>Topic 9<br>Label: Passion for Reading Fiction<br><b>Documents: 11</b><br>Position: (-7.13, 15.17)",
          "<b>Participants without ADHD</b><br>Group: noADHD<br>Topic 10<br>Label: Personal Joys and Pleasures<br><b>Documents: 7</b><br>Position: (-6.04, 13.70)",
          "<b>Participants without ADHD</b><br>Group: noADHD<br>Topic 11<br>Label: Creative Expression in Visual Arts<br><b>Documents: 7</b><br>Position: (-6.44, 14.38)",
          "<b>Participants without ADHD</b><br>Group: noADHD<br>Topic 12<br>Label: Political Anxiety and Gender Equality<br><b>Documents: 7</b><br>Position: (6.97, 0.08)",
          "<b>Participants without ADHD</b><br>Group: noADHD<br>Topic 13<br>Label: Immersive Fantasy and Animal Interests<br><b>Documents: 6</b><br>Position: (-7.07, 13.94)",
          "<b>Participants without ADHD</b><br>Group: noADHD<br>Topic 14<br>Label: Procrastination and Writing Struggles<br><b>Documents: 6</b><br>Position: (6.88, -1.54)",
          "<b>Participants without ADHD</b><br>Group: noADHD<br>Topic 15<br>Label: Mental Health Diagnosis and Medication<br><b>Documents: 6</b><br>Position: (12.87, 4.27)",
          "<b>Participants without ADHD</b><br>Group: noADHD<br>Topic 16<br>Label: Becoming a Firefighter Commander<br><b>Documents: 6</b><br>Position: (7.29, -2.26)",
          "<b>Participants without ADHD</b><br>Group: noADHD<br>Topic 17<br>Label: Emotional Impact of Visual Storytelling<br><b>Documents: 5</b><br>Position: (-7.31, 15.38)",
          "<b>Participants without ADHD</b><br>Group: noADHD<br>Topic 18<br>Label: Fear of Life Transitions<br><b>Documents: 5</b><br>Position: (7.08, -0.79)",
          "<b>Participants without ADHD</b><br>Group: noADHD<br>Topic 19<br>Label: Personal Reflections and Relationships<br><b>Documents: 5</b><br>Position: (6.62, -0.74)",
          "<b>Participants without ADHD</b><br>Group: noADHD<br>Topic 20<br>Label: Manual and Creative Hobbies<br><b>Documents: 5</b><br>Position: (-6.46, 13.98)",
          "<b>Participants without ADHD</b><br>Group: noADHD<br>Topic 21<br>Label: Discomfort Writing Personal Topics<br><b>Documents: 5</b><br>Position: (6.50, 0.15)",
          "<b>Participants without ADHD</b><br>Group: noADHD<br>Topic 22<br>Label: Overcoming Self-Doubt in Education<br><b>Documents: 5</b><br>Position: (13.18, 3.95)",
          "<b>Participants without ADHD</b><br>Group: noADHD<br>Topic 23<br>Label: Days of the Week Calculation<br><b>Documents: 4</b><br>Position: (7.15, -2.37)",
          "<b>Participants without ADHD</b><br>Group: noADHD<br>Topic 24<br>Label: Theatre Memories and Emotional Impact<br><b>Documents: 4</b><br>Position: (7.42, 0.39)",
          "<b>Participants without ADHD</b><br>Group: noADHD<br>Topic 25<br>Label: Experiencing Cultures Through Travel<br><b>Documents: 4</b><br>Position: (-7.51, 13.04)"
         ],
         "type": "scatter",
         "x": {
          "bdata": "FJzXQHk1ysCYkE1BDkxJQZaV1EAzrtTAUTy+wPAz5sBjIuJAK0PkwBUowcD9Bc7AAyHfQO884sBeIdxA3+BNQWkh6UAxyOnAxW7iQHOw00ChpM7A6fPPQPDsUkFJqeRAuGntQAtp8MA=",
          "dtype": "f4"
         },
         "y": {
          "bdata": "jUQdv404WEHrM4lAV6qRQAV4pb383llBf8NkQSbPUkHvEPS/P7xyQfcsW0F8AWZBog+bPVoNX0GY6MS/rpGIQMB1EMBoI3ZB2WRKvwjlPb+5s19BxX8WPlXZfECguxfA8FXFPgugUEE=",
          "dtype": "f4"
         }
        }
       ],
       "layout": {
        "height": 800,
        "legend": {
         "bgcolor": "rgba(255,255,255,0.9)",
         "bordercolor": "rgba(0,0,0,0.3)",
         "borderwidth": 1,
         "font": {
          "size": 12
         },
         "orientation": "v",
         "x": 1.02,
         "xanchor": "left",
         "y": 1,
         "yanchor": "top"
        },
        "margin": {
         "b": 80,
         "l": 80,
         "r": 200,
         "t": 120
        },
        "paper_bgcolor": "white",
        "plot_bgcolor": "white",
        "template": {
         "data": {
          "bar": [
           {
            "error_x": {
             "color": "#2a3f5f"
            },
            "error_y": {
             "color": "#2a3f5f"
            },
            "marker": {
             "line": {
              "color": "#E5ECF6",
              "width": 0.5
             },
             "pattern": {
              "fillmode": "overlay",
              "size": 10,
              "solidity": 0.2
             }
            },
            "type": "bar"
           }
          ],
          "barpolar": [
           {
            "marker": {
             "line": {
              "color": "#E5ECF6",
              "width": 0.5
             },
             "pattern": {
              "fillmode": "overlay",
              "size": 10,
              "solidity": 0.2
             }
            },
            "type": "barpolar"
           }
          ],
          "carpet": [
           {
            "aaxis": {
             "endlinecolor": "#2a3f5f",
             "gridcolor": "white",
             "linecolor": "white",
             "minorgridcolor": "white",
             "startlinecolor": "#2a3f5f"
            },
            "baxis": {
             "endlinecolor": "#2a3f5f",
             "gridcolor": "white",
             "linecolor": "white",
             "minorgridcolor": "white",
             "startlinecolor": "#2a3f5f"
            },
            "type": "carpet"
           }
          ],
          "choropleth": [
           {
            "colorbar": {
             "outlinewidth": 0,
             "ticks": ""
            },
            "type": "choropleth"
           }
          ],
          "contour": [
           {
            "colorbar": {
             "outlinewidth": 0,
             "ticks": ""
            },
            "colorscale": [
             [
              0,
              "#0d0887"
             ],
             [
              0.1111111111111111,
              "#46039f"
             ],
             [
              0.2222222222222222,
              "#7201a8"
             ],
             [
              0.3333333333333333,
              "#9c179e"
             ],
             [
              0.4444444444444444,
              "#bd3786"
             ],
             [
              0.5555555555555556,
              "#d8576b"
             ],
             [
              0.6666666666666666,
              "#ed7953"
             ],
             [
              0.7777777777777778,
              "#fb9f3a"
             ],
             [
              0.8888888888888888,
              "#fdca26"
             ],
             [
              1,
              "#f0f921"
             ]
            ],
            "type": "contour"
           }
          ],
          "contourcarpet": [
           {
            "colorbar": {
             "outlinewidth": 0,
             "ticks": ""
            },
            "type": "contourcarpet"
           }
          ],
          "heatmap": [
           {
            "colorbar": {
             "outlinewidth": 0,
             "ticks": ""
            },
            "colorscale": [
             [
              0,
              "#0d0887"
             ],
             [
              0.1111111111111111,
              "#46039f"
             ],
             [
              0.2222222222222222,
              "#7201a8"
             ],
             [
              0.3333333333333333,
              "#9c179e"
             ],
             [
              0.4444444444444444,
              "#bd3786"
             ],
             [
              0.5555555555555556,
              "#d8576b"
             ],
             [
              0.6666666666666666,
              "#ed7953"
             ],
             [
              0.7777777777777778,
              "#fb9f3a"
             ],
             [
              0.8888888888888888,
              "#fdca26"
             ],
             [
              1,
              "#f0f921"
             ]
            ],
            "type": "heatmap"
           }
          ],
          "histogram": [
           {
            "marker": {
             "pattern": {
              "fillmode": "overlay",
              "size": 10,
              "solidity": 0.2
             }
            },
            "type": "histogram"
           }
          ],
          "histogram2d": [
           {
            "colorbar": {
             "outlinewidth": 0,
             "ticks": ""
            },
            "colorscale": [
             [
              0,
              "#0d0887"
             ],
             [
              0.1111111111111111,
              "#46039f"
             ],
             [
              0.2222222222222222,
              "#7201a8"
             ],
             [
              0.3333333333333333,
              "#9c179e"
             ],
             [
              0.4444444444444444,
              "#bd3786"
             ],
             [
              0.5555555555555556,
              "#d8576b"
             ],
             [
              0.6666666666666666,
              "#ed7953"
             ],
             [
              0.7777777777777778,
              "#fb9f3a"
             ],
             [
              0.8888888888888888,
              "#fdca26"
             ],
             [
              1,
              "#f0f921"
             ]
            ],
            "type": "histogram2d"
           }
          ],
          "histogram2dcontour": [
           {
            "colorbar": {
             "outlinewidth": 0,
             "ticks": ""
            },
            "colorscale": [
             [
              0,
              "#0d0887"
             ],
             [
              0.1111111111111111,
              "#46039f"
             ],
             [
              0.2222222222222222,
              "#7201a8"
             ],
             [
              0.3333333333333333,
              "#9c179e"
             ],
             [
              0.4444444444444444,
              "#bd3786"
             ],
             [
              0.5555555555555556,
              "#d8576b"
             ],
             [
              0.6666666666666666,
              "#ed7953"
             ],
             [
              0.7777777777777778,
              "#fb9f3a"
             ],
             [
              0.8888888888888888,
              "#fdca26"
             ],
             [
              1,
              "#f0f921"
             ]
            ],
            "type": "histogram2dcontour"
           }
          ],
          "mesh3d": [
           {
            "colorbar": {
             "outlinewidth": 0,
             "ticks": ""
            },
            "type": "mesh3d"
           }
          ],
          "parcoords": [
           {
            "line": {
             "colorbar": {
              "outlinewidth": 0,
              "ticks": ""
             }
            },
            "type": "parcoords"
           }
          ],
          "pie": [
           {
            "automargin": true,
            "type": "pie"
           }
          ],
          "scatter": [
           {
            "fillpattern": {
             "fillmode": "overlay",
             "size": 10,
             "solidity": 0.2
            },
            "type": "scatter"
           }
          ],
          "scatter3d": [
           {
            "line": {
             "colorbar": {
              "outlinewidth": 0,
              "ticks": ""
             }
            },
            "marker": {
             "colorbar": {
              "outlinewidth": 0,
              "ticks": ""
             }
            },
            "type": "scatter3d"
           }
          ],
          "scattercarpet": [
           {
            "marker": {
             "colorbar": {
              "outlinewidth": 0,
              "ticks": ""
             }
            },
            "type": "scattercarpet"
           }
          ],
          "scattergeo": [
           {
            "marker": {
             "colorbar": {
              "outlinewidth": 0,
              "ticks": ""
             }
            },
            "type": "scattergeo"
           }
          ],
          "scattergl": [
           {
            "marker": {
             "colorbar": {
              "outlinewidth": 0,
              "ticks": ""
             }
            },
            "type": "scattergl"
           }
          ],
          "scattermap": [
           {
            "marker": {
             "colorbar": {
              "outlinewidth": 0,
              "ticks": ""
             }
            },
            "type": "scattermap"
           }
          ],
          "scattermapbox": [
           {
            "marker": {
             "colorbar": {
              "outlinewidth": 0,
              "ticks": ""
             }
            },
            "type": "scattermapbox"
           }
          ],
          "scatterpolar": [
           {
            "marker": {
             "colorbar": {
              "outlinewidth": 0,
              "ticks": ""
             }
            },
            "type": "scatterpolar"
           }
          ],
          "scatterpolargl": [
           {
            "marker": {
             "colorbar": {
              "outlinewidth": 0,
              "ticks": ""
             }
            },
            "type": "scatterpolargl"
           }
          ],
          "scatterternary": [
           {
            "marker": {
             "colorbar": {
              "outlinewidth": 0,
              "ticks": ""
             }
            },
            "type": "scatterternary"
           }
          ],
          "surface": [
           {
            "colorbar": {
             "outlinewidth": 0,
             "ticks": ""
            },
            "colorscale": [
             [
              0,
              "#0d0887"
             ],
             [
              0.1111111111111111,
              "#46039f"
             ],
             [
              0.2222222222222222,
              "#7201a8"
             ],
             [
              0.3333333333333333,
              "#9c179e"
             ],
             [
              0.4444444444444444,
              "#bd3786"
             ],
             [
              0.5555555555555556,
              "#d8576b"
             ],
             [
              0.6666666666666666,
              "#ed7953"
             ],
             [
              0.7777777777777778,
              "#fb9f3a"
             ],
             [
              0.8888888888888888,
              "#fdca26"
             ],
             [
              1,
              "#f0f921"
             ]
            ],
            "type": "surface"
           }
          ],
          "table": [
           {
            "cells": {
             "fill": {
              "color": "#EBF0F8"
             },
             "line": {
              "color": "white"
             }
            },
            "header": {
             "fill": {
              "color": "#C8D4E3"
             },
             "line": {
              "color": "white"
             }
            },
            "type": "table"
           }
          ]
         },
         "layout": {
          "annotationdefaults": {
           "arrowcolor": "#2a3f5f",
           "arrowhead": 0,
           "arrowwidth": 1
          },
          "autotypenumbers": "strict",
          "coloraxis": {
           "colorbar": {
            "outlinewidth": 0,
            "ticks": ""
           }
          },
          "colorscale": {
           "diverging": [
            [
             0,
             "#8e0152"
            ],
            [
             0.1,
             "#c51b7d"
            ],
            [
             0.2,
             "#de77ae"
            ],
            [
             0.3,
             "#f1b6da"
            ],
            [
             0.4,
             "#fde0ef"
            ],
            [
             0.5,
             "#f7f7f7"
            ],
            [
             0.6,
             "#e6f5d0"
            ],
            [
             0.7,
             "#b8e186"
            ],
            [
             0.8,
             "#7fbc41"
            ],
            [
             0.9,
             "#4d9221"
            ],
            [
             1,
             "#276419"
            ]
           ],
           "sequential": [
            [
             0,
             "#0d0887"
            ],
            [
             0.1111111111111111,
             "#46039f"
            ],
            [
             0.2222222222222222,
             "#7201a8"
            ],
            [
             0.3333333333333333,
             "#9c179e"
            ],
            [
             0.4444444444444444,
             "#bd3786"
            ],
            [
             0.5555555555555556,
             "#d8576b"
            ],
            [
             0.6666666666666666,
             "#ed7953"
            ],
            [
             0.7777777777777778,
             "#fb9f3a"
            ],
            [
             0.8888888888888888,
             "#fdca26"
            ],
            [
             1,
             "#f0f921"
            ]
           ],
           "sequentialminus": [
            [
             0,
             "#0d0887"
            ],
            [
             0.1111111111111111,
             "#46039f"
            ],
            [
             0.2222222222222222,
             "#7201a8"
            ],
            [
             0.3333333333333333,
             "#9c179e"
            ],
            [
             0.4444444444444444,
             "#bd3786"
            ],
            [
             0.5555555555555556,
             "#d8576b"
            ],
            [
             0.6666666666666666,
             "#ed7953"
            ],
            [
             0.7777777777777778,
             "#fb9f3a"
            ],
            [
             0.8888888888888888,
             "#fdca26"
            ],
            [
             1,
             "#f0f921"
            ]
           ]
          },
          "colorway": [
           "#636efa",
           "#EF553B",
           "#00cc96",
           "#ab63fa",
           "#FFA15A",
           "#19d3f3",
           "#FF6692",
           "#B6E880",
           "#FF97FF",
           "#FECB52"
          ],
          "font": {
           "color": "#2a3f5f"
          },
          "geo": {
           "bgcolor": "white",
           "lakecolor": "white",
           "landcolor": "#E5ECF6",
           "showlakes": true,
           "showland": true,
           "subunitcolor": "white"
          },
          "hoverlabel": {
           "align": "left"
          },
          "hovermode": "closest",
          "mapbox": {
           "style": "light"
          },
          "paper_bgcolor": "white",
          "plot_bgcolor": "#E5ECF6",
          "polar": {
           "angularaxis": {
            "gridcolor": "white",
            "linecolor": "white",
            "ticks": ""
           },
           "bgcolor": "#E5ECF6",
           "radialaxis": {
            "gridcolor": "white",
            "linecolor": "white",
            "ticks": ""
           }
          },
          "scene": {
           "xaxis": {
            "backgroundcolor": "#E5ECF6",
            "gridcolor": "white",
            "gridwidth": 2,
            "linecolor": "white",
            "showbackground": true,
            "ticks": "",
            "zerolinecolor": "white"
           },
           "yaxis": {
            "backgroundcolor": "#E5ECF6",
            "gridcolor": "white",
            "gridwidth": 2,
            "linecolor": "white",
            "showbackground": true,
            "ticks": "",
            "zerolinecolor": "white"
           },
           "zaxis": {
            "backgroundcolor": "#E5ECF6",
            "gridcolor": "white",
            "gridwidth": 2,
            "linecolor": "white",
            "showbackground": true,
            "ticks": "",
            "zerolinecolor": "white"
           }
          },
          "shapedefaults": {
           "line": {
            "color": "#2a3f5f"
           }
          },
          "ternary": {
           "aaxis": {
            "gridcolor": "white",
            "linecolor": "white",
            "ticks": ""
           },
           "baxis": {
            "gridcolor": "white",
            "linecolor": "white",
            "ticks": ""
           },
           "bgcolor": "#E5ECF6",
           "caxis": {
            "gridcolor": "white",
            "linecolor": "white",
            "ticks": ""
           }
          },
          "title": {
           "x": 0.05
          },
          "xaxis": {
           "automargin": true,
           "gridcolor": "white",
           "linecolor": "white",
           "ticks": "",
           "title": {
            "standoff": 15
           },
           "zerolinecolor": "white",
           "zerolinewidth": 2
          },
          "yaxis": {
           "automargin": true,
           "gridcolor": "white",
           "linecolor": "white",
           "ticks": "",
           "title": {
            "standoff": 15
           },
           "zerolinecolor": "white",
           "zerolinewidth": 2
          }
         }
        },
        "title": {
         "font": {
          "size": 18
         },
         "text": "<b>Combined Topic Clusters Across Groups</b><br>",
         "x": 0.5,
         "xanchor": "center"
        },
        "width": 1400,
        "xaxis": {
         "gridcolor": "rgba(0,0,0,0.1)",
         "linecolor": "black",
         "linewidth": 1,
         "showgrid": true,
         "showline": true,
         "title": {
          "text": "D1"
         },
         "zeroline": true,
         "zerolinecolor": "rgba(0,0,0,0.3)"
        },
        "yaxis": {
         "gridcolor": "rgba(0,0,0,0.1)",
         "linecolor": "black",
         "linewidth": 1,
         "showgrid": true,
         "showline": true,
         "title": {
          "text": "D2"
         },
         "zeroline": true,
         "zerolinecolor": "rgba(0,0,0,0.3)"
        }
       }
      }
     },
     "metadata": {},
     "output_type": "display_data"
    }
   ],
   "source": [
    "# Extract representations using existing UMAP\n",
    "print(\"🔄 Extracting topic representations from existing UMAP...\")\n",
    "all_representations = {}\n",
    "\n",
    "for group_name, model in models.items():\n",
    "    config = groups_config[group_name]\n",
    "    print(f\"\\n🔍 Processing {config['display_name']} ({group_name})...\")\n",
    "    repr_data = extract_topic_representations(model, group_name)\n",
    "    if repr_data is not None:\n",
    "        all_representations[group_name] = repr_data\n",
    "        print(f\"  ✅ {config['display_name']}: {len(repr_data['topic_ids'])} topics\")\n",
    "    else:\n",
    "        print(f\"  ❌ Failed to extract representations for {config['display_name']}\")\n",
    "\n",
    "print(f\"\\n📈 Successfully extracted representations from {len(all_representations)} groups\")\n",
    "\n",
    "# Create visualization\n",
    "print(\"🎨 Displaying Combined Topic Clusters with Descriptive Labels:\")\n",
    "fig_combined = create_combined_visualization_from_umap(all_representations, groups_config)\n",
    "display(fig_combined)"
   ]
  },
  {
   "cell_type": "code",
   "execution_count": 7,
   "id": "3add30c1",
   "metadata": {},
   "outputs": [
    {
     "name": "stdout",
     "output_type": "stream",
     "text": [
      "💾 Saving visualizations...\n",
      "🖼️  Saved combined_topic_clusters_umap_all_groups as PNG: 20250921_230018_combined_topic_clusters_umap_all_groups.png\n",
      "📊 Saved combined_topic_clusters_umap_all_groups as HTML: 20250921_230018_combined_topic_clusters_umap_all_groups.html\n",
      "✅ Total saved: 2 file(s) for 'combined_topic_clusters_umap_all_groups'\n",
      "📁 Location: /home/raquel/adhd-linguistic-patterns-beliefs-portuguese-women/outputs/combined_visualizations\n",
      "------------------------------------------------------------\n",
      "✅ All visualizations saved successfully!\n"
     ]
    }
   ],
   "source": [
    "# Save visualizations\n",
    "print(\"💾 Saving visualizations...\")\n",
    "\n",
    "# Save UMAP version\n",
    "umap_files = auto_save_figure(\n",
    "    fig_combined, \n",
    "    \"combined_topic_clusters_umap_all_groups\",\n",
    "    save_formats=['png', 'html'],\n",
    "    width=1200,\n",
    "    height=800,\n",
    "    scale=2,\n",
    "    output_dir=\"../../outputs/combined_visualizations\"\n",
    ")\n",
    "print(\"✅ All visualizations saved successfully!\")"
   ]
  }
 ],
 "metadata": {
  "kernelspec": {
   "display_name": "adhd-linguistic-patterns-beliefs-portuguese-women",
   "language": "python",
   "name": "python3"
  },
  "language_info": {
   "codemirror_mode": {
    "name": "ipython",
    "version": 3
   },
   "file_extension": ".py",
   "mimetype": "text/x-python",
   "name": "python",
   "nbconvert_exporter": "python",
   "pygments_lexer": "ipython3",
   "version": "3.10.12"
  }
 },
 "nbformat": 4,
 "nbformat_minor": 5
}
