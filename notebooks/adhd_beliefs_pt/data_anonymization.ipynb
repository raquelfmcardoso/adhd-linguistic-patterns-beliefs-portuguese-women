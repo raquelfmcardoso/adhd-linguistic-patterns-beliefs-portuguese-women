{
 "cells": [
  {
   "cell_type": "code",
   "execution_count": null,
   "id": "4deb1692",
   "metadata": {},
   "outputs": [],
   "source": [
    "import pandas as pd\n",
    "import re"
   ]
  },
  {
   "cell_type": "code",
   "execution_count": null,
   "id": "0e19b7de",
   "metadata": {},
   "outputs": [],
   "source": [
    "file_path = '../../data/adhd-beliefs-pt/processed-adhd-beliefs-pt.json'\n",
    "df = pd.read_json(file_path)\n",
    "df.head()"
   ]
  },
  {
   "cell_type": "code",
   "execution_count": null,
   "id": "04d13f99",
   "metadata": {},
   "outputs": [],
   "source": [
    "df = df[[\"special_interest\", \"diary_entry\", \"selfdefining_memory\", \"empty_sheet\"]]\n",
    "df"
   ]
  },
  {
   "cell_type": "markdown",
   "id": "f86d1b19",
   "metadata": {},
   "source": [
    "### Removing E-mails"
   ]
  },
  {
   "cell_type": "code",
   "execution_count": null,
   "id": "68cfaa3c",
   "metadata": {},
   "outputs": [],
   "source": [
    "df = df.applymap(lambda x: re.sub(r'\\b[A-Za-z0-9._%+-]+@[A-Za-z0-9.-]+\\.[A-Za-z]{2,}\\b', '[EMAIL]', x) if isinstance(x, str) else x)"
   ]
  }
 ],
 "metadata": {
  "kernelspec": {
   "display_name": ".venv",
   "language": "python",
   "name": "python3"
  },
  "language_info": {
   "codemirror_mode": {
    "name": "ipython",
    "version": 3
   },
   "file_extension": ".py",
   "mimetype": "text/x-python",
   "name": "python",
   "nbconvert_exporter": "python",
   "pygments_lexer": "ipython3",
   "version": "3.10.12"
  }
 },
 "nbformat": 4,
 "nbformat_minor": 5
}
