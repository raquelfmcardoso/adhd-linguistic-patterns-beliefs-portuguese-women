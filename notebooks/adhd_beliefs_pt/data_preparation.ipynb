{
 "cells": [
  {
   "cell_type": "markdown",
   "id": "8e425e29",
   "metadata": {},
   "source": [
    "# Formatting Dataset"
   ]
  },
  {
   "cell_type": "code",
   "execution_count": null,
   "id": "fcc6f509",
   "metadata": {},
   "outputs": [],
   "source": [
    "import pandas as pd"
   ]
  },
  {
   "cell_type": "code",
   "execution_count": null,
   "id": "5bf7feca",
   "metadata": {},
   "outputs": [],
   "source": [
    "file_path = '../../data/adhd-beliefs-pt/adhd-beliefs-pt.csv'\n",
    "df = pd.read_csv(file_path)\n",
    "df.head()"
   ]
  },
  {
   "cell_type": "code",
   "execution_count": null,
   "id": "5dfd938a",
   "metadata": {},
   "outputs": [],
   "source": [
    "df.columns = ['datetime', 'consent', 'sex', 'adhd_diagnosis', 'age', 'education', 'occupation', 'dialect',\n",
    "              'forgetting_objects', 'forgetting_responsabilities',\n",
    "              'emotion_management', 'emotion_reactions', 'emotion_choices', 'emotion_intense_reaction', 'strong_mood_swings', 'control_mood_swings', 'mood_swings_outside_consequence', 'justice_sense', 'defend_beliefs', 'express_writing',\n",
    "              'topic_change_involuntary', 'related_topic', 'topic_change_unrealized', 'parallel_topic', 'nonlinear_storytelling', 'excessive_details', 'forgetting_mid_conversation', 'talkback', 'talkback_authority', 'talkback_comfortable',\n",
    "              'interrupting_involuntary', 'excited_opinion', 'want_interrupt', 'want_interrupt_control', 'called_out_expressing', 'called_out_exalted', 'called_out_talking_loud', 'called_out_nonlinear_talk', 'called_out_nonlinear_write',\n",
    "              'called_out_gestures', 'called_out_talking', 'detailed_opinions', 'detailed_opinions_interest', 'detailed_opinions_people', 'detailed_opinions_misunderstood', 'swearing', 'swearing_anywhere', 'swearing_casual', 'talk_fast',\n",
    "              'talk_fast_unrealized', 'talk_fast_uncontrolled', 'called_out_talk_fast', 'need_fast_talk_interest', 'need_fast_talk_information', 'speaking_before_thinking', 'something_to_add', 'something_to_add_timid', 'something_to_add_impuslive',\n",
    "              'special_interest', 'diary_entry', 'selfdefining_memory', 'empty_sheet']"
   ]
  },
  {
   "cell_type": "code",
   "execution_count": null,
   "metadata": {},
   "outputs": [],
   "source": [
    "df"
   ]
  },
  {
   "cell_type": "code",
   "execution_count": null,
   "id": "131f74c3",
   "metadata": {},
   "outputs": [],
   "source": [
    "df = df.drop_duplicates()\n",
    "df.drop(columns=['consent', 'datetime'], inplace=True)"
   ]
  },
  {
   "cell_type": "code",
   "execution_count": null,
   "id": "7d526a1c",
   "metadata": {},
   "outputs": [],
   "source": [
    "for col in df.columns:\n",
    "    if col not in ['age', 'special_interest', 'diary_entry', 'selfdefining_memory', 'empty_sheet']:\n",
    "        df[col] = df[col].astype('category')"
   ]
  },
  {
   "cell_type": "code",
   "execution_count": null,
   "id": "4d9ef988",
   "metadata": {},
   "outputs": [],
   "source": [
    "encoding = {'Nunca': 1, 'Raramente': 2, 'Às vezes': 3, 'Frequentemente': 4, 'Sempre': 5}\n",
    "\n",
    "for col in df.columns:\n",
    "    if col not in ['age', 'special_interest', 'diary_entry', 'selfdefining_memory', 'empty_sheet', 'sex', 'adhd_diagnosis', 'education', 'occupation', 'dialect']:\n",
    "        df[col] = df[col].map(encoding)\n",
    "\n",
    "df"
   ]
  },
  {
   "cell_type": "markdown",
   "id": "e84130d6",
   "metadata": {},
   "source": [
    "### Join Education Categories"
   ]
  },
  {
   "cell_type": "code",
   "execution_count": null,
   "id": "f26fb208",
   "metadata": {},
   "outputs": [],
   "source": [
    "df['education'].unique()"
   ]
  },
  {
   "cell_type": "code",
   "execution_count": null,
   "id": "e2f1b489",
   "metadata": {},
   "outputs": [],
   "source": [
    "# make entries in 'education' that are category 'bacharelado' into 'licenciatura' and 'mestre' into 'mestrado'\n",
    "df['education'] = df['education'].astype('category')\n",
    "df['education'] = df['education'].replace({'Bacharelado': 'Licenciatura', 'Pôs ': 'Pós-Graduação', 'Pos-Graduação ': 'Pós-Graduação'})"
   ]
  },
  {
   "cell_type": "code",
   "execution_count": null,
   "id": "baaa2935",
   "metadata": {},
   "outputs": [],
   "source": [
    "df['education'].unique()"
   ]
  },
  {
   "cell_type": "markdown",
   "id": "411f2d85",
   "metadata": {},
   "source": [
    "### Join Occupation Categories"
   ]
  },
  {
   "cell_type": "code",
   "execution_count": null,
   "id": "e8b0a61a",
   "metadata": {},
   "outputs": [],
   "source": [
    "df['occupation'].unique()"
   ]
  },
  {
   "cell_type": "code",
   "execution_count": null,
   "id": "fdd3578c",
   "metadata": {},
   "outputs": [],
   "source": [
    "df['occupation'] = df['occupation'].astype('category')\n",
    "df['occupation'] = df['occupation'].replace({'Doméstica ': 'Trabalhador', 'Pós-graduação ': 'Estudante', 'Freelance': 'Trabalhador'})"
   ]
  },
  {
   "cell_type": "code",
   "execution_count": null,
   "id": "00f5d6e9",
   "metadata": {},
   "outputs": [],
   "source": [
    "df['occupation'].unique()"
   ]
  },
  {
   "cell_type": "markdown",
   "id": "7b2baf1e",
   "metadata": {},
   "source": [
    "### Saving to JSON"
   ]
  },
  {
   "cell_type": "code",
   "execution_count": null,
   "id": "dfe5a8b4",
   "metadata": {},
   "outputs": [],
   "source": [
    "df.to_json('../../data/adhd-beliefs-pt/processed-adhd-beliefs-pt.json', orient='records', force_ascii=False, indent=4)"
   ]
  }
 ],
 "metadata": {
  "kernelspec": {
   "display_name": ".venv",
   "language": "python",
   "name": "python3"
  },
  "language_info": {
   "codemirror_mode": {
    "name": "ipython",
    "version": 3
   },
   "file_extension": ".py",
   "mimetype": "text/x-python",
   "name": "python",
   "nbconvert_exporter": "python",
   "pygments_lexer": "ipython3",
   "version": "3.10.12"
  }
 },
 "nbformat": 4,
 "nbformat_minor": 5
}
