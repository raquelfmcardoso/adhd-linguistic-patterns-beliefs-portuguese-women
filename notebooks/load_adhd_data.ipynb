{
 "cells": [
  {
   "cell_type": "code",
   "execution_count": 1,
   "metadata": {},
   "outputs": [],
   "source": [
    "import pandas as pd"
   ]
  },
  {
   "cell_type": "markdown",
   "metadata": {},
   "source": [
    "### Load ADHD Posts Dataset"
   ]
  },
  {
   "cell_type": "code",
   "execution_count": 2,
   "metadata": {},
   "outputs": [
    {
     "name": "stderr",
     "output_type": "stream",
     "text": [
      "/var/folders/w0/r0k6chkn2nzd_g1c2pdl2pf40000gn/T/ipykernel_26919/464086905.py:1: DtypeWarning: Columns (2,6) have mixed types. Specify dtype option on import or set low_memory=False.\n",
      "  posts = pd.read_csv('../data/datasets/reddit-adhd-dataset/ADHD.csv')\n"
     ]
    }
   ],
   "source": [
    "posts = pd.read_csv('../data/datasets/reddit-adhd-dataset/ADHD.csv')"
   ]
  },
  {
   "cell_type": "code",
   "execution_count": 3,
   "metadata": {},
   "outputs": [
    {
     "name": "stdout",
     "output_type": "stream",
     "text": [
      "                                               title  \\\n",
      "0          Android app to strengthen attention/focus   \n",
      "1  Does anyone here have experience with Imipramine?   \n",
      "2  New study shows that for people with ADHD, \\n\"...   \n",
      "3                 What does the ADHD test look like?   \n",
      "4       Are you guys good with maps and directions?    \n",
      "\n",
      "                                            selftext score     id  \\\n",
      "0  Hey /r/ADHD,\\n\\nCheck out my simple Android ap...     6  k348a   \n",
      "1  My doctor has suggested it for ADD with anxiet...     4  k3gdz   \n",
      "2                                                NaN    22  k4q79   \n",
      "3  I'm 21 and didn't know about ADHD until recent...     6  k5fvd   \n",
      "4  It seems like one thing I've always been reall...     0  k6efi   \n",
      "\n",
      "                                                 url  num_comments  \\\n",
      "0  https://www.reddit.com/r/ADHD/comments/k348a/a...           7.0   \n",
      "1  https://www.reddit.com/r/ADHD/comments/k3gdz/d...           1.0   \n",
      "2  http://www.utexas.edu/features/2011/08/29/adhd...          11.0   \n",
      "3  https://www.reddit.com/r/ADHD/comments/k5fvd/w...          10.0   \n",
      "4  https://www.reddit.com/r/ADHD/comments/k6efi/a...           0.0   \n",
      "\n",
      "    created_utc     created_datetime  \n",
      "0  1315014480.0  2011-09-03 01:48:00  \n",
      "1  1315051084.0  2011-09-03 11:58:04  \n",
      "2  1315174374.0  2011-09-04 22:12:54  \n",
      "3  1315239683.0  2011-09-05 16:21:23  \n",
      "4  1315317191.0  2011-09-06 13:53:11  \n"
     ]
    }
   ],
   "source": [
    "print(f\"{posts.head()}\")"
   ]
  },
  {
   "cell_type": "code",
   "execution_count": 4,
   "metadata": {},
   "outputs": [
    {
     "name": "stdout",
     "output_type": "stream",
     "text": [
      "Missing values: \n",
      "title                  1\n",
      "selftext            5143\n",
      "score                 21\n",
      "id                    21\n",
      "url                   21\n",
      "num_comments          21\n",
      "created_utc           21\n",
      "created_datetime      30\n",
      "dtype: int64\n"
     ]
    }
   ],
   "source": [
    "missing_values = posts.isnull().sum()\n",
    "print(f\"Missing values: \\n{missing_values}\")"
   ]
  },
  {
   "cell_type": "code",
   "execution_count": 5,
   "metadata": {},
   "outputs": [
    {
     "name": "stdout",
     "output_type": "stream",
     "text": [
      "Missing values after removing rows with missing values in the 'title' column: \n",
      "title                  0\n",
      "selftext            5143\n",
      "score                 21\n",
      "id                    21\n",
      "url                   21\n",
      "num_comments          21\n",
      "created_utc           21\n",
      "created_datetime      29\n",
      "dtype: int64\n"
     ]
    }
   ],
   "source": [
    "posts = posts.dropna(subset=['title'])\n",
    "print(f\"Missing values after removing rows with missing values in the 'title' column: \\n{posts.isnull().sum()}\")"
   ]
  },
  {
   "cell_type": "code",
   "execution_count": 6,
   "metadata": {},
   "outputs": [],
   "source": [
    "# join the title and the selftext in a single column if the selftext is not null or deleted\n",
    "posts['body'] = posts['title']\n",
    "posts.loc[posts['selftext'].notnull() & ~posts['selftext'].isin(['[deleted]', '[removed]']), 'body'] = posts['title'] + ' ' + posts['selftext']"
   ]
  },
  {
   "cell_type": "code",
   "execution_count": 7,
   "metadata": {},
   "outputs": [
    {
     "name": "stdout",
     "output_type": "stream",
     "text": [
      "      id                                               body\n",
      "0  k348a  Android app to strengthen attention/focus Hey ...\n",
      "1  k3gdz  Does anyone here have experience with Imiprami...\n",
      "2  k4q79  New study shows that for people with ADHD, \\n\"...\n",
      "3  k5fvd  What does the ADHD test look like? I'm 21 and ...\n",
      "4  k6efi  Are you guys good with maps and directions?  I...\n",
      "Data Shape: (336065, 2)\n"
     ]
    }
   ],
   "source": [
    "# drop the columns that are not needed\n",
    "posts = posts.drop(['title', 'selftext', 'score', 'url', 'num_comments', 'created_utc', 'created_datetime'], axis=1)\n",
    "print(f\"{posts.head()}\")\n",
    "print(f\"Data Shape: {posts.shape}\")"
   ]
  },
  {
   "cell_type": "code",
   "execution_count": 8,
   "metadata": {},
   "outputs": [
    {
     "name": "stdout",
     "output_type": "stream",
     "text": [
      "            id             body\n",
      "count   336044           336065\n",
      "unique  336044           330722\n",
      "top      k348a  Do I have ADHD?\n",
      "freq         1              119\n"
     ]
    }
   ],
   "source": [
    "print(f\"{posts.describe()}\")"
   ]
  },
  {
   "cell_type": "code",
   "execution_count": 9,
   "metadata": {},
   "outputs": [
    {
     "name": "stdout",
     "output_type": "stream",
     "text": [
      "Data Shape: (330722, 2)\n"
     ]
    }
   ],
   "source": [
    "# we want to keep only the unique posts\n",
    "posts = posts.drop_duplicates(subset='body')\n",
    "print(f\"Data Shape: {posts.shape}\")"
   ]
  },
  {
   "cell_type": "markdown",
   "metadata": {},
   "source": [
    "### Load ADHD Women Comments Dataset"
   ]
  },
  {
   "cell_type": "code",
   "execution_count": 10,
   "metadata": {},
   "outputs": [],
   "source": [
    "comment = pd.read_csv('../data/datasets/reddit-adhd-dataset/ADHD-comment.csv')"
   ]
  },
  {
   "cell_type": "code",
   "execution_count": 11,
   "metadata": {},
   "outputs": [
    {
     "name": "stdout",
     "output_type": "stream",
     "text": [
      "                                                body       id  score  \\\n",
      "0                                          [deleted]  c08otkh    1.0   \n",
      "1  If I try to look this up right now I will get ...  c09y8qz    2.0   \n",
      "2  potassium is used as the thing that stops your...  c09yia6    2.0   \n",
      "3  I've love a link to anything about this.  \\n\\n...  c0a81e6    3.0   \n",
      "4  I don't know anything specific, but I would *d...  c0aixrg    2.0   \n",
      "\n",
      "    created_utc     created_datetime  \n",
      "0  1.239042e+09  2009-04-06 18:18:07  \n",
      "1  1.243790e+09  2009-05-31 17:08:19  \n",
      "2  1.243815e+09  2009-06-01 00:07:50  \n",
      "3  1.244752e+09  2009-06-11 20:25:36  \n",
      "4  1.245813e+09  2009-06-24 03:04:51  \n"
     ]
    }
   ],
   "source": [
    "print(f\"{comment.head()}\")"
   ]
  },
  {
   "cell_type": "code",
   "execution_count": 12,
   "metadata": {},
   "outputs": [
    {
     "name": "stdout",
     "output_type": "stream",
     "text": [
      "                                                body       id\n",
      "0                                          [deleted]  c08otkh\n",
      "1  If I try to look this up right now I will get ...  c09y8qz\n",
      "2  potassium is used as the thing that stops your...  c09yia6\n",
      "3  I've love a link to anything about this.  \\n\\n...  c0a81e6\n",
      "4  I don't know anything specific, but I would *d...  c0aixrg\n",
      "Data Shape: (3356541, 2)\n"
     ]
    }
   ],
   "source": [
    "comment = comment.drop(['score', 'created_utc', 'created_datetime'], axis=1)\n",
    "print(f\"{comment.head()}\")\n",
    "print(f\"Data Shape: {comment.shape}\")"
   ]
  },
  {
   "cell_type": "code",
   "execution_count": 13,
   "metadata": {},
   "outputs": [
    {
     "name": "stdout",
     "output_type": "stream",
     "text": [
      "             body       id\n",
      "count     3356538  3356541\n",
      "unique    2688395  2895398\n",
      "top     [deleted]  gg8xds3\n",
      "freq        83271        3\n"
     ]
    }
   ],
   "source": [
    "# print the number of unique values in each column\n",
    "print(comment.describe())"
   ]
  },
  {
   "cell_type": "code",
   "execution_count": 14,
   "metadata": {},
   "outputs": [
    {
     "name": "stdout",
     "output_type": "stream",
     "text": [
      "Missing values: \n",
      "body    3\n",
      "id      0\n",
      "dtype: int64\n"
     ]
    }
   ],
   "source": [
    "# get the number of null values in body column\n",
    "missing_values = comment.isnull().sum()\n",
    "print(f\"Missing values: \\n{missing_values}\")"
   ]
  },
  {
   "cell_type": "code",
   "execution_count": 15,
   "metadata": {},
   "outputs": [
    {
     "name": "stdout",
     "output_type": "stream",
     "text": [
      "Data Shape: (3229941, 2)\n"
     ]
    }
   ],
   "source": [
    "# remove the rows with missing values in the 'body' column and that have the value '[deleted]' or '[removed]' in the 'body' column\n",
    "comment = comment.dropna(subset=['body'])\n",
    "comment = comment[~comment['body'].isin(['[deleted]', '[removed]'])]\n",
    "print(f\"Data Shape: {comment.shape}\")"
   ]
  },
  {
   "cell_type": "code",
   "execution_count": 16,
   "metadata": {},
   "outputs": [
    {
     "name": "stdout",
     "output_type": "stream",
     "text": [
      "                                                     body       id\n",
      "count                                             3229941  3229941\n",
      "unique                                            2688393  2788895\n",
      "top     As per the rules in the side bar, yes or no qu...  gg8xds3\n",
      "freq                                                15761        3\n"
     ]
    }
   ],
   "source": [
    "print(comment.describe())"
   ]
  },
  {
   "cell_type": "code",
   "execution_count": 17,
   "metadata": {},
   "outputs": [
    {
     "name": "stdout",
     "output_type": "stream",
     "text": [
      "Data Shape: (2688393, 2)\n"
     ]
    }
   ],
   "source": [
    "# drop all rows that arent unique in \"body\"\n",
    "comment = comment.drop_duplicates(subset='body')\n",
    "print(f\"Data Shape: {comment.shape}\")"
   ]
  },
  {
   "cell_type": "markdown",
   "metadata": {},
   "source": [
    "### Concatenate the Two Datasets"
   ]
  },
  {
   "cell_type": "code",
   "execution_count": 18,
   "metadata": {},
   "outputs": [
    {
     "name": "stdout",
     "output_type": "stream",
     "text": [
      "      id                                               body\n",
      "0  k348a  Android app to strengthen attention/focus Hey ...\n",
      "1  k3gdz  Does anyone here have experience with Imiprami...\n",
      "2  k4q79  New study shows that for people with ADHD, \\n\"...\n",
      "3  k5fvd  What does the ADHD test look like? I'm 21 and ...\n",
      "4  k6efi  Are you guys good with maps and directions?  I...\n",
      "Data Shape: (3019115, 2)\n"
     ]
    }
   ],
   "source": [
    "# concatanate the two dataframes\n",
    "df = pd.concat([posts, comment], ignore_index=True)\n",
    "print(f\"{df.head()}\")\n",
    "print(f\"Data Shape: {df.shape}\")"
   ]
  },
  {
   "cell_type": "code",
   "execution_count": 19,
   "metadata": {},
   "outputs": [
    {
     "name": "stdout",
     "output_type": "stream",
     "text": [
      "             id               body\n",
      "count   3019094            3019115\n",
      "unique  3019094            3018495\n",
      "top       k348a  How old were you?\n",
      "freq          1                  2\n"
     ]
    }
   ],
   "source": [
    "# print the number of unique values in each column\n",
    "print(df.describe())"
   ]
  },
  {
   "cell_type": "code",
   "execution_count": 20,
   "metadata": {},
   "outputs": [
    {
     "name": "stdout",
     "output_type": "stream",
     "text": [
      "Data Shape: (3018495, 2)\n"
     ]
    }
   ],
   "source": [
    "# drop all rows that arent unique in \"body\"\n",
    "df = df.drop_duplicates(subset='body')\n",
    "print(f\"Data Shape: {df.shape}\")"
   ]
  },
  {
   "cell_type": "code",
   "execution_count": 21,
   "metadata": {},
   "outputs": [],
   "source": [
    "df.to_csv('data/adhd-final.csv', index=False)"
   ]
  }
 ],
 "metadata": {
  "kernelspec": {
   "display_name": ".venv",
   "language": "python",
   "name": "python3"
  },
  "language_info": {
   "codemirror_mode": {
    "name": "ipython",
    "version": 3
   },
   "file_extension": ".py",
   "mimetype": "text/x-python",
   "name": "python",
   "nbconvert_exporter": "python",
   "pygments_lexer": "ipython3",
   "version": "3.13.2"
  }
 },
 "nbformat": 4,
 "nbformat_minor": 2
}
