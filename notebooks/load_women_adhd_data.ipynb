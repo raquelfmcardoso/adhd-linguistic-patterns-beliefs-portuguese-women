{
 "cells": [
  {
   "cell_type": "code",
   "execution_count": 7,
   "metadata": {},
   "outputs": [],
   "source": [
    "import pandas as pd"
   ]
  },
  {
   "cell_type": "markdown",
   "metadata": {},
   "source": [
    "### Load ADHD Women Posts Dataset"
   ]
  },
  {
   "cell_type": "code",
   "execution_count": 8,
   "metadata": {},
   "outputs": [],
   "source": [
    "posts = pd.read_csv('../data/datasets/reddit-adhd-dataset/adhdwomen.csv')"
   ]
  },
  {
   "cell_type": "code",
   "execution_count": 9,
   "metadata": {},
   "outputs": [
    {
     "name": "stdout",
     "output_type": "stream",
     "text": [
      "                                         title  \\\n",
      "0         Adult Women Are the New Face of ADHD   \n",
      "1           Why Women Hide Their ADHD Symptoms   \n",
      "2  Adult ADHD and Burnout: Success or Failure?   \n",
      "3            How Am I And My ADHD Still Alive?   \n",
      "4         I'd like to see this subreddit grow!   \n",
      "\n",
      "                                            selftext  score      id  \\\n",
      "0                                                NaN      3  29kaf8   \n",
      "1                                                NaN      3  2ip2ra   \n",
      "2                                                NaN      1  2q6jdk   \n",
      "3                                                NaN      2  2sc7fa   \n",
      "4  Hello, I'm a working, married, mother of 3.  I...      1  3296xx   \n",
      "\n",
      "                                                 url  num_comments  \\\n",
      "0  http://www.thedailybeast.com/articles/2014/06/...             0   \n",
      "1  https://euromd.com/9-diseases-and-conditions/1...             0   \n",
      "2  http://rethinkadhd.wordpress.com/2014/12/23/ad...             0   \n",
      "3  http://blogs.psychcentral.com/adhd-man/2015/01...             0   \n",
      "4  https://www.reddit.com/r/adhdwomen/comments/32...             1   \n",
      "\n",
      "    created_utc     created_datetime  \n",
      "0  1.404224e+09  2014-07-01 14:07:46  \n",
      "1  1.412801e+09  2014-10-08 20:48:14  \n",
      "2  1.419349e+09  2014-12-23 15:34:03  \n",
      "3  1.421192e+09  2015-01-13 23:35:23  \n",
      "4  1.428778e+09  2015-04-11 18:43:49  \n"
     ]
    }
   ],
   "source": [
    "print(f\"{posts.head()}\")"
   ]
  },
  {
   "cell_type": "code",
   "execution_count": 10,
   "metadata": {},
   "outputs": [
    {
     "name": "stdout",
     "output_type": "stream",
     "text": [
      "Missing values: \n",
      "title                  0\n",
      "selftext            5188\n",
      "score                  0\n",
      "id                     0\n",
      "url                    0\n",
      "num_comments           0\n",
      "created_utc            0\n",
      "created_datetime       0\n",
      "dtype: int64\n"
     ]
    }
   ],
   "source": [
    "missing_values = posts.isnull().sum()\n",
    "print(f\"Missing values: \\n{missing_values}\")"
   ]
  },
  {
   "cell_type": "code",
   "execution_count": 11,
   "metadata": {},
   "outputs": [],
   "source": [
    "# join the title and the selftext in a single column if the selftext is not null or deleted\n",
    "posts['body'] = posts['title']\n",
    "posts.loc[posts['selftext'].notnull() & ~posts['selftext'].isin(['[deleted]']), 'body'] = posts['title'] + ' ' + posts['selftext']"
   ]
  },
  {
   "cell_type": "code",
   "execution_count": 12,
   "metadata": {},
   "outputs": [
    {
     "name": "stdout",
     "output_type": "stream",
     "text": [
      "       id                                               body\n",
      "0  29kaf8               Adult Women Are the New Face of ADHD\n",
      "1  2ip2ra                 Why Women Hide Their ADHD Symptoms\n",
      "2  2q6jdk        Adult ADHD and Burnout: Success or Failure?\n",
      "3  2sc7fa                  How Am I And My ADHD Still Alive?\n",
      "4  3296xx  I'd like to see this subreddit grow! Hello, I'...\n",
      "Data Shape: (44384, 2)\n"
     ]
    }
   ],
   "source": [
    "# drop the columns that are not needed\n",
    "posts = posts.drop(['title', 'selftext', 'score', 'url', 'num_comments', 'created_utc', 'created_datetime'], axis=1)\n",
    "print(f\"{posts.head()}\")\n",
    "print(f\"Data Shape: {posts.shape}\")"
   ]
  },
  {
   "cell_type": "code",
   "execution_count": 13,
   "metadata": {},
   "outputs": [
    {
     "name": "stdout",
     "output_type": "stream",
     "text": [
      "            id          body\n",
      "count    44384         44384\n",
      "unique   22237         22079\n",
      "top     29kaf8  Anyone else?\n",
      "freq         2            10\n"
     ]
    }
   ],
   "source": [
    "print(f\"{posts.describe()}\")"
   ]
  },
  {
   "cell_type": "code",
   "execution_count": 14,
   "metadata": {},
   "outputs": [
    {
     "name": "stdout",
     "output_type": "stream",
     "text": [
      "Data Shape: (22079, 2)\n"
     ]
    }
   ],
   "source": [
    "# we want to keep only the unique posts\n",
    "posts = posts.drop_duplicates(subset='body')\n",
    "print(f\"Data Shape: {posts.shape}\")"
   ]
  },
  {
   "cell_type": "markdown",
   "metadata": {},
   "source": [
    "### Load ADHD Women Comments Dataset"
   ]
  },
  {
   "cell_type": "code",
   "execution_count": 15,
   "metadata": {},
   "outputs": [],
   "source": [
    "comment = pd.read_csv('../data/datasets/reddit-adhd-dataset/adhdwomen-comment.csv')"
   ]
  },
  {
   "cell_type": "code",
   "execution_count": 16,
   "metadata": {},
   "outputs": [
    {
     "name": "stdout",
     "output_type": "stream",
     "text": [
      "                                                body       id  score  \\\n",
      "0  I'd like to see this sub be more active, too. ...  cqowxhs      1   \n",
      "1  I've found people are more receptive when you ...  cvzg3v2      1   \n",
      "2  Thank you so much. I have been trying to use m...  cw65vo8      1   \n",
      "3                                          [deleted]  d2tscyn      1   \n",
      "4  Sooooo, not sure why you were told it was 24 h...  d38enqz      1   \n",
      "\n",
      "   created_utc     created_datetime  \n",
      "0   1430023102  2015-04-26 04:38:22  \n",
      "1   1444835103  2015-10-14 15:05:03  \n",
      "2   1445326215  2015-10-20 07:30:15  \n",
      "3   1462457040  2016-05-05 14:04:00  \n",
      "4   1463457224  2016-05-17 03:53:44  \n"
     ]
    }
   ],
   "source": [
    "print(f\"{comment.head()}\")"
   ]
  },
  {
   "cell_type": "code",
   "execution_count": 17,
   "metadata": {},
   "outputs": [
    {
     "name": "stdout",
     "output_type": "stream",
     "text": [
      "                                                body       id\n",
      "0  I'd like to see this sub be more active, too. ...  cqowxhs\n",
      "1  I've found people are more receptive when you ...  cvzg3v2\n",
      "2  Thank you so much. I have been trying to use m...  cw65vo8\n",
      "3                                          [deleted]  d2tscyn\n",
      "4  Sooooo, not sure why you were told it was 24 h...  d38enqz\n",
      "Data Shape: (202658, 2)\n"
     ]
    }
   ],
   "source": [
    "comment = comment.drop(['score', 'created_utc', 'created_datetime'], axis=1)\n",
    "print(f\"{comment.head()}\")\n",
    "print(f\"Data Shape: {comment.shape}\")"
   ]
  },
  {
   "cell_type": "code",
   "execution_count": 18,
   "metadata": {},
   "outputs": [
    {
     "name": "stdout",
     "output_type": "stream",
     "text": [
      "             body       id\n",
      "count      202658   202658\n",
      "unique     195967   202658\n",
      "top     [deleted]  cqowxhs\n",
      "freq         1180        1\n"
     ]
    }
   ],
   "source": [
    "# print the number of unique values in each column\n",
    "print(comment.describe())"
   ]
  },
  {
   "cell_type": "code",
   "execution_count": 19,
   "metadata": {},
   "outputs": [
    {
     "name": "stdout",
     "output_type": "stream",
     "text": [
      "Missing values: \n",
      "body    0\n",
      "id      0\n",
      "dtype: int64\n"
     ]
    }
   ],
   "source": [
    "# get the number of null values in body column\n",
    "missing_values = comment.isnull().sum()\n",
    "print(f\"Missing values: \\n{missing_values}\")"
   ]
  },
  {
   "cell_type": "code",
   "execution_count": 20,
   "metadata": {},
   "outputs": [
    {
     "name": "stdout",
     "output_type": "stream",
     "text": [
      "Data Shape: (195967, 2)\n"
     ]
    }
   ],
   "source": [
    "# drop all rows that arent unique in \"body\"\n",
    "comment = comment.drop_duplicates(subset='body')\n",
    "print(f\"Data Shape: {comment.shape}\")"
   ]
  },
  {
   "cell_type": "markdown",
   "metadata": {},
   "source": [
    "### Concatenate the Two Datasets"
   ]
  },
  {
   "cell_type": "code",
   "execution_count": 21,
   "metadata": {},
   "outputs": [
    {
     "name": "stdout",
     "output_type": "stream",
     "text": [
      "       id                                               body\n",
      "0  29kaf8               Adult Women Are the New Face of ADHD\n",
      "1  2ip2ra                 Why Women Hide Their ADHD Symptoms\n",
      "2  2q6jdk        Adult ADHD and Burnout: Success or Failure?\n",
      "3  2sc7fa                  How Am I And My ADHD Still Alive?\n",
      "4  3296xx  I'd like to see this subreddit grow! Hello, I'...\n",
      "Data Shape: (218046, 2)\n"
     ]
    }
   ],
   "source": [
    "# concatanate the two dataframes\n",
    "df = pd.concat([posts, comment], ignore_index=True)\n",
    "print(f\"{df.head()}\")\n",
    "print(f\"Data Shape: {df.shape}\")"
   ]
  },
  {
   "cell_type": "code",
   "execution_count": 22,
   "metadata": {},
   "outputs": [
    {
     "name": "stdout",
     "output_type": "stream",
     "text": [
      "            id                                      body\n",
      "count   218046                                    218046\n",
      "unique  218045                                    217985\n",
      "top     mw8wco  I'm in this picture and I don't like it.\n",
      "freq         2                                         2\n"
     ]
    }
   ],
   "source": [
    "# print the number of unique values in each column\n",
    "print(df.describe())"
   ]
  },
  {
   "cell_type": "code",
   "execution_count": 23,
   "metadata": {},
   "outputs": [
    {
     "name": "stdout",
     "output_type": "stream",
     "text": [
      "Data Shape: (217985, 2)\n"
     ]
    }
   ],
   "source": [
    "# drop all rows that arent unique in \"body\"\n",
    "df = df.drop_duplicates(subset='body')\n",
    "print(f\"Data Shape: {df.shape}\")"
   ]
  },
  {
   "cell_type": "code",
   "execution_count": 24,
   "metadata": {},
   "outputs": [],
   "source": [
    "df.to_csv('data/adhdwomen-final.csv', index=False)"
   ]
  }
 ],
 "metadata": {
  "kernelspec": {
   "display_name": ".venv",
   "language": "python",
   "name": "python3"
  },
  "language_info": {
   "codemirror_mode": {
    "name": "ipython",
    "version": 3
   },
   "file_extension": ".py",
   "mimetype": "text/x-python",
   "name": "python",
   "nbconvert_exporter": "python",
   "pygments_lexer": "ipython3",
   "version": "3.13.2"
  }
 },
 "nbformat": 4,
 "nbformat_minor": 2
}
