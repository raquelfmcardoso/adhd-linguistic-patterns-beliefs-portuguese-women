{
 "cells": [
  {
   "cell_type": "code",
   "execution_count": 30,
   "metadata": {},
   "outputs": [],
   "source": [
    "import pandas as pd"
   ]
  },
  {
   "cell_type": "markdown",
   "metadata": {},
   "source": [
    "### Load ADHD Posts Dataset"
   ]
  },
  {
   "cell_type": "code",
   "execution_count": 31,
   "metadata": {},
   "outputs": [],
   "source": [
    "posts = pd.read_csv('../../data/datasets/reddit-adhd-dataset/ADHD.csv', low_memory=False)"
   ]
  },
  {
   "cell_type": "code",
   "execution_count": 32,
   "metadata": {},
   "outputs": [
    {
     "name": "stdout",
     "output_type": "stream",
     "text": [
      "                                               title  \\\n",
      "0          Android app to strengthen attention/focus   \n",
      "1  Does anyone here have experience with Imipramine?   \n",
      "2  New study shows that for people with ADHD, \\n\"...   \n",
      "3                 What does the ADHD test look like?   \n",
      "4       Are you guys good with maps and directions?    \n",
      "\n",
      "                                            selftext score     id  \\\n",
      "0  Hey /r/ADHD,\\n\\nCheck out my simple Android ap...     6  k348a   \n",
      "1  My doctor has suggested it for ADD with anxiet...     4  k3gdz   \n",
      "2                                                NaN    22  k4q79   \n",
      "3  I'm 21 and didn't know about ADHD until recent...     6  k5fvd   \n",
      "4  It seems like one thing I've always been reall...     0  k6efi   \n",
      "\n",
      "                                                 url  num_comments  \\\n",
      "0  https://www.reddit.com/r/ADHD/comments/k348a/a...           7.0   \n",
      "1  https://www.reddit.com/r/ADHD/comments/k3gdz/d...           1.0   \n",
      "2  http://www.utexas.edu/features/2011/08/29/adhd...          11.0   \n",
      "3  https://www.reddit.com/r/ADHD/comments/k5fvd/w...          10.0   \n",
      "4  https://www.reddit.com/r/ADHD/comments/k6efi/a...           0.0   \n",
      "\n",
      "    created_utc     created_datetime  \n",
      "0  1315014480.0  2011-09-03 01:48:00  \n",
      "1  1315051084.0  2011-09-03 11:58:04  \n",
      "2  1315174374.0  2011-09-04 22:12:54  \n",
      "3  1315239683.0  2011-09-05 16:21:23  \n",
      "4  1315317191.0  2011-09-06 13:53:11  \n"
     ]
    }
   ],
   "source": [
    "print(f\"{posts.head()}\")"
   ]
  },
  {
   "cell_type": "code",
   "execution_count": 33,
   "metadata": {},
   "outputs": [
    {
     "name": "stdout",
     "output_type": "stream",
     "text": [
      "Missing values: \n",
      "title                  1\n",
      "selftext            5143\n",
      "score                 21\n",
      "id                    21\n",
      "url                   21\n",
      "num_comments          21\n",
      "created_utc           21\n",
      "created_datetime      30\n",
      "dtype: int64\n"
     ]
    }
   ],
   "source": [
    "missing_values = posts.isnull().sum()\n",
    "print(f\"Missing values: \\n{missing_values}\")"
   ]
  },
  {
   "cell_type": "code",
   "execution_count": 34,
   "metadata": {},
   "outputs": [
    {
     "name": "stdout",
     "output_type": "stream",
     "text": [
      "Missing values after removing rows with missing values in the 'title' and 'created_datetime' columns: \n",
      "title                  0\n",
      "selftext            5131\n",
      "score                  0\n",
      "id                     0\n",
      "url                    0\n",
      "num_comments           0\n",
      "created_utc            0\n",
      "created_datetime       0\n",
      "dtype: int64\n"
     ]
    }
   ],
   "source": [
    "posts = posts.dropna(subset=['title', 'created_datetime'])\n",
    "print(f\"Missing values after removing rows with missing values in the 'title' and 'created_datetime' columns: \\n{posts.isnull().sum()}\")"
   ]
  },
  {
   "cell_type": "code",
   "execution_count": 35,
   "metadata": {},
   "outputs": [],
   "source": [
    "# join the title and the selftext in a single column if the selftext is not null or deleted\n",
    "posts['body'] = posts['title']\n",
    "posts.loc[posts['selftext'].notnull() & ~posts['selftext'].isin(['[deleted]', '[removed]']), 'body'] = posts['title'] + ' ' + posts['selftext']"
   ]
  },
  {
   "cell_type": "code",
   "execution_count": 36,
   "metadata": {},
   "outputs": [],
   "source": [
    "posts['year'] = pd.to_datetime(posts['created_datetime']).dt.year"
   ]
  },
  {
   "cell_type": "code",
   "execution_count": 37,
   "metadata": {},
   "outputs": [
    {
     "name": "stdout",
     "output_type": "stream",
     "text": [
      "  score     id                                               body  year\n",
      "0     6  k348a  Android app to strengthen attention/focus Hey ...  2011\n",
      "1     4  k3gdz  Does anyone here have experience with Imiprami...  2011\n",
      "2    22  k4q79  New study shows that for people with ADHD, \\n\"...  2011\n",
      "3     6  k5fvd  What does the ADHD test look like? I'm 21 and ...  2011\n",
      "4     0  k6efi  Are you guys good with maps and directions?  I...  2011\n",
      "Data Shape: (336036, 4)\n"
     ]
    }
   ],
   "source": [
    "# drop the columns that are not needed\n",
    "posts = posts.drop(['title', 'selftext', 'url', 'num_comments', 'created_utc', 'created_datetime'], axis=1)\n",
    "print(f\"{posts.head()}\")\n",
    "print(f\"Data Shape: {posts.shape}\")"
   ]
  },
  {
   "cell_type": "code",
   "execution_count": 38,
   "metadata": {},
   "outputs": [
    {
     "name": "stdout",
     "output_type": "stream",
     "text": [
      "Missing values: \n",
      "score    0\n",
      "id       0\n",
      "body     0\n",
      "year     0\n",
      "dtype: int64\n"
     ]
    }
   ],
   "source": [
    "missing_values = posts.isnull().sum()\n",
    "print(f\"Missing values: \\n{missing_values}\")"
   ]
  },
  {
   "cell_type": "code",
   "execution_count": 39,
   "metadata": {},
   "outputs": [
    {
     "name": "stdout",
     "output_type": "stream",
     "text": [
      "Unique values in score: 2012\n",
      "Unique values in id: 336036\n",
      "Unique values in body: 330693\n",
      "Unique values in year: 11\n"
     ]
    }
   ],
   "source": [
    "# print the number of unique values in each column\n",
    "for col in posts.columns:\n",
    "    print(f\"Unique values in {col}: {posts[col].nunique()}\")"
   ]
  },
  {
   "cell_type": "code",
   "execution_count": 40,
   "metadata": {},
   "outputs": [
    {
     "name": "stdout",
     "output_type": "stream",
     "text": [
      "                year\n",
      "count  336036.000000\n",
      "mean     2018.201827\n",
      "std         2.084316\n",
      "min      2011.000000\n",
      "25%      2017.000000\n",
      "50%      2019.000000\n",
      "75%      2020.000000\n",
      "max      2021.000000\n"
     ]
    }
   ],
   "source": [
    "print(f\"{posts.describe()}\")"
   ]
  },
  {
   "cell_type": "code",
   "execution_count": 41,
   "metadata": {},
   "outputs": [
    {
     "name": "stdout",
     "output_type": "stream",
     "text": [
      "Data Shape: (330693, 4)\n"
     ]
    }
   ],
   "source": [
    "# we want to keep only the unique posts\n",
    "posts = posts.drop_duplicates(subset='body')\n",
    "print(f\"Data Shape: {posts.shape}\")"
   ]
  },
  {
   "cell_type": "code",
   "execution_count": 42,
   "metadata": {},
   "outputs": [],
   "source": [
    "posts.to_csv('../data/adhd-posts.csv', index=False)"
   ]
  },
  {
   "cell_type": "markdown",
   "metadata": {},
   "source": [
    "### Load ADHD Comments Dataset"
   ]
  },
  {
   "cell_type": "code",
   "execution_count": 43,
   "metadata": {},
   "outputs": [],
   "source": [
    "comment = pd.read_csv('../../data/datasets/reddit-adhd-dataset/ADHD-comment.csv')"
   ]
  },
  {
   "cell_type": "code",
   "execution_count": 44,
   "metadata": {},
   "outputs": [
    {
     "name": "stdout",
     "output_type": "stream",
     "text": [
      "                                                body       id  score  \\\n",
      "0                                          [deleted]  c08otkh    1.0   \n",
      "1  If I try to look this up right now I will get ...  c09y8qz    2.0   \n",
      "2  potassium is used as the thing that stops your...  c09yia6    2.0   \n",
      "3  I've love a link to anything about this.  \\n\\n...  c0a81e6    3.0   \n",
      "4  I don't know anything specific, but I would *d...  c0aixrg    2.0   \n",
      "\n",
      "    created_utc     created_datetime  \n",
      "0  1.239042e+09  2009-04-06 18:18:07  \n",
      "1  1.243790e+09  2009-05-31 17:08:19  \n",
      "2  1.243815e+09  2009-06-01 00:07:50  \n",
      "3  1.244752e+09  2009-06-11 20:25:36  \n",
      "4  1.245813e+09  2009-06-24 03:04:51  \n"
     ]
    }
   ],
   "source": [
    "print(f\"{comment.head()}\")"
   ]
  },
  {
   "cell_type": "code",
   "execution_count": 45,
   "metadata": {},
   "outputs": [],
   "source": [
    "comment['year'] = pd.to_datetime(comment['created_datetime']).dt.year"
   ]
  },
  {
   "cell_type": "code",
   "execution_count": 46,
   "metadata": {},
   "outputs": [
    {
     "name": "stdout",
     "output_type": "stream",
     "text": [
      "                                                body       id  score  year\n",
      "0                                          [deleted]  c08otkh    1.0  2009\n",
      "1  If I try to look this up right now I will get ...  c09y8qz    2.0  2009\n",
      "2  potassium is used as the thing that stops your...  c09yia6    2.0  2009\n",
      "3  I've love a link to anything about this.  \\n\\n...  c0a81e6    3.0  2009\n",
      "4  I don't know anything specific, but I would *d...  c0aixrg    2.0  2009\n",
      "Data Shape: (3356541, 4)\n"
     ]
    }
   ],
   "source": [
    "comment = comment.drop(['created_utc', 'created_datetime'], axis=1)\n",
    "print(f\"{comment.head()}\")\n",
    "print(f\"Data Shape: {comment.shape}\")"
   ]
  },
  {
   "cell_type": "code",
   "execution_count": 47,
   "metadata": {},
   "outputs": [
    {
     "name": "stdout",
     "output_type": "stream",
     "text": [
      "              score          year\n",
      "count  3.356541e+06  3.356541e+06\n",
      "mean   2.517950e+00  2.017774e+03\n",
      "std    1.003889e+01  2.320637e+00\n",
      "min   -1.580000e+02  2.009000e+03\n",
      "25%    1.000000e+00  2.016000e+03\n",
      "50%    1.000000e+00  2.018000e+03\n",
      "75%    2.000000e+00  2.020000e+03\n",
      "max    4.145000e+03  2.021000e+03\n"
     ]
    }
   ],
   "source": [
    "# print the number of unique values in each column\n",
    "print(comment.describe())"
   ]
  },
  {
   "cell_type": "code",
   "execution_count": 48,
   "metadata": {},
   "outputs": [
    {
     "name": "stdout",
     "output_type": "stream",
     "text": [
      "Missing values: \n",
      "body     3\n",
      "id       0\n",
      "score    0\n",
      "year     0\n",
      "dtype: int64\n"
     ]
    }
   ],
   "source": [
    "# get the number of null values in body column\n",
    "missing_values = comment.isnull().sum()\n",
    "print(f\"Missing values: \\n{missing_values}\")"
   ]
  },
  {
   "cell_type": "code",
   "execution_count": 49,
   "metadata": {},
   "outputs": [
    {
     "name": "stdout",
     "output_type": "stream",
     "text": [
      "Data Shape: (3229941, 4)\n"
     ]
    }
   ],
   "source": [
    "# remove the rows with missing values in the 'body' column and that have the value '[deleted]' or '[removed]' in the 'body' column\n",
    "comment = comment.dropna(subset=['body'])\n",
    "comment = comment[~comment['body'].isin(['[deleted]', '[removed]'])]\n",
    "print(f\"Data Shape: {comment.shape}\")"
   ]
  },
  {
   "cell_type": "code",
   "execution_count": 50,
   "metadata": {},
   "outputs": [
    {
     "name": "stdout",
     "output_type": "stream",
     "text": [
      "              score          year\n",
      "count  3.229941e+06  3.229941e+06\n",
      "mean   2.562633e+00  2.017817e+03\n",
      "std    1.020624e+01  2.303927e+00\n",
      "min   -1.580000e+02  2.009000e+03\n",
      "25%    1.000000e+00  2.016000e+03\n",
      "50%    1.000000e+00  2.018000e+03\n",
      "75%    2.000000e+00  2.020000e+03\n",
      "max    4.145000e+03  2.021000e+03\n"
     ]
    }
   ],
   "source": [
    "print(comment.describe())"
   ]
  },
  {
   "cell_type": "code",
   "execution_count": 51,
   "metadata": {},
   "outputs": [
    {
     "name": "stdout",
     "output_type": "stream",
     "text": [
      "Data Shape: (2688393, 4)\n"
     ]
    }
   ],
   "source": [
    "# drop all rows that arent unique in \"body\"\n",
    "comment = comment.drop_duplicates(subset='body')\n",
    "print(f\"Data Shape: {comment.shape}\")"
   ]
  },
  {
   "cell_type": "code",
   "execution_count": 52,
   "metadata": {},
   "outputs": [],
   "source": [
    "comment.to_csv('../data/adhd-comments.csv', index=False)"
   ]
  },
  {
   "cell_type": "markdown",
   "metadata": {},
   "source": [
    "### Concatenate the Two Datasets"
   ]
  },
  {
   "cell_type": "code",
   "execution_count": 53,
   "metadata": {},
   "outputs": [
    {
     "name": "stdout",
     "output_type": "stream",
     "text": [
      "  score     id                                               body  year\n",
      "0     6  k348a  Android app to strengthen attention/focus Hey ...  2011\n",
      "1     4  k3gdz  Does anyone here have experience with Imiprami...  2011\n",
      "2    22  k4q79  New study shows that for people with ADHD, \\n\"...  2011\n",
      "3     6  k5fvd  What does the ADHD test look like? I'm 21 and ...  2011\n",
      "4     0  k6efi  Are you guys good with maps and directions?  I...  2011\n",
      "Data Shape: (3019086, 4)\n"
     ]
    }
   ],
   "source": [
    "# concatanate the two dataframes\n",
    "df = pd.concat([posts, comment], ignore_index=True)\n",
    "print(f\"{df.head()}\")\n",
    "print(f\"Data Shape: {df.shape}\")"
   ]
  },
  {
   "cell_type": "code",
   "execution_count": 54,
   "metadata": {},
   "outputs": [
    {
     "name": "stdout",
     "output_type": "stream",
     "text": [
      "               year\n",
      "count  3.019086e+06\n",
      "mean   2.018040e+03\n",
      "std    2.284300e+00\n",
      "min    2.009000e+03\n",
      "25%    2.017000e+03\n",
      "50%    2.019000e+03\n",
      "75%    2.020000e+03\n",
      "max    2.021000e+03\n"
     ]
    }
   ],
   "source": [
    "# print the number of unique values in each column\n",
    "print(df.describe())"
   ]
  },
  {
   "cell_type": "code",
   "execution_count": 55,
   "metadata": {},
   "outputs": [
    {
     "name": "stdout",
     "output_type": "stream",
     "text": [
      "Data Shape: (3018466, 4)\n"
     ]
    }
   ],
   "source": [
    "# drop all rows that arent unique in \"body\"\n",
    "df = df.drop_duplicates(subset='body')\n",
    "print(f\"Data Shape: {df.shape}\")"
   ]
  },
  {
   "cell_type": "code",
   "execution_count": 56,
   "metadata": {},
   "outputs": [],
   "source": [
    "df.to_csv('../data/adhd-final.csv', index=False)"
   ]
  }
 ],
 "metadata": {
  "kernelspec": {
   "display_name": ".venv",
   "language": "python",
   "name": "python3"
  },
  "language_info": {
   "codemirror_mode": {
    "name": "ipython",
    "version": 3
   },
   "file_extension": ".py",
   "mimetype": "text/x-python",
   "name": "python",
   "nbconvert_exporter": "python",
   "pygments_lexer": "ipython3",
   "version": "3.13.2"
  }
 },
 "nbformat": 4,
 "nbformat_minor": 2
}
