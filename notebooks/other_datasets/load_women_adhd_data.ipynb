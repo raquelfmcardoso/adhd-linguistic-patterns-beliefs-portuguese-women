{
 "cells": [
  {
   "cell_type": "code",
   "execution_count": 1,
   "metadata": {},
   "outputs": [],
   "source": [
    "import pandas as pd"
   ]
  },
  {
   "cell_type": "markdown",
   "metadata": {},
   "source": [
    "### Load ADHD Women Posts Dataset"
   ]
  },
  {
   "cell_type": "code",
   "execution_count": 2,
   "metadata": {},
   "outputs": [],
   "source": [
    "posts = pd.read_csv('../../data/datasets/reddit-adhd-dataset/adhdwomen.csv')"
   ]
  },
  {
   "cell_type": "code",
   "execution_count": 3,
   "metadata": {},
   "outputs": [
    {
     "name": "stdout",
     "output_type": "stream",
     "text": [
      "                                         title  \\\n",
      "0         Adult Women Are the New Face of ADHD   \n",
      "1           Why Women Hide Their ADHD Symptoms   \n",
      "2  Adult ADHD and Burnout: Success or Failure?   \n",
      "3            How Am I And My ADHD Still Alive?   \n",
      "4         I'd like to see this subreddit grow!   \n",
      "\n",
      "                                            selftext  score      id  \\\n",
      "0                                                NaN      3  29kaf8   \n",
      "1                                                NaN      3  2ip2ra   \n",
      "2                                                NaN      1  2q6jdk   \n",
      "3                                                NaN      2  2sc7fa   \n",
      "4  Hello, I'm a working, married, mother of 3.  I...      1  3296xx   \n",
      "\n",
      "                                                 url  num_comments  \\\n",
      "0  http://www.thedailybeast.com/articles/2014/06/...             0   \n",
      "1  https://euromd.com/9-diseases-and-conditions/1...             0   \n",
      "2  http://rethinkadhd.wordpress.com/2014/12/23/ad...             0   \n",
      "3  http://blogs.psychcentral.com/adhd-man/2015/01...             0   \n",
      "4  https://www.reddit.com/r/adhdwomen/comments/32...             1   \n",
      "\n",
      "    created_utc     created_datetime  \n",
      "0  1.404224e+09  2014-07-01 14:07:46  \n",
      "1  1.412801e+09  2014-10-08 20:48:14  \n",
      "2  1.419349e+09  2014-12-23 15:34:03  \n",
      "3  1.421192e+09  2015-01-13 23:35:23  \n",
      "4  1.428778e+09  2015-04-11 18:43:49  \n"
     ]
    }
   ],
   "source": [
    "print(f\"{posts.head()}\")"
   ]
  },
  {
   "cell_type": "code",
   "execution_count": 4,
   "metadata": {},
   "outputs": [
    {
     "name": "stdout",
     "output_type": "stream",
     "text": [
      "Missing values: \n",
      "title                  0\n",
      "selftext            5188\n",
      "score                  0\n",
      "id                     0\n",
      "url                    0\n",
      "num_comments           0\n",
      "created_utc            0\n",
      "created_datetime       0\n",
      "dtype: int64\n"
     ]
    }
   ],
   "source": [
    "missing_values = posts.isnull().sum()\n",
    "print(f\"Missing values: \\n{missing_values}\")"
   ]
  },
  {
   "cell_type": "code",
   "execution_count": 5,
   "metadata": {},
   "outputs": [
    {
     "name": "stdout",
     "output_type": "stream",
     "text": [
      "Missing values after removing rows with missing values in the 'title' and 'created_datetime' columns: \n",
      "title                  0\n",
      "selftext            5188\n",
      "score                  0\n",
      "id                     0\n",
      "url                    0\n",
      "num_comments           0\n",
      "created_utc            0\n",
      "created_datetime       0\n",
      "dtype: int64\n"
     ]
    }
   ],
   "source": [
    "posts = posts.dropna(subset=['title', 'created_datetime'])\n",
    "print(f\"Missing values after removing rows with missing values in the 'title' and 'created_datetime' columns: \\n{posts.isnull().sum()}\")"
   ]
  },
  {
   "cell_type": "code",
   "execution_count": 6,
   "metadata": {},
   "outputs": [],
   "source": [
    "# join the title and the selftext in a single column if the selftext is not null or deleted\n",
    "posts['body'] = posts['title']\n",
    "posts.loc[posts['selftext'].notnull() & ~posts['selftext'].isin(['[deleted]']), 'body'] = posts['title'] + ' ' + posts['selftext']"
   ]
  },
  {
   "cell_type": "code",
   "execution_count": 7,
   "metadata": {},
   "outputs": [],
   "source": [
    "posts['year'] = pd.to_datetime(posts['created_datetime']).dt.year"
   ]
  },
  {
   "cell_type": "code",
   "execution_count": 8,
   "metadata": {},
   "outputs": [
    {
     "name": "stdout",
     "output_type": "stream",
     "text": [
      "   score      id                                               body  year\n",
      "0      3  29kaf8               Adult Women Are the New Face of ADHD  2014\n",
      "1      3  2ip2ra                 Why Women Hide Their ADHD Symptoms  2014\n",
      "2      1  2q6jdk        Adult ADHD and Burnout: Success or Failure?  2014\n",
      "3      2  2sc7fa                  How Am I And My ADHD Still Alive?  2015\n",
      "4      1  3296xx  I'd like to see this subreddit grow! Hello, I'...  2015\n",
      "Data Shape: (44384, 4)\n"
     ]
    }
   ],
   "source": [
    "# drop the columns that are not needed\n",
    "posts = posts.drop(['title', 'selftext', 'url', 'num_comments', 'created_utc', 'created_datetime'], axis=1)\n",
    "print(f\"{posts.head()}\")\n",
    "print(f\"Data Shape: {posts.shape}\")"
   ]
  },
  {
   "cell_type": "code",
   "execution_count": 9,
   "metadata": {},
   "outputs": [
    {
     "name": "stdout",
     "output_type": "stream",
     "text": [
      "Missing values: \n",
      "score    0\n",
      "id       0\n",
      "body     0\n",
      "year     0\n",
      "dtype: int64\n"
     ]
    }
   ],
   "source": [
    "missing_values = posts.isnull().sum()\n",
    "print(f\"Missing values: \\n{missing_values}\")"
   ]
  },
  {
   "cell_type": "code",
   "execution_count": 10,
   "metadata": {},
   "outputs": [
    {
     "name": "stdout",
     "output_type": "stream",
     "text": [
      "Unique values in score: 1107\n",
      "Unique values in id: 22237\n",
      "Unique values in body: 22079\n",
      "Unique values in year: 8\n"
     ]
    }
   ],
   "source": [
    "# print the number of unique values in each column\n",
    "for col in posts.columns:\n",
    "    print(f\"Unique values in {col}: {posts[col].nunique()}\")"
   ]
  },
  {
   "cell_type": "code",
   "execution_count": 11,
   "metadata": {},
   "outputs": [
    {
     "name": "stdout",
     "output_type": "stream",
     "text": [
      "              score          year\n",
      "count  44384.000000  44384.000000\n",
      "mean      43.268520   2020.256286\n",
      "std      167.266479      0.674461\n",
      "min        0.000000   2014.000000\n",
      "25%        2.000000   2020.000000\n",
      "50%        5.000000   2020.000000\n",
      "75%       17.000000   2021.000000\n",
      "max     3724.000000   2021.000000\n"
     ]
    }
   ],
   "source": [
    "print(f\"{posts.describe()}\")"
   ]
  },
  {
   "cell_type": "code",
   "execution_count": 12,
   "metadata": {},
   "outputs": [
    {
     "name": "stdout",
     "output_type": "stream",
     "text": [
      "Data Shape: (22079, 4)\n"
     ]
    }
   ],
   "source": [
    "# we want to keep only the unique posts\n",
    "posts = posts.drop_duplicates(subset='body')\n",
    "print(f\"Data Shape: {posts.shape}\")"
   ]
  },
  {
   "cell_type": "code",
   "execution_count": null,
   "metadata": {},
   "outputs": [],
   "source": [
    "posts.to_csv('data/adhdwomen-posts.csv', index=False)"
   ]
  },
  {
   "cell_type": "markdown",
   "metadata": {},
   "source": [
    "### Load ADHD Women Comments Dataset"
   ]
  },
  {
   "cell_type": "code",
   "execution_count": 14,
   "metadata": {},
   "outputs": [],
   "source": [
    "comment = pd.read_csv('../../data/datasets/reddit-adhd-dataset/adhdwomen-comment.csv')"
   ]
  },
  {
   "cell_type": "code",
   "execution_count": 15,
   "metadata": {},
   "outputs": [
    {
     "name": "stdout",
     "output_type": "stream",
     "text": [
      "                                                body       id  score  \\\n",
      "0  I'd like to see this sub be more active, too. ...  cqowxhs      1   \n",
      "1  I've found people are more receptive when you ...  cvzg3v2      1   \n",
      "2  Thank you so much. I have been trying to use m...  cw65vo8      1   \n",
      "3                                          [deleted]  d2tscyn      1   \n",
      "4  Sooooo, not sure why you were told it was 24 h...  d38enqz      1   \n",
      "\n",
      "   created_utc     created_datetime  \n",
      "0   1430023102  2015-04-26 04:38:22  \n",
      "1   1444835103  2015-10-14 15:05:03  \n",
      "2   1445326215  2015-10-20 07:30:15  \n",
      "3   1462457040  2016-05-05 14:04:00  \n",
      "4   1463457224  2016-05-17 03:53:44  \n"
     ]
    }
   ],
   "source": [
    "print(f\"{comment.head()}\")"
   ]
  },
  {
   "cell_type": "code",
   "execution_count": 16,
   "metadata": {},
   "outputs": [],
   "source": [
    "comment['year'] = pd.to_datetime(comment['created_datetime']).dt.year"
   ]
  },
  {
   "cell_type": "code",
   "execution_count": 17,
   "metadata": {},
   "outputs": [
    {
     "name": "stdout",
     "output_type": "stream",
     "text": [
      "                                                body       id  score  year\n",
      "0  I'd like to see this sub be more active, too. ...  cqowxhs      1  2015\n",
      "1  I've found people are more receptive when you ...  cvzg3v2      1  2015\n",
      "2  Thank you so much. I have been trying to use m...  cw65vo8      1  2015\n",
      "3                                          [deleted]  d2tscyn      1  2016\n",
      "4  Sooooo, not sure why you were told it was 24 h...  d38enqz      1  2016\n",
      "Data Shape: (202658, 4)\n"
     ]
    }
   ],
   "source": [
    "comment = comment.drop(['created_utc', 'created_datetime'], axis=1)\n",
    "print(f\"{comment.head()}\")\n",
    "print(f\"Data Shape: {comment.shape}\")"
   ]
  },
  {
   "cell_type": "code",
   "execution_count": 18,
   "metadata": {},
   "outputs": [
    {
     "name": "stdout",
     "output_type": "stream",
     "text": [
      "               score           year\n",
      "count  202658.000000  202658.000000\n",
      "mean        2.064143    2020.221363\n",
      "std         5.352811       0.634876\n",
      "min       -31.000000    2015.000000\n",
      "25%         1.000000    2020.000000\n",
      "50%         1.000000    2020.000000\n",
      "75%         2.000000    2021.000000\n",
      "max       556.000000    2021.000000\n"
     ]
    }
   ],
   "source": [
    "# print the number of unique values in each column\n",
    "print(comment.describe())"
   ]
  },
  {
   "cell_type": "code",
   "execution_count": 19,
   "metadata": {},
   "outputs": [
    {
     "name": "stdout",
     "output_type": "stream",
     "text": [
      "Missing values: \n",
      "body     0\n",
      "id       0\n",
      "score    0\n",
      "year     0\n",
      "dtype: int64\n"
     ]
    }
   ],
   "source": [
    "# get the number of null values in body column\n",
    "missing_values = comment.isnull().sum()\n",
    "print(f\"Missing values: \\n{missing_values}\")"
   ]
  },
  {
   "cell_type": "code",
   "execution_count": 20,
   "metadata": {},
   "outputs": [
    {
     "name": "stdout",
     "output_type": "stream",
     "text": [
      "Data Shape: (195967, 4)\n"
     ]
    }
   ],
   "source": [
    "# drop all rows that arent unique in \"body\"\n",
    "comment = comment.drop_duplicates(subset='body')\n",
    "print(f\"Data Shape: {comment.shape}\")"
   ]
  },
  {
   "cell_type": "code",
   "execution_count": 21,
   "metadata": {},
   "outputs": [
    {
     "name": "stdout",
     "output_type": "stream",
     "text": [
      "               score           year\n",
      "count  195967.000000  195967.000000\n",
      "mean        2.091714    2020.214822\n",
      "std         5.436163       0.635008\n",
      "min       -30.000000    2015.000000\n",
      "25%         1.000000    2020.000000\n",
      "50%         1.000000    2020.000000\n",
      "75%         2.000000    2021.000000\n",
      "max       556.000000    2021.000000\n"
     ]
    }
   ],
   "source": [
    "print(comment.describe())"
   ]
  },
  {
   "cell_type": "code",
   "execution_count": null,
   "metadata": {},
   "outputs": [],
   "source": [
    "comment.to_csv('data/adhdwomen-comments.csv', index=False)"
   ]
  },
  {
   "cell_type": "markdown",
   "metadata": {},
   "source": [
    "### Concatenate the Two Datasets"
   ]
  },
  {
   "cell_type": "code",
   "execution_count": 23,
   "metadata": {},
   "outputs": [
    {
     "name": "stdout",
     "output_type": "stream",
     "text": [
      "   score      id                                               body  year\n",
      "0      3  29kaf8               Adult Women Are the New Face of ADHD  2014\n",
      "1      3  2ip2ra                 Why Women Hide Their ADHD Symptoms  2014\n",
      "2      1  2q6jdk        Adult ADHD and Burnout: Success or Failure?  2014\n",
      "3      2  2sc7fa                  How Am I And My ADHD Still Alive?  2015\n",
      "4      1  3296xx  I'd like to see this subreddit grow! Hello, I'...  2015\n",
      "Data Shape: (218046, 4)\n"
     ]
    }
   ],
   "source": [
    "# concatanate the two dataframes\n",
    "df = pd.concat([posts, comment], ignore_index=True)\n",
    "print(f\"{df.head()}\")\n",
    "print(f\"Data Shape: {df.shape}\")"
   ]
  },
  {
   "cell_type": "code",
   "execution_count": 24,
   "metadata": {},
   "outputs": [
    {
     "name": "stdout",
     "output_type": "stream",
     "text": [
      "               score           year\n",
      "count  218046.000000  218046.000000\n",
      "mean        6.211052    2020.219009\n",
      "std        53.987378       0.639312\n",
      "min       -30.000000    2014.000000\n",
      "25%         1.000000    2020.000000\n",
      "50%         1.000000    2020.000000\n",
      "75%         2.000000    2021.000000\n",
      "max      3230.000000    2021.000000\n"
     ]
    }
   ],
   "source": [
    "# print the number of unique values in each column\n",
    "print(df.describe())"
   ]
  },
  {
   "cell_type": "code",
   "execution_count": 25,
   "metadata": {},
   "outputs": [
    {
     "name": "stdout",
     "output_type": "stream",
     "text": [
      "Data Shape: (217985, 4)\n"
     ]
    }
   ],
   "source": [
    "# drop all rows that arent unique in \"body\"\n",
    "df = df.drop_duplicates(subset='body')\n",
    "print(f\"Data Shape: {df.shape}\")"
   ]
  },
  {
   "cell_type": "code",
   "execution_count": null,
   "metadata": {},
   "outputs": [],
   "source": [
    "df.to_csv('data/adhdwomen-final.csv', index=False)"
   ]
  }
 ],
 "metadata": {
  "kernelspec": {
   "display_name": ".venv",
   "language": "python",
   "name": "python3"
  },
  "language_info": {
   "codemirror_mode": {
    "name": "ipython",
    "version": 3
   },
   "file_extension": ".py",
   "mimetype": "text/x-python",
   "name": "python",
   "nbconvert_exporter": "python",
   "pygments_lexer": "ipython3",
   "version": "3.13.2"
  }
 },
 "nbformat": 4,
 "nbformat_minor": 2
}
